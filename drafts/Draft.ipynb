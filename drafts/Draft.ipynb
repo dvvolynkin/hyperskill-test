{
 "cells": [
  {
   "cell_type": "markdown",
   "id": "4d842937",
   "metadata": {},
   "source": [
    "# Disclamer\n",
    "\n",
    "*This Jupiter notebook may be not fully reproducible.*\n",
    "\n",
    "*I did not have a goal to make it reproducible*\n",
    "\n",
    "*Just to show the way of my thoughts and their results*"
   ]
  },
  {
   "cell_type": "markdown",
   "id": "1f9c6a47",
   "metadata": {},
   "source": [
    "# Research task\n",
    "\n",
    "**Analyze the problem's data:** \n",
    "\n",
    "Review the step_title, step_description, the wrong_code_submission, and the correct_code_submission from the attached JSON files. The default_feedback represents the default response from Hyperskill's testing framework, and the gpt_current_feedback is the current AI-generated feedback. Use these as reference points for the improved feedback your solution will provide.\n",
    "\n",
    "**Develop improved prompts:**   \n",
    "\n",
    "Create new prompt(s) that would guide an AI model (like gpt-3.5-turbo or mixtral-small) to produce better feedback for the incorrect code submissions. Your prompts should aim to:\n",
    "- Highlight the specific errors in the student's code.\n",
    "- Offer actionable advice for correcting these errors.\n",
    "- Encourage best coding practices without providing the solution directly.\n",
    "- Consider the code_template and test_cases fields in your analysis to understand the initial setup and examples provided to the students, which may influence the context of their code submissions and the feedback needed.\n",
    "\n",
    "# The approach:\n",
    "1. **Research the dataset**\n",
    "2. **Develop a prompt-building and evaluation system**\n",
    "3. **Test a simple prompt**\n",
    "4. **Make several attempts to improve it**\n",
    "5. **Compare the results of the original and improved prompts** \n",
    "6. **Draw conclusions**\n"
   ]
  },
  {
   "cell_type": "markdown",
   "id": "5ca37d56",
   "metadata": {},
   "source": [
    "-----------------"
   ]
  },
  {
   "cell_type": "markdown",
   "id": "6f6f4d14",
   "metadata": {},
   "source": [
    "# Importing libraries"
   ]
  },
  {
   "cell_type": "code",
   "execution_count": 98,
   "id": "f0005172",
   "metadata": {},
   "outputs": [],
   "source": [
    "from ipywidgets import HTML\n",
    "import pandas as pd\n",
    "import yaml\n",
    "import markdown\n",
    "import json"
   ]
  },
  {
   "cell_type": "markdown",
   "id": "8924469c",
   "metadata": {},
   "source": [
    "# Exploring data\n",
    "Let's explore the datasets of python and java submissions"
   ]
  },
  {
   "cell_type": "markdown",
   "id": "2d3d1126",
   "metadata": {},
   "source": [
    "### Checking input data"
   ]
  },
  {
   "cell_type": "code",
   "execution_count": 92,
   "id": "34144947",
   "metadata": {
    "scrolled": false
   },
   "outputs": [
    {
     "name": "stdout",
     "output_type": "stream",
     "text": [
      "Python df:\n"
     ]
    },
    {
     "data": {
      "text/html": [
       "<div>\n",
       "<style scoped>\n",
       "    .dataframe tbody tr th:only-of-type {\n",
       "        vertical-align: middle;\n",
       "    }\n",
       "\n",
       "    .dataframe tbody tr th {\n",
       "        vertical-align: top;\n",
       "    }\n",
       "\n",
       "    .dataframe thead th {\n",
       "        text-align: right;\n",
       "    }\n",
       "</style>\n",
       "<table border=\"1\" class=\"dataframe\">\n",
       "  <thead>\n",
       "    <tr style=\"text-align: right;\">\n",
       "      <th></th>\n",
       "      <th>topic_id</th>\n",
       "      <th>topic_title</th>\n",
       "      <th>topic_theory_url</th>\n",
       "      <th>step_id</th>\n",
       "      <th>step_title</th>\n",
       "      <th>step_description</th>\n",
       "      <th>step_url</th>\n",
       "      <th>code_template</th>\n",
       "      <th>test_cases</th>\n",
       "      <th>wrong_code_submission</th>\n",
       "      <th>default_feedback</th>\n",
       "      <th>gpt_current_feedback</th>\n",
       "      <th>correct_code_submission</th>\n",
       "    </tr>\n",
       "  </thead>\n",
       "  <tbody>\n",
       "    <tr>\n",
       "      <th>0</th>\n",
       "      <td>399</td>\n",
       "      <td>Program with numbers</td>\n",
       "      <td>https://hyperskill.org/learn/step/5872</td>\n",
       "      <td>6464</td>\n",
       "      <td>Divide nuts equally between squirrels</td>\n",
       "      <td>&lt;p&gt;&lt;/p&gt;&lt;p&gt;N squirrels found K nuts and decided...</td>\n",
       "      <td>https://hyperskill.org/learn/step/6464</td>\n",
       "      <td># put your python code here</td>\n",
       "      <td>[{'input': '3\n",
       "14', 'output': '4'}]</td>\n",
       "      <td># put your python code here\\nN=int(input(\"Ente...</td>\n",
       "      <td>Failed test #1 of 6. Wrong answer\\n\\nThis is a...</td>\n",
       "      <td>1. Ensure to separate inputs clearly by adding...</td>\n",
       "      <td>N = int(input())\\nK = int(input())\\nprint(K //...</td>\n",
       "    </tr>\n",
       "    <tr>\n",
       "      <th>1</th>\n",
       "      <td>534</td>\n",
       "      <td>Function, arguments and parameters</td>\n",
       "      <td>https://hyperskill.org/learn/step/7248</td>\n",
       "      <td>10302</td>\n",
       "      <td>Equation</td>\n",
       "      <td>&lt;p&gt;&lt;/p&gt;\\n&lt;p&gt;Write a function &lt;code class=\"java...</td>\n",
       "      <td>https://hyperskill.org/learn/step/10302</td>\n",
       "      <td>def equation_writing(...):\\n    ...</td>\n",
       "      <td>[{'input': '3 4 3', 'output': '3 x + 4 = 3'}]</td>\n",
       "      <td>def equation_writing(a, b, c):\\n    print(a, '...</td>\n",
       "      <td>Failed test #1 of 3. Wrong answer\\n\\nThis is a...</td>\n",
       "      <td>1. Change the existing print statement to use ...</td>\n",
       "      <td>def equation_writing(a, b, c):\\n    print(f\"{a...</td>\n",
       "    </tr>\n",
       "  </tbody>\n",
       "</table>\n",
       "</div>"
      ],
      "text/plain": [
       "   topic_id                         topic_title  \\\n",
       "0       399                Program with numbers   \n",
       "1       534  Function, arguments and parameters   \n",
       "\n",
       "                         topic_theory_url  step_id  \\\n",
       "0  https://hyperskill.org/learn/step/5872     6464   \n",
       "1  https://hyperskill.org/learn/step/7248    10302   \n",
       "\n",
       "                              step_title  \\\n",
       "0  Divide nuts equally between squirrels   \n",
       "1                               Equation   \n",
       "\n",
       "                                    step_description  \\\n",
       "0  <p></p><p>N squirrels found K nuts and decided...   \n",
       "1  <p></p>\\n<p>Write a function <code class=\"java...   \n",
       "\n",
       "                                  step_url  \\\n",
       "0   https://hyperskill.org/learn/step/6464   \n",
       "1  https://hyperskill.org/learn/step/10302   \n",
       "\n",
       "                         code_template  \\\n",
       "0          # put your python code here   \n",
       "1  def equation_writing(...):\\n    ...   \n",
       "\n",
       "                                      test_cases  \\\n",
       "0             [{'input': '3\n",
       "14', 'output': '4'}]   \n",
       "1  [{'input': '3 4 3', 'output': '3 x + 4 = 3'}]   \n",
       "\n",
       "                               wrong_code_submission  \\\n",
       "0  # put your python code here\\nN=int(input(\"Ente...   \n",
       "1  def equation_writing(a, b, c):\\n    print(a, '...   \n",
       "\n",
       "                                    default_feedback  \\\n",
       "0  Failed test #1 of 6. Wrong answer\\n\\nThis is a...   \n",
       "1  Failed test #1 of 3. Wrong answer\\n\\nThis is a...   \n",
       "\n",
       "                                gpt_current_feedback  \\\n",
       "0  1. Ensure to separate inputs clearly by adding...   \n",
       "1  1. Change the existing print statement to use ...   \n",
       "\n",
       "                             correct_code_submission  \n",
       "0  N = int(input())\\nK = int(input())\\nprint(K //...  \n",
       "1  def equation_writing(a, b, c):\\n    print(f\"{a...  "
      ]
     },
     "metadata": {},
     "output_type": "display_data"
    },
    {
     "name": "stdout",
     "output_type": "stream",
     "text": [
      "Java df:\n"
     ]
    },
    {
     "data": {
      "text/html": [
       "<div>\n",
       "<style scoped>\n",
       "    .dataframe tbody tr th:only-of-type {\n",
       "        vertical-align: middle;\n",
       "    }\n",
       "\n",
       "    .dataframe tbody tr th {\n",
       "        vertical-align: top;\n",
       "    }\n",
       "\n",
       "    .dataframe thead th {\n",
       "        text-align: right;\n",
       "    }\n",
       "</style>\n",
       "<table border=\"1\" class=\"dataframe\">\n",
       "  <thead>\n",
       "    <tr style=\"text-align: right;\">\n",
       "      <th></th>\n",
       "      <th>topic_id</th>\n",
       "      <th>topic_title</th>\n",
       "      <th>topic_theory_url</th>\n",
       "      <th>step_id</th>\n",
       "      <th>step_title</th>\n",
       "      <th>step_description</th>\n",
       "      <th>step_url</th>\n",
       "      <th>code_template</th>\n",
       "      <th>test_cases</th>\n",
       "      <th>wrong_code_submission</th>\n",
       "      <th>default_feedback</th>\n",
       "      <th>gpt_current_feedback</th>\n",
       "      <th>correct_code_submission</th>\n",
       "    </tr>\n",
       "  </thead>\n",
       "  <tbody>\n",
       "    <tr>\n",
       "      <th>0</th>\n",
       "      <td>89</td>\n",
       "      <td>For-loop</td>\n",
       "      <td>https://hyperskill.org/learn/step/3505</td>\n",
       "      <td>2187</td>\n",
       "      <td>The sum of integers from a to b</td>\n",
       "      <td>&lt;p&gt;Print the sum of all integers from &lt;strong&gt;...</td>\n",
       "      <td>https://hyperskill.org/learn/step/2187</td>\n",
       "      <td>import java.util.Scanner;\\n\\nclass Main {\\n   ...</td>\n",
       "      <td>[{'input': '5\n",
       "21\n",
       "', 'output': '221'}]</td>\n",
       "      <td>import java.util.Scanner;\\n\\nclass Main {\\n   ...</td>\n",
       "      <td>Failed test #1 of 10. Runtime error\\n\\nThis is...</td>\n",
       "      <td>1. Correct the input reading: Ensure you read ...</td>\n",
       "      <td>import java.util.Scanner;\\n\\nclass Main {\\n   ...</td>\n",
       "    </tr>\n",
       "    <tr>\n",
       "      <th>1</th>\n",
       "      <td>7</td>\n",
       "      <td>Grouping classes with packages</td>\n",
       "      <td>https://hyperskill.org/learn/step/3621</td>\n",
       "      <td>9896</td>\n",
       "      <td>Sorting arrays</td>\n",
       "      <td>&lt;p&gt;&lt;/p&gt;\\n&lt;p&gt;The class &lt;code class=\"java\"&gt;Array...</td>\n",
       "      <td>https://hyperskill.org/learn/step/9896</td>\n",
       "      <td>class ArraySorting {\\n    /**\\n     * @param a...</td>\n",
       "      <td>[{'input': 'y d b u t f m h x q', 'output': 'b...</td>\n",
       "      <td>class ArraySorting {\\n    /**\\n     * @param a...</td>\n",
       "      <td>Compilation error\\nMain.java:17: error: incomp...</td>\n",
       "      <td>1. Change java.util.Arrays.sort(array) to java...</td>\n",
       "      <td>class ArraySorting {\\n    /**\\n     * @param a...</td>\n",
       "    </tr>\n",
       "  </tbody>\n",
       "</table>\n",
       "</div>"
      ],
      "text/plain": [
       "   topic_id                     topic_title  \\\n",
       "0        89                        For-loop   \n",
       "1         7  Grouping classes with packages   \n",
       "\n",
       "                         topic_theory_url  step_id  \\\n",
       "0  https://hyperskill.org/learn/step/3505     2187   \n",
       "1  https://hyperskill.org/learn/step/3621     9896   \n",
       "\n",
       "                        step_title  \\\n",
       "0  The sum of integers from a to b   \n",
       "1                   Sorting arrays   \n",
       "\n",
       "                                    step_description  \\\n",
       "0  <p>Print the sum of all integers from <strong>...   \n",
       "1  <p></p>\\n<p>The class <code class=\"java\">Array...   \n",
       "\n",
       "                                 step_url  \\\n",
       "0  https://hyperskill.org/learn/step/2187   \n",
       "1  https://hyperskill.org/learn/step/9896   \n",
       "\n",
       "                                       code_template  \\\n",
       "0  import java.util.Scanner;\\n\\nclass Main {\\n   ...   \n",
       "1  class ArraySorting {\\n    /**\\n     * @param a...   \n",
       "\n",
       "                                          test_cases  \\\n",
       "0              [{'input': '5\n",
       "21\n",
       "', 'output': '221'}]   \n",
       "1  [{'input': 'y d b u t f m h x q', 'output': 'b...   \n",
       "\n",
       "                               wrong_code_submission  \\\n",
       "0  import java.util.Scanner;\\n\\nclass Main {\\n   ...   \n",
       "1  class ArraySorting {\\n    /**\\n     * @param a...   \n",
       "\n",
       "                                    default_feedback  \\\n",
       "0  Failed test #1 of 10. Runtime error\\n\\nThis is...   \n",
       "1  Compilation error\\nMain.java:17: error: incomp...   \n",
       "\n",
       "                                gpt_current_feedback  \\\n",
       "0  1. Correct the input reading: Ensure you read ...   \n",
       "1  1. Change java.util.Arrays.sort(array) to java...   \n",
       "\n",
       "                             correct_code_submission  \n",
       "0  import java.util.Scanner;\\n\\nclass Main {\\n   ...  \n",
       "1  class ArraySorting {\\n    /**\\n     * @param a...  "
      ]
     },
     "metadata": {},
     "output_type": "display_data"
    }
   ],
   "source": [
    "with open('./input_data/python_code_problems_submissions.json', 'r') as f:\n",
    "    python = json.load(f)\n",
    "    \n",
    "with open('./input_data/java_code_problems_submissions.json', 'r') as f:\n",
    "    java = json.load(f)\n",
    "\n",
    "\n",
    "python_df = pd.DataFrame(python['python']['code_problems'])\n",
    "java_df = pd.DataFrame(java['java']['code_problems'])\n",
    "print(\"Python df:\")\n",
    "display(python_df.head(2))\n",
    "print(\"Java df:\")\n",
    "display(java_df.head(2))"
   ]
  },
  {
   "cell_type": "code",
   "execution_count": 85,
   "id": "2e0cc620",
   "metadata": {},
   "outputs": [
    {
     "name": "stdout",
     "output_type": "stream",
     "text": [
      "Python test cases\n"
     ]
    },
    {
     "data": {
      "text/plain": [
       "10"
      ]
     },
     "execution_count": 85,
     "metadata": {},
     "output_type": "execute_result"
    }
   ],
   "source": [
    "python_test_cases_count = len(df)\n",
    "print(\"Python test cases\")\n",
    "python_test_cases_count"
   ]
  },
  {
   "cell_type": "code",
   "execution_count": 86,
   "id": "42b0b18e",
   "metadata": {},
   "outputs": [
    {
     "name": "stdout",
     "output_type": "stream",
     "text": [
      "Java test cases\n"
     ]
    },
    {
     "data": {
      "text/plain": [
       "10"
      ]
     },
     "execution_count": 86,
     "metadata": {},
     "output_type": "execute_result"
    }
   ],
   "source": [
    "java_test_cases_count = len(df)\n",
    "print(\"Java test cases\")\n",
    "java_test_cases_count"
   ]
  },
  {
   "cell_type": "markdown",
   "id": "362abc66",
   "metadata": {},
   "source": [
    "### Making render function"
   ]
  },
  {
   "cell_type": "code",
   "execution_count": 71,
   "id": "42761ebd",
   "metadata": {},
   "outputs": [
    {
     "name": "stdout",
     "output_type": "stream",
     "text": [
      "Submission response keys:\n"
     ]
    },
    {
     "data": {
      "text/plain": [
       "['topic_id',\n",
       " 'topic_title',\n",
       " 'topic_theory_url',\n",
       " 'step_id',\n",
       " 'step_title',\n",
       " 'step_description',\n",
       " 'step_url',\n",
       " 'code_template',\n",
       " 'test_cases',\n",
       " 'wrong_code_submission',\n",
       " 'default_feedback',\n",
       " 'gpt_current_feedback',\n",
       " 'correct_code_submission']"
      ]
     },
     "execution_count": 71,
     "metadata": {},
     "output_type": "execute_result"
    }
   ],
   "source": [
    "print(\"Submission response keys:\")\n",
    "list(df.columns)"
   ]
  },
  {
   "cell_type": "code",
   "execution_count": 305,
   "id": "b3507a93",
   "metadata": {
    "scrolled": false
   },
   "outputs": [],
   "source": [
    "def render_data(data, llm_feedback=None, passed=None, grading=[]):\n",
    "    # Display topic title\n",
    "    display(HTML(f\"<h1>{data['topic_title']}</h1>\"))\n",
    "\n",
    "    # Display step title with link to the theory\n",
    "    display(HTML(f\"<h2><a href='{data['topic_theory_url']}'>{data['step_title']}</a></h2>\"))\n",
    "\n",
    "    # Display the description of the step\n",
    "    display(HTML(data['step_description']))\n",
    "\n",
    "    # Wrong Code submission\n",
    "    display(HTML(f\"<h3>Wrong Code Submission</h3><pre>{data['wrong_code_submission']}</pre>\"))\n",
    "\n",
    "    # Display test cases\n",
    "    display(HTML(\"<h3>Test Cases</h3>\"))\n",
    "    for case in data['test_cases']:\n",
    "        display(HTML(f\"<strong>Input:</strong> {case['input']} <strong>Output:</strong> {case['output']}\"))\n",
    "\n",
    "    # Display feedback from a wrong submission\n",
    "    display(HTML(f\"<h3>Feedback for Wrong Submission</h3><pre>{data['default_feedback']}</pre>\"))\n",
    "\n",
    "    # Display feedback from GPT\n",
    "    display(HTML(f\"<h3>Additional GPT Feedback</h3><pre>{data['gpt_current_feedback']}</pre>\"))\n",
    "\n",
    "    # Display correct code submission\n",
    "    display(HTML(f\"<h3>Correct Code Submission</h3><pre>{data['correct_code_submission']}</pre>\"))\n",
    "    \n",
    "    \n",
    "    if llm_feedback:\n",
    "        print(\"----------------------------------------------------\")\n",
    "        if 'User-Facing Feedback:' in llm_feedback:\n",
    "            llm_feedback = markdown.markdown(llm_feedback.split('User-Facing Feedback:')[-1])\n",
    "        display(HTML(f\"<h3>GPT New Feedback (Passed: {passed})</h3><pre>{llm_feedback}</pre>\"))\n",
    "        display(HTML(\"<h3>Evaluation feedback:</h3>\"))\n",
    "        display(HTML(f\"<h3>Score: {grading['score']}. Passed: {grading['pass']}</h3>\"))\n",
    "        display(HTML(f\"<h3>Reason:</h3>\"))\n",
    "        print(grading['reason'] + \"\\n\")"
   ]
  },
  {
   "cell_type": "markdown",
   "id": "2063d6cf",
   "metadata": {},
   "source": [
    "### Checking submission system response in human-readable form"
   ]
  },
  {
   "cell_type": "code",
   "execution_count": 163,
   "id": "b3fc251d",
   "metadata": {
    "scrolled": true
   },
   "outputs": [
    {
     "data": {
      "application/vnd.jupyter.widget-view+json": {
       "model_id": "f922bd1e2d0746d688732da4eb57800e",
       "version_major": 2,
       "version_minor": 0
      },
      "text/plain": [
       "HTML(value='<h1>Loop control: break, continue, pass</h1>')"
      ]
     },
     "metadata": {},
     "output_type": "display_data"
    },
    {
     "data": {
      "application/vnd.jupyter.widget-view+json": {
       "model_id": "cbab7704633b49daa7df7d90f24ef916",
       "version_major": 2,
       "version_minor": 0
      },
      "text/plain": [
       "HTML(value=\"<h2><a href='https://hyperskill.org/learn/step/6302'>Game over</a></h2>\")"
      ]
     },
     "metadata": {},
     "output_type": "display_data"
    },
    {
     "data": {
      "application/vnd.jupyter.widget-view+json": {
       "model_id": "23ce78240f3a47cab2f573f5b0ae1a1b",
       "version_major": 2,
       "version_minor": 0
      },
      "text/plain": [
       "HTML(value='<p></p><p>In online test games, there is usually a limited number of lives: if, for example, you m…"
      ]
     },
     "metadata": {},
     "output_type": "display_data"
    },
    {
     "data": {
      "application/vnd.jupyter.widget-view+json": {
       "model_id": "f0ee0a562eb1445787836e554cdf0159",
       "version_major": 2,
       "version_minor": 0
      },
      "text/plain": [
       "HTML(value='<h3>Wrong Code Submission</h3><pre>scores = input().split()\\n\\n# put your python code here\\nscore_…"
      ]
     },
     "metadata": {},
     "output_type": "display_data"
    },
    {
     "data": {
      "application/vnd.jupyter.widget-view+json": {
       "model_id": "a59220493854445a93f9f1cfa79a64fc",
       "version_major": 2,
       "version_minor": 0
      },
      "text/plain": [
       "HTML(value='<h3>Test Cases</h3>')"
      ]
     },
     "metadata": {},
     "output_type": "display_data"
    },
    {
     "data": {
      "application/vnd.jupyter.widget-view+json": {
       "model_id": "bbab212397814434861cd638f13b1fa6",
       "version_major": 2,
       "version_minor": 0
      },
      "text/plain": [
       "HTML(value='<strong>Input:</strong> C C C I C C C C I I C C C C C C C C C <strong>Output:</strong> Game over\\n…"
      ]
     },
     "metadata": {},
     "output_type": "display_data"
    },
    {
     "data": {
      "application/vnd.jupyter.widget-view+json": {
       "model_id": "0464af466fbe4604b11bbac35692e52c",
       "version_major": 2,
       "version_minor": 0
      },
      "text/plain": [
       "HTML(value='<h3>Feedback for Wrong Submission</h3><pre>Failed test #1 of 17. Runtime error\\n\\nThis is a sample…"
      ]
     },
     "metadata": {},
     "output_type": "display_data"
    },
    {
     "data": {
      "application/vnd.jupyter.widget-view+json": {
       "model_id": "7acda69b91054869bfdbf7993de60a8a",
       "version_major": 2,
       "version_minor": 0
      },
      "text/plain": [
       "HTML(value=\"<h3>Additional GPT Feedback</h3><pre>1. Change the comparison operator in the if statement where y…"
      ]
     },
     "metadata": {},
     "output_type": "display_data"
    },
    {
     "data": {
      "application/vnd.jupyter.widget-view+json": {
       "model_id": "99fde990aff04ff3832313e28f273458",
       "version_major": 2,
       "version_minor": 0
      },
      "text/plain": [
       "HTML(value='<h3>Correct Code Submission</h3><pre>scores = input().split()\\n# put your python code here\\nlives …"
      ]
     },
     "metadata": {},
     "output_type": "display_data"
    }
   ],
   "source": [
    "step = 3\n",
    "data = python['python']['code_problems'][step]\n",
    "render_data(data)"
   ]
  },
  {
   "cell_type": "markdown",
   "id": "c9a72e94",
   "metadata": {},
   "source": [
    "# Making evaluation and test cases"
   ]
  },
  {
   "cell_type": "markdown",
   "id": "cd780602",
   "metadata": {},
   "source": [
    "Let's build assertion rules that will be used by another model (GPT-4) to test the prompt output"
   ]
  },
  {
   "cell_type": "markdown",
   "id": "e552b057",
   "metadata": {},
   "source": [
    "### Making test-cases"
   ]
  },
  {
   "cell_type": "code",
   "execution_count": 277,
   "id": "da0951a8",
   "metadata": {},
   "outputs": [],
   "source": [
    "assertion_rules_1 = [\n",
    "    \"The user-faced feedback does not give direct answer\",\n",
    "    \"The feedback is correct and highlight the specific errors in the student's code.\",\n",
    "    \"The feedback offers actionable advice and encourages best coding practices.\",\n",
    "    \"The feedback is easy to understand for a adult programming newbie with no experience.\"\n",
    "]\n",
    "\n",
    "\n",
    "def extract_important_data_1(data):\n",
    "    return {\n",
    "#         \"topic\": data['topic_title'],\n",
    "#         \"task_name\": data['step_title'],\n",
    "        \"task_description\": data['step_description'],\n",
    "        \"test_cases\": data['test_cases'],\n",
    "        \"submission_system_output\": data['default_feedback'],\n",
    "#         \"init_code_template\": data['code_template'],\n",
    "        \"user_wrong_answer\": data['wrong_code_submission'],\n",
    "        \"test_correct_answer\": data['correct_code_submission'],\n",
    "        # We don't need llm wrong feedback in testing system\n",
    "        # \"llm_wrong_feedback\": data['gpt_current_feedback'],\n",
    "    }"
   ]
  },
  {
   "cell_type": "code",
   "execution_count": 280,
   "id": "d4673c78",
   "metadata": {
    "scrolled": true
   },
   "outputs": [],
   "source": [
    "def make_testcase(prefix, id_, assertion_rules, extracted_data):\n",
    "    return {\n",
    "        \"vars\": {\n",
    "            \"id\": f\"{prefix}_{id_}\", \n",
    "            **extracted_data\n",
    "        },\n",
    "        \"assert\": [\n",
    "            {\n",
    "                \"type\": \"model-graded-closedqa\",\n",
    "                \"value\": rule,\n",
    "            }\n",
    "            for rule in assertion_rules\n",
    "        ]\n",
    "    }\n",
    "\n",
    "def make_testcases(prefix, test_data, assertion_rules, extract_data):\n",
    "    return [\n",
    "        make_testcase(prefix, i, assertion_rules, extract_data(t))\n",
    "        for i, t in enumerate(test_data)\n",
    "    ]\n",
    "\n",
    "# Writing data to a YAML file\n",
    "with open('./tests/python.yaml', 'w') as file:\n",
    "    python_test_cases = make_testcases(\n",
    "        \"python\",\n",
    "        test_data=python['python']['code_problems'],\n",
    "        extract_data=extract_important_data_1,\n",
    "        assertion_rules=assertion_rules_1,\n",
    "    )\n",
    "    yaml.dump(python_test_cases, file, default_flow_style=False, indent=2)\n",
    "    \n",
    "    \n",
    "# Writing data to a YAML file\n",
    "with open('./tests/java.yaml', 'w') as file:\n",
    "    java_test_cases = make_testcases(\n",
    "        \"java\",\n",
    "        test_data=java['java']['code_problems'],\n",
    "        extract_data=extract_important_data_1,\n",
    "        assertion_rules=assertion_rules_1,\n",
    "    )\n",
    "    yaml.dump(java_test_cases, file, default_flow_style=False, indent=2)"
   ]
  },
  {
   "cell_type": "markdown",
   "id": "059412a3",
   "metadata": {},
   "source": [
    "### Making evaluation fn"
   ]
  },
  {
   "cell_type": "code",
   "execution_count": 1,
   "id": "96beb3c3",
   "metadata": {},
   "outputs": [],
   "source": [
    "def view_resulsts_table():\n",
    "    !npx promptfoo@latest view -y"
   ]
  },
  {
   "cell_type": "code",
   "execution_count": 2,
   "id": "063ac33f",
   "metadata": {},
   "outputs": [],
   "source": [
    "def make_eval(output_file_path):\n",
    "    !npx promptfoo@latest eval -c ./promptfooconfig.yaml --no-progress-bar --output $output_file_path"
   ]
  },
  {
   "cell_type": "markdown",
   "id": "ff0f789a",
   "metadata": {},
   "source": [
    "# Testing the first prompt"
   ]
  },
  {
   "cell_type": "code",
   "execution_count": null,
   "id": "f0efd89a",
   "metadata": {},
   "outputs": [],
   "source": [
    "# Using template for each variable instead of json.dumps to be able to see input variables in evaluation results as table.\n",
    "def create_data_template(data):\n",
    "    return \"\\n\" + \"\\n\".join(map(lambda k: k + \": {{\" + k + \"}}\", data.keys())) + \"\\n\"\n",
    "\n",
    "# Prompt is adapted for promptfoo evaluation system, so we are using {{}} instead of f-strings\n",
    "prompt = \\\n",
    "f\"\"\"This is feedback of the coding testing system. \n",
    "Write a human feedback explaining the student what to fix\n",
    "{create_data_template(extract_important_data_1(data))}\n",
    "Highlight the specific errors in the student's code.\n",
    "Offer actionable advice for correcting these errors.\n",
    "Encourage best coding practices without providing the solution directly.\n",
    "Make the answer simple to understand for a adult programming newbie with no experience.\"\"\"\n",
    "\n",
    "with open(\"./prompts/prompt.txt\", 'w') as f:\n",
    "    f.write(prompt)"
   ]
  },
  {
   "cell_type": "code",
   "execution_count": 259,
   "id": "63ad9f15",
   "metadata": {
    "scrolled": true
   },
   "outputs": [
    {
     "name": "stdout",
     "output_type": "stream",
     "text": [
      "\r\n",
      "\u001b[90m┌──────────\u001b[39m\u001b[90m┬──────────\u001b[39m\u001b[90m┬──────────\u001b[39m\u001b[90m┬──────────\u001b[39m\u001b[90m┬──────────\u001b[39m\u001b[90m┬──────────\u001b[39m\u001b[90m┬──────────┐\u001b[39m\r\n",
      "\u001b[90m│\u001b[39m\u001b[1m\u001b[34m id       \u001b[39m\u001b[22m\u001b[90m│\u001b[39m\u001b[1m\u001b[34m submiss… \u001b[39m\u001b[22m\u001b[90m│\u001b[39m\u001b[1m\u001b[34m task_de… \u001b[39m\u001b[22m\u001b[90m│\u001b[39m\u001b[1m\u001b[34m test_ca… \u001b[39m\u001b[22m\u001b[90m│\u001b[39m\u001b[1m\u001b[34m test_co… \u001b[39m\u001b[22m\u001b[90m│\u001b[39m\u001b[1m\u001b[34m user_wr… \u001b[39m\u001b[22m\u001b[90m│\u001b[39m\u001b[1m\u001b[34m This is  \u001b[39m\u001b[22m\u001b[90m│\u001b[39m\r\n",
      "\u001b[90m│\u001b[39m\u001b[1m\u001b[34m          \u001b[39m\u001b[22m\u001b[90m│\u001b[39m\u001b[1m\u001b[34m          \u001b[39m\u001b[22m\u001b[90m│\u001b[39m\u001b[1m\u001b[34m          \u001b[39m\u001b[22m\u001b[90m│\u001b[39m\u001b[1m\u001b[34m          \u001b[39m\u001b[22m\u001b[90m│\u001b[39m\u001b[1m\u001b[34m          \u001b[39m\u001b[22m\u001b[90m│\u001b[39m\u001b[1m\u001b[34m          \u001b[39m\u001b[22m\u001b[90m│\u001b[39m\u001b[1m\u001b[34m feedback \u001b[39m\u001b[22m\u001b[90m│\u001b[39m\r\n",
      "\u001b[90m│\u001b[39m\u001b[1m\u001b[34m          \u001b[39m\u001b[22m\u001b[90m│\u001b[39m\u001b[1m\u001b[34m          \u001b[39m\u001b[22m\u001b[90m│\u001b[39m\u001b[1m\u001b[34m          \u001b[39m\u001b[22m\u001b[90m│\u001b[39m\u001b[1m\u001b[34m          \u001b[39m\u001b[22m\u001b[90m│\u001b[39m\u001b[1m\u001b[34m          \u001b[39m\u001b[22m\u001b[90m│\u001b[39m\u001b[1m\u001b[34m          \u001b[39m\u001b[22m\u001b[90m│\u001b[39m\u001b[1m\u001b[34m of the   \u001b[39m\u001b[22m\u001b[90m│\u001b[39m\r\n",
      "\u001b[90m│\u001b[39m\u001b[1m\u001b[34m          \u001b[39m\u001b[22m\u001b[90m│\u001b[39m\u001b[1m\u001b[34m          \u001b[39m\u001b[22m\u001b[90m│\u001b[39m\u001b[1m\u001b[34m          \u001b[39m\u001b[22m\u001b[90m│\u001b[39m\u001b[1m\u001b[34m          \u001b[39m\u001b[22m\u001b[90m│\u001b[39m\u001b[1m\u001b[34m          \u001b[39m\u001b[22m\u001b[90m│\u001b[39m\u001b[1m\u001b[34m          \u001b[39m\u001b[22m\u001b[90m│\u001b[39m\u001b[1m\u001b[34m coding   \u001b[39m\u001b[22m\u001b[90m│\u001b[39m\r\n",
      "\u001b[90m│\u001b[39m\u001b[1m\u001b[34m          \u001b[39m\u001b[22m\u001b[90m│\u001b[39m\u001b[1m\u001b[34m          \u001b[39m\u001b[22m\u001b[90m│\u001b[39m\u001b[1m\u001b[34m          \u001b[39m\u001b[22m\u001b[90m│\u001b[39m\u001b[1m\u001b[34m          \u001b[39m\u001b[22m\u001b[90m│\u001b[39m\u001b[1m\u001b[34m          \u001b[39m\u001b[22m\u001b[90m│\u001b[39m\u001b[1m\u001b[34m          \u001b[39m\u001b[22m\u001b[90m│\u001b[39m\u001b[1m\u001b[34m testing  \u001b[39m\u001b[22m\u001b[90m│\u001b[39m\r\n",
      "\u001b[90m│\u001b[39m\u001b[1m\u001b[34m          \u001b[39m\u001b[22m\u001b[90m│\u001b[39m\u001b[1m\u001b[34m          \u001b[39m\u001b[22m\u001b[90m│\u001b[39m\u001b[1m\u001b[34m          \u001b[39m\u001b[22m\u001b[90m│\u001b[39m\u001b[1m\u001b[34m          \u001b[39m\u001b[22m\u001b[90m│\u001b[39m\u001b[1m\u001b[34m          \u001b[39m\u001b[22m\u001b[90m│\u001b[39m\u001b[1m\u001b[34m          \u001b[39m\u001b[22m\u001b[90m│\u001b[39m\u001b[1m\u001b[34m system.  \u001b[39m\u001b[22m\u001b[90m│\u001b[39m\r\n",
      "\u001b[90m│\u001b[39m\u001b[1m\u001b[34m          \u001b[39m\u001b[22m\u001b[90m│\u001b[39m\u001b[1m\u001b[34m          \u001b[39m\u001b[22m\u001b[90m│\u001b[39m\u001b[1m\u001b[34m          \u001b[39m\u001b[22m\u001b[90m│\u001b[39m\u001b[1m\u001b[34m          \u001b[39m\u001b[22m\u001b[90m│\u001b[39m\u001b[1m\u001b[34m          \u001b[39m\u001b[22m\u001b[90m│\u001b[39m\u001b[1m\u001b[34m          \u001b[39m\u001b[22m\u001b[90m│\u001b[39m\u001b[1m\u001b[34m Write a  \u001b[39m\u001b[22m\u001b[90m│\u001b[39m\r\n",
      "\u001b[90m│\u001b[39m\u001b[1m\u001b[34m          \u001b[39m\u001b[22m\u001b[90m│\u001b[39m\u001b[1m\u001b[34m          \u001b[39m\u001b[22m\u001b[90m│\u001b[39m\u001b[1m\u001b[34m          \u001b[39m\u001b[22m\u001b[90m│\u001b[39m\u001b[1m\u001b[34m          \u001b[39m\u001b[22m\u001b[90m│\u001b[39m\u001b[1m\u001b[34m          \u001b[39m\u001b[22m\u001b[90m│\u001b[39m\u001b[1m\u001b[34m          \u001b[39m\u001b[22m\u001b[90m│\u001b[39m\u001b[1m\u001b[34m human    \u001b[39m\u001b[22m\u001b[90m│\u001b[39m\r\n",
      "\u001b[90m│\u001b[39m\u001b[1m\u001b[34m          \u001b[39m\u001b[22m\u001b[90m│\u001b[39m\u001b[1m\u001b[34m          \u001b[39m\u001b[22m\u001b[90m│\u001b[39m\u001b[1m\u001b[34m          \u001b[39m\u001b[22m\u001b[90m│\u001b[39m\u001b[1m\u001b[34m          \u001b[39m\u001b[22m\u001b[90m│\u001b[39m\u001b[1m\u001b[34m          \u001b[39m\u001b[22m\u001b[90m│\u001b[39m\u001b[1m\u001b[34m          \u001b[39m\u001b[22m\u001b[90m│\u001b[39m\u001b[1m\u001b[34m feedback \u001b[39m\u001b[22m\u001b[90m│\u001b[39m\r\n",
      "\u001b[90m│\u001b[39m\u001b[1m\u001b[34m          \u001b[39m\u001b[22m\u001b[90m│\u001b[39m\u001b[1m\u001b[34m          \u001b[39m\u001b[22m\u001b[90m│\u001b[39m\u001b[1m\u001b[34m          \u001b[39m\u001b[22m\u001b[90m│\u001b[39m\u001b[1m\u001b[34m          \u001b[39m\u001b[22m\u001b[90m│\u001b[39m\u001b[1m\u001b[34m          \u001b[39m\u001b[22m\u001b[90m│\u001b[39m\u001b[1m\u001b[34m          \u001b[39m\u001b[22m\u001b[90m│\u001b[39m\u001b[1m\u001b[34m explain… \u001b[39m\u001b[22m\u001b[90m│\u001b[39m\r\n",
      "\u001b[90m│\u001b[39m\u001b[1m\u001b[34m          \u001b[39m\u001b[22m\u001b[90m│\u001b[39m\u001b[1m\u001b[34m          \u001b[39m\u001b[22m\u001b[90m│\u001b[39m\u001b[1m\u001b[34m          \u001b[39m\u001b[22m\u001b[90m│\u001b[39m\u001b[1m\u001b[34m          \u001b[39m\u001b[22m\u001b[90m│\u001b[39m\u001b[1m\u001b[34m          \u001b[39m\u001b[22m\u001b[90m│\u001b[39m\u001b[1m\u001b[34m          \u001b[39m\u001b[22m\u001b[90m│\u001b[39m\u001b[1m\u001b[34m the      \u001b[39m\u001b[22m\u001b[90m│\u001b[39m\r\n",
      "\u001b[90m│\u001b[39m\u001b[1m\u001b[34m          \u001b[39m\u001b[22m\u001b[90m│\u001b[39m\u001b[1m\u001b[34m          \u001b[39m\u001b[22m\u001b[90m│\u001b[39m\u001b[1m\u001b[34m          \u001b[39m\u001b[22m\u001b[90m│\u001b[39m\u001b[1m\u001b[34m          \u001b[39m\u001b[22m\u001b[90m│\u001b[39m\u001b[1m\u001b[34m          \u001b[39m\u001b[22m\u001b[90m│\u001b[39m\u001b[1m\u001b[34m          \u001b[39m\u001b[22m\u001b[90m│\u001b[39m\u001b[1m\u001b[34m student  \u001b[39m\u001b[22m\u001b[90m│\u001b[39m\r\n",
      "\u001b[90m│\u001b[39m\u001b[1m\u001b[34m          \u001b[39m\u001b[22m\u001b[90m│\u001b[39m\u001b[1m\u001b[34m          \u001b[39m\u001b[22m\u001b[90m│\u001b[39m\u001b[1m\u001b[34m          \u001b[39m\u001b[22m\u001b[90m│\u001b[39m\u001b[1m\u001b[34m          \u001b[39m\u001b[22m\u001b[90m│\u001b[39m\u001b[1m\u001b[34m          \u001b[39m\u001b[22m\u001b[90m│\u001b[39m\u001b[1m\u001b[34m          \u001b[39m\u001b[22m\u001b[90m│\u001b[39m\u001b[1m\u001b[34m what to  \u001b[39m\u001b[22m\u001b[90m│\u001b[39m\r\n",
      "\u001b[90m│\u001b[39m\u001b[1m\u001b[34m          \u001b[39m\u001b[22m\u001b[90m│\u001b[39m\u001b[1m\u001b[34m          \u001b[39m\u001b[22m\u001b[90m│\u001b[39m\u001b[1m\u001b[34m          \u001b[39m\u001b[22m\u001b[90m│\u001b[39m\u001b[1m\u001b[34m          \u001b[39m\u001b[22m\u001b[90m│\u001b[39m\u001b[1m\u001b[34m          \u001b[39m\u001b[22m\u001b[90m│\u001b[39m\u001b[1m\u001b[34m          \u001b[39m\u001b[22m\u001b[90m│\u001b[39m\u001b[1m\u001b[34m fix      \u001b[39m\u001b[22m\u001b[90m│\u001b[39m\r\n",
      "\u001b[90m│\u001b[39m\u001b[1m\u001b[34m          \u001b[39m\u001b[22m\u001b[90m│\u001b[39m\u001b[1m\u001b[34m          \u001b[39m\u001b[22m\u001b[90m│\u001b[39m\u001b[1m\u001b[34m          \u001b[39m\u001b[22m\u001b[90m│\u001b[39m\u001b[1m\u001b[34m          \u001b[39m\u001b[22m\u001b[90m│\u001b[39m\u001b[1m\u001b[34m          \u001b[39m\u001b[22m\u001b[90m│\u001b[39m\u001b[1m\u001b[34m          \u001b[39m\u001b[22m\u001b[90m│\u001b[39m\u001b[1m\u001b[34m task_de… \u001b[39m\u001b[22m\u001b[90m│\u001b[39m\r\n",
      "\u001b[90m│\u001b[39m\u001b[1m\u001b[34m          \u001b[39m\u001b[22m\u001b[90m│\u001b[39m\u001b[1m\u001b[34m          \u001b[39m\u001b[22m\u001b[90m│\u001b[39m\u001b[1m\u001b[34m          \u001b[39m\u001b[22m\u001b[90m│\u001b[39m\u001b[1m\u001b[34m          \u001b[39m\u001b[22m\u001b[90m│\u001b[39m\u001b[1m\u001b[34m          \u001b[39m\u001b[22m\u001b[90m│\u001b[39m\u001b[1m\u001b[34m          \u001b[39m\u001b[22m\u001b[90m│\u001b[39m\u001b[1m\u001b[34m {{task_… \u001b[39m\u001b[22m\u001b[90m│\u001b[39m\r\n",
      "\u001b[90m│\u001b[39m\u001b[1m\u001b[34m          \u001b[39m\u001b[22m\u001b[90m│\u001b[39m\u001b[1m\u001b[34m          \u001b[39m\u001b[22m\u001b[90m│\u001b[39m\u001b[1m\u001b[34m          \u001b[39m\u001b[22m\u001b[90m│\u001b[39m\u001b[1m\u001b[34m          \u001b[39m\u001b[22m\u001b[90m│\u001b[39m\u001b[1m\u001b[34m          \u001b[39m\u001b[22m\u001b[90m│\u001b[39m\u001b[1m\u001b[34m          \u001b[39m\u001b[22m\u001b[90m│\u001b[39m\u001b[1m\u001b[34m test_ca… \u001b[39m\u001b[22m\u001b[90m│\u001b[39m\r\n",
      "\u001b[90m│\u001b[39m\u001b[1m\u001b[34m          \u001b[39m\u001b[22m\u001b[90m│\u001b[39m\u001b[1m\u001b[34m          \u001b[39m\u001b[22m\u001b[90m│\u001b[39m\u001b[1m\u001b[34m          \u001b[39m\u001b[22m\u001b[90m│\u001b[39m\u001b[1m\u001b[34m          \u001b[39m\u001b[22m\u001b[90m│\u001b[39m\u001b[1m\u001b[34m          \u001b[39m\u001b[22m\u001b[90m│\u001b[39m\u001b[1m\u001b[34m          \u001b[39m\u001b[22m\u001b[90m│\u001b[39m\u001b[1m\u001b[34m {{test_… \u001b[39m\u001b[22m\u001b[90m│\u001b[39m\r\n",
      "\u001b[90m│\u001b[39m\u001b[1m\u001b[34m          \u001b[39m\u001b[22m\u001b[90m│\u001b[39m\u001b[1m\u001b[34m          \u001b[39m\u001b[22m\u001b[90m│\u001b[39m\u001b[1m\u001b[34m          \u001b[39m\u001b[22m\u001b[90m│\u001b[39m\u001b[1m\u001b[34m          \u001b[39m\u001b[22m\u001b[90m│\u001b[39m\u001b[1m\u001b[34m          \u001b[39m\u001b[22m\u001b[90m│\u001b[39m\u001b[1m\u001b[34m          \u001b[39m\u001b[22m\u001b[90m│\u001b[39m\u001b[1m\u001b[34m submiss… \u001b[39m\u001b[22m\u001b[90m│\u001b[39m\r\n",
      "\u001b[90m│\u001b[39m\u001b[1m\u001b[34m          \u001b[39m\u001b[22m\u001b[90m│\u001b[39m\u001b[1m\u001b[34m          \u001b[39m\u001b[22m\u001b[90m│\u001b[39m\u001b[1m\u001b[34m          \u001b[39m\u001b[22m\u001b[90m│\u001b[39m\u001b[1m\u001b[34m          \u001b[39m\u001b[22m\u001b[90m│\u001b[39m\u001b[1m\u001b[34m          \u001b[39m\u001b[22m\u001b[90m│\u001b[39m\u001b[1m\u001b[34m          \u001b[39m\u001b[22m\u001b[90m│\u001b[39m\u001b[1m\u001b[34m {{submi… \u001b[39m\u001b[22m\u001b[90m│\u001b[39m\r\n",
      "\u001b[90m│\u001b[39m\u001b[1m\u001b[34m          \u001b[39m\u001b[22m\u001b[90m│\u001b[39m\u001b[1m\u001b[34m          \u001b[39m\u001b[22m\u001b[90m│\u001b[39m\u001b[1m\u001b[34m          \u001b[39m\u001b[22m\u001b[90m│\u001b[39m\u001b[1m\u001b[34m          \u001b[39m\u001b[22m\u001b[90m│\u001b[39m\u001b[1m\u001b[34m          \u001b[39m\u001b[22m\u001b[90m│\u001b[39m\u001b[1m\u001b[34m          \u001b[39m\u001b[22m\u001b[90m│\u001b[39m\u001b[1m\u001b[34m user_wr… \u001b[39m\u001b[22m\u001b[90m│\u001b[39m\r\n",
      "\u001b[90m│\u001b[39m\u001b[1m\u001b[34m          \u001b[39m\u001b[22m\u001b[90m│\u001b[39m\u001b[1m\u001b[34m          \u001b[39m\u001b[22m\u001b[90m│\u001b[39m\u001b[1m\u001b[34m          \u001b[39m\u001b[22m\u001b[90m│\u001b[39m\u001b[1m\u001b[34m          \u001b[39m\u001b[22m\u001b[90m│\u001b[39m\u001b[1m\u001b[34m          \u001b[39m\u001b[22m\u001b[90m│\u001b[39m\u001b[1m\u001b[34m          \u001b[39m\u001b[22m\u001b[90m│\u001b[39m\u001b[1m\u001b[34m ...      \u001b[39m\u001b[22m\u001b[90m│\u001b[39m\r\n",
      "\u001b[90m├──────────\u001b[39m\u001b[90m┼──────────\u001b[39m\u001b[90m┼──────────\u001b[39m\u001b[90m┼──────────\u001b[39m\u001b[90m┼──────────\u001b[39m\u001b[90m┼──────────\u001b[39m\u001b[90m┼──────────┤\u001b[39m\r\n",
      "\u001b[90m│\u001b[39m python_0 \u001b[90m│\u001b[39m Failed   \u001b[90m│\u001b[39m <p></p>… \u001b[90m│\u001b[39m [{\"inpu… \u001b[90m│\u001b[39m N =      \u001b[90m│\u001b[39m # put    \u001b[90m│\u001b[39m \u001b[32m[PASS]\u001b[39m   \u001b[90m│\u001b[39m\r\n",
      "\u001b[90m│\u001b[39m          \u001b[90m│\u001b[39m test #1  \u001b[90m│\u001b[39m squirre… \u001b[90m│\u001b[39m          \u001b[90m│\u001b[39m int(inp… \u001b[90m│\u001b[39m your     \u001b[90m│\u001b[39m \u001b[32m\u001b[39mIt seems \u001b[90m│\u001b[39m\r\n",
      "\u001b[90m│\u001b[39m          \u001b[90m│\u001b[39m of 6.    \u001b[90m│\u001b[39m found K  \u001b[90m│\u001b[39m          \u001b[90m│\u001b[39m K =      \u001b[90m│\u001b[39m python   \u001b[90m│\u001b[39m like     \u001b[90m│\u001b[39m\r\n",
      "\u001b[90m│\u001b[39m          \u001b[90m│\u001b[39m Wrong    \u001b[90m│\u001b[39m nuts and \u001b[90m│\u001b[39m          \u001b[90m│\u001b[39m int(inp… \u001b[90m│\u001b[39m code     \u001b[90m│\u001b[39m your     \u001b[90m│\u001b[39m\r\n",
      "\u001b[90m│\u001b[39m          \u001b[90m│\u001b[39m answer   \u001b[90m│\u001b[39m decided  \u001b[90m│\u001b[39m          \u001b[90m│\u001b[39m print(K  \u001b[90m│\u001b[39m here     \u001b[90m│\u001b[39m code is  \u001b[90m│\u001b[39m\r\n",
      "\u001b[90m│\u001b[39m          \u001b[90m│\u001b[39m This is  \u001b[90m│\u001b[39m to       \u001b[90m│\u001b[39m          \u001b[90m│\u001b[39m // N)    \u001b[90m│\u001b[39m N=int(i… \u001b[90m│\u001b[39m not      \u001b[90m│\u001b[39m\r\n",
      "\u001b[90m│\u001b[39m          \u001b[90m│\u001b[39m a sample \u001b[90m│\u001b[39m divide   \u001b[90m│\u001b[39m          \u001b[90m│\u001b[39m          \u001b[90m│\u001b[39m value of \u001b[90m│\u001b[39m reading  \u001b[90m│\u001b[39m\r\n",
      "\u001b[90m│\u001b[39m          \u001b[90m│\u001b[39m test     \u001b[90m│\u001b[39m them     \u001b[90m│\u001b[39m          \u001b[90m│\u001b[39m          \u001b[90m│\u001b[39m n\"))     \u001b[90m│\u001b[39m the      \u001b[90m│\u001b[39m\r\n",
      "\u001b[90m│\u001b[39m          \u001b[90m│\u001b[39m from the \u001b[90m│\u001b[39m equally. \u001b[90m│\u001b[39m          \u001b[90m│\u001b[39m          \u001b[90m│\u001b[39m K=int(i… \u001b[90m│\u001b[39m input    \u001b[90m│\u001b[39m\r\n",
      "\u001b[90m│\u001b[39m          \u001b[90m│\u001b[39m problem  \u001b[90m│\u001b[39m Determi… \u001b[90m│\u001b[39m          \u001b[90m│\u001b[39m          \u001b[90m│\u001b[39m value of \u001b[90m│\u001b[39m correct… \u001b[90m│\u001b[39m\r\n",
      "\u001b[90m│\u001b[39m          \u001b[90m│\u001b[39m stateme… \u001b[90m│\u001b[39m how many \u001b[90m│\u001b[39m          \u001b[90m│\u001b[39m          \u001b[90m│\u001b[39m k\"))     \u001b[90m│\u001b[39m Instead  \u001b[90m│\u001b[39m\r\n",
      "\u001b[90m│\u001b[39m          \u001b[90m│\u001b[39m Test     \u001b[90m│\u001b[39m nuts     \u001b[90m│\u001b[39m          \u001b[90m│\u001b[39m          \u001b[90m│\u001b[39m ans=K//N \u001b[90m│\u001b[39m of using \u001b[90m│\u001b[39m\r\n",
      "\u001b[90m│\u001b[39m          \u001b[90m│\u001b[39m input:   \u001b[90m│\u001b[39m each     \u001b[90m│\u001b[39m          \u001b[90m│\u001b[39m          \u001b[90m│\u001b[39m print(a… \u001b[90m│\u001b[39m the      \u001b[90m│\u001b[39m\r\n",
      "\u001b[90m│\u001b[39m          \u001b[90m│\u001b[39m 3        \u001b[90m│\u001b[39m squirrel \u001b[90m│\u001b[39m          \u001b[90m│\u001b[39m          \u001b[90m│\u001b[39m          \u001b[90m│\u001b[39m `input(… \u001b[90m│\u001b[39m\r\n",
      "\u001b[90m│\u001b[39m          \u001b[90m│\u001b[39m 14       \u001b[90m│\u001b[39m will get \u001b[90m│\u001b[39m          \u001b[90m│\u001b[39m          \u001b[90m│\u001b[39m          \u001b[90m│\u001b[39m function \u001b[90m│\u001b[39m\r\n",
      "\u001b[90m│\u001b[39m          \u001b[90m│\u001b[39m Correct  \u001b[90m│\u001b[39m and      \u001b[90m│\u001b[39m          \u001b[90m│\u001b[39m          \u001b[90m│\u001b[39m          \u001b[90m│\u001b[39m with a   \u001b[90m│\u001b[39m\r\n",
      "\u001b[90m│\u001b[39m          \u001b[90m│\u001b[39m output:  \u001b[90m│\u001b[39m print    \u001b[90m│\u001b[39m          \u001b[90m│\u001b[39m          \u001b[90m│\u001b[39m          \u001b[90m│\u001b[39m prompt,  \u001b[90m│\u001b[39m\r\n",
      "\u001b[90m│\u001b[39m          \u001b[90m│\u001b[39m 4        \u001b[90m│\u001b[39m the      \u001b[90m│\u001b[39m          \u001b[90m│\u001b[39m          \u001b[90m│\u001b[39m          \u001b[90m│\u001b[39m you      \u001b[90m│\u001b[39m\r\n",
      "\u001b[90m│\u001b[39m          \u001b[90m│\u001b[39m Your     \u001b[90m│\u001b[39m result.  \u001b[90m│\u001b[39m          \u001b[90m│\u001b[39m          \u001b[90m│\u001b[39m          \u001b[90m│\u001b[39m should   \u001b[90m│\u001b[39m\r\n",
      "\u001b[90m│\u001b[39m          \u001b[90m│\u001b[39m code     \u001b[90m│\u001b[39m The      \u001b[90m│\u001b[39m          \u001b[90m│\u001b[39m          \u001b[90m│\u001b[39m          \u001b[90m│\u001b[39m simply   \u001b[90m│\u001b[39m\r\n",
      "\u001b[90m│\u001b[39m          \u001b[90m│\u001b[39m output:  \u001b[90m│\u001b[39m answer   \u001b[90m│\u001b[39m          \u001b[90m│\u001b[39m          \u001b[90m│\u001b[39m          \u001b[90m│\u001b[39m read the \u001b[90m│\u001b[39m\r\n",
      "\u001b[90m│\u001b[39m          \u001b[90m│\u001b[39m Enter    \u001b[90m│\u001b[39m should   \u001b[90m│\u001b[39m          \u001b[90m│\u001b[39m          \u001b[90m│\u001b[39m          \u001b[90m│\u001b[39m input    \u001b[90m│\u001b[39m\r\n",
      "\u001b[90m│\u001b[39m          \u001b[90m│\u001b[39m value of \u001b[90m│\u001b[39m be an    \u001b[90m│\u001b[39m          \u001b[90m│\u001b[39m          \u001b[90m│\u001b[39m          \u001b[90m│\u001b[39m values   \u001b[90m│\u001b[39m\r\n",
      "\u001b[90m│\u001b[39m          \u001b[90m│\u001b[39m nEnter   \u001b[90m│\u001b[39m integer… \u001b[90m│\u001b[39m          \u001b[90m│\u001b[39m          \u001b[90m│\u001b[39m          \u001b[90m│\u001b[39m directl… \u001b[90m│\u001b[39m\r\n",
      "\u001b[90m│\u001b[39m          \u001b[90m│\u001b[39m value of \u001b[90m│\u001b[39m </stron… \u001b[90m│\u001b[39m          \u001b[90m│\u001b[39m          \u001b[90m│\u001b[39m          \u001b[90m│\u001b[39m Here's   \u001b[90m│\u001b[39m\r\n",
      "\u001b[90m│\u001b[39m          \u001b[90m│\u001b[39m k4       \u001b[90m│\u001b[39m the      \u001b[90m│\u001b[39m          \u001b[90m│\u001b[39m          \u001b[90m│\u001b[39m          \u001b[90m│\u001b[39m what you \u001b[90m│\u001b[39m\r\n",
      "\u001b[90m│\u001b[39m          \u001b[90m│\u001b[39m          \u001b[90m│\u001b[39m order of \u001b[90m│\u001b[39m          \u001b[90m│\u001b[39m          \u001b[90m│\u001b[39m          \u001b[90m│\u001b[39m can do   \u001b[90m│\u001b[39m\r\n",
      "\u001b[90m│\u001b[39m          \u001b[90m│\u001b[39m          \u001b[90m│\u001b[39m the      \u001b[90m│\u001b[39m          \u001b[90m│\u001b[39m          \u001b[90m│\u001b[39m          \u001b[90m│\u001b[39m to fix   \u001b[90m│\u001b[39m\r\n",
      "\u001b[90m│\u001b[39m          \u001b[90m│\u001b[39m          \u001b[90m│\u001b[39m variabl… \u001b[90m│\u001b[39m          \u001b[90m│\u001b[39m          \u001b[90m│\u001b[39m          \u001b[90m│\u001b[39m it:      \u001b[90m│\u001b[39m\r\n",
      "\u001b[90m│\u001b[39m          \u001b[90m│\u001b[39m          \u001b[90m│\u001b[39m          \u001b[90m│\u001b[39m          \u001b[90m│\u001b[39m          \u001b[90m│\u001b[39m          \u001b[90m│\u001b[39m 1.       \u001b[90m│\u001b[39m\r\n",
      "\u001b[90m│\u001b[39m          \u001b[90m│\u001b[39m          \u001b[90m│\u001b[39m          \u001b[90m│\u001b[39m          \u001b[90m│\u001b[39m          \u001b[90m│\u001b[39m          \u001b[90m│\u001b[39m Remove   \u001b[90m│\u001b[39m\r\n",
      "\u001b[90m│\u001b[39m          \u001b[90m│\u001b[39m          \u001b[90m│\u001b[39m          \u001b[90m│\u001b[39m          \u001b[90m│\u001b[39m          \u001b[90m│\u001b[39m          \u001b[90m│\u001b[39m the      \u001b[90m│\u001b[39m\r\n",
      "\u001b[90m│\u001b[39m          \u001b[90m│\u001b[39m          \u001b[90m│\u001b[39m          \u001b[90m│\u001b[39m          \u001b[90m│\u001b[39m          \u001b[90m│\u001b[39m          \u001b[90m│\u001b[39m prompts  \u001b[90m│\u001b[39m\r\n",
      "\u001b[90m│\u001b[39m          \u001b[90m│\u001b[39m          \u001b[90m│\u001b[39m          \u001b[90m│\u001b[39m          \u001b[90m│\u001b[39m          \u001b[90m│\u001b[39m          \u001b[90m│\u001b[39m from the \u001b[90m│\u001b[39m\r\n",
      "\u001b[90m│\u001b[39m          \u001b[90m│\u001b[39m          \u001b[90m│\u001b[39m          \u001b[90m│\u001b[39m          \u001b[90m│\u001b[39m          \u001b[90m│\u001b[39m          \u001b[90m│\u001b[39m `input(… \u001b[90m│\u001b[39m\r\n",
      "\u001b[90m│\u001b[39m          \u001b[90m│\u001b[39m          \u001b[90m│\u001b[39m          \u001b[90m│\u001b[39m          \u001b[90m│\u001b[39m          \u001b[90m│\u001b[39m          \u001b[90m│\u001b[39m funct... \u001b[90m│\u001b[39m\r\n",
      "\u001b[90m├──────────\u001b[39m\u001b[90m┼──────────\u001b[39m\u001b[90m┼──────────\u001b[39m\u001b[90m┼──────────\u001b[39m\u001b[90m┼──────────\u001b[39m\u001b[90m┼──────────\u001b[39m\u001b[90m┼──────────┤\u001b[39m\r\n",
      "\u001b[90m│\u001b[39m python_1 \u001b[90m│\u001b[39m Failed   \u001b[90m│\u001b[39m <p></p>  \u001b[90m│\u001b[39m [{\"inpu… \u001b[90m│\u001b[39m def      \u001b[90m│\u001b[39m def      \u001b[90m│\u001b[39m \u001b[31m[FAIL]\u001b[39m   \u001b[90m│\u001b[39m\r\n",
      "\u001b[90m│\u001b[39m          \u001b[90m│\u001b[39m test #1  \u001b[90m│\u001b[39m <p>Write \u001b[90m│\u001b[39m 4        \u001b[90m│\u001b[39m equatio… \u001b[90m│\u001b[39m equatio… \u001b[90m│\u001b[39m \u001b[31m\u001b[39m\u001b[31m\u001b[1mThe\u001b[22m\u001b[39m      \u001b[90m│\u001b[39m\r\n",
      "\u001b[90m│\u001b[39m          \u001b[90m│\u001b[39m of 3.    \u001b[90m│\u001b[39m a        \u001b[90m│\u001b[39m 3\",\"out… \u001b[90m│\u001b[39m b, c):   \u001b[90m│\u001b[39m b, c):   \u001b[90m│\u001b[39m \u001b[31m\u001b[1msubmiss\u001b[22m\u001b[39m… \u001b[90m│\u001b[39m\r\n",
      "\u001b[90m│\u001b[39m          \u001b[90m│\u001b[39m Wrong    \u001b[90m│\u001b[39m function \u001b[90m│\u001b[39m x + 4 =  \u001b[90m│\u001b[39m print(f… \u001b[90m│\u001b[39m     pri… \u001b[90m│\u001b[39m \u001b[31m\u001b[1mdoes not\u001b[22m\u001b[39m \u001b[90m│\u001b[39m\r\n",
      "\u001b[90m│\u001b[39m          \u001b[90m│\u001b[39m answer   \u001b[90m│\u001b[39m <code    \u001b[90m│\u001b[39m 3\"}]     \u001b[90m│\u001b[39m x + {b}  \u001b[90m│\u001b[39m 'x +',   \u001b[90m│\u001b[39m \u001b[31m\u001b[1mmeet the\u001b[22m\u001b[39m \u001b[90m│\u001b[39m\r\n",
      "\u001b[90m│\u001b[39m          \u001b[90m│\u001b[39m This is  \u001b[90m│\u001b[39m class=\"… \u001b[90m│\u001b[39m          \u001b[90m│\u001b[39m = {c}\")  \u001b[90m│\u001b[39m b, '=',  \u001b[90m│\u001b[39m \u001b[31m\u001b[1mcriteri\u001b[22m\u001b[39m… \u001b[90m│\u001b[39m\r\n",
      "\u001b[90m│\u001b[39m          \u001b[90m│\u001b[39m a sample \u001b[90m│\u001b[39m that     \u001b[90m│\u001b[39m          \u001b[90m│\u001b[39m          \u001b[90m│\u001b[39m c)       \u001b[90m│\u001b[39m \u001b[31m\u001b[1m1. The\u001b[22m\u001b[39m   \u001b[90m│\u001b[39m\r\n",
      "\u001b[90m│\u001b[39m          \u001b[90m│\u001b[39m test     \u001b[90m│\u001b[39m will     \u001b[90m│\u001b[39m          \u001b[90m│\u001b[39m          \u001b[90m│\u001b[39m # Sample \u001b[90m│\u001b[39m \u001b[31m\u001b[1mcriteri\u001b[22m\u001b[39m… \u001b[90m│\u001b[39m\r\n",
      "\u001b[90m│\u001b[39m          \u001b[90m│\u001b[39m from the \u001b[90m│\u001b[39m <strong… \u001b[90m│\u001b[39m          \u001b[90m│\u001b[39m          \u001b[90m│\u001b[39m Input 1: \u001b[90m│\u001b[39m \u001b[31m\u001b[1mrequires\u001b[22m\u001b[39m \u001b[90m│\u001b[39m\r\n",
      "\u001b[90m│\u001b[39m          \u001b[90m│\u001b[39m problem  \u001b[90m│\u001b[39m the      \u001b[90m│\u001b[39m          \u001b[90m│\u001b[39m          \u001b[90m│\u001b[39m equatio… \u001b[90m│\u001b[39m \u001b[31m\u001b[1mthe\u001b[22m\u001b[39m      \u001b[90m│\u001b[39m\r\n",
      "\u001b[90m│\u001b[39m          \u001b[90m│\u001b[39m stateme… \u001b[90m│\u001b[39m equation \u001b[90m│\u001b[39m          \u001b[90m│\u001b[39m          \u001b[90m│\u001b[39m 4, 3)    \u001b[90m│\u001b[39m \u001b[31m\u001b[1mfeedback\u001b[22m\u001b[39m \u001b[90m│\u001b[39m\r\n",
      "\u001b[90m│\u001b[39m          \u001b[90m│\u001b[39m Test     \u001b[90m│\u001b[39m in the   \u001b[90m│\u001b[39m          \u001b[90m│\u001b[39m          \u001b[90m│\u001b[39m          \u001b[90m│\u001b[39m \u001b[31m\u001b[1mto offer\u001b[22m\u001b[39m \u001b[90m│\u001b[39m\r\n",
      "\u001b[90m│\u001b[39m          \u001b[90m│\u001b[39m input:   \u001b[90m│\u001b[39m followi… \u001b[90m│\u001b[39m          \u001b[90m│\u001b[39m          \u001b[90m│\u001b[39m          \u001b[90m│\u001b[39m \u001b[31m\u001b[1mactiona\u001b[22m\u001b[39m… \u001b[90m│\u001b[39m\r\n",
      "\u001b[90m│\u001b[39m          \u001b[90m│\u001b[39m 3 4 3    \u001b[90m│\u001b[39m format:  \u001b[90m│\u001b[39m          \u001b[90m│\u001b[39m          \u001b[90m│\u001b[39m          \u001b[90m│\u001b[39m \u001b[31m\u001b[1madvice\u001b[22m\u001b[39m   \u001b[90m│\u001b[39m\r\n",
      "\u001b[90m│\u001b[39m          \u001b[90m│\u001b[39m Correct  \u001b[90m│\u001b[39m <code    \u001b[90m│\u001b[39m          \u001b[90m│\u001b[39m          \u001b[90m│\u001b[39m          \u001b[90m│\u001b[39m \u001b[31m\u001b[1mand\u001b[22m\u001b[39m      \u001b[90m│\u001b[39m\r\n",
      "\u001b[90m│\u001b[39m          \u001b[90m│\u001b[39m output:  \u001b[90m│\u001b[39m class=\"… \u001b[90m│\u001b[39m          \u001b[90m│\u001b[39m          \u001b[90m│\u001b[39m          \u001b[90m│\u001b[39m \u001b[31m\u001b[1mencoura\u001b[22m\u001b[39m… \u001b[90m│\u001b[39m\r\n",
      "\u001b[90m│\u001b[39m          \u001b[90m│\u001b[39m 3 x + 4  \u001b[90m│\u001b[39m x + b =  \u001b[90m│\u001b[39m          \u001b[90m│\u001b[39m          \u001b[90m│\u001b[39m          \u001b[90m│\u001b[39m \u001b[31m\u001b[1mbest\u001b[22m\u001b[39m     \u001b[90m│\u001b[39m\r\n",
      "\u001b[90m│\u001b[39m          \u001b[90m│\u001b[39m = 3      \u001b[90m│\u001b[39m c</code… \u001b[90m│\u001b[39m          \u001b[90m│\u001b[39m          \u001b[90m│\u001b[39m          \u001b[90m│\u001b[39m \u001b[31m\u001b[1mcoding\u001b[22m\u001b[39m   \u001b[90m│\u001b[39m\r\n",
      "\u001b[90m│\u001b[39m          \u001b[90m│\u001b[39m Your     \u001b[90m│\u001b[39m The      \u001b[90m│\u001b[39m          \u001b[90m│\u001b[39m          \u001b[90m│\u001b[39m          \u001b[90m│\u001b[39m \u001b[31m\u001b[1mpractic\u001b[22m\u001b[39m… \u001b[90m│\u001b[39m\r\n",
      "\u001b[90m│\u001b[39m          \u001b[90m│\u001b[39m code     \u001b[90m│\u001b[39m function \u001b[90m│\u001b[39m          \u001b[90m│\u001b[39m          \u001b[90m│\u001b[39m          \u001b[90m│\u001b[39m \u001b[31m\u001b[1m2. The\u001b[22m\u001b[39m   \u001b[90m│\u001b[39m\r\n",
      "\u001b[90m│\u001b[39m          \u001b[90m│\u001b[39m output:  \u001b[90m│\u001b[39m must     \u001b[90m│\u001b[39m          \u001b[90m│\u001b[39m          \u001b[90m│\u001b[39m          \u001b[90m│\u001b[39m \u001b[31m\u001b[1msubmiss\u001b[22m\u001b[39m… \u001b[90m│\u001b[39m\r\n",
      "\u001b[90m│\u001b[39m          \u001b[90m│\u001b[39m 3 x + 4  \u001b[90m│\u001b[39m take     \u001b[90m│\u001b[39m          \u001b[90m│\u001b[39m          \u001b[90m│\u001b[39m          \u001b[90m│\u001b[39m \u001b[31m\u001b[1msuggests\u001b[22m\u001b[39m \u001b[90m│\u001b[39m\r\n",
      "\u001b[90m│\u001b[39m          \u001b[90m│\u001b[39m = 3      \u001b[90m│\u001b[39m three    \u001b[90m│\u001b[39m          \u001b[90m│\u001b[39m          \u001b[90m│\u001b[39m          \u001b[90m│\u001b[39m \u001b[31m\u001b[1musing\u001b[22m\u001b[39m    \u001b[90m│\u001b[39m\r\n",
      "\u001b[90m│\u001b[39m          \u001b[90m│\u001b[39m 3 x + 4  \u001b[90m│\u001b[39m argumen… \u001b[90m│\u001b[39m          \u001b[90m│\u001b[39m          \u001b[90m│\u001b[39m          \u001b[90m│\u001b[39m \u001b[31m\u001b[1mf-string\u001b[22m\u001b[39m \u001b[90m│\u001b[39m\r\n",
      "\u001b[90m│\u001b[39m          \u001b[90m│\u001b[39m = 3      \u001b[90m│\u001b[39m <code    \u001b[90m│\u001b[39m          \u001b[90m│\u001b[39m          \u001b[90m│\u001b[39m          \u001b[90m│\u001b[39m \u001b[31m\u001b[1mformatt\u001b[22m\u001b[39m… \u001b[90m│\u001b[39m\r\n",
      "\u001b[90m│\u001b[39m          \u001b[90m│\u001b[39m          \u001b[90m│\u001b[39m class=\"… \u001b[90m│\u001b[39m          \u001b[90m│\u001b[39m          \u001b[90m│\u001b[39m          \u001b[90m│\u001b[39m \u001b[31m\u001b[1mto\u001b[22m\u001b[39m       \u001b[90m│\u001b[39m\r\n",
      "\u001b[90m│\u001b[39m          \u001b[90m│\u001b[39m          \u001b[90m│\u001b[39m          \u001b[90m│\u001b[39m          \u001b[90m│\u001b[39m          \u001b[90m│\u001b[39m          \u001b[90m│\u001b[39m \u001b[31m\u001b[1mcorrect\u001b[22m\u001b[39m  \u001b[90m│\u001b[39m\r\n",
      "\u001b[90m│\u001b[39m          \u001b[90m│\u001b[39m          \u001b[90m│\u001b[39m          \u001b[90m│\u001b[39m          \u001b[90m│\u001b[39m          \u001b[90m│\u001b[39m          \u001b[90m│\u001b[39m \u001b[31m\u001b[1mthe\u001b[22m\u001b[39m      \u001b[90m│\u001b[39m\r\n",
      "\u001b[90m│\u001b[39m          \u001b[90m│\u001b[39m          \u001b[90m│\u001b[39m          \u001b[90m│\u001b[39m          \u001b[90m│\u001b[39m          \u001b[90m│\u001b[39m          \u001b[90m│\u001b[39m \u001b[31m\u001b[1mstudent\u001b[22m\u001b[39m… \u001b[90m│\u001b[39m\r\n",
      "\u001b[90m│\u001b[39m          \u001b[90m│\u001b[39m          \u001b[90m│\u001b[39m          \u001b[90m│\u001b[39m          \u001b[90m│\u001b[39m          \u001b[90m│\u001b[39m          \u001b[90m│\u001b[39m \u001b[31m\u001b[1mcode,\u001b[22m\u001b[39m    \u001b[90m│\u001b[39m\r\n",
      "\u001b[90m│\u001b[39m          \u001b[90m│\u001b[39m          \u001b[90m│\u001b[39m          \u001b[90m│\u001b[39m          \u001b[90m│\u001b[39m          \u001b[90m│\u001b[39m          \u001b[90m│\u001b[39m \u001b[31m\u001b[1mwhich is\u001b[22m\u001b[39m \u001b[90m│\u001b[39m\r\n",
      "\u001b[90m│\u001b[39m          \u001b[90m│\u001b[39m          \u001b[90m│\u001b[39m          \u001b[90m│\u001b[39m          \u001b[90m│\u001b[39m          \u001b[90m│\u001b[39m          \u001b[90m│\u001b[39m \u001b[31m\u001b[1mindeed\u001b[22m\u001b[39m   \u001b[90m│\u001b[39m\r\n",
      "\u001b[90m│\u001b[39m          \u001b[90m│\u001b[39m          \u001b[90m│\u001b[39m          \u001b[90m│\u001b[39m          \u001b[90m│\u001b[39m          \u001b[90m│\u001b[39m          \u001b[90m│\u001b[39m \u001b[31m\u001b[1m...\u001b[22m\u001b[39m      \u001b[90m│\u001b[39m\r\n",
      "\u001b[90m├──────────\u001b[39m\u001b[90m┼──────────\u001b[39m\u001b[90m┼──────────\u001b[39m\u001b[90m┼──────────\u001b[39m\u001b[90m┼──────────\u001b[39m\u001b[90m┼──────────\u001b[39m\u001b[90m┼──────────┤\u001b[39m\r\n",
      "\u001b[90m│\u001b[39m python_2 \u001b[90m│\u001b[39m          \u001b[90m│\u001b[39m <p></p>… \u001b[90m│\u001b[39m [{\"inpu… \u001b[90m│\u001b[39m A, B, H  \u001b[90m│\u001b[39m a =      \u001b[90m│\u001b[39m \u001b[32m[PASS]\u001b[39m   \u001b[90m│\u001b[39m\r\n",
      "\u001b[90m│\u001b[39m          \u001b[90m│\u001b[39m          \u001b[90m│\u001b[39m learned  \u001b[90m│\u001b[39m          \u001b[90m│\u001b[39m =        \u001b[90m│\u001b[39m input()  \u001b[90m│\u001b[39m \u001b[32m\u001b[39mIn your  \u001b[90m│\u001b[39m\r\n",
      "\u001b[90m│\u001b[39m          \u001b[90m│\u001b[39m          \u001b[90m│\u001b[39m from a   \u001b[90m│\u001b[39m          \u001b[90m│\u001b[39m int(inp… \u001b[90m│\u001b[39m b =      \u001b[90m│\u001b[39m code,    \u001b[90m│\u001b[39m\r\n",
      "\u001b[90m│\u001b[39m          \u001b[90m│\u001b[39m          \u001b[90m│\u001b[39m health   \u001b[90m│\u001b[39m          \u001b[90m│\u001b[39m int(inp… \u001b[90m│\u001b[39m input()  \u001b[90m│\u001b[39m you are  \u001b[90m│\u001b[39m\r\n",
      "\u001b[90m│\u001b[39m          \u001b[90m│\u001b[39m          \u001b[90m│\u001b[39m TV       \u001b[90m│\u001b[39m          \u001b[90m│\u001b[39m int(inp… \u001b[90m│\u001b[39m h =      \u001b[90m│\u001b[39m using    \u001b[90m│\u001b[39m\r\n",
      "\u001b[90m│\u001b[39m          \u001b[90m│\u001b[39m          \u001b[90m│\u001b[39m program  \u001b[90m│\u001b[39m          \u001b[90m│\u001b[39m if H <   \u001b[90m│\u001b[39m input()  \u001b[90m│\u001b[39m the      \u001b[90m│\u001b[39m\r\n",
      "\u001b[90m│\u001b[39m          \u001b[90m│\u001b[39m          \u001b[90m│\u001b[39m that     \u001b[90m│\u001b[39m          \u001b[90m│\u001b[39m A:       \u001b[90m│\u001b[39m if h >=  \u001b[90m│\u001b[39m input()  \u001b[90m│\u001b[39m\r\n",
      "\u001b[90m│\u001b[39m          \u001b[90m│\u001b[39m          \u001b[90m│\u001b[39m it's     \u001b[90m│\u001b[39m          \u001b[90m│\u001b[39m print(\"… \u001b[90m│\u001b[39m a and h  \u001b[90m│\u001b[39m function \u001b[90m│\u001b[39m\r\n",
      "\u001b[90m│\u001b[39m          \u001b[90m│\u001b[39m          \u001b[90m│\u001b[39m ideal to \u001b[90m│\u001b[39m          \u001b[90m│\u001b[39m elif H > \u001b[90m│\u001b[39m <= b:    \u001b[90m│\u001b[39m to get   \u001b[90m│\u001b[39m\r\n",
      "\u001b[90m│\u001b[39m          \u001b[90m│\u001b[39m          \u001b[90m│\u001b[39m sleep a  \u001b[90m│\u001b[39m          \u001b[90m│\u001b[39m B:       \u001b[90m│\u001b[39m print(\"… \u001b[90m│\u001b[39m the      \u001b[90m│\u001b[39m\r\n",
      "\u001b[90m│\u001b[39m          \u001b[90m│\u001b[39m          \u001b[90m│\u001b[39m minimum  \u001b[90m│\u001b[39m          \u001b[90m│\u001b[39m print(\"… \u001b[90m│\u001b[39m else:    \u001b[90m│\u001b[39m values   \u001b[90m│\u001b[39m\r\n",
      "\u001b[90m│\u001b[39m          \u001b[90m│\u001b[39m          \u001b[90m│\u001b[39m of <code \u001b[90m│\u001b[39m          \u001b[90m│\u001b[39m else:    \u001b[90m│\u001b[39m     if … \u001b[90m│\u001b[39m of A, B, \u001b[90m│\u001b[39m\r\n",
      "\u001b[90m│\u001b[39m          \u001b[90m│\u001b[39m          \u001b[90m│\u001b[39m class=\"… \u001b[90m│\u001b[39m          \u001b[90m│\u001b[39m print(\"… \u001b[90m│\u001b[39m a:       \u001b[90m│\u001b[39m and H,   \u001b[90m│\u001b[39m\r\n",
      "\u001b[90m│\u001b[39m          \u001b[90m│\u001b[39m          \u001b[90m│\u001b[39m hours    \u001b[90m│\u001b[39m          \u001b[90m│\u001b[39m          \u001b[90m│\u001b[39m print(\"… \u001b[90m│\u001b[39m but you  \u001b[90m│\u001b[39m\r\n",
      "\u001b[90m│\u001b[39m          \u001b[90m│\u001b[39m          \u001b[90m│\u001b[39m daily    \u001b[90m│\u001b[39m          \u001b[90m│\u001b[39m          \u001b[90m│\u001b[39m     els… \u001b[90m│\u001b[39m are not  \u001b[90m│\u001b[39m\r\n",
      "\u001b[90m│\u001b[39m          \u001b[90m│\u001b[39m          \u001b[90m│\u001b[39m but not  \u001b[90m│\u001b[39m          \u001b[90m│\u001b[39m          \u001b[90m│\u001b[39m print(\"… \u001b[90m│\u001b[39m convert… \u001b[90m│\u001b[39m\r\n",
      "\u001b[90m│\u001b[39m          \u001b[90m│\u001b[39m          \u001b[90m│\u001b[39m to       \u001b[90m│\u001b[39m          \u001b[90m│\u001b[39m          \u001b[90m│\u001b[39m          \u001b[90m│\u001b[39m them to  \u001b[90m│\u001b[39m\r\n",
      "\u001b[90m│\u001b[39m          \u001b[90m│\u001b[39m          \u001b[90m│\u001b[39m exceed   \u001b[90m│\u001b[39m          \u001b[90m│\u001b[39m          \u001b[90m│\u001b[39m          \u001b[90m│\u001b[39m integer… \u001b[90m│\u001b[39m\r\n",
      "\u001b[90m│\u001b[39m          \u001b[90m│\u001b[39m          \u001b[90m│\u001b[39m <code    \u001b[90m│\u001b[39m          \u001b[90m│\u001b[39m          \u001b[90m│\u001b[39m          \u001b[90m│\u001b[39m This     \u001b[90m│\u001b[39m\r\n",
      "\u001b[90m│\u001b[39m          \u001b[90m│\u001b[39m          \u001b[90m│\u001b[39m class=\"… \u001b[90m│\u001b[39m          \u001b[90m│\u001b[39m          \u001b[90m│\u001b[39m          \u001b[90m│\u001b[39m will     \u001b[90m│\u001b[39m\r\n",
      "\u001b[90m│\u001b[39m          \u001b[90m│\u001b[39m          \u001b[90m│\u001b[39m hours.   \u001b[90m│\u001b[39m          \u001b[90m│\u001b[39m          \u001b[90m│\u001b[39m          \u001b[90m│\u001b[39m cause    \u001b[90m│\u001b[39m\r\n",
      "\u001b[90m│\u001b[39m          \u001b[90m│\u001b[39m          \u001b[90m│\u001b[39m Ann      \u001b[90m│\u001b[39m          \u001b[90m│\u001b[39m          \u001b[90m│\u001b[39m          \u001b[90m│\u001b[39m issues   \u001b[90m│\u001b[39m\r\n",
      "\u001b[90m│\u001b[39m          \u001b[90m│\u001b[39m          \u001b[90m│\u001b[39m current… \u001b[90m│\u001b[39m          \u001b[90m│\u001b[39m          \u001b[90m│\u001b[39m          \u001b[90m│\u001b[39m when     \u001b[90m│\u001b[39m\r\n",
      "\u001b[90m│\u001b[39m          \u001b[90m│\u001b[39m          \u001b[90m│\u001b[39m sleeps   \u001b[90m│\u001b[39m          \u001b[90m│\u001b[39m          \u001b[90m│\u001b[39m          \u001b[90m│\u001b[39m compari… \u001b[90m│\u001b[39m\r\n",
      "\u001b[90m│\u001b[39m          \u001b[90m│\u001b[39m          \u001b[90m│\u001b[39m for      \u001b[90m│\u001b[39m          \u001b[90m│\u001b[39m          \u001b[90m│\u001b[39m          \u001b[90m│\u001b[39m them as  \u001b[90m│\u001b[39m\r\n",
      "\u001b[90m│\u001b[39m          \u001b[90m│\u001b[39m          \u001b[90m│\u001b[39m <code    \u001b[90m│\u001b[39m          \u001b[90m│\u001b[39m          \u001b[90m│\u001b[39m          \u001b[90m│\u001b[39m strings. \u001b[90m│\u001b[39m\r\n",
      "\u001b[90m│\u001b[39m          \u001b[90m│\u001b[39m          \u001b[90m│\u001b[39m class=\"… \u001b[90m│\u001b[39m          \u001b[90m│\u001b[39m          \u001b[90m│\u001b[39m          \u001b[90m│\u001b[39m To fix   \u001b[90m│\u001b[39m\r\n",
      "\u001b[90m│\u001b[39m          \u001b[90m│\u001b[39m          \u001b[90m│\u001b[39m hours    \u001b[90m│\u001b[39m          \u001b[90m│\u001b[39m          \u001b[90m│\u001b[39m          \u001b[90m│\u001b[39m this,    \u001b[90m│\u001b[39m\r\n",
      "\u001b[90m│\u001b[39m          \u001b[90m│\u001b[39m          \u001b[90m│\u001b[39m each day \u001b[90m│\u001b[39m          \u001b[90m│\u001b[39m          \u001b[90m│\u001b[39m          \u001b[90m│\u001b[39m you      \u001b[90m│\u001b[39m\r\n",
      "\u001b[90m│\u001b[39m          \u001b[90m│\u001b[39m          \u001b[90m│\u001b[39m a...     \u001b[90m│\u001b[39m          \u001b[90m│\u001b[39m          \u001b[90m│\u001b[39m          \u001b[90m│\u001b[39m should   \u001b[90m│\u001b[39m\r\n",
      "\u001b[90m│\u001b[39m          \u001b[90m│\u001b[39m          \u001b[90m│\u001b[39m          \u001b[90m│\u001b[39m          \u001b[90m│\u001b[39m          \u001b[90m│\u001b[39m          \u001b[90m│\u001b[39m convert  \u001b[90m│\u001b[39m\r\n",
      "\u001b[90m│\u001b[39m          \u001b[90m│\u001b[39m          \u001b[90m│\u001b[39m          \u001b[90m│\u001b[39m          \u001b[90m│\u001b[39m          \u001b[90m│\u001b[39m          \u001b[90m│\u001b[39m the      \u001b[90m│\u001b[39m\r\n",
      "\u001b[90m│\u001b[39m          \u001b[90m│\u001b[39m          \u001b[90m│\u001b[39m          \u001b[90m│\u001b[39m          \u001b[90m│\u001b[39m          \u001b[90m│\u001b[39m          \u001b[90m│\u001b[39m inputs   \u001b[90m│\u001b[39m\r\n",
      "\u001b[90m│\u001b[39m          \u001b[90m│\u001b[39m          \u001b[90m│\u001b[39m          \u001b[90m│\u001b[39m          \u001b[90m│\u001b[39m          \u001b[90m│\u001b[39m          \u001b[90m│\u001b[39m to       \u001b[90m│\u001b[39m\r\n",
      "\u001b[90m│\u001b[39m          \u001b[90m│\u001b[39m          \u001b[90m│\u001b[39m          \u001b[90m│\u001b[39m          \u001b[90m│\u001b[39m          \u001b[90m│\u001b[39m          \u001b[90m│\u001b[39m integers \u001b[90m│\u001b[39m\r\n",
      "\u001b[90m│\u001b[39m          \u001b[90m│\u001b[39m          \u001b[90m│\u001b[39m          \u001b[90m│\u001b[39m          \u001b[90m│\u001b[39m          \u001b[90m│\u001b[39m          \u001b[90m│\u001b[39m like     \u001b[90m│\u001b[39m\r\n",
      "\u001b[90m│\u001b[39m          \u001b[90m│\u001b[39m          \u001b[90m│\u001b[39m          \u001b[90m│\u001b[39m          \u001b[90m│\u001b[39m          \u001b[90m│\u001b[39m          \u001b[90m│\u001b[39m th...    \u001b[90m│\u001b[39m\r\n",
      "\u001b[90m├──────────\u001b[39m\u001b[90m┼──────────\u001b[39m\u001b[90m┼──────────\u001b[39m\u001b[90m┼──────────\u001b[39m\u001b[90m┼──────────\u001b[39m\u001b[90m┼──────────\u001b[39m\u001b[90m┼──────────┤\u001b[39m\r\n",
      "\u001b[90m│\u001b[39m python_3 \u001b[90m│\u001b[39m Failed   \u001b[90m│\u001b[39m <p></p>… \u001b[90m│\u001b[39m [{\"inpu… \u001b[90m│\u001b[39m scores = \u001b[90m│\u001b[39m scores = \u001b[90m│\u001b[39m \u001b[32m[PASS]\u001b[39m   \u001b[90m│\u001b[39m\r\n",
      "\u001b[90m│\u001b[39m          \u001b[90m│\u001b[39m test #1  \u001b[90m│\u001b[39m online   \u001b[90m│\u001b[39m C C I C  \u001b[90m│\u001b[39m input()… \u001b[90m│\u001b[39m input()… \u001b[90m│\u001b[39m \u001b[32m\u001b[39mIn your  \u001b[90m│\u001b[39m\r\n",
      "\u001b[90m│\u001b[39m          \u001b[90m│\u001b[39m of 17.   \u001b[90m│\u001b[39m test     \u001b[90m│\u001b[39m C C C I  \u001b[90m│\u001b[39m # put    \u001b[90m│\u001b[39m # put    \u001b[90m│\u001b[39m code,    \u001b[90m│\u001b[39m\r\n",
      "\u001b[90m│\u001b[39m          \u001b[90m│\u001b[39m Runtime  \u001b[90m│\u001b[39m games,   \u001b[90m│\u001b[39m I C C C  \u001b[90m│\u001b[39m your     \u001b[90m│\u001b[39m your     \u001b[90m│\u001b[39m you are  \u001b[90m│\u001b[39m\r\n",
      "\u001b[90m│\u001b[39m          \u001b[90m│\u001b[39m error    \u001b[90m│\u001b[39m there is \u001b[90m│\u001b[39m C C C C  \u001b[90m│\u001b[39m python   \u001b[90m│\u001b[39m python   \u001b[90m│\u001b[39m using    \u001b[90m│\u001b[39m\r\n",
      "\u001b[90m│\u001b[39m          \u001b[90m│\u001b[39m This is  \u001b[90m│\u001b[39m usually  \u001b[90m│\u001b[39m C        \u001b[90m│\u001b[39m code     \u001b[90m│\u001b[39m code     \u001b[90m│\u001b[39m the      \u001b[90m│\u001b[39m\r\n",
      "\u001b[90m│\u001b[39m          \u001b[90m│\u001b[39m a sample \u001b[90m│\u001b[39m a        \u001b[90m│\u001b[39m C\",\"out… \u001b[90m│\u001b[39m here     \u001b[90m│\u001b[39m here     \u001b[90m│\u001b[39m assignm… \u001b[90m│\u001b[39m\r\n",
      "\u001b[90m│\u001b[39m          \u001b[90m│\u001b[39m test     \u001b[90m│\u001b[39m limited  \u001b[90m│\u001b[39m over\\n7… \u001b[90m│\u001b[39m lives =  \u001b[90m│\u001b[39m score_s… \u001b[90m│\u001b[39m operator \u001b[90m│\u001b[39m\r\n",
      "\u001b[90m│\u001b[39m          \u001b[90m│\u001b[39m from the \u001b[90m│\u001b[39m number   \u001b[90m│\u001b[39m          \u001b[90m│\u001b[39m 3        \u001b[90m│\u001b[39m = 0      \u001b[90m│\u001b[39m '='      \u001b[90m│\u001b[39m\r\n",
      "\u001b[90m│\u001b[39m          \u001b[90m│\u001b[39m problem  \u001b[90m│\u001b[39m of       \u001b[90m│\u001b[39m          \u001b[90m│\u001b[39m final_s… \u001b[90m│\u001b[39m mistake… \u001b[90m│\u001b[39m instead  \u001b[90m│\u001b[39m\r\n",
      "\u001b[90m│\u001b[39m          \u001b[90m│\u001b[39m stateme… \u001b[90m│\u001b[39m lives:   \u001b[90m│\u001b[39m          \u001b[90m│\u001b[39m = 0      \u001b[90m│\u001b[39m = 0      \u001b[90m│\u001b[39m of the   \u001b[90m│\u001b[39m\r\n",
      "\u001b[90m│\u001b[39m          \u001b[90m│\u001b[39m Test     \u001b[90m│\u001b[39m if, for  \u001b[90m│\u001b[39m          \u001b[90m│\u001b[39m for i in \u001b[90m│\u001b[39m for      \u001b[90m│\u001b[39m compari… \u001b[90m│\u001b[39m\r\n",
      "\u001b[90m│\u001b[39m          \u001b[90m│\u001b[39m input:   \u001b[90m│\u001b[39m example, \u001b[90m│\u001b[39m          \u001b[90m│\u001b[39m scores:  \u001b[90m│\u001b[39m score in \u001b[90m│\u001b[39m operator \u001b[90m│\u001b[39m\r\n",
      "\u001b[90m│\u001b[39m          \u001b[90m│\u001b[39m C C C I  \u001b[90m│\u001b[39m you make \u001b[90m│\u001b[39m          \u001b[90m│\u001b[39m     liv… \u001b[90m│\u001b[39m scores:  \u001b[90m│\u001b[39m '=='     \u001b[90m│\u001b[39m\r\n",
      "\u001b[90m│\u001b[39m          \u001b[90m│\u001b[39m C C C C  \u001b[90m│\u001b[39m 3        \u001b[90m│\u001b[39m          \u001b[90m│\u001b[39m i == \"I\" \u001b[90m│\u001b[39m     if … \u001b[90m│\u001b[39m when     \u001b[90m│\u001b[39m\r\n",
      "\u001b[90m│\u001b[39m          \u001b[90m│\u001b[39m I I C C  \u001b[90m│\u001b[39m mistake… \u001b[90m│\u001b[39m          \u001b[90m│\u001b[39m final_s… \u001b[90m│\u001b[39m = 'C':   \u001b[90m│\u001b[39m checking \u001b[90m│\u001b[39m\r\n",
      "\u001b[90m│\u001b[39m          \u001b[90m│\u001b[39m C C C C  \u001b[90m│\u001b[39m you      \u001b[90m│\u001b[39m          \u001b[90m│\u001b[39m += i ==  \u001b[90m│\u001b[39m score_s… \u001b[90m│\u001b[39m the      \u001b[90m│\u001b[39m\r\n",
      "\u001b[90m│\u001b[39m          \u001b[90m│\u001b[39m C C C    \u001b[90m│\u001b[39m lose,    \u001b[90m│\u001b[39m          \u001b[90m│\u001b[39m \"C\"      \u001b[90m│\u001b[39m        … \u001b[90m│\u001b[39m value of \u001b[90m│\u001b[39m\r\n",
      "\u001b[90m│\u001b[39m          \u001b[90m│\u001b[39m Correct  \u001b[90m│\u001b[39m and      \u001b[90m│\u001b[39m          \u001b[90m│\u001b[39m     if … \u001b[90m│\u001b[39m     els… \u001b[90m│\u001b[39m 'score'. \u001b[90m│\u001b[39m\r\n",
      "\u001b[90m│\u001b[39m          \u001b[90m│\u001b[39m output:  \u001b[90m│\u001b[39m cannot   \u001b[90m│\u001b[39m          \u001b[90m│\u001b[39m <= 0:    \u001b[90m│\u001b[39m mistake… \u001b[90m│\u001b[39m To fix   \u001b[90m│\u001b[39m\r\n",
      "\u001b[90m│\u001b[39m          \u001b[90m│\u001b[39m Game     \u001b[90m│\u001b[39m continue \u001b[90m│\u001b[39m          \u001b[90m│\u001b[39m print(\"… \u001b[90m│\u001b[39m        … \u001b[90m│\u001b[39m this     \u001b[90m│\u001b[39m\r\n",
      "\u001b[90m│\u001b[39m          \u001b[90m│\u001b[39m over     \u001b[90m│\u001b[39m with the \u001b[90m│\u001b[39m          \u001b[90m│\u001b[39m over\")   \u001b[90m│\u001b[39m mistake… \u001b[90m│\u001b[39m error,   \u001b[90m│\u001b[39m\r\n",
      "\u001b[90m│\u001b[39m          \u001b[90m│\u001b[39m 7        \u001b[90m│\u001b[39m game.    \u001b[90m│\u001b[39m          \u001b[90m│\u001b[39m        … \u001b[90m│\u001b[39m        … \u001b[90m│\u001b[39m you      \u001b[90m│\u001b[39m\r\n",
      "\u001b[90m│\u001b[39m          \u001b[90m│\u001b[39m Your     \u001b[90m│\u001b[39m Let's    \u001b[90m│\u001b[39m          \u001b[90m│\u001b[39m else:    \u001b[90m│\u001b[39m       .… \u001b[90m│\u001b[39m should   \u001b[90m│\u001b[39m\r\n",
      "\u001b[90m│\u001b[39m          \u001b[90m│\u001b[39m code     \u001b[90m│\u001b[39m try to   \u001b[90m│\u001b[39m          \u001b[90m│\u001b[39m print(\"… \u001b[90m│\u001b[39m          \u001b[90m│\u001b[39m change   \u001b[90m│\u001b[39m\r\n",
      "\u001b[90m│\u001b[39m          \u001b[90m│\u001b[39m output:  \u001b[90m│\u001b[39m impleme… \u001b[90m│\u001b[39m          \u001b[90m│\u001b[39m won\")    \u001b[90m│\u001b[39m          \u001b[90m│\u001b[39m 'if      \u001b[90m│\u001b[39m\r\n",
      "\u001b[90m│\u001b[39m          \u001b[90m│\u001b[39m Error:   \u001b[90m│\u001b[39m this     \u001b[90m│\u001b[39m          \u001b[90m│\u001b[39m print(f… \u001b[90m│\u001b[39m          \u001b[90m│\u001b[39m score =  \u001b[90m│\u001b[39m\r\n",
      "\u001b[90m│\u001b[39m          \u001b[90m│\u001b[39m   File   \u001b[90m│\u001b[39m system.… \u001b[90m│\u001b[39m          \u001b[90m│\u001b[39m          \u001b[90m│\u001b[39m          \u001b[90m│\u001b[39m 'C':' to \u001b[90m│\u001b[39m\r\n",
      "\u001b[90m│\u001b[39m          \u001b[90m│\u001b[39m \"/sandb… \u001b[90m│\u001b[39m the line \u001b[90m│\u001b[39m          \u001b[90m│\u001b[39m          \u001b[90m│\u001b[39m          \u001b[90m│\u001b[39m 'if      \u001b[90m│\u001b[39m\r\n",
      "\u001b[90m│\u001b[39m          \u001b[90m│\u001b[39m line 7   \u001b[90m│\u001b[39m with     \u001b[90m│\u001b[39m          \u001b[90m│\u001b[39m          \u001b[90m│\u001b[39m          \u001b[90m│\u001b[39m score == \u001b[90m│\u001b[39m\r\n",
      "\u001b[90m│\u001b[39m          \u001b[90m│\u001b[39m     if … \u001b[90m│\u001b[39m user     \u001b[90m│\u001b[39m          \u001b[90m│\u001b[39m          \u001b[90m│\u001b[39m          \u001b[90m│\u001b[39m 'C':' in \u001b[90m│\u001b[39m\r\n",
      "\u001b[90m│\u001b[39m          \u001b[90m│\u001b[39m =        \u001b[90m│\u001b[39m answers  \u001b[90m│\u001b[39m          \u001b[90m│\u001b[39m          \u001b[90m│\u001b[39m          \u001b[90m│\u001b[39m your     \u001b[90m│\u001b[39m\r\n",
      "\u001b[90m│\u001b[39m          \u001b[90m│\u001b[39m 'C':...  \u001b[90m│\u001b[39m from the \u001b[90m│\u001b[39m          \u001b[90m│\u001b[39m          \u001b[90m│\u001b[39m          \u001b[90m│\u001b[39m code.    \u001b[90m│\u001b[39m\r\n",
      "\u001b[90m│\u001b[39m          \u001b[90m│\u001b[39m          \u001b[90m│\u001b[39m ...      \u001b[90m│\u001b[39m          \u001b[90m│\u001b[39m          \u001b[90m│\u001b[39m          \u001b[90m│\u001b[39m Additio… \u001b[90m│\u001b[39m\r\n",
      "\u001b[90m│\u001b[39m          \u001b[90m│\u001b[39m          \u001b[90m│\u001b[39m          \u001b[90m│\u001b[39m          \u001b[90m│\u001b[39m          \u001b[90m│\u001b[39m          \u001b[90m│\u001b[39m you      \u001b[90m│\u001b[39m\r\n",
      "\u001b[90m│\u001b[39m          \u001b[90m│\u001b[39m          \u001b[90m│\u001b[39m          \u001b[90m│\u001b[39m          \u001b[90m│\u001b[39m          \u001b[90m│\u001b[39m          \u001b[90m│\u001b[39m can...   \u001b[90m│\u001b[39m\r\n",
      "\u001b[90m├──────────\u001b[39m\u001b[90m┼──────────\u001b[39m\u001b[90m┼──────────\u001b[39m\u001b[90m┼──────────\u001b[39m\u001b[90m┼──────────\u001b[39m\u001b[90m┼──────────\u001b[39m\u001b[90m┼──────────┤\u001b[39m\r\n",
      "\u001b[90m│\u001b[39m python_4 \u001b[90m│\u001b[39m Failed   \u001b[90m│\u001b[39m <p>Imag… \u001b[90m│\u001b[39m [{\"inpu… \u001b[90m│\u001b[39m film_ti… \u001b[90m│\u001b[39m print(w… \u001b[90m│\u001b[39m \u001b[32m[PASS]\u001b[39m   \u001b[90m│\u001b[39m\r\n",
      "\u001b[90m│\u001b[39m          \u001b[90m│\u001b[39m test #1  \u001b[90m│\u001b[39m that you \u001b[90m│\u001b[39m lion     \u001b[90m│\u001b[39m =        \u001b[90m│\u001b[39m          \u001b[90m│\u001b[39m \u001b[32m\u001b[39mIt seems \u001b[90m│\u001b[39m\r\n",
      "\u001b[90m│\u001b[39m          \u001b[90m│\u001b[39m of 7.    \u001b[90m│\u001b[39m design   \u001b[90m│\u001b[39m king\",\"… \u001b[90m│\u001b[39m str(inp… \u001b[90m│\u001b[39m          \u001b[90m│\u001b[39m like you \u001b[90m│\u001b[39m\r\n",
      "\u001b[90m│\u001b[39m          \u001b[90m│\u001b[39m Runtime  \u001b[90m│\u001b[39m film     \u001b[90m│\u001b[39m LION     \u001b[90m│\u001b[39m print(f… \u001b[90m│\u001b[39m          \u001b[90m│\u001b[39m are      \u001b[90m│\u001b[39m\r\n",
      "\u001b[90m│\u001b[39m          \u001b[90m│\u001b[39m error    \u001b[90m│\u001b[39m posters  \u001b[90m│\u001b[39m KING\"}]  \u001b[90m│\u001b[39m          \u001b[90m│\u001b[39m          \u001b[90m│\u001b[39m getting  \u001b[90m│\u001b[39m\r\n",
      "\u001b[90m│\u001b[39m          \u001b[90m│\u001b[39m This is  \u001b[90m│\u001b[39m for a    \u001b[90m│\u001b[39m          \u001b[90m│\u001b[39m          \u001b[90m│\u001b[39m          \u001b[90m│\u001b[39m a        \u001b[90m│\u001b[39m\r\n",
      "\u001b[90m│\u001b[39m          \u001b[90m│\u001b[39m a sample \u001b[90m│\u001b[39m living.  \u001b[90m│\u001b[39m          \u001b[90m│\u001b[39m          \u001b[90m│\u001b[39m          \u001b[90m│\u001b[39m runtime  \u001b[90m│\u001b[39m\r\n",
      "\u001b[90m│\u001b[39m          \u001b[90m│\u001b[39m test     \u001b[90m│\u001b[39m Write a  \u001b[90m│\u001b[39m          \u001b[90m│\u001b[39m          \u001b[90m│\u001b[39m          \u001b[90m│\u001b[39m error    \u001b[90m│\u001b[39m\r\n",
      "\u001b[90m│\u001b[39m          \u001b[90m│\u001b[39m from the \u001b[90m│\u001b[39m program  \u001b[90m│\u001b[39m          \u001b[90m│\u001b[39m          \u001b[90m│\u001b[39m          \u001b[90m│\u001b[39m because  \u001b[90m│\u001b[39m\r\n",
      "\u001b[90m│\u001b[39m          \u001b[90m│\u001b[39m problem  \u001b[90m│\u001b[39m that     \u001b[90m│\u001b[39m          \u001b[90m│\u001b[39m          \u001b[90m│\u001b[39m          \u001b[90m│\u001b[39m the      \u001b[90m│\u001b[39m\r\n",
      "\u001b[90m│\u001b[39m          \u001b[90m│\u001b[39m stateme… \u001b[90m│\u001b[39m prints   \u001b[90m│\u001b[39m          \u001b[90m│\u001b[39m          \u001b[90m│\u001b[39m          \u001b[90m│\u001b[39m variable \u001b[90m│\u001b[39m\r\n",
      "\u001b[90m│\u001b[39m          \u001b[90m│\u001b[39m Test     \u001b[90m│\u001b[39m each     \u001b[90m│\u001b[39m          \u001b[90m│\u001b[39m          \u001b[90m│\u001b[39m          \u001b[90m│\u001b[39m 'word'   \u001b[90m│\u001b[39m\r\n",
      "\u001b[90m│\u001b[39m          \u001b[90m│\u001b[39m input:   \u001b[90m│\u001b[39m film     \u001b[90m│\u001b[39m          \u001b[90m│\u001b[39m          \u001b[90m│\u001b[39m          \u001b[90m│\u001b[39m is not   \u001b[90m│\u001b[39m\r\n",
      "\u001b[90m│\u001b[39m          \u001b[90m│\u001b[39m the lion \u001b[90m│\u001b[39m title in \u001b[90m│\u001b[39m          \u001b[90m│\u001b[39m          \u001b[90m│\u001b[39m          \u001b[90m│\u001b[39m defined  \u001b[90m│\u001b[39m\r\n",
      "\u001b[90m│\u001b[39m          \u001b[90m│\u001b[39m king     \u001b[90m│\u001b[39m all      \u001b[90m│\u001b[39m          \u001b[90m│\u001b[39m          \u001b[90m│\u001b[39m          \u001b[90m│\u001b[39m in your  \u001b[90m│\u001b[39m\r\n",
      "\u001b[90m│\u001b[39m          \u001b[90m│\u001b[39m Correct  \u001b[90m│\u001b[39m caps.</… \u001b[90m│\u001b[39m          \u001b[90m│\u001b[39m          \u001b[90m│\u001b[39m          \u001b[90m│\u001b[39m code.    \u001b[90m│\u001b[39m\r\n",
      "\u001b[90m│\u001b[39m          \u001b[90m│\u001b[39m output:  \u001b[90m│\u001b[39m          \u001b[90m│\u001b[39m          \u001b[90m│\u001b[39m          \u001b[90m│\u001b[39m          \u001b[90m│\u001b[39m The      \u001b[90m│\u001b[39m\r\n",
      "\u001b[90m│\u001b[39m          \u001b[90m│\u001b[39m THE LION \u001b[90m│\u001b[39m          \u001b[90m│\u001b[39m          \u001b[90m│\u001b[39m          \u001b[90m│\u001b[39m          \u001b[90m│\u001b[39m correct  \u001b[90m│\u001b[39m\r\n",
      "\u001b[90m│\u001b[39m          \u001b[90m│\u001b[39m KING     \u001b[90m│\u001b[39m          \u001b[90m│\u001b[39m          \u001b[90m│\u001b[39m          \u001b[90m│\u001b[39m          \u001b[90m│\u001b[39m way to   \u001b[90m│\u001b[39m\r\n",
      "\u001b[90m│\u001b[39m          \u001b[90m│\u001b[39m Your     \u001b[90m│\u001b[39m          \u001b[90m│\u001b[39m          \u001b[90m│\u001b[39m          \u001b[90m│\u001b[39m          \u001b[90m│\u001b[39m get the  \u001b[90m│\u001b[39m\r\n",
      "\u001b[90m│\u001b[39m          \u001b[90m│\u001b[39m code     \u001b[90m│\u001b[39m          \u001b[90m│\u001b[39m          \u001b[90m│\u001b[39m          \u001b[90m│\u001b[39m          \u001b[90m│\u001b[39m film     \u001b[90m│\u001b[39m\r\n",
      "\u001b[90m│\u001b[39m          \u001b[90m│\u001b[39m output:  \u001b[90m│\u001b[39m          \u001b[90m│\u001b[39m          \u001b[90m│\u001b[39m          \u001b[90m│\u001b[39m          \u001b[90m│\u001b[39m title    \u001b[90m│\u001b[39m\r\n",
      "\u001b[90m│\u001b[39m          \u001b[90m│\u001b[39m Error:   \u001b[90m│\u001b[39m          \u001b[90m│\u001b[39m          \u001b[90m│\u001b[39m          \u001b[90m│\u001b[39m          \u001b[90m│\u001b[39m input    \u001b[90m│\u001b[39m\r\n",
      "\u001b[90m│\u001b[39m          \u001b[90m│\u001b[39m Traceba… \u001b[90m│\u001b[39m          \u001b[90m│\u001b[39m          \u001b[90m│\u001b[39m          \u001b[90m│\u001b[39m          \u001b[90m│\u001b[39m from the \u001b[90m│\u001b[39m\r\n",
      "\u001b[90m│\u001b[39m          \u001b[90m│\u001b[39m (most    \u001b[90m│\u001b[39m          \u001b[90m│\u001b[39m          \u001b[90m│\u001b[39m          \u001b[90m│\u001b[39m          \u001b[90m│\u001b[39m user is  \u001b[90m│\u001b[39m\r\n",
      "\u001b[90m│\u001b[39m          \u001b[90m│\u001b[39m recent   \u001b[90m│\u001b[39m          \u001b[90m│\u001b[39m          \u001b[90m│\u001b[39m          \u001b[90m│\u001b[39m          \u001b[90m│\u001b[39m to use   \u001b[90m│\u001b[39m\r\n",
      "\u001b[90m│\u001b[39m          \u001b[90m│\u001b[39m call     \u001b[90m│\u001b[39m          \u001b[90m│\u001b[39m          \u001b[90m│\u001b[39m          \u001b[90m│\u001b[39m          \u001b[90m│\u001b[39m the      \u001b[90m│\u001b[39m\r\n",
      "\u001b[90m│\u001b[39m          \u001b[90m│\u001b[39m last):   \u001b[90m│\u001b[39m          \u001b[90m│\u001b[39m          \u001b[90m│\u001b[39m          \u001b[90m│\u001b[39m          \u001b[90m│\u001b[39m 'input(… \u001b[90m│\u001b[39m\r\n",
      "\u001b[90m│\u001b[39m          \u001b[90m│\u001b[39m   File   \u001b[90m│\u001b[39m          \u001b[90m│\u001b[39m          \u001b[90m│\u001b[39m          \u001b[90m│\u001b[39m          \u001b[90m│\u001b[39m function \u001b[90m│\u001b[39m\r\n",
      "\u001b[90m│\u001b[39m          \u001b[90m│\u001b[39m \"/sandb… \u001b[90m│\u001b[39m          \u001b[90m│\u001b[39m          \u001b[90m│\u001b[39m          \u001b[90m│\u001b[39m          \u001b[90m│\u001b[39m and      \u001b[90m│\u001b[39m\r\n",
      "\u001b[90m│\u001b[39m          \u001b[90m│\u001b[39m line 1,  \u001b[90m│\u001b[39m          \u001b[90m│\u001b[39m          \u001b[90m│\u001b[39m          \u001b[90m│\u001b[39m          \u001b[90m│\u001b[39m store it \u001b[90m│\u001b[39m\r\n",
      "\u001b[90m│\u001b[39m          \u001b[90m│\u001b[39m in       \u001b[90m│\u001b[39m          \u001b[90m│\u001b[39m          \u001b[90m│\u001b[39m          \u001b[90m│\u001b[39m          \u001b[90m│\u001b[39m in a     \u001b[90m│\u001b[39m\r\n",
      "\u001b[90m│\u001b[39m          \u001b[90m│\u001b[39m <mo...   \u001b[90m│\u001b[39m          \u001b[90m│\u001b[39m          \u001b[90m│\u001b[39m          \u001b[90m│\u001b[39m          \u001b[90m│\u001b[39m variable \u001b[90m│\u001b[39m\r\n",
      "\u001b[90m│\u001b[39m          \u001b[90m│\u001b[39m          \u001b[90m│\u001b[39m          \u001b[90m│\u001b[39m          \u001b[90m│\u001b[39m          \u001b[90m│\u001b[39m          \u001b[90m│\u001b[39m like     \u001b[90m│\u001b[39m\r\n",
      "\u001b[90m│\u001b[39m          \u001b[90m│\u001b[39m          \u001b[90m│\u001b[39m          \u001b[90m│\u001b[39m          \u001b[90m│\u001b[39m          \u001b[90m│\u001b[39m          \u001b[90m│\u001b[39m 'film_t… \u001b[90m│\u001b[39m\r\n",
      "\u001b[90m│\u001b[39m          \u001b[90m│\u001b[39m          \u001b[90m│\u001b[39m          \u001b[90m│\u001b[39m          \u001b[90m│\u001b[39m          \u001b[90m│\u001b[39m          \u001b[90m│\u001b[39m Then     \u001b[90m│\u001b[39m\r\n",
      "\u001b[90m│\u001b[39m          \u001b[90m│\u001b[39m          \u001b[90m│\u001b[39m          \u001b[90m│\u001b[39m          \u001b[90m│\u001b[39m          \u001b[90m│\u001b[39m          \u001b[90m│\u001b[39m yo...    \u001b[90m│\u001b[39m\r\n",
      "\u001b[90m├──────────\u001b[39m\u001b[90m┼──────────\u001b[39m\u001b[90m┼──────────\u001b[39m\u001b[90m┼──────────\u001b[39m\u001b[90m┼──────────\u001b[39m\u001b[90m┼──────────\u001b[39m\u001b[90m┼──────────┤\u001b[39m\r\n",
      "\u001b[90m│\u001b[39m python_5 \u001b[90m│\u001b[39m Failed   \u001b[90m│\u001b[39m <p>When  \u001b[90m│\u001b[39m [{\"inpu… \u001b[90m│\u001b[39m # put    \u001b[90m│\u001b[39m sentence \u001b[90m│\u001b[39m \u001b[32m[PASS]\u001b[39m   \u001b[90m│\u001b[39m\r\n",
      "\u001b[90m│\u001b[39m          \u001b[90m│\u001b[39m test #1  \u001b[90m│\u001b[39m Anton    \u001b[90m│\u001b[39m aa abC   \u001b[90m│\u001b[39m your     \u001b[90m│\u001b[39m =        \u001b[90m│\u001b[39m \u001b[32m\u001b[39mIn your  \u001b[90m│\u001b[39m\r\n",
      "\u001b[90m│\u001b[39m          \u001b[90m│\u001b[39m of 21.   \u001b[90m│\u001b[39m finished \u001b[90m│\u001b[39m aa ac    \u001b[90m│\u001b[39m python   \u001b[90m│\u001b[39m str(inp… \u001b[90m│\u001b[39m code,    \u001b[90m│\u001b[39m\r\n",
      "\u001b[90m│\u001b[39m          \u001b[90m│\u001b[39m Wrong    \u001b[90m│\u001b[39m reading  \u001b[90m│\u001b[39m abc bcd  \u001b[90m│\u001b[39m code     \u001b[90m│\u001b[39m lower_s… \u001b[90m│\u001b[39m you are  \u001b[90m│\u001b[39m\r\n",
      "\u001b[90m│\u001b[39m          \u001b[90m│\u001b[39m answer   \u001b[90m│\u001b[39m \"War and \u001b[90m│\u001b[39m a\",\"out… \u001b[90m│\u001b[39m here     \u001b[90m│\u001b[39m =        \u001b[90m│\u001b[39m printing \u001b[90m│\u001b[39m\r\n",
      "\u001b[90m│\u001b[39m          \u001b[90m│\u001b[39m This is  \u001b[90m│\u001b[39m Peace\",  \u001b[90m│\u001b[39m 2\\naa    \u001b[90m│\u001b[39m sentence \u001b[90m│\u001b[39m sentenc… \u001b[90m│\u001b[39m the word \u001b[90m│\u001b[39m\r\n",
      "\u001b[90m│\u001b[39m          \u001b[90m│\u001b[39m a sample \u001b[90m│\u001b[39m he       \u001b[90m│\u001b[39m 2\\nabc   \u001b[90m│\u001b[39m =        \u001b[90m│\u001b[39m word =   \u001b[90m│\u001b[39m counts   \u001b[90m│\u001b[39m\r\n",
      "\u001b[90m│\u001b[39m          \u001b[90m│\u001b[39m test     \u001b[90m│\u001b[39m decided  \u001b[90m│\u001b[39m 2\\nac    \u001b[90m│\u001b[39m input()… \u001b[90m│\u001b[39m lower_s… \u001b[90m│\u001b[39m with a   \u001b[90m│\u001b[39m\r\n",
      "\u001b[90m│\u001b[39m          \u001b[90m│\u001b[39m from the \u001b[90m│\u001b[39m to find  \u001b[90m│\u001b[39m 1\\nbcd   \u001b[90m│\u001b[39m words =  \u001b[90m│\u001b[39m word_co… \u001b[90m│\u001b[39m colon    \u001b[90m│\u001b[39m\r\n",
      "\u001b[90m│\u001b[39m          \u001b[90m│\u001b[39m problem  \u001b[90m│\u001b[39m out the  \u001b[90m│\u001b[39m 1\"}]     \u001b[90m│\u001b[39m sentenc… \u001b[90m│\u001b[39m = {}     \u001b[90m│\u001b[39m (:)      \u001b[90m│\u001b[39m\r\n",
      "\u001b[90m│\u001b[39m          \u001b[90m│\u001b[39m stateme… \u001b[90m│\u001b[39m number   \u001b[90m│\u001b[39m          \u001b[90m│\u001b[39m frequen… \u001b[90m│\u001b[39m for item \u001b[90m│\u001b[39m instead  \u001b[90m│\u001b[39m\r\n",
      "\u001b[90m│\u001b[39m          \u001b[90m│\u001b[39m Test     \u001b[90m│\u001b[39m of       \u001b[90m│\u001b[39m          \u001b[90m│\u001b[39m = {word: \u001b[90m│\u001b[39m in word: \u001b[90m│\u001b[39m of a     \u001b[90m│\u001b[39m\r\n",
      "\u001b[90m│\u001b[39m          \u001b[90m│\u001b[39m input:   \u001b[90m│\u001b[39m specific \u001b[90m│\u001b[39m          \u001b[90m│\u001b[39m words.c… \u001b[90m│\u001b[39m     if … \u001b[90m│\u001b[39m space.   \u001b[90m│\u001b[39m\r\n",
      "\u001b[90m│\u001b[39m          \u001b[90m│\u001b[39m a aa abC \u001b[90m│\u001b[39m words    \u001b[90m│\u001b[39m          \u001b[90m│\u001b[39m for word \u001b[90m│\u001b[39m in       \u001b[90m│\u001b[39m This is  \u001b[90m│\u001b[39m\r\n",
      "\u001b[90m│\u001b[39m          \u001b[90m│\u001b[39m aa ac    \u001b[90m│\u001b[39m used in  \u001b[90m│\u001b[39m          \u001b[90m│\u001b[39m in       \u001b[90m│\u001b[39m word_co… \u001b[90m│\u001b[39m causing  \u001b[90m│\u001b[39m\r\n",
      "\u001b[90m│\u001b[39m          \u001b[90m│\u001b[39m abc bcd  \u001b[90m│\u001b[39m the      \u001b[90m│\u001b[39m          \u001b[90m│\u001b[39m set(wor… \u001b[90m│\u001b[39m word_co… \u001b[90m│\u001b[39m the      \u001b[90m│\u001b[39m\r\n",
      "\u001b[90m│\u001b[39m          \u001b[90m│\u001b[39m a        \u001b[90m│\u001b[39m book.</… \u001b[90m│\u001b[39m          \u001b[90m│\u001b[39m for      \u001b[90m│\u001b[39m += 1     \u001b[90m│\u001b[39m output   \u001b[90m│\u001b[39m\r\n",
      "\u001b[90m│\u001b[39m          \u001b[90m│\u001b[39m Correct  \u001b[90m│\u001b[39m <p>Help  \u001b[90m│\u001b[39m          \u001b[90m│\u001b[39m word,    \u001b[90m│\u001b[39m     els… \u001b[90m│\u001b[39m format   \u001b[90m│\u001b[39m\r\n",
      "\u001b[90m│\u001b[39m          \u001b[90m│\u001b[39m output:  \u001b[90m│\u001b[39m Anton    \u001b[90m│\u001b[39m          \u001b[90m│\u001b[39m count in \u001b[90m│\u001b[39m word_co… \u001b[90m│\u001b[39m to be    \u001b[90m│\u001b[39m\r\n",
      "\u001b[90m│\u001b[39m          \u001b[90m│\u001b[39m a 2      \u001b[90m│\u001b[39m write a  \u001b[90m│\u001b[39m          \u001b[90m│\u001b[39m frequen… \u001b[90m│\u001b[39m = 1      \u001b[90m│\u001b[39m incorre… \u001b[90m│\u001b[39m\r\n",
      "\u001b[90m│\u001b[39m          \u001b[90m│\u001b[39m aa 2     \u001b[90m│\u001b[39m simplif… \u001b[90m│\u001b[39m          \u001b[90m│\u001b[39m print(w… \u001b[90m│\u001b[39m for key, \u001b[90m│\u001b[39m To fix   \u001b[90m│\u001b[39m\r\n",
      "\u001b[90m│\u001b[39m          \u001b[90m│\u001b[39m abc 2    \u001b[90m│\u001b[39m version  \u001b[90m│\u001b[39m          \u001b[90m│\u001b[39m count)   \u001b[90m│\u001b[39m value in \u001b[90m│\u001b[39m this     \u001b[90m│\u001b[39m\r\n",
      "\u001b[90m│\u001b[39m          \u001b[90m│\u001b[39m ac 1     \u001b[90m│\u001b[39m of such  \u001b[90m│\u001b[39m          \u001b[90m│\u001b[39m          \u001b[90m│\u001b[39m word_co… \u001b[90m│\u001b[39m issue,   \u001b[90m│\u001b[39m\r\n",
      "\u001b[90m│\u001b[39m          \u001b[90m│\u001b[39m bcd 1    \u001b[90m│\u001b[39m a        \u001b[90m│\u001b[39m          \u001b[90m│\u001b[39m          \u001b[90m│\u001b[39m          \u001b[90m│\u001b[39m you      \u001b[90m│\u001b[39m\r\n",
      "\u001b[90m│\u001b[39m          \u001b[90m│\u001b[39m Your     \u001b[90m│\u001b[39m program, \u001b[90m│\u001b[39m          \u001b[90m│\u001b[39m          \u001b[90m│\u001b[39m          \u001b[90m│\u001b[39m should   \u001b[90m│\u001b[39m\r\n",
      "\u001b[90m│\u001b[39m          \u001b[90m│\u001b[39m code     \u001b[90m│\u001b[39m that     \u001b[90m│\u001b[39m          \u001b[90m│\u001b[39m          \u001b[90m│\u001b[39m          \u001b[90m│\u001b[39m change   \u001b[90m│\u001b[39m\r\n",
      "\u001b[90m│\u001b[39m          \u001b[90m│\u001b[39m output:  \u001b[90m│\u001b[39m will be  \u001b[90m│\u001b[39m          \u001b[90m│\u001b[39m          \u001b[90m│\u001b[39m          \u001b[90m│\u001b[39m the      \u001b[90m│\u001b[39m\r\n",
      "\u001b[90m│\u001b[39m          \u001b[90m│\u001b[39m a : 2    \u001b[90m│\u001b[39m capable  \u001b[90m│\u001b[39m          \u001b[90m│\u001b[39m          \u001b[90m│\u001b[39m          \u001b[90m│\u001b[39m print    \u001b[90m│\u001b[39m\r\n",
      "\u001b[90m│\u001b[39m          \u001b[90m│\u001b[39m aa : 2   \u001b[90m│\u001b[39m of       \u001b[90m│\u001b[39m          \u001b[90m│\u001b[39m          \u001b[90m│\u001b[39m          \u001b[90m│\u001b[39m stateme… \u001b[90m│\u001b[39m\r\n",
      "\u001b[90m│\u001b[39m          \u001b[90m│\u001b[39m abc : 2  \u001b[90m│\u001b[39m counting \u001b[90m│\u001b[39m          \u001b[90m│\u001b[39m          \u001b[90m│\u001b[39m          \u001b[90m│\u001b[39m to use a \u001b[90m│\u001b[39m\r\n",
      "\u001b[90m│\u001b[39m          \u001b[90m│\u001b[39m ac : 1   \u001b[90m│\u001b[39m the      \u001b[90m│\u001b[39m          \u001b[90m│\u001b[39m          \u001b[90m│\u001b[39m          \u001b[90m│\u001b[39m space    \u001b[90m│\u001b[39m\r\n",
      "\u001b[90m│\u001b[39m          \u001b[90m│\u001b[39m bcd : 1  \u001b[90m│\u001b[39m words    \u001b[90m│\u001b[39m          \u001b[90m│\u001b[39m          \u001b[90m│\u001b[39m          \u001b[90m│\u001b[39m instead  \u001b[90m│\u001b[39m\r\n",
      "\u001b[90m│\u001b[39m          \u001b[90m│\u001b[39m          \u001b[90m│\u001b[39m separat… \u001b[90m│\u001b[39m          \u001b[90m│\u001b[39m          \u001b[90m│\u001b[39m          \u001b[90m│\u001b[39m of a     \u001b[90m│\u001b[39m\r\n",
      "\u001b[90m│\u001b[39m          \u001b[90m│\u001b[39m          \u001b[90m│\u001b[39m with     \u001b[90m│\u001b[39m          \u001b[90m│\u001b[39m          \u001b[90m│\u001b[39m          \u001b[90m│\u001b[39m colon.   \u001b[90m│\u001b[39m\r\n",
      "\u001b[90m│\u001b[39m          \u001b[90m│\u001b[39m          \u001b[90m│\u001b[39m space,   \u001b[90m│\u001b[39m          \u001b[90m│\u001b[39m          \u001b[90m│\u001b[39m          \u001b[90m│\u001b[39m For      \u001b[90m│\u001b[39m\r\n",
      "\u001b[90m│\u001b[39m          \u001b[90m│\u001b[39m          \u001b[90m│\u001b[39m ...      \u001b[90m│\u001b[39m          \u001b[90m│\u001b[39m          \u001b[90m│\u001b[39m          \u001b[90m│\u001b[39m example, \u001b[90m│\u001b[39m\r\n",
      "\u001b[90m│\u001b[39m          \u001b[90m│\u001b[39m          \u001b[90m│\u001b[39m          \u001b[90m│\u001b[39m          \u001b[90m│\u001b[39m          \u001b[90m│\u001b[39m          \u001b[90m│\u001b[39m instea.… \u001b[90m│\u001b[39m\r\n",
      "\u001b[90m├──────────\u001b[39m\u001b[90m┼──────────\u001b[39m\u001b[90m┼──────────\u001b[39m\u001b[90m┼──────────\u001b[39m\u001b[90m┼──────────\u001b[39m\u001b[90m┼──────────\u001b[39m\u001b[90m┼──────────┤\u001b[39m\r\n",
      "\u001b[90m│\u001b[39m python_6 \u001b[90m│\u001b[39m Failed   \u001b[90m│\u001b[39m <p></p>  \u001b[90m│\u001b[39m [{\"inpu… \u001b[90m│\u001b[39m # the    \u001b[90m│\u001b[39m # the    \u001b[90m│\u001b[39m \u001b[32m[PASS]\u001b[39m   \u001b[90m│\u001b[39m\r\n",
      "\u001b[90m│\u001b[39m          \u001b[90m│\u001b[39m test #1  \u001b[90m│\u001b[39m <p>We    \u001b[90m│\u001b[39m Sid and  \u001b[90m│\u001b[39m followi… \u001b[90m│\u001b[39m followi… \u001b[90m│\u001b[39m \u001b[32m\u001b[39mIt looks \u001b[90m│\u001b[39m\r\n",
      "\u001b[90m│\u001b[39m          \u001b[90m│\u001b[39m of 2.    \u001b[90m│\u001b[39m wrote a  \u001b[90m│\u001b[39m Nancy\\n… \u001b[90m│\u001b[39m lines    \u001b[90m│\u001b[39m lines    \u001b[90m│\u001b[39m like     \u001b[90m│\u001b[39m\r\n",
      "\u001b[90m│\u001b[39m          \u001b[90m│\u001b[39m Runtime  \u001b[90m│\u001b[39m function \u001b[90m│\u001b[39m Nancy    \u001b[90m│\u001b[39m read     \u001b[90m│\u001b[39m read     \u001b[90m│\u001b[39m there is \u001b[90m│\u001b[39m\r\n",
      "\u001b[90m│\u001b[39m          \u001b[90m│\u001b[39m error    \u001b[90m│\u001b[39m that     \u001b[90m│\u001b[39m and      \u001b[90m│\u001b[39m names    \u001b[90m│\u001b[39m names    \u001b[90m│\u001b[39m a typo   \u001b[90m│\u001b[39m\r\n",
      "\u001b[90m│\u001b[39m          \u001b[90m│\u001b[39m This is  \u001b[90m│\u001b[39m greets   \u001b[90m│\u001b[39m Sid\"}]   \u001b[90m│\u001b[39m from the \u001b[90m│\u001b[39m from the \u001b[90m│\u001b[39m in your  \u001b[90m│\u001b[39m\r\n",
      "\u001b[90m│\u001b[39m          \u001b[90m│\u001b[39m a sample \u001b[90m│\u001b[39m two      \u001b[90m│\u001b[39m          \u001b[90m│\u001b[39m input,   \u001b[90m│\u001b[39m input,   \u001b[90m│\u001b[39m code.    \u001b[90m│\u001b[39m\r\n",
      "\u001b[90m│\u001b[39m          \u001b[90m│\u001b[39m test     \u001b[90m│\u001b[39m people:… \u001b[90m│\u001b[39m          \u001b[90m│\u001b[39m do not   \u001b[90m│\u001b[39m do not   \u001b[90m│\u001b[39m The      \u001b[90m│\u001b[39m\r\n",
      "\u001b[90m│\u001b[39m          \u001b[90m│\u001b[39m from the \u001b[90m│\u001b[39m <pre><c… \u001b[90m│\u001b[39m          \u001b[90m│\u001b[39m modify   \u001b[90m│\u001b[39m modify   \u001b[90m│\u001b[39m function \u001b[90m│\u001b[39m\r\n",
      "\u001b[90m│\u001b[39m          \u001b[90m│\u001b[39m problem  \u001b[90m│\u001b[39m class=\"… \u001b[90m│\u001b[39m          \u001b[90m│\u001b[39m it,      \u001b[90m│\u001b[39m it,      \u001b[90m│\u001b[39m is       \u001b[90m│\u001b[39m\r\n",
      "\u001b[90m│\u001b[39m          \u001b[90m│\u001b[39m stateme… \u001b[90m│\u001b[39m greetin… \u001b[90m│\u001b[39m          \u001b[90m│\u001b[39m please   \u001b[90m│\u001b[39m please   \u001b[90m│\u001b[39m called   \u001b[90m│\u001b[39m\r\n",
      "\u001b[90m│\u001b[39m          \u001b[90m│\u001b[39m Test     \u001b[90m│\u001b[39m second_… \u001b[90m│\u001b[39m          \u001b[90m│\u001b[39m name_1 = \u001b[90m│\u001b[39m name_1 = \u001b[90m│\u001b[39m \"greeti… \u001b[90m│\u001b[39m\r\n",
      "\u001b[90m│\u001b[39m          \u001b[90m│\u001b[39m input:   \u001b[90m│\u001b[39m print(\"… \u001b[90m│\u001b[39m          \u001b[90m│\u001b[39m input()  \u001b[90m│\u001b[39m input()  \u001b[90m│\u001b[39m not      \u001b[90m│\u001b[39m\r\n",
      "\u001b[90m│\u001b[39m          \u001b[90m│\u001b[39m Sid      \u001b[90m│\u001b[39m first_n… \u001b[90m│\u001b[39m          \u001b[90m│\u001b[39m name_2 = \u001b[90m│\u001b[39m name_2 = \u001b[90m│\u001b[39m \"greeti… \u001b[90m│\u001b[39m\r\n",
      "\u001b[90m│\u001b[39m          \u001b[90m│\u001b[39m Nancy    \u001b[90m│\u001b[39m \"and\",   \u001b[90m│\u001b[39m          \u001b[90m│\u001b[39m input()  \u001b[90m│\u001b[39m input()  \u001b[90m│\u001b[39m Make     \u001b[90m│\u001b[39m\r\n",
      "\u001b[90m│\u001b[39m          \u001b[90m│\u001b[39m Correct  \u001b[90m│\u001b[39m second_… \u001b[90m│\u001b[39m          \u001b[90m│\u001b[39m greetin… \u001b[90m│\u001b[39m greetin… \u001b[90m│\u001b[39m sure to  \u001b[90m│\u001b[39m\r\n",
      "\u001b[90m│\u001b[39m          \u001b[90m│\u001b[39m output:  \u001b[90m│\u001b[39m <p>The   \u001b[90m│\u001b[39m          \u001b[90m│\u001b[39m name_2)  \u001b[90m│\u001b[39m # your   \u001b[90m│\u001b[39m call the \u001b[90m│\u001b[39m\r\n",
      "\u001b[90m│\u001b[39m          \u001b[90m│\u001b[39m Hello,   \u001b[90m│\u001b[39m first    \u001b[90m│\u001b[39m          \u001b[90m│\u001b[39m greetin… \u001b[90m│\u001b[39m code     \u001b[90m│\u001b[39m function \u001b[90m│\u001b[39m\r\n",
      "\u001b[90m│\u001b[39m          \u001b[90m│\u001b[39m Sid and  \u001b[90m│\u001b[39m name is  \u001b[90m│\u001b[39m          \u001b[90m│\u001b[39m name_1)  \u001b[90m│\u001b[39m here     \u001b[90m│\u001b[39m correct… \u001b[90m│\u001b[39m\r\n",
      "\u001b[90m│\u001b[39m          \u001b[90m│\u001b[39m Nancy    \u001b[90m│\u001b[39m already  \u001b[90m│\u001b[39m          \u001b[90m│\u001b[39m          \u001b[90m│\u001b[39m          \u001b[90m│\u001b[39m by using \u001b[90m│\u001b[39m\r\n",
      "\u001b[90m│\u001b[39m          \u001b[90m│\u001b[39m Hello,   \u001b[90m│\u001b[39m stored   \u001b[90m│\u001b[39m          \u001b[90m│\u001b[39m          \u001b[90m│\u001b[39m          \u001b[90m│\u001b[39m \"greeti… \u001b[90m│\u001b[39m\r\n",
      "\u001b[90m│\u001b[39m          \u001b[90m│\u001b[39m Nancy    \u001b[90m│\u001b[39m in the   \u001b[90m│\u001b[39m          \u001b[90m│\u001b[39m          \u001b[90m│\u001b[39m          \u001b[90m│\u001b[39m instead  \u001b[90m│\u001b[39m\r\n",
      "\u001b[90m│\u001b[39m          \u001b[90m│\u001b[39m and Sid  \u001b[90m│\u001b[39m variab.… \u001b[90m│\u001b[39m          \u001b[90m│\u001b[39m          \u001b[90m│\u001b[39m          \u001b[90m│\u001b[39m of       \u001b[90m│\u001b[39m\r\n",
      "\u001b[90m│\u001b[39m          \u001b[90m│\u001b[39m Your     \u001b[90m│\u001b[39m          \u001b[90m│\u001b[39m          \u001b[90m│\u001b[39m          \u001b[90m│\u001b[39m          \u001b[90m│\u001b[39m \"greeti… \u001b[90m│\u001b[39m\r\n",
      "\u001b[90m│\u001b[39m          \u001b[90m│\u001b[39m code     \u001b[90m│\u001b[39m          \u001b[90m│\u001b[39m          \u001b[90m│\u001b[39m          \u001b[90m│\u001b[39m          \u001b[90m│\u001b[39m Also,    \u001b[90m│\u001b[39m\r\n",
      "\u001b[90m│\u001b[39m          \u001b[90m│\u001b[39m output:  \u001b[90m│\u001b[39m          \u001b[90m│\u001b[39m          \u001b[90m│\u001b[39m          \u001b[90m│\u001b[39m          \u001b[90m│\u001b[39m remember \u001b[90m│\u001b[39m\r\n"
     ]
    },
    {
     "name": "stdout",
     "output_type": "stream",
     "text": [
      "\u001b[90m│\u001b[39m          \u001b[90m│\u001b[39m Error:   \u001b[90m│\u001b[39m          \u001b[90m│\u001b[39m          \u001b[90m│\u001b[39m          \u001b[90m│\u001b[39m          \u001b[90m│\u001b[39m to call  \u001b[90m│\u001b[39m\r\n",
      "\u001b[90m│\u001b[39m          \u001b[90m│\u001b[39m Traceba… \u001b[90m│\u001b[39m          \u001b[90m│\u001b[39m          \u001b[90m│\u001b[39m          \u001b[90m│\u001b[39m          \u001b[90m│\u001b[39m the      \u001b[90m│\u001b[39m\r\n",
      "\u001b[90m│\u001b[39m          \u001b[90m│\u001b[39m (most    \u001b[90m│\u001b[39m          \u001b[90m│\u001b[39m          \u001b[90m│\u001b[39m          \u001b[90m│\u001b[39m          \u001b[90m│\u001b[39m function \u001b[90m│\u001b[39m\r\n",
      "\u001b[90m│\u001b[39m          \u001b[90m│\u001b[39m recent   \u001b[90m│\u001b[39m          \u001b[90m│\u001b[39m          \u001b[90m│\u001b[39m          \u001b[90m│\u001b[39m          \u001b[90m│\u001b[39m twice as \u001b[90m│\u001b[39m\r\n",
      "\u001b[90m│\u001b[39m          \u001b[90m│\u001b[39m call     \u001b[90m│\u001b[39m          \u001b[90m│\u001b[39m          \u001b[90m│\u001b[39m          \u001b[90m│\u001b[39m          \u001b[90m│\u001b[39m instruc… \u001b[90m│\u001b[39m\r\n",
      "\u001b[90m│\u001b[39m          \u001b[90m│\u001b[39m last):   \u001b[90m│\u001b[39m          \u001b[90m│\u001b[39m          \u001b[90m│\u001b[39m          \u001b[90m│\u001b[39m          \u001b[90m│\u001b[39m in the   \u001b[90m│\u001b[39m\r\n",
      "\u001b[90m│\u001b[39m          \u001b[90m│\u001b[39m   File   \u001b[90m│\u001b[39m          \u001b[90m│\u001b[39m          \u001b[90m│\u001b[39m          \u001b[90m│\u001b[39m          \u001b[90m│\u001b[39m task...  \u001b[90m│\u001b[39m\r\n",
      "\u001b[90m│\u001b[39m          \u001b[90m│\u001b[39m \"/sandb… \u001b[90m│\u001b[39m          \u001b[90m│\u001b[39m          \u001b[90m│\u001b[39m          \u001b[90m│\u001b[39m          \u001b[90m│\u001b[39m          \u001b[90m│\u001b[39m\r\n",
      "\u001b[90m├──────────\u001b[39m\u001b[90m┼──────────\u001b[39m\u001b[90m┼──────────\u001b[39m\u001b[90m┼──────────\u001b[39m\u001b[90m┼──────────\u001b[39m\u001b[90m┼──────────\u001b[39m\u001b[90m┼──────────┤\u001b[39m\r\n",
      "\u001b[90m│\u001b[39m python_7 \u001b[90m│\u001b[39m Failed   \u001b[90m│\u001b[39m <p></p>  \u001b[90m│\u001b[39m [{\"inpu… \u001b[90m│\u001b[39m word =   \u001b[90m│\u001b[39m word =   \u001b[90m│\u001b[39m \u001b[31m[FAIL]\u001b[39m   \u001b[90m│\u001b[39m\r\n",
      "\u001b[90m│\u001b[39m          \u001b[90m│\u001b[39m test #1  \u001b[90m│\u001b[39m <p>The   \u001b[90m│\u001b[39m          \u001b[90m│\u001b[39m input()  \u001b[90m│\u001b[39m input()  \u001b[90m│\u001b[39m \u001b[31m\u001b[39m\u001b[31m\u001b[1mThe\u001b[22m\u001b[39m      \u001b[90m│\u001b[39m\r\n",
      "\u001b[90m│\u001b[39m          \u001b[90m│\u001b[39m of 8.    \u001b[90m│\u001b[39m languag… \u001b[90m│\u001b[39m          \u001b[90m│\u001b[39m # Change \u001b[90m│\u001b[39m # Change \u001b[90m│\u001b[39m \u001b[31m\u001b[1msubmiss\u001b[22m\u001b[39m… \u001b[90m│\u001b[39m\r\n",
      "\u001b[90m│\u001b[39m          \u001b[90m│\u001b[39m Wrong    \u001b[90m│\u001b[39m of the   \u001b[90m│\u001b[39m          \u001b[90m│\u001b[39m the next \u001b[90m│\u001b[39m the next \u001b[90m│\u001b[39m \u001b[31m\u001b[1mdoes not\u001b[22m\u001b[39m \u001b[90m│\u001b[39m\r\n",
      "\u001b[90m│\u001b[39m          \u001b[90m│\u001b[39m answer   \u001b[90m│\u001b[39m world    \u001b[90m│\u001b[39m          \u001b[90m│\u001b[39m line     \u001b[90m│\u001b[39m line     \u001b[90m│\u001b[39m \u001b[31m\u001b[1mmeet the\u001b[22m\u001b[39m \u001b[90m│\u001b[39m\r\n",
      "\u001b[90m│\u001b[39m          \u001b[90m│\u001b[39m This is  \u001b[90m│\u001b[39m are      \u001b[90m│\u001b[39m          \u001b[90m│\u001b[39m print(w… \u001b[90m│\u001b[39m print(w… \u001b[90m│\u001b[39m \u001b[31m\u001b[1mcriteri\u001b[22m\u001b[39m… \u001b[90m│\u001b[39m\r\n",
      "\u001b[90m│\u001b[39m          \u001b[90m│\u001b[39m a sample \u001b[90m│\u001b[39m amazing! \u001b[90m│\u001b[39m          \u001b[90m│\u001b[39m          \u001b[90m│\u001b[39m          \u001b[90m│\u001b[39m \u001b[31m\u001b[1m1. The\u001b[22m\u001b[39m   \u001b[90m│\u001b[39m\r\n",
      "\u001b[90m│\u001b[39m          \u001b[90m│\u001b[39m test     \u001b[90m│\u001b[39m Program… \u001b[90m│\u001b[39m          \u001b[90m│\u001b[39m          \u001b[90m│\u001b[39m          \u001b[90m│\u001b[39m \u001b[31m\u001b[1mcriteri\u001b[22m\u001b[39m… \u001b[90m│\u001b[39m\r\n",
      "\u001b[90m│\u001b[39m          \u001b[90m│\u001b[39m from the \u001b[90m│\u001b[39m languag… \u001b[90m│\u001b[39m          \u001b[90m│\u001b[39m          \u001b[90m│\u001b[39m          \u001b[90m│\u001b[39m \u001b[31m\u001b[1mspecifi\u001b[22m\u001b[39m… \u001b[90m│\u001b[39m\r\n",
      "\u001b[90m│\u001b[39m          \u001b[90m│\u001b[39m problem  \u001b[90m│\u001b[39m too, but \u001b[90m│\u001b[39m          \u001b[90m│\u001b[39m          \u001b[90m│\u001b[39m          \u001b[90m│\u001b[39m \u001b[31m\u001b[1mthat the\u001b[22m\u001b[39m \u001b[90m│\u001b[39m\r\n",
      "\u001b[90m│\u001b[39m          \u001b[90m│\u001b[39m stateme… \u001b[90m│\u001b[39m now we   \u001b[90m│\u001b[39m          \u001b[90m│\u001b[39m          \u001b[90m│\u001b[39m          \u001b[90m│\u001b[39m \u001b[31m\u001b[1mfeedback\u001b[22m\u001b[39m \u001b[90m│\u001b[39m\r\n",
      "\u001b[90m│\u001b[39m          \u001b[90m│\u001b[39m Test     \u001b[90m│\u001b[39m will     \u001b[90m│\u001b[39m          \u001b[90m│\u001b[39m          \u001b[90m│\u001b[39m          \u001b[90m│\u001b[39m \u001b[31m\u001b[1mshould\u001b[22m\u001b[39m   \u001b[90m│\u001b[39m\r\n",
      "\u001b[90m│\u001b[39m          \u001b[90m│\u001b[39m input:   \u001b[90m│\u001b[39m talk     \u001b[90m│\u001b[39m          \u001b[90m│\u001b[39m          \u001b[90m│\u001b[39m          \u001b[90m│\u001b[39m \u001b[31m\u001b[1mnot give\u001b[22m\u001b[39m \u001b[90m│\u001b[39m\r\n",
      "\u001b[90m│\u001b[39m          \u001b[90m│\u001b[39m maru     \u001b[90m│\u001b[39m about    \u001b[90m│\u001b[39m          \u001b[90m│\u001b[39m          \u001b[90m│\u001b[39m          \u001b[90m│\u001b[39m \u001b[31m\u001b[1ma direct\u001b[22m\u001b[39m \u001b[90m│\u001b[39m\r\n",
      "\u001b[90m│\u001b[39m          \u001b[90m│\u001b[39m Correct  \u001b[90m│\u001b[39m the      \u001b[90m│\u001b[39m          \u001b[90m│\u001b[39m          \u001b[90m│\u001b[39m          \u001b[90m│\u001b[39m \u001b[31m\u001b[1manswer.\u001b[22m\u001b[39m  \u001b[90m│\u001b[39m\r\n",
      "\u001b[90m│\u001b[39m          \u001b[90m│\u001b[39m output:  \u001b[90m│\u001b[39m human    \u001b[90m│\u001b[39m          \u001b[90m│\u001b[39m          \u001b[90m│\u001b[39m          \u001b[90m│\u001b[39m \u001b[31m\u001b[1m2. The\u001b[22m\u001b[39m   \u001b[90m│\u001b[39m\r\n",
      "\u001b[90m│\u001b[39m          \u001b[90m│\u001b[39m marumaru \u001b[90m│\u001b[39m ones. In \u001b[90m│\u001b[39m          \u001b[90m│\u001b[39m          \u001b[90m│\u001b[39m          \u001b[90m│\u001b[39m \u001b[31m\u001b[1msubmiss\u001b[22m\u001b[39m… \u001b[90m│\u001b[39m\r\n",
      "\u001b[90m│\u001b[39m          \u001b[90m│\u001b[39m Your     \u001b[90m│\u001b[39m linguis… \u001b[90m│\u001b[39m          \u001b[90m│\u001b[39m          \u001b[90m│\u001b[39m          \u001b[90m│\u001b[39m \u001b[31m\u001b[1midentif\u001b[22m\u001b[39m… \u001b[90m│\u001b[39m\r\n",
      "\u001b[90m│\u001b[39m          \u001b[90m│\u001b[39m code     \u001b[90m│\u001b[39m repeati… \u001b[90m│\u001b[39m          \u001b[90m│\u001b[39m          \u001b[90m│\u001b[39m          \u001b[90m│\u001b[39m \u001b[31m\u001b[1mthe\u001b[22m\u001b[39m      \u001b[90m│\u001b[39m\r\n",
      "\u001b[90m│\u001b[39m          \u001b[90m│\u001b[39m output:  \u001b[90m│\u001b[39m a word   \u001b[90m│\u001b[39m          \u001b[90m│\u001b[39m          \u001b[90m│\u001b[39m          \u001b[90m│\u001b[39m \u001b[31m\u001b[1mmistake\u001b[22m\u001b[39m  \u001b[90m│\u001b[39m\r\n",
      "\u001b[90m│\u001b[39m          \u001b[90m│\u001b[39m maru     \u001b[90m│\u001b[39m or part  \u001b[90m│\u001b[39m          \u001b[90m│\u001b[39m          \u001b[90m│\u001b[39m          \u001b[90m│\u001b[39m \u001b[31m\u001b[1min the\u001b[22m\u001b[39m   \u001b[90m│\u001b[39m\r\n",
      "\u001b[90m│\u001b[39m          \u001b[90m│\u001b[39m          \u001b[90m│\u001b[39m of it is \u001b[90m│\u001b[39m          \u001b[90m│\u001b[39m          \u001b[90m│\u001b[39m          \u001b[90m│\u001b[39m \u001b[31m\u001b[1mstudent\u001b[22m\u001b[39m… \u001b[90m│\u001b[39m\r\n",
      "\u001b[90m│\u001b[39m          \u001b[90m│\u001b[39m          \u001b[90m│\u001b[39m called   \u001b[90m│\u001b[39m          \u001b[90m│\u001b[39m          \u001b[90m│\u001b[39m          \u001b[90m│\u001b[39m \u001b[31m\u001b[1mcode,\u001b[22m\u001b[39m    \u001b[90m│\u001b[39m\r\n",
      "\u001b[90m│\u001b[39m          \u001b[90m│\u001b[39m          \u001b[90m│\u001b[39m <em>red… \u001b[90m│\u001b[39m          \u001b[90m│\u001b[39m          \u001b[90m│\u001b[39m          \u001b[90m│\u001b[39m \u001b[31m\u001b[1mwhich is\u001b[22m\u001b[39m \u001b[90m│\u001b[39m\r\n",
      "\u001b[90m│\u001b[39m          \u001b[90m│\u001b[39m          \u001b[90m│\u001b[39m This     \u001b[90m│\u001b[39m          \u001b[90m│\u001b[39m          \u001b[90m│\u001b[39m          \u001b[90m│\u001b[39m \u001b[31m\u001b[1mprinting\u001b[22m\u001b[39m \u001b[90m│\u001b[39m\r\n",
      "\u001b[90m│\u001b[39m          \u001b[90m│\u001b[39m          \u001b[90m│\u001b[39m morphol… \u001b[90m│\u001b[39m          \u001b[90m│\u001b[39m          \u001b[90m│\u001b[39m          \u001b[90m│\u001b[39m \u001b[31m\u001b[1mthe word\u001b[22m\u001b[39m \u001b[90m│\u001b[39m\r\n",
      "\u001b[90m│\u001b[39m          \u001b[90m│\u001b[39m          \u001b[90m│\u001b[39m phenome… \u001b[90m│\u001b[39m          \u001b[90m│\u001b[39m          \u001b[90m│\u001b[39m          \u001b[90m│\u001b[39m \u001b[31m\u001b[1monly\u001b[22m\u001b[39m     \u001b[90m│\u001b[39m\r\n",
      "\u001b[90m│\u001b[39m          \u001b[90m│\u001b[39m          \u001b[90m│\u001b[39m is found \u001b[90m│\u001b[39m          \u001b[90m│\u001b[39m          \u001b[90m│\u001b[39m          \u001b[90m│\u001b[39m \u001b[31m\u001b[1monce\u001b[22m\u001b[39m     \u001b[90m│\u001b[39m\r\n",
      "\u001b[90m│\u001b[39m          \u001b[90m│\u001b[39m          \u001b[90m│\u001b[39m in       \u001b[90m│\u001b[39m          \u001b[90m│\u001b[39m          \u001b[90m│\u001b[39m          \u001b[90m│\u001b[39m \u001b[31m\u001b[1minstead\u001b[22m\u001b[39m  \u001b[90m│\u001b[39m\r\n",
      "\u001b[90m│\u001b[39m          \u001b[90m│\u001b[39m          \u001b[90m│\u001b[39m dif...   \u001b[90m│\u001b[39m          \u001b[90m│\u001b[39m          \u001b[90m│\u001b[39m          \u001b[90m│\u001b[39m \u001b[31m\u001b[1mof\u001b[22m\u001b[39m       \u001b[90m│\u001b[39m\r\n",
      "\u001b[90m│\u001b[39m          \u001b[90m│\u001b[39m          \u001b[90m│\u001b[39m          \u001b[90m│\u001b[39m          \u001b[90m│\u001b[39m          \u001b[90m│\u001b[39m          \u001b[90m│\u001b[39m \u001b[31m\u001b[1mtwice.\u001b[22m\u001b[39m   \u001b[90m│\u001b[39m\r\n",
      "\u001b[90m│\u001b[39m          \u001b[90m│\u001b[39m          \u001b[90m│\u001b[39m          \u001b[90m│\u001b[39m          \u001b[90m│\u001b[39m          \u001b[90m│\u001b[39m          \u001b[90m│\u001b[39m \u001b[31m\u001b[1m3.\u001b[22m\u001b[39m       \u001b[90m│\u001b[39m\r\n",
      "\u001b[90m│\u001b[39m          \u001b[90m│\u001b[39m          \u001b[90m│\u001b[39m          \u001b[90m│\u001b[39m          \u001b[90m│\u001b[39m          \u001b[90m│\u001b[39m          \u001b[90m│\u001b[39m \u001b[31m\u001b[1mThe...\u001b[22m\u001b[39m   \u001b[90m│\u001b[39m\r\n",
      "\u001b[90m├──────────\u001b[39m\u001b[90m┼──────────\u001b[39m\u001b[90m┼──────────\u001b[39m\u001b[90m┼──────────\u001b[39m\u001b[90m┼──────────\u001b[39m\u001b[90m┼──────────\u001b[39m\u001b[90m┼──────────┤\u001b[39m\r\n",
      "\u001b[90m│\u001b[39m python_8 \u001b[90m│\u001b[39m Failed   \u001b[90m│\u001b[39m <p></p>… \u001b[90m│\u001b[39m [{\"inpu… \u001b[90m│\u001b[39m # put    \u001b[90m│\u001b[39m a =      \u001b[90m│\u001b[39m \u001b[31m[FAIL]\u001b[39m   \u001b[90m│\u001b[39m\r\n",
      "\u001b[90m│\u001b[39m          \u001b[90m│\u001b[39m test #1  \u001b[90m│\u001b[39m a        \u001b[90m│\u001b[39m          \u001b[90m│\u001b[39m your     \u001b[90m│\u001b[39m int(inp… \u001b[90m│\u001b[39m \u001b[31m\u001b[39m\u001b[31m\u001b[1mThe\u001b[22m\u001b[39m      \u001b[90m│\u001b[39m\r\n",
      "\u001b[90m│\u001b[39m          \u001b[90m│\u001b[39m of 11.   \u001b[90m│\u001b[39m program  \u001b[90m│\u001b[39m          \u001b[90m│\u001b[39m python   \u001b[90m│\u001b[39m b =      \u001b[90m│\u001b[39m \u001b[31m\u001b[1msubmiss\u001b[22m\u001b[39m… \u001b[90m│\u001b[39m\r\n",
      "\u001b[90m│\u001b[39m          \u001b[90m│\u001b[39m Runtime  \u001b[90m│\u001b[39m that     \u001b[90m│\u001b[39m          \u001b[90m│\u001b[39m code     \u001b[90m│\u001b[39m int(inp… \u001b[90m│\u001b[39m \u001b[31m\u001b[1mdoes not\u001b[22m\u001b[39m \u001b[90m│\u001b[39m\r\n",
      "\u001b[90m│\u001b[39m          \u001b[90m│\u001b[39m error    \u001b[90m│\u001b[39m reads    \u001b[90m│\u001b[39m          \u001b[90m│\u001b[39m here     \u001b[90m│\u001b[39m c =      \u001b[90m│\u001b[39m \u001b[31m\u001b[1mmeet the\u001b[22m\u001b[39m \u001b[90m│\u001b[39m\r\n",
      "\u001b[90m│\u001b[39m          \u001b[90m│\u001b[39m This is  \u001b[90m│\u001b[39m three    \u001b[90m│\u001b[39m          \u001b[90m│\u001b[39m a =      \u001b[90m│\u001b[39m int(inp… \u001b[90m│\u001b[39m \u001b[31m\u001b[1mcriteri\u001b[22m\u001b[39m… \u001b[90m│\u001b[39m\r\n",
      "\u001b[90m│\u001b[39m          \u001b[90m│\u001b[39m a sample \u001b[90m│\u001b[39m numbers  \u001b[90m│\u001b[39m          \u001b[90m│\u001b[39m int(inp… \u001b[90m│\u001b[39m sum = a  \u001b[90m│\u001b[39m \u001b[31m\u001b[1m1. The\u001b[22m\u001b[39m   \u001b[90m│\u001b[39m\r\n",
      "\u001b[90m│\u001b[39m          \u001b[90m│\u001b[39m test     \u001b[90m│\u001b[39m from the \u001b[90m│\u001b[39m          \u001b[90m│\u001b[39m b =      \u001b[90m│\u001b[39m + b + c  \u001b[90m│\u001b[39m \u001b[31m\u001b[1mcriteri\u001b[22m\u001b[39m… \u001b[90m│\u001b[39m\r\n",
      "\u001b[90m│\u001b[39m          \u001b[90m│\u001b[39m from the \u001b[90m│\u001b[39m input    \u001b[90m│\u001b[39m          \u001b[90m│\u001b[39m int(inp… \u001b[90m│\u001b[39m print(s… \u001b[90m│\u001b[39m \u001b[31m\u001b[1mspecifi\u001b[22m\u001b[39m… \u001b[90m│\u001b[39m\r\n",
      "\u001b[90m│\u001b[39m          \u001b[90m│\u001b[39m problem  \u001b[90m│\u001b[39m separat… \u001b[90m│\u001b[39m          \u001b[90m│\u001b[39m c =      \u001b[90m│\u001b[39m          \u001b[90m│\u001b[39m \u001b[31m\u001b[1mthat the\u001b[22m\u001b[39m \u001b[90m│\u001b[39m\r\n",
      "\u001b[90m│\u001b[39m          \u001b[90m│\u001b[39m stateme… \u001b[90m│\u001b[39m and      \u001b[90m│\u001b[39m          \u001b[90m│\u001b[39m int(inp… \u001b[90m│\u001b[39m          \u001b[90m│\u001b[39m \u001b[31m\u001b[1mfeedback\u001b[22m\u001b[39m \u001b[90m│\u001b[39m\r\n",
      "\u001b[90m│\u001b[39m          \u001b[90m│\u001b[39m Test     \u001b[90m│\u001b[39m prints   \u001b[90m│\u001b[39m          \u001b[90m│\u001b[39m print(a  \u001b[90m│\u001b[39m          \u001b[90m│\u001b[39m \u001b[31m\u001b[1mshould\u001b[22m\u001b[39m   \u001b[90m│\u001b[39m\r\n",
      "\u001b[90m│\u001b[39m          \u001b[90m│\u001b[39m input:   \u001b[90m│\u001b[39m the sum  \u001b[90m│\u001b[39m          \u001b[90m│\u001b[39m + b + c) \u001b[90m│\u001b[39m          \u001b[90m│\u001b[39m \u001b[31m\u001b[1mnot give\u001b[22m\u001b[39m \u001b[90m│\u001b[39m\r\n",
      "\u001b[90m│\u001b[39m          \u001b[90m│\u001b[39m 3        \u001b[90m│\u001b[39m of three \u001b[90m│\u001b[39m          \u001b[90m│\u001b[39m          \u001b[90m│\u001b[39m          \u001b[90m│\u001b[39m \u001b[31m\u001b[1ma direct\u001b[22m\u001b[39m \u001b[90m│\u001b[39m\r\n",
      "\u001b[90m│\u001b[39m          \u001b[90m│\u001b[39m 6        \u001b[90m│\u001b[39m integer  \u001b[90m│\u001b[39m          \u001b[90m│\u001b[39m          \u001b[90m│\u001b[39m          \u001b[90m│\u001b[39m \u001b[31m\u001b[1manswer.\u001b[22m\u001b[39m  \u001b[90m│\u001b[39m\r\n",
      "\u001b[90m│\u001b[39m          \u001b[90m│\u001b[39m 8        \u001b[90m│\u001b[39m numbers. \u001b[90m│\u001b[39m          \u001b[90m│\u001b[39m          \u001b[90m│\u001b[39m          \u001b[90m│\u001b[39m \u001b[31m\u001b[1m2. The\u001b[22m\u001b[39m   \u001b[90m│\u001b[39m\r\n",
      "\u001b[90m│\u001b[39m          \u001b[90m│\u001b[39m Correct  \u001b[90m│\u001b[39m Don't    \u001b[90m│\u001b[39m          \u001b[90m│\u001b[39m          \u001b[90m│\u001b[39m          \u001b[90m│\u001b[39m \u001b[31m\u001b[1msubmiss\u001b[22m\u001b[39m… \u001b[90m│\u001b[39m\r\n",
      "\u001b[90m│\u001b[39m          \u001b[90m│\u001b[39m output:  \u001b[90m│\u001b[39m specify  \u001b[90m│\u001b[39m          \u001b[90m│\u001b[39m          \u001b[90m│\u001b[39m          \u001b[90m│\u001b[39m \u001b[31m\u001b[1midentif\u001b[22m\u001b[39m… \u001b[90m│\u001b[39m\r\n",
      "\u001b[90m│\u001b[39m          \u001b[90m│\u001b[39m 17       \u001b[90m│\u001b[39m any      \u001b[90m│\u001b[39m          \u001b[90m│\u001b[39m          \u001b[90m│\u001b[39m          \u001b[90m│\u001b[39m \u001b[31m\u001b[1mthe\u001b[22m\u001b[39m      \u001b[90m│\u001b[39m\r\n",
      "\u001b[90m│\u001b[39m          \u001b[90m│\u001b[39m Your     \u001b[90m│\u001b[39m message  \u001b[90m│\u001b[39m          \u001b[90m│\u001b[39m          \u001b[90m│\u001b[39m          \u001b[90m│\u001b[39m \u001b[31m\u001b[1mspecific\u001b[22m\u001b[39m \u001b[90m│\u001b[39m\r\n",
      "\u001b[90m│\u001b[39m          \u001b[90m│\u001b[39m code     \u001b[90m│\u001b[39m in the   \u001b[90m│\u001b[39m          \u001b[90m│\u001b[39m          \u001b[90m│\u001b[39m          \u001b[90m│\u001b[39m \u001b[31m\u001b[1merror in\u001b[22m\u001b[39m \u001b[90m│\u001b[39m\r\n",
      "\u001b[90m│\u001b[39m          \u001b[90m│\u001b[39m output:  \u001b[90m│\u001b[39m input,   \u001b[90m│\u001b[39m          \u001b[90m│\u001b[39m          \u001b[90m│\u001b[39m          \u001b[90m│\u001b[39m \u001b[31m\u001b[1mthe\u001b[22m\u001b[39m      \u001b[90m│\u001b[39m\r\n",
      "\u001b[90m│\u001b[39m          \u001b[90m│\u001b[39m Error:   \u001b[90m│\u001b[39m please.… \u001b[90m│\u001b[39m          \u001b[90m│\u001b[39m          \u001b[90m│\u001b[39m          \u001b[90m│\u001b[39m \u001b[31m\u001b[1mstudent\u001b[22m\u001b[39m… \u001b[90m│\u001b[39m\r\n",
      "\u001b[90m│\u001b[39m          \u001b[90m│\u001b[39m Traceba… \u001b[90m│\u001b[39m class=\"… \u001b[90m│\u001b[39m          \u001b[90m│\u001b[39m          \u001b[90m│\u001b[39m          \u001b[90m│\u001b[39m \u001b[31m\u001b[1mcode,\u001b[22m\u001b[39m    \u001b[90m│\u001b[39m\r\n",
      "\u001b[90m│\u001b[39m          \u001b[90m│\u001b[39m (most    \u001b[90m│\u001b[39m alert-p… \u001b[90m│\u001b[39m          \u001b[90m│\u001b[39m          \u001b[90m│\u001b[39m          \u001b[90m│\u001b[39m \u001b[31m\u001b[1mwhich is\u001b[22m\u001b[39m \u001b[90m│\u001b[39m\r\n",
      "\u001b[90m│\u001b[39m          \u001b[90m│\u001b[39m recent   \u001b[90m│\u001b[39m use      \u001b[90m│\u001b[39m          \u001b[90m│\u001b[39m          \u001b[90m│\u001b[39m          \u001b[90m│\u001b[39m \u001b[31m\u001b[1mtrying\u001b[22m\u001b[39m   \u001b[90m│\u001b[39m\r\n",
      "\u001b[90m│\u001b[39m          \u001b[90m│\u001b[39m call     \u001b[90m│\u001b[39m specific \u001b[90m│\u001b[39m          \u001b[90m│\u001b[39m          \u001b[90m│\u001b[39m          \u001b[90m│\u001b[39m \u001b[31m\u001b[1mto\u001b[22m\u001b[39m       \u001b[90m│\u001b[39m\r\n",
      "\u001b[90m│\u001b[39m          \u001b[90m│\u001b[39m last):   \u001b[90m│\u001b[39m numbers  \u001b[90m│\u001b[39m          \u001b[90m│\u001b[39m          \u001b[90m│\u001b[39m          \u001b[90m│\u001b[39m \u001b[31m\u001b[1mconvert\u001b[22m\u001b[39m  \u001b[90m│\u001b[39m\r\n",
      "\u001b[90m│\u001b[39m          \u001b[90m│\u001b[39m   File   \u001b[90m│\u001b[39m from the \u001b[90m│\u001b[39m          \u001b[90m│\u001b[39m          \u001b[90m│\u001b[39m          \u001b[90m│\u001b[39m \u001b[31m\u001b[1mthe\u001b[22m\u001b[39m      \u001b[90m│\u001b[39m\r\n",
      "\u001b[90m│\u001b[39m          \u001b[90m│\u001b[39m \"/sandb… \u001b[90m│\u001b[39m ex...    \u001b[90m│\u001b[39m          \u001b[90m│\u001b[39m          \u001b[90m│\u001b[39m          \u001b[90m│\u001b[39m \u001b[31m\u001b[1minput\u001b[22m\u001b[39m    \u001b[90m│\u001b[39m\r\n",
      "\u001b[90m│\u001b[39m          \u001b[90m│\u001b[39m line 1,  \u001b[90m│\u001b[39m          \u001b[90m│\u001b[39m          \u001b[90m│\u001b[39m          \u001b[90m│\u001b[39m          \u001b[90m│\u001b[39m \u001b[31m\u001b[1mfunction\u001b[22m\u001b[39m \u001b[90m│\u001b[39m\r\n",
      "\u001b[90m│\u001b[39m          \u001b[90m│\u001b[39m in       \u001b[90m│\u001b[39m          \u001b[90m│\u001b[39m          \u001b[90m│\u001b[39m          \u001b[90m│\u001b[39m          \u001b[90m│\u001b[39m \u001b[31m\u001b[1mdirectl\u001b[22m\u001b[39m… \u001b[90m│\u001b[39m\r\n",
      "\u001b[90m│\u001b[39m          \u001b[90m│\u001b[39m <module> \u001b[90m│\u001b[39m          \u001b[90m│\u001b[39m          \u001b[90m│\u001b[39m          \u001b[90m│\u001b[39m          \u001b[90m│\u001b[39m          \u001b[90m│\u001b[39m\r\n",
      "\u001b[90m│\u001b[39m          \u001b[90m│\u001b[39m     a =  \u001b[90m│\u001b[39m          \u001b[90m│\u001b[39m          \u001b[90m│\u001b[39m          \u001b[90m│\u001b[39m          \u001b[90m│\u001b[39m          \u001b[90m│\u001b[39m\r\n",
      "\u001b[90m│\u001b[39m          \u001b[90m│\u001b[39m int(...  \u001b[90m│\u001b[39m          \u001b[90m│\u001b[39m          \u001b[90m│\u001b[39m          \u001b[90m│\u001b[39m          \u001b[90m│\u001b[39m          \u001b[90m│\u001b[39m\r\n",
      "\u001b[90m├──────────\u001b[39m\u001b[90m┼──────────\u001b[39m\u001b[90m┼──────────\u001b[39m\u001b[90m┼──────────\u001b[39m\u001b[90m┼──────────\u001b[39m\u001b[90m┼──────────\u001b[39m\u001b[90m┼──────────┤\u001b[39m\r\n",
      "\u001b[90m│\u001b[39m python_9 \u001b[90m│\u001b[39m Failed   \u001b[90m│\u001b[39m <p></p>  \u001b[90m│\u001b[39m [{\"inpu… \u001b[90m│\u001b[39m a =      \u001b[90m│\u001b[39m a =      \u001b[90m│\u001b[39m \u001b[32m[PASS]\u001b[39m   \u001b[90m│\u001b[39m\r\n",
      "\u001b[90m│\u001b[39m          \u001b[90m│\u001b[39m test #2  \u001b[90m│\u001b[39m <p>Write \u001b[90m│\u001b[39m Brother  \u001b[90m│\u001b[39m input()  \u001b[90m│\u001b[39m input()  \u001b[90m│\u001b[39m \u001b[32m\u001b[39mIn your  \u001b[90m│\u001b[39m\r\n",
      "\u001b[90m│\u001b[39m          \u001b[90m│\u001b[39m of 3.    \u001b[90m│\u001b[39m a        \u001b[90m│\u001b[39m watches  \u001b[90m│\u001b[39m b =      \u001b[90m│\u001b[39m b =      \u001b[90m│\u001b[39m code,    \u001b[90m│\u001b[39m\r\n",
      "\u001b[90m│\u001b[39m          \u001b[90m│\u001b[39m Wrong    \u001b[90m│\u001b[39m program  \u001b[90m│\u001b[39m you\\nFa… \u001b[90m│\u001b[39m input()  \u001b[90m│\u001b[39m input()  \u001b[90m│\u001b[39m you are  \u001b[90m│\u001b[39m\r\n",
      "\u001b[90m│\u001b[39m          \u001b[90m│\u001b[39m answer   \u001b[90m│\u001b[39m that     \u001b[90m│\u001b[39m          \u001b[90m│\u001b[39m # run    \u001b[90m│\u001b[39m # run    \u001b[90m│\u001b[39m checking \u001b[90m│\u001b[39m\r\n",
      "\u001b[90m│\u001b[39m          \u001b[90m│\u001b[39m          \u001b[90m│\u001b[39m takes    \u001b[90m│\u001b[39m          \u001b[90m│\u001b[39m the      \u001b[90m│\u001b[39m the      \u001b[90m│\u001b[39m if the   \u001b[90m│\u001b[39m\r\n",
      "\u001b[90m│\u001b[39m          \u001b[90m│\u001b[39m          \u001b[90m│\u001b[39m two      \u001b[90m│\u001b[39m          \u001b[90m│\u001b[39m members… \u001b[90m│\u001b[39m members… \u001b[90m│\u001b[39m first    \u001b[90m│\u001b[39m\r\n",
      "\u001b[90m│\u001b[39m          \u001b[90m│\u001b[39m          \u001b[90m│\u001b[39m strings, \u001b[90m│\u001b[39m          \u001b[90m│\u001b[39m test     \u001b[90m│\u001b[39m test     \u001b[90m│\u001b[39m string   \u001b[90m│\u001b[39m\r\n",
      "\u001b[90m│\u001b[39m          \u001b[90m│\u001b[39m          \u001b[90m│\u001b[39m checks   \u001b[90m│\u001b[39m          \u001b[90m│\u001b[39m below    \u001b[90m│\u001b[39m below    \u001b[90m│\u001b[39m is in    \u001b[90m│\u001b[39m\r\n",
      "\u001b[90m│\u001b[39m          \u001b[90m│\u001b[39m          \u001b[90m│\u001b[39m whether  \u001b[90m│\u001b[39m          \u001b[90m│\u001b[39m print(b  \u001b[90m│\u001b[39m print(a  \u001b[90m│\u001b[39m the      \u001b[90m│\u001b[39m\r\n",
      "\u001b[90m│\u001b[39m          \u001b[90m│\u001b[39m          \u001b[90m│\u001b[39m the      \u001b[90m│\u001b[39m          \u001b[90m│\u001b[39m in a)    \u001b[90m│\u001b[39m in b)    \u001b[90m│\u001b[39m second   \u001b[90m│\u001b[39m\r\n",
      "\u001b[90m│\u001b[39m          \u001b[90m│\u001b[39m          \u001b[90m│\u001b[39m first    \u001b[90m│\u001b[39m          \u001b[90m│\u001b[39m          \u001b[90m│\u001b[39m          \u001b[90m│\u001b[39m string   \u001b[90m│\u001b[39m\r\n",
      "\u001b[90m│\u001b[39m          \u001b[90m│\u001b[39m          \u001b[90m│\u001b[39m string   \u001b[90m│\u001b[39m          \u001b[90m│\u001b[39m          \u001b[90m│\u001b[39m          \u001b[90m│\u001b[39m instead  \u001b[90m│\u001b[39m\r\n",
      "\u001b[90m│\u001b[39m          \u001b[90m│\u001b[39m          \u001b[90m│\u001b[39m contains \u001b[90m│\u001b[39m          \u001b[90m│\u001b[39m          \u001b[90m│\u001b[39m          \u001b[90m│\u001b[39m of       \u001b[90m│\u001b[39m\r\n",
      "\u001b[90m│\u001b[39m          \u001b[90m│\u001b[39m          \u001b[90m│\u001b[39m the      \u001b[90m│\u001b[39m          \u001b[90m│\u001b[39m          \u001b[90m│\u001b[39m          \u001b[90m│\u001b[39m checking \u001b[90m│\u001b[39m\r\n",
      "\u001b[90m│\u001b[39m          \u001b[90m│\u001b[39m          \u001b[90m│\u001b[39m second   \u001b[90m│\u001b[39m          \u001b[90m│\u001b[39m          \u001b[90m│\u001b[39m          \u001b[90m│\u001b[39m if the   \u001b[90m│\u001b[39m\r\n",
      "\u001b[90m│\u001b[39m          \u001b[90m│\u001b[39m          \u001b[90m│\u001b[39m one and  \u001b[90m│\u001b[39m          \u001b[90m│\u001b[39m          \u001b[90m│\u001b[39m          \u001b[90m│\u001b[39m second   \u001b[90m│\u001b[39m\r\n",
      "\u001b[90m│\u001b[39m          \u001b[90m│\u001b[39m          \u001b[90m│\u001b[39m prints   \u001b[90m│\u001b[39m          \u001b[90m│\u001b[39m          \u001b[90m│\u001b[39m          \u001b[90m│\u001b[39m string   \u001b[90m│\u001b[39m\r\n",
      "\u001b[90m│\u001b[39m          \u001b[90m│\u001b[39m          \u001b[90m│\u001b[39m the      \u001b[90m│\u001b[39m          \u001b[90m│\u001b[39m          \u001b[90m│\u001b[39m          \u001b[90m│\u001b[39m is in    \u001b[90m│\u001b[39m\r\n",
      "\u001b[90m│\u001b[39m          \u001b[90m│\u001b[39m          \u001b[90m│\u001b[39m result   \u001b[90m│\u001b[39m          \u001b[90m│\u001b[39m          \u001b[90m│\u001b[39m          \u001b[90m│\u001b[39m the      \u001b[90m│\u001b[39m\r\n",
      "\u001b[90m│\u001b[39m          \u001b[90m│\u001b[39m          \u001b[90m│\u001b[39m of the   \u001b[90m│\u001b[39m          \u001b[90m│\u001b[39m          \u001b[90m│\u001b[39m          \u001b[90m│\u001b[39m first    \u001b[90m│\u001b[39m\r\n",
      "\u001b[90m│\u001b[39m          \u001b[90m│\u001b[39m          \u001b[90m│\u001b[39m members… \u001b[90m│\u001b[39m          \u001b[90m│\u001b[39m          \u001b[90m│\u001b[39m          \u001b[90m│\u001b[39m string.  \u001b[90m│\u001b[39m\r\n",
      "\u001b[90m│\u001b[39m          \u001b[90m│\u001b[39m          \u001b[90m│\u001b[39m test.</… \u001b[90m│\u001b[39m          \u001b[90m│\u001b[39m          \u001b[90m│\u001b[39m          \u001b[90m│\u001b[39m To fix   \u001b[90m│\u001b[39m\r\n",
      "\u001b[90m│\u001b[39m          \u001b[90m│\u001b[39m          \u001b[90m│\u001b[39m <p>The   \u001b[90m│\u001b[39m          \u001b[90m│\u001b[39m          \u001b[90m│\u001b[39m          \u001b[90m│\u001b[39m this,    \u001b[90m│\u001b[39m\r\n",
      "\u001b[90m│\u001b[39m          \u001b[90m│\u001b[39m          \u001b[90m│\u001b[39m variabl… \u001b[90m│\u001b[39m          \u001b[90m│\u001b[39m          \u001b[90m│\u001b[39m          \u001b[90m│\u001b[39m you      \u001b[90m│\u001b[39m\r\n",
      "\u001b[90m│\u001b[39m          \u001b[90m│\u001b[39m          \u001b[90m│\u001b[39m for both \u001b[90m│\u001b[39m          \u001b[90m│\u001b[39m          \u001b[90m│\u001b[39m          \u001b[90m│\u001b[39m should   \u001b[90m│\u001b[39m\r\n",
      "\u001b[90m│\u001b[39m          \u001b[90m│\u001b[39m          \u001b[90m│\u001b[39m input    \u001b[90m│\u001b[39m          \u001b[90m│\u001b[39m          \u001b[90m│\u001b[39m          \u001b[90m│\u001b[39m change   \u001b[90m│\u001b[39m\r\n",
      "\u001b[90m│\u001b[39m          \u001b[90m│\u001b[39m          \u001b[90m│\u001b[39m strings  \u001b[90m│\u001b[39m          \u001b[90m│\u001b[39m          \u001b[90m│\u001b[39m          \u001b[90m│\u001b[39m the      \u001b[90m│\u001b[39m\r\n",
      "\u001b[90m│\u001b[39m          \u001b[90m│\u001b[39m          \u001b[90m│\u001b[39m have     \u001b[90m│\u001b[39m          \u001b[90m│\u001b[39m          \u001b[90m│\u001b[39m          \u001b[90m│\u001b[39m order of \u001b[90m│\u001b[39m\r\n",
      "\u001b[90m│\u001b[39m          \u001b[90m│\u001b[39m          \u001b[90m│\u001b[39m already  \u001b[90m│\u001b[39m          \u001b[90m│\u001b[39m          \u001b[90m│\u001b[39m          \u001b[90m│\u001b[39m the      \u001b[90m│\u001b[39m\r\n",
      "\u001b[90m│\u001b[39m          \u001b[90m│\u001b[39m          \u001b[90m│\u001b[39m been     \u001b[90m│\u001b[39m          \u001b[90m│\u001b[39m          \u001b[90m│\u001b[39m          \u001b[90m│\u001b[39m variabl… \u001b[90m│\u001b[39m\r\n",
      "\u001b[90m│\u001b[39m          \u001b[90m│\u001b[39m          \u001b[90m│\u001b[39m defined… \u001b[90m│\u001b[39m          \u001b[90m│\u001b[39m          \u001b[90m│\u001b[39m          \u001b[90m│\u001b[39m in the   \u001b[90m│\u001b[39m\r\n",
      "\u001b[90m│\u001b[39m          \u001b[90m│\u001b[39m          \u001b[90m│\u001b[39m          \u001b[90m│\u001b[39m          \u001b[90m│\u001b[39m          \u001b[90m│\u001b[39m          \u001b[90m│\u001b[39m members… \u001b[90m│\u001b[39m\r\n",
      "\u001b[90m│\u001b[39m          \u001b[90m│\u001b[39m          \u001b[90m│\u001b[39m          \u001b[90m│\u001b[39m          \u001b[90m│\u001b[39m          \u001b[90m│\u001b[39m          \u001b[90m│\u001b[39m test.    \u001b[90m│\u001b[39m\r\n",
      "\u001b[90m│\u001b[39m          \u001b[90m│\u001b[39m          \u001b[90m│\u001b[39m          \u001b[90m│\u001b[39m          \u001b[90m│\u001b[39m          \u001b[90m│\u001b[39m          \u001b[90m│\u001b[39m Instead  \u001b[90m│\u001b[39m\r\n",
      "\u001b[90m│\u001b[39m          \u001b[90m│\u001b[39m          \u001b[90m│\u001b[39m          \u001b[90m│\u001b[39m          \u001b[90m│\u001b[39m          \u001b[90m│\u001b[39m          \u001b[90m│\u001b[39m of:      \u001b[90m│\u001b[39m\r\n",
      "\u001b[90m│\u001b[39m          \u001b[90m│\u001b[39m          \u001b[90m│\u001b[39m          \u001b[90m│\u001b[39m          \u001b[90m│\u001b[39m          \u001b[90m│\u001b[39m          \u001b[90m│\u001b[39m print(a  \u001b[90m│\u001b[39m\r\n",
      "\u001b[90m│\u001b[39m          \u001b[90m│\u001b[39m          \u001b[90m│\u001b[39m          \u001b[90m│\u001b[39m          \u001b[90m│\u001b[39m          \u001b[90m│\u001b[39m          \u001b[90m│\u001b[39m in ...   \u001b[90m│\u001b[39m\r\n",
      "\u001b[90m├──────────\u001b[39m\u001b[90m┼──────────\u001b[39m\u001b[90m┼──────────\u001b[39m\u001b[90m┼──────────\u001b[39m\u001b[90m┼──────────\u001b[39m\u001b[90m┼──────────\u001b[39m\u001b[90m┼──────────┤\u001b[39m\r\n",
      "\u001b[90m│\u001b[39m python_0 \u001b[90m│\u001b[39m Failed   \u001b[90m│\u001b[39m <p></p>… \u001b[90m│\u001b[39m [{\"inpu… \u001b[90m│\u001b[39m N =      \u001b[90m│\u001b[39m # put    \u001b[90m│\u001b[39m \u001b[32m[PASS]\u001b[39m   \u001b[90m│\u001b[39m\r\n",
      "\u001b[90m│\u001b[39m          \u001b[90m│\u001b[39m test #1  \u001b[90m│\u001b[39m squirre… \u001b[90m│\u001b[39m          \u001b[90m│\u001b[39m int(inp… \u001b[90m│\u001b[39m your     \u001b[90m│\u001b[39m \u001b[32m\u001b[39mIt seems \u001b[90m│\u001b[39m\r\n",
      "\u001b[90m│\u001b[39m          \u001b[90m│\u001b[39m of 6.    \u001b[90m│\u001b[39m found K  \u001b[90m│\u001b[39m          \u001b[90m│\u001b[39m K =      \u001b[90m│\u001b[39m python   \u001b[90m│\u001b[39m like     \u001b[90m│\u001b[39m\r\n",
      "\u001b[90m│\u001b[39m          \u001b[90m│\u001b[39m Wrong    \u001b[90m│\u001b[39m nuts and \u001b[90m│\u001b[39m          \u001b[90m│\u001b[39m int(inp… \u001b[90m│\u001b[39m code     \u001b[90m│\u001b[39m your     \u001b[90m│\u001b[39m\r\n",
      "\u001b[90m│\u001b[39m          \u001b[90m│\u001b[39m answer   \u001b[90m│\u001b[39m decided  \u001b[90m│\u001b[39m          \u001b[90m│\u001b[39m print(K  \u001b[90m│\u001b[39m here     \u001b[90m│\u001b[39m code is  \u001b[90m│\u001b[39m\r\n",
      "\u001b[90m│\u001b[39m          \u001b[90m│\u001b[39m This is  \u001b[90m│\u001b[39m to       \u001b[90m│\u001b[39m          \u001b[90m│\u001b[39m // N)    \u001b[90m│\u001b[39m N=int(i… \u001b[90m│\u001b[39m not      \u001b[90m│\u001b[39m\r\n",
      "\u001b[90m│\u001b[39m          \u001b[90m│\u001b[39m a sample \u001b[90m│\u001b[39m divide   \u001b[90m│\u001b[39m          \u001b[90m│\u001b[39m          \u001b[90m│\u001b[39m value of \u001b[90m│\u001b[39m reading  \u001b[90m│\u001b[39m\r\n",
      "\u001b[90m│\u001b[39m          \u001b[90m│\u001b[39m test     \u001b[90m│\u001b[39m them     \u001b[90m│\u001b[39m          \u001b[90m│\u001b[39m          \u001b[90m│\u001b[39m n\"))     \u001b[90m│\u001b[39m the      \u001b[90m│\u001b[39m\r\n",
      "\u001b[90m│\u001b[39m          \u001b[90m│\u001b[39m from the \u001b[90m│\u001b[39m equally. \u001b[90m│\u001b[39m          \u001b[90m│\u001b[39m          \u001b[90m│\u001b[39m K=int(i… \u001b[90m│\u001b[39m input    \u001b[90m│\u001b[39m\r\n",
      "\u001b[90m│\u001b[39m          \u001b[90m│\u001b[39m problem  \u001b[90m│\u001b[39m Determi… \u001b[90m│\u001b[39m          \u001b[90m│\u001b[39m          \u001b[90m│\u001b[39m value of \u001b[90m│\u001b[39m correct… \u001b[90m│\u001b[39m\r\n",
      "\u001b[90m│\u001b[39m          \u001b[90m│\u001b[39m stateme… \u001b[90m│\u001b[39m how many \u001b[90m│\u001b[39m          \u001b[90m│\u001b[39m          \u001b[90m│\u001b[39m k\"))     \u001b[90m│\u001b[39m Instead  \u001b[90m│\u001b[39m\r\n",
      "\u001b[90m│\u001b[39m          \u001b[90m│\u001b[39m Test     \u001b[90m│\u001b[39m nuts     \u001b[90m│\u001b[39m          \u001b[90m│\u001b[39m          \u001b[90m│\u001b[39m ans=K//N \u001b[90m│\u001b[39m of using \u001b[90m│\u001b[39m\r\n",
      "\u001b[90m│\u001b[39m          \u001b[90m│\u001b[39m input:   \u001b[90m│\u001b[39m each     \u001b[90m│\u001b[39m          \u001b[90m│\u001b[39m          \u001b[90m│\u001b[39m print(a… \u001b[90m│\u001b[39m the      \u001b[90m│\u001b[39m\r\n",
      "\u001b[90m│\u001b[39m          \u001b[90m│\u001b[39m 3        \u001b[90m│\u001b[39m squirrel \u001b[90m│\u001b[39m          \u001b[90m│\u001b[39m          \u001b[90m│\u001b[39m          \u001b[90m│\u001b[39m `input(… \u001b[90m│\u001b[39m\r\n",
      "\u001b[90m│\u001b[39m          \u001b[90m│\u001b[39m 14       \u001b[90m│\u001b[39m will get \u001b[90m│\u001b[39m          \u001b[90m│\u001b[39m          \u001b[90m│\u001b[39m          \u001b[90m│\u001b[39m function \u001b[90m│\u001b[39m\r\n",
      "\u001b[90m│\u001b[39m          \u001b[90m│\u001b[39m Correct  \u001b[90m│\u001b[39m and      \u001b[90m│\u001b[39m          \u001b[90m│\u001b[39m          \u001b[90m│\u001b[39m          \u001b[90m│\u001b[39m with a   \u001b[90m│\u001b[39m\r\n",
      "\u001b[90m│\u001b[39m          \u001b[90m│\u001b[39m output:  \u001b[90m│\u001b[39m print    \u001b[90m│\u001b[39m          \u001b[90m│\u001b[39m          \u001b[90m│\u001b[39m          \u001b[90m│\u001b[39m prompt,  \u001b[90m│\u001b[39m\r\n",
      "\u001b[90m│\u001b[39m          \u001b[90m│\u001b[39m 4        \u001b[90m│\u001b[39m the      \u001b[90m│\u001b[39m          \u001b[90m│\u001b[39m          \u001b[90m│\u001b[39m          \u001b[90m│\u001b[39m you      \u001b[90m│\u001b[39m\r\n",
      "\u001b[90m│\u001b[39m          \u001b[90m│\u001b[39m Your     \u001b[90m│\u001b[39m result.  \u001b[90m│\u001b[39m          \u001b[90m│\u001b[39m          \u001b[90m│\u001b[39m          \u001b[90m│\u001b[39m should   \u001b[90m│\u001b[39m\r\n",
      "\u001b[90m│\u001b[39m          \u001b[90m│\u001b[39m code     \u001b[90m│\u001b[39m The      \u001b[90m│\u001b[39m          \u001b[90m│\u001b[39m          \u001b[90m│\u001b[39m          \u001b[90m│\u001b[39m simply   \u001b[90m│\u001b[39m\r\n",
      "\u001b[90m│\u001b[39m          \u001b[90m│\u001b[39m output:  \u001b[90m│\u001b[39m answer   \u001b[90m│\u001b[39m          \u001b[90m│\u001b[39m          \u001b[90m│\u001b[39m          \u001b[90m│\u001b[39m read the \u001b[90m│\u001b[39m\r\n",
      "\u001b[90m│\u001b[39m          \u001b[90m│\u001b[39m Enter    \u001b[90m│\u001b[39m should   \u001b[90m│\u001b[39m          \u001b[90m│\u001b[39m          \u001b[90m│\u001b[39m          \u001b[90m│\u001b[39m input    \u001b[90m│\u001b[39m\r\n",
      "\u001b[90m│\u001b[39m          \u001b[90m│\u001b[39m value of \u001b[90m│\u001b[39m be an    \u001b[90m│\u001b[39m          \u001b[90m│\u001b[39m          \u001b[90m│\u001b[39m          \u001b[90m│\u001b[39m values   \u001b[90m│\u001b[39m\r\n",
      "\u001b[90m│\u001b[39m          \u001b[90m│\u001b[39m nEnter   \u001b[90m│\u001b[39m integer… \u001b[90m│\u001b[39m          \u001b[90m│\u001b[39m          \u001b[90m│\u001b[39m          \u001b[90m│\u001b[39m directl… \u001b[90m│\u001b[39m\r\n",
      "\u001b[90m│\u001b[39m          \u001b[90m│\u001b[39m value of \u001b[90m│\u001b[39m </stron… \u001b[90m│\u001b[39m          \u001b[90m│\u001b[39m          \u001b[90m│\u001b[39m          \u001b[90m│\u001b[39m Here's   \u001b[90m│\u001b[39m\r\n",
      "\u001b[90m│\u001b[39m          \u001b[90m│\u001b[39m k4       \u001b[90m│\u001b[39m the      \u001b[90m│\u001b[39m          \u001b[90m│\u001b[39m          \u001b[90m│\u001b[39m          \u001b[90m│\u001b[39m what you \u001b[90m│\u001b[39m\r\n",
      "\u001b[90m│\u001b[39m          \u001b[90m│\u001b[39m          \u001b[90m│\u001b[39m order of \u001b[90m│\u001b[39m          \u001b[90m│\u001b[39m          \u001b[90m│\u001b[39m          \u001b[90m│\u001b[39m can do   \u001b[90m│\u001b[39m\r\n",
      "\u001b[90m│\u001b[39m          \u001b[90m│\u001b[39m          \u001b[90m│\u001b[39m the      \u001b[90m│\u001b[39m          \u001b[90m│\u001b[39m          \u001b[90m│\u001b[39m          \u001b[90m│\u001b[39m to fix   \u001b[90m│\u001b[39m\r\n",
      "\u001b[90m│\u001b[39m          \u001b[90m│\u001b[39m          \u001b[90m│\u001b[39m variabl… \u001b[90m│\u001b[39m          \u001b[90m│\u001b[39m          \u001b[90m│\u001b[39m          \u001b[90m│\u001b[39m it:      \u001b[90m│\u001b[39m\r\n",
      "\u001b[90m│\u001b[39m          \u001b[90m│\u001b[39m          \u001b[90m│\u001b[39m          \u001b[90m│\u001b[39m          \u001b[90m│\u001b[39m          \u001b[90m│\u001b[39m          \u001b[90m│\u001b[39m 1.       \u001b[90m│\u001b[39m\r\n",
      "\u001b[90m│\u001b[39m          \u001b[90m│\u001b[39m          \u001b[90m│\u001b[39m          \u001b[90m│\u001b[39m          \u001b[90m│\u001b[39m          \u001b[90m│\u001b[39m          \u001b[90m│\u001b[39m Remove   \u001b[90m│\u001b[39m\r\n",
      "\u001b[90m│\u001b[39m          \u001b[90m│\u001b[39m          \u001b[90m│\u001b[39m          \u001b[90m│\u001b[39m          \u001b[90m│\u001b[39m          \u001b[90m│\u001b[39m          \u001b[90m│\u001b[39m the      \u001b[90m│\u001b[39m\r\n",
      "\u001b[90m│\u001b[39m          \u001b[90m│\u001b[39m          \u001b[90m│\u001b[39m          \u001b[90m│\u001b[39m          \u001b[90m│\u001b[39m          \u001b[90m│\u001b[39m          \u001b[90m│\u001b[39m prompts  \u001b[90m│\u001b[39m\r\n",
      "\u001b[90m│\u001b[39m          \u001b[90m│\u001b[39m          \u001b[90m│\u001b[39m          \u001b[90m│\u001b[39m          \u001b[90m│\u001b[39m          \u001b[90m│\u001b[39m          \u001b[90m│\u001b[39m from the \u001b[90m│\u001b[39m\r\n",
      "\u001b[90m│\u001b[39m          \u001b[90m│\u001b[39m          \u001b[90m│\u001b[39m          \u001b[90m│\u001b[39m          \u001b[90m│\u001b[39m          \u001b[90m│\u001b[39m          \u001b[90m│\u001b[39m `input(… \u001b[90m│\u001b[39m\r\n",
      "\u001b[90m│\u001b[39m          \u001b[90m│\u001b[39m          \u001b[90m│\u001b[39m          \u001b[90m│\u001b[39m          \u001b[90m│\u001b[39m          \u001b[90m│\u001b[39m          \u001b[90m│\u001b[39m funct... \u001b[90m│\u001b[39m\r\n",
      "\u001b[90m├──────────\u001b[39m\u001b[90m┼──────────\u001b[39m\u001b[90m┼──────────\u001b[39m\u001b[90m┼──────────\u001b[39m\u001b[90m┼──────────\u001b[39m\u001b[90m┼──────────\u001b[39m\u001b[90m┼──────────┤\u001b[39m\r\n",
      "\u001b[90m│\u001b[39m python_1 \u001b[90m│\u001b[39m Failed   \u001b[90m│\u001b[39m <p></p>  \u001b[90m│\u001b[39m [{\"inpu… \u001b[90m│\u001b[39m def      \u001b[90m│\u001b[39m def      \u001b[90m│\u001b[39m \u001b[31m[FAIL]\u001b[39m   \u001b[90m│\u001b[39m\r\n",
      "\u001b[90m│\u001b[39m          \u001b[90m│\u001b[39m test #1  \u001b[90m│\u001b[39m <p>Write \u001b[90m│\u001b[39m 4        \u001b[90m│\u001b[39m equatio… \u001b[90m│\u001b[39m equatio… \u001b[90m│\u001b[39m \u001b[31m\u001b[39m\u001b[31m\u001b[1mThe\u001b[22m\u001b[39m      \u001b[90m│\u001b[39m\r\n",
      "\u001b[90m│\u001b[39m          \u001b[90m│\u001b[39m of 3.    \u001b[90m│\u001b[39m a        \u001b[90m│\u001b[39m 3\",\"out… \u001b[90m│\u001b[39m b, c):   \u001b[90m│\u001b[39m b, c):   \u001b[90m│\u001b[39m \u001b[31m\u001b[1msubmiss\u001b[22m\u001b[39m… \u001b[90m│\u001b[39m\r\n",
      "\u001b[90m│\u001b[39m          \u001b[90m│\u001b[39m Wrong    \u001b[90m│\u001b[39m function \u001b[90m│\u001b[39m x + 4 =  \u001b[90m│\u001b[39m print(f… \u001b[90m│\u001b[39m     pri… \u001b[90m│\u001b[39m \u001b[31m\u001b[1mdoes not\u001b[22m\u001b[39m \u001b[90m│\u001b[39m\r\n",
      "\u001b[90m│\u001b[39m          \u001b[90m│\u001b[39m answer   \u001b[90m│\u001b[39m <code    \u001b[90m│\u001b[39m 3\"}]     \u001b[90m│\u001b[39m x + {b}  \u001b[90m│\u001b[39m 'x +',   \u001b[90m│\u001b[39m \u001b[31m\u001b[1mmeet the\u001b[22m\u001b[39m \u001b[90m│\u001b[39m\r\n",
      "\u001b[90m│\u001b[39m          \u001b[90m│\u001b[39m This is  \u001b[90m│\u001b[39m class=\"… \u001b[90m│\u001b[39m          \u001b[90m│\u001b[39m = {c}\")  \u001b[90m│\u001b[39m b, '=',  \u001b[90m│\u001b[39m \u001b[31m\u001b[1mcriteri\u001b[22m\u001b[39m… \u001b[90m│\u001b[39m\r\n",
      "\u001b[90m│\u001b[39m          \u001b[90m│\u001b[39m a sample \u001b[90m│\u001b[39m that     \u001b[90m│\u001b[39m          \u001b[90m│\u001b[39m          \u001b[90m│\u001b[39m c)       \u001b[90m│\u001b[39m \u001b[31m\u001b[1m1. The\u001b[22m\u001b[39m   \u001b[90m│\u001b[39m\r\n",
      "\u001b[90m│\u001b[39m          \u001b[90m│\u001b[39m test     \u001b[90m│\u001b[39m will     \u001b[90m│\u001b[39m          \u001b[90m│\u001b[39m          \u001b[90m│\u001b[39m # Sample \u001b[90m│\u001b[39m \u001b[31m\u001b[1mcriteri\u001b[22m\u001b[39m… \u001b[90m│\u001b[39m\r\n",
      "\u001b[90m│\u001b[39m          \u001b[90m│\u001b[39m from the \u001b[90m│\u001b[39m <strong… \u001b[90m│\u001b[39m          \u001b[90m│\u001b[39m          \u001b[90m│\u001b[39m Input 1: \u001b[90m│\u001b[39m \u001b[31m\u001b[1mrequires\u001b[22m\u001b[39m \u001b[90m│\u001b[39m\r\n",
      "\u001b[90m│\u001b[39m          \u001b[90m│\u001b[39m problem  \u001b[90m│\u001b[39m the      \u001b[90m│\u001b[39m          \u001b[90m│\u001b[39m          \u001b[90m│\u001b[39m equatio… \u001b[90m│\u001b[39m \u001b[31m\u001b[1mthe\u001b[22m\u001b[39m      \u001b[90m│\u001b[39m\r\n",
      "\u001b[90m│\u001b[39m          \u001b[90m│\u001b[39m stateme… \u001b[90m│\u001b[39m equation \u001b[90m│\u001b[39m          \u001b[90m│\u001b[39m          \u001b[90m│\u001b[39m 4, 3)    \u001b[90m│\u001b[39m \u001b[31m\u001b[1mfeedback\u001b[22m\u001b[39m \u001b[90m│\u001b[39m\r\n",
      "\u001b[90m│\u001b[39m          \u001b[90m│\u001b[39m Test     \u001b[90m│\u001b[39m in the   \u001b[90m│\u001b[39m          \u001b[90m│\u001b[39m          \u001b[90m│\u001b[39m          \u001b[90m│\u001b[39m \u001b[31m\u001b[1mto offer\u001b[22m\u001b[39m \u001b[90m│\u001b[39m\r\n",
      "\u001b[90m│\u001b[39m          \u001b[90m│\u001b[39m input:   \u001b[90m│\u001b[39m followi… \u001b[90m│\u001b[39m          \u001b[90m│\u001b[39m          \u001b[90m│\u001b[39m          \u001b[90m│\u001b[39m \u001b[31m\u001b[1mactiona\u001b[22m\u001b[39m… \u001b[90m│\u001b[39m\r\n",
      "\u001b[90m│\u001b[39m          \u001b[90m│\u001b[39m 3 4 3    \u001b[90m│\u001b[39m format:  \u001b[90m│\u001b[39m          \u001b[90m│\u001b[39m          \u001b[90m│\u001b[39m          \u001b[90m│\u001b[39m \u001b[31m\u001b[1madvice\u001b[22m\u001b[39m   \u001b[90m│\u001b[39m\r\n",
      "\u001b[90m│\u001b[39m          \u001b[90m│\u001b[39m Correct  \u001b[90m│\u001b[39m <code    \u001b[90m│\u001b[39m          \u001b[90m│\u001b[39m          \u001b[90m│\u001b[39m          \u001b[90m│\u001b[39m \u001b[31m\u001b[1mand\u001b[22m\u001b[39m      \u001b[90m│\u001b[39m\r\n",
      "\u001b[90m│\u001b[39m          \u001b[90m│\u001b[39m output:  \u001b[90m│\u001b[39m class=\"… \u001b[90m│\u001b[39m          \u001b[90m│\u001b[39m          \u001b[90m│\u001b[39m          \u001b[90m│\u001b[39m \u001b[31m\u001b[1mencoura\u001b[22m\u001b[39m… \u001b[90m│\u001b[39m\r\n",
      "\u001b[90m│\u001b[39m          \u001b[90m│\u001b[39m 3 x + 4  \u001b[90m│\u001b[39m x + b =  \u001b[90m│\u001b[39m          \u001b[90m│\u001b[39m          \u001b[90m│\u001b[39m          \u001b[90m│\u001b[39m \u001b[31m\u001b[1mbest\u001b[22m\u001b[39m     \u001b[90m│\u001b[39m\r\n",
      "\u001b[90m│\u001b[39m          \u001b[90m│\u001b[39m = 3      \u001b[90m│\u001b[39m c</code… \u001b[90m│\u001b[39m          \u001b[90m│\u001b[39m          \u001b[90m│\u001b[39m          \u001b[90m│\u001b[39m \u001b[31m\u001b[1mcoding\u001b[22m\u001b[39m   \u001b[90m│\u001b[39m\r\n",
      "\u001b[90m│\u001b[39m          \u001b[90m│\u001b[39m Your     \u001b[90m│\u001b[39m The      \u001b[90m│\u001b[39m          \u001b[90m│\u001b[39m          \u001b[90m│\u001b[39m          \u001b[90m│\u001b[39m \u001b[31m\u001b[1mpractic\u001b[22m\u001b[39m… \u001b[90m│\u001b[39m\r\n",
      "\u001b[90m│\u001b[39m          \u001b[90m│\u001b[39m code     \u001b[90m│\u001b[39m function \u001b[90m│\u001b[39m          \u001b[90m│\u001b[39m          \u001b[90m│\u001b[39m          \u001b[90m│\u001b[39m \u001b[31m\u001b[1m2. The\u001b[22m\u001b[39m   \u001b[90m│\u001b[39m\r\n",
      "\u001b[90m│\u001b[39m          \u001b[90m│\u001b[39m output:  \u001b[90m│\u001b[39m must     \u001b[90m│\u001b[39m          \u001b[90m│\u001b[39m          \u001b[90m│\u001b[39m          \u001b[90m│\u001b[39m \u001b[31m\u001b[1msubmiss\u001b[22m\u001b[39m… \u001b[90m│\u001b[39m\r",
      "\r\n",
      "\u001b[90m│\u001b[39m          \u001b[90m│\u001b[39m 3 x + 4  \u001b[90m│\u001b[39m take     \u001b[90m│\u001b[39m          \u001b[90m│\u001b[39m          \u001b[90m│\u001b[39m          \u001b[90m│\u001b[39m \u001b[31m\u001b[1msuggests\u001b[22m\u001b[39m \u001b[90m│\u001b[39m\r\n",
      "\u001b[90m│\u001b[39m          \u001b[90m│\u001b[39m = 3      \u001b[90m│\u001b[39m three    \u001b[90m│\u001b[39m          \u001b[90m│\u001b[39m          \u001b[90m│\u001b[39m          \u001b[90m│\u001b[39m \u001b[31m\u001b[1musing\u001b[22m\u001b[39m    \u001b[90m│\u001b[39m\r\n",
      "\u001b[90m│\u001b[39m          \u001b[90m│\u001b[39m 3 x + 4  \u001b[90m│\u001b[39m argumen… \u001b[90m│\u001b[39m          \u001b[90m│\u001b[39m          \u001b[90m│\u001b[39m          \u001b[90m│\u001b[39m \u001b[31m\u001b[1mf-string\u001b[22m\u001b[39m \u001b[90m│\u001b[39m\r\n",
      "\u001b[90m│\u001b[39m          \u001b[90m│\u001b[39m = 3      \u001b[90m│\u001b[39m <code    \u001b[90m│\u001b[39m          \u001b[90m│\u001b[39m          \u001b[90m│\u001b[39m          \u001b[90m│\u001b[39m \u001b[31m\u001b[1mformatt\u001b[22m\u001b[39m… \u001b[90m│\u001b[39m\r\n",
      "\u001b[90m│\u001b[39m          \u001b[90m│\u001b[39m          \u001b[90m│\u001b[39m class=\"… \u001b[90m│\u001b[39m          \u001b[90m│\u001b[39m          \u001b[90m│\u001b[39m          \u001b[90m│\u001b[39m \u001b[31m\u001b[1mto\u001b[22m\u001b[39m       \u001b[90m│\u001b[39m\r\n",
      "\u001b[90m│\u001b[39m          \u001b[90m│\u001b[39m          \u001b[90m│\u001b[39m          \u001b[90m│\u001b[39m          \u001b[90m│\u001b[39m          \u001b[90m│\u001b[39m          \u001b[90m│\u001b[39m \u001b[31m\u001b[1mcorrect\u001b[22m\u001b[39m  \u001b[90m│\u001b[39m\r\n",
      "\u001b[90m│\u001b[39m          \u001b[90m│\u001b[39m          \u001b[90m│\u001b[39m          \u001b[90m│\u001b[39m          \u001b[90m│\u001b[39m          \u001b[90m│\u001b[39m          \u001b[90m│\u001b[39m \u001b[31m\u001b[1mthe\u001b[22m\u001b[39m      \u001b[90m│\u001b[39m\r\n",
      "\u001b[90m│\u001b[39m          \u001b[90m│\u001b[39m          \u001b[90m│\u001b[39m          \u001b[90m│\u001b[39m          \u001b[90m│\u001b[39m          \u001b[90m│\u001b[39m          \u001b[90m│\u001b[39m \u001b[31m\u001b[1mstudent\u001b[22m\u001b[39m… \u001b[90m│\u001b[39m\r\n",
      "\u001b[90m│\u001b[39m          \u001b[90m│\u001b[39m          \u001b[90m│\u001b[39m          \u001b[90m│\u001b[39m          \u001b[90m│\u001b[39m          \u001b[90m│\u001b[39m          \u001b[90m│\u001b[39m \u001b[31m\u001b[1mcode,\u001b[22m\u001b[39m    \u001b[90m│\u001b[39m\r\n",
      "\u001b[90m│\u001b[39m          \u001b[90m│\u001b[39m          \u001b[90m│\u001b[39m          \u001b[90m│\u001b[39m          \u001b[90m│\u001b[39m          \u001b[90m│\u001b[39m          \u001b[90m│\u001b[39m \u001b[31m\u001b[1mwhich is\u001b[22m\u001b[39m \u001b[90m│\u001b[39m\r\n",
      "\u001b[90m│\u001b[39m          \u001b[90m│\u001b[39m          \u001b[90m│\u001b[39m          \u001b[90m│\u001b[39m          \u001b[90m│\u001b[39m          \u001b[90m│\u001b[39m          \u001b[90m│\u001b[39m \u001b[31m\u001b[1mindeed\u001b[22m\u001b[39m   \u001b[90m│\u001b[39m\r\n",
      "\u001b[90m│\u001b[39m          \u001b[90m│\u001b[39m          \u001b[90m│\u001b[39m          \u001b[90m│\u001b[39m          \u001b[90m│\u001b[39m          \u001b[90m│\u001b[39m          \u001b[90m│\u001b[39m \u001b[31m\u001b[1m...\u001b[22m\u001b[39m      \u001b[90m│\u001b[39m\r\n",
      "\u001b[90m├──────────\u001b[39m\u001b[90m┼──────────\u001b[39m\u001b[90m┼──────────\u001b[39m\u001b[90m┼──────────\u001b[39m\u001b[90m┼──────────\u001b[39m\u001b[90m┼──────────\u001b[39m\u001b[90m┼──────────┤\u001b[39m\r\n",
      "\u001b[90m│\u001b[39m python_2 \u001b[90m│\u001b[39m          \u001b[90m│\u001b[39m <p></p>… \u001b[90m│\u001b[39m [{\"inpu… \u001b[90m│\u001b[39m A, B, H  \u001b[90m│\u001b[39m a =      \u001b[90m│\u001b[39m \u001b[32m[PASS]\u001b[39m   \u001b[90m│\u001b[39m\r\n",
      "\u001b[90m│\u001b[39m          \u001b[90m│\u001b[39m          \u001b[90m│\u001b[39m learned  \u001b[90m│\u001b[39m          \u001b[90m│\u001b[39m =        \u001b[90m│\u001b[39m input()  \u001b[90m│\u001b[39m \u001b[32m\u001b[39mIn your  \u001b[90m│\u001b[39m\r\n",
      "\u001b[90m│\u001b[39m          \u001b[90m│\u001b[39m          \u001b[90m│\u001b[39m from a   \u001b[90m│\u001b[39m          \u001b[90m│\u001b[39m int(inp… \u001b[90m│\u001b[39m b =      \u001b[90m│\u001b[39m code,    \u001b[90m│\u001b[39m\r\n",
      "\u001b[90m│\u001b[39m          \u001b[90m│\u001b[39m          \u001b[90m│\u001b[39m health   \u001b[90m│\u001b[39m          \u001b[90m│\u001b[39m int(inp… \u001b[90m│\u001b[39m input()  \u001b[90m│\u001b[39m you are  \u001b[90m│\u001b[39m\r\n",
      "\u001b[90m│\u001b[39m          \u001b[90m│\u001b[39m          \u001b[90m│\u001b[39m TV       \u001b[90m│\u001b[39m          \u001b[90m│\u001b[39m int(inp… \u001b[90m│\u001b[39m h =      \u001b[90m│\u001b[39m using    \u001b[90m│\u001b[39m\r\n",
      "\u001b[90m│\u001b[39m          \u001b[90m│\u001b[39m          \u001b[90m│\u001b[39m program  \u001b[90m│\u001b[39m          \u001b[90m│\u001b[39m if H <   \u001b[90m│\u001b[39m input()  \u001b[90m│\u001b[39m the      \u001b[90m│\u001b[39m\r\n",
      "\u001b[90m│\u001b[39m          \u001b[90m│\u001b[39m          \u001b[90m│\u001b[39m that     \u001b[90m│\u001b[39m          \u001b[90m│\u001b[39m A:       \u001b[90m│\u001b[39m if h >=  \u001b[90m│\u001b[39m input()  \u001b[90m│\u001b[39m\r\n",
      "\u001b[90m│\u001b[39m          \u001b[90m│\u001b[39m          \u001b[90m│\u001b[39m it's     \u001b[90m│\u001b[39m          \u001b[90m│\u001b[39m print(\"… \u001b[90m│\u001b[39m a and h  \u001b[90m│\u001b[39m function \u001b[90m│\u001b[39m\r\n",
      "\u001b[90m│\u001b[39m          \u001b[90m│\u001b[39m          \u001b[90m│\u001b[39m ideal to \u001b[90m│\u001b[39m          \u001b[90m│\u001b[39m elif H > \u001b[90m│\u001b[39m <= b:    \u001b[90m│\u001b[39m to get   \u001b[90m│\u001b[39m\r\n",
      "\u001b[90m│\u001b[39m          \u001b[90m│\u001b[39m          \u001b[90m│\u001b[39m sleep a  \u001b[90m│\u001b[39m          \u001b[90m│\u001b[39m B:       \u001b[90m│\u001b[39m print(\"… \u001b[90m│\u001b[39m the      \u001b[90m│\u001b[39m\r\n",
      "\u001b[90m│\u001b[39m          \u001b[90m│\u001b[39m          \u001b[90m│\u001b[39m minimum  \u001b[90m│\u001b[39m          \u001b[90m│\u001b[39m print(\"… \u001b[90m│\u001b[39m else:    \u001b[90m│\u001b[39m values   \u001b[90m│\u001b[39m\r\n",
      "\u001b[90m│\u001b[39m          \u001b[90m│\u001b[39m          \u001b[90m│\u001b[39m of <code \u001b[90m│\u001b[39m          \u001b[90m│\u001b[39m else:    \u001b[90m│\u001b[39m     if … \u001b[90m│\u001b[39m of A, B, \u001b[90m│\u001b[39m\r\n",
      "\u001b[90m│\u001b[39m          \u001b[90m│\u001b[39m          \u001b[90m│\u001b[39m class=\"… \u001b[90m│\u001b[39m          \u001b[90m│\u001b[39m print(\"… \u001b[90m│\u001b[39m a:       \u001b[90m│\u001b[39m and H,   \u001b[90m│\u001b[39m\r\n",
      "\u001b[90m│\u001b[39m          \u001b[90m│\u001b[39m          \u001b[90m│\u001b[39m hours    \u001b[90m│\u001b[39m          \u001b[90m│\u001b[39m          \u001b[90m│\u001b[39m print(\"… \u001b[90m│\u001b[39m but you  \u001b[90m│\u001b[39m\r\n",
      "\u001b[90m│\u001b[39m          \u001b[90m│\u001b[39m          \u001b[90m│\u001b[39m daily    \u001b[90m│\u001b[39m          \u001b[90m│\u001b[39m          \u001b[90m│\u001b[39m     els… \u001b[90m│\u001b[39m are not  \u001b[90m│\u001b[39m\r\n",
      "\u001b[90m│\u001b[39m          \u001b[90m│\u001b[39m          \u001b[90m│\u001b[39m but not  \u001b[90m│\u001b[39m          \u001b[90m│\u001b[39m          \u001b[90m│\u001b[39m print(\"… \u001b[90m│\u001b[39m convert… \u001b[90m│\u001b[39m\r\n",
      "\u001b[90m│\u001b[39m          \u001b[90m│\u001b[39m          \u001b[90m│\u001b[39m to       \u001b[90m│\u001b[39m          \u001b[90m│\u001b[39m          \u001b[90m│\u001b[39m          \u001b[90m│\u001b[39m them to  \u001b[90m│\u001b[39m\r\n",
      "\u001b[90m│\u001b[39m          \u001b[90m│\u001b[39m          \u001b[90m│\u001b[39m exceed   \u001b[90m│\u001b[39m          \u001b[90m│\u001b[39m          \u001b[90m│\u001b[39m          \u001b[90m│\u001b[39m integer… \u001b[90m│\u001b[39m\r\n",
      "\u001b[90m│\u001b[39m          \u001b[90m│\u001b[39m          \u001b[90m│\u001b[39m <code    \u001b[90m│\u001b[39m          \u001b[90m│\u001b[39m          \u001b[90m│\u001b[39m          \u001b[90m│\u001b[39m This     \u001b[90m│\u001b[39m\r\n",
      "\u001b[90m│\u001b[39m          \u001b[90m│\u001b[39m          \u001b[90m│\u001b[39m class=\"… \u001b[90m│\u001b[39m          \u001b[90m│\u001b[39m          \u001b[90m│\u001b[39m          \u001b[90m│\u001b[39m will     \u001b[90m│\u001b[39m\r\n",
      "\u001b[90m│\u001b[39m          \u001b[90m│\u001b[39m          \u001b[90m│\u001b[39m hours.   \u001b[90m│\u001b[39m          \u001b[90m│\u001b[39m          \u001b[90m│\u001b[39m          \u001b[90m│\u001b[39m cause    \u001b[90m│\u001b[39m\r\n",
      "\u001b[90m│\u001b[39m          \u001b[90m│\u001b[39m          \u001b[90m│\u001b[39m Ann      \u001b[90m│\u001b[39m          \u001b[90m│\u001b[39m          \u001b[90m│\u001b[39m          \u001b[90m│\u001b[39m issues   \u001b[90m│\u001b[39m\r\n",
      "\u001b[90m│\u001b[39m          \u001b[90m│\u001b[39m          \u001b[90m│\u001b[39m current… \u001b[90m│\u001b[39m          \u001b[90m│\u001b[39m          \u001b[90m│\u001b[39m          \u001b[90m│\u001b[39m when     \u001b[90m│\u001b[39m\r\n",
      "\u001b[90m│\u001b[39m          \u001b[90m│\u001b[39m          \u001b[90m│\u001b[39m sleeps   \u001b[90m│\u001b[39m          \u001b[90m│\u001b[39m          \u001b[90m│\u001b[39m          \u001b[90m│\u001b[39m compari… \u001b[90m│\u001b[39m\r\n",
      "\u001b[90m│\u001b[39m          \u001b[90m│\u001b[39m          \u001b[90m│\u001b[39m for      \u001b[90m│\u001b[39m          \u001b[90m│\u001b[39m          \u001b[90m│\u001b[39m          \u001b[90m│\u001b[39m them as  \u001b[90m│\u001b[39m\r\n",
      "\u001b[90m│\u001b[39m          \u001b[90m│\u001b[39m          \u001b[90m│\u001b[39m <code    \u001b[90m│\u001b[39m          \u001b[90m│\u001b[39m          \u001b[90m│\u001b[39m          \u001b[90m│\u001b[39m strings. \u001b[90m│\u001b[39m\r\n",
      "\u001b[90m│\u001b[39m          \u001b[90m│\u001b[39m          \u001b[90m│\u001b[39m class=\"… \u001b[90m│\u001b[39m          \u001b[90m│\u001b[39m          \u001b[90m│\u001b[39m          \u001b[90m│\u001b[39m To fix   \u001b[90m│\u001b[39m\r\n",
      "\u001b[90m│\u001b[39m          \u001b[90m│\u001b[39m          \u001b[90m│\u001b[39m hours    \u001b[90m│\u001b[39m          \u001b[90m│\u001b[39m          \u001b[90m│\u001b[39m          \u001b[90m│\u001b[39m this,    \u001b[90m│\u001b[39m\r\n",
      "\u001b[90m│\u001b[39m          \u001b[90m│\u001b[39m          \u001b[90m│\u001b[39m each day \u001b[90m│\u001b[39m          \u001b[90m│\u001b[39m          \u001b[90m│\u001b[39m          \u001b[90m│\u001b[39m you      \u001b[90m│\u001b[39m\r\n",
      "\u001b[90m│\u001b[39m          \u001b[90m│\u001b[39m          \u001b[90m│\u001b[39m a...     \u001b[90m│\u001b[39m          \u001b[90m│\u001b[39m          \u001b[90m│\u001b[39m          \u001b[90m│\u001b[39m should   \u001b[90m│\u001b[39m\r\n",
      "\u001b[90m│\u001b[39m          \u001b[90m│\u001b[39m          \u001b[90m│\u001b[39m          \u001b[90m│\u001b[39m          \u001b[90m│\u001b[39m          \u001b[90m│\u001b[39m          \u001b[90m│\u001b[39m convert  \u001b[90m│\u001b[39m\r\n",
      "\u001b[90m│\u001b[39m          \u001b[90m│\u001b[39m          \u001b[90m│\u001b[39m          \u001b[90m│\u001b[39m          \u001b[90m│\u001b[39m          \u001b[90m│\u001b[39m          \u001b[90m│\u001b[39m the      \u001b[90m│\u001b[39m\r\n",
      "\u001b[90m│\u001b[39m          \u001b[90m│\u001b[39m          \u001b[90m│\u001b[39m          \u001b[90m│\u001b[39m          \u001b[90m│\u001b[39m          \u001b[90m│\u001b[39m          \u001b[90m│\u001b[39m inputs   \u001b[90m│\u001b[39m\r\n",
      "\u001b[90m│\u001b[39m          \u001b[90m│\u001b[39m          \u001b[90m│\u001b[39m          \u001b[90m│\u001b[39m          \u001b[90m│\u001b[39m          \u001b[90m│\u001b[39m          \u001b[90m│\u001b[39m to       \u001b[90m│\u001b[39m\r\n",
      "\u001b[90m│\u001b[39m          \u001b[90m│\u001b[39m          \u001b[90m│\u001b[39m          \u001b[90m│\u001b[39m          \u001b[90m│\u001b[39m          \u001b[90m│\u001b[39m          \u001b[90m│\u001b[39m integers \u001b[90m│\u001b[39m\r\n",
      "\u001b[90m│\u001b[39m          \u001b[90m│\u001b[39m          \u001b[90m│\u001b[39m          \u001b[90m│\u001b[39m          \u001b[90m│\u001b[39m          \u001b[90m│\u001b[39m          \u001b[90m│\u001b[39m like     \u001b[90m│\u001b[39m\r\n",
      "\u001b[90m│\u001b[39m          \u001b[90m│\u001b[39m          \u001b[90m│\u001b[39m          \u001b[90m│\u001b[39m          \u001b[90m│\u001b[39m          \u001b[90m│\u001b[39m          \u001b[90m│\u001b[39m th...    \u001b[90m│\u001b[39m\r\n",
      "\u001b[90m├──────────\u001b[39m\u001b[90m┼──────────\u001b[39m\u001b[90m┼──────────\u001b[39m\u001b[90m┼──────────\u001b[39m\u001b[90m┼──────────\u001b[39m\u001b[90m┼──────────\u001b[39m\u001b[90m┼──────────┤\u001b[39m\r\n",
      "\u001b[90m│\u001b[39m python_3 \u001b[90m│\u001b[39m Failed   \u001b[90m│\u001b[39m <p></p>… \u001b[90m│\u001b[39m [{\"inpu… \u001b[90m│\u001b[39m scores = \u001b[90m│\u001b[39m scores = \u001b[90m│\u001b[39m \u001b[32m[PASS]\u001b[39m   \u001b[90m│\u001b[39m\r\n",
      "\u001b[90m│\u001b[39m          \u001b[90m│\u001b[39m test #1  \u001b[90m│\u001b[39m online   \u001b[90m│\u001b[39m C C I C  \u001b[90m│\u001b[39m input()… \u001b[90m│\u001b[39m input()… \u001b[90m│\u001b[39m \u001b[32m\u001b[39mIn your  \u001b[90m│\u001b[39m\r\n",
      "\u001b[90m│\u001b[39m          \u001b[90m│\u001b[39m of 17.   \u001b[90m│\u001b[39m test     \u001b[90m│\u001b[39m C C C I  \u001b[90m│\u001b[39m # put    \u001b[90m│\u001b[39m # put    \u001b[90m│\u001b[39m code,    \u001b[90m│\u001b[39m\r\n",
      "\u001b[90m│\u001b[39m          \u001b[90m│\u001b[39m Runtime  \u001b[90m│\u001b[39m games,   \u001b[90m│\u001b[39m I C C C  \u001b[90m│\u001b[39m your     \u001b[90m│\u001b[39m your     \u001b[90m│\u001b[39m you are  \u001b[90m│\u001b[39m\r\n",
      "\u001b[90m│\u001b[39m          \u001b[90m│\u001b[39m error    \u001b[90m│\u001b[39m there is \u001b[90m│\u001b[39m C C C C  \u001b[90m│\u001b[39m python   \u001b[90m│\u001b[39m python   \u001b[90m│\u001b[39m using    \u001b[90m│\u001b[39m\r\n",
      "\u001b[90m│\u001b[39m          \u001b[90m│\u001b[39m This is  \u001b[90m│\u001b[39m usually  \u001b[90m│\u001b[39m C        \u001b[90m│\u001b[39m code     \u001b[90m│\u001b[39m code     \u001b[90m│\u001b[39m the      \u001b[90m│\u001b[39m\r\n",
      "\u001b[90m│\u001b[39m          \u001b[90m│\u001b[39m a sample \u001b[90m│\u001b[39m a        \u001b[90m│\u001b[39m C\",\"out… \u001b[90m│\u001b[39m here     \u001b[90m│\u001b[39m here     \u001b[90m│\u001b[39m assignm… \u001b[90m│\u001b[39m\r\n",
      "\u001b[90m│\u001b[39m          \u001b[90m│\u001b[39m test     \u001b[90m│\u001b[39m limited  \u001b[90m│\u001b[39m over\\n7… \u001b[90m│\u001b[39m lives =  \u001b[90m│\u001b[39m score_s… \u001b[90m│\u001b[39m operator \u001b[90m│\u001b[39m\r\n",
      "\u001b[90m│\u001b[39m          \u001b[90m│\u001b[39m from the \u001b[90m│\u001b[39m number   \u001b[90m│\u001b[39m          \u001b[90m│\u001b[39m 3        \u001b[90m│\u001b[39m = 0      \u001b[90m│\u001b[39m '='      \u001b[90m│\u001b[39m\r\n",
      "\u001b[90m│\u001b[39m          \u001b[90m│\u001b[39m problem  \u001b[90m│\u001b[39m of       \u001b[90m│\u001b[39m          \u001b[90m│\u001b[39m final_s… \u001b[90m│\u001b[39m mistake… \u001b[90m│\u001b[39m instead  \u001b[90m│\u001b[39m\r\n",
      "\u001b[90m│\u001b[39m          \u001b[90m│\u001b[39m stateme… \u001b[90m│\u001b[39m lives:   \u001b[90m│\u001b[39m          \u001b[90m│\u001b[39m = 0      \u001b[90m│\u001b[39m = 0      \u001b[90m│\u001b[39m of the   \u001b[90m│\u001b[39m\r\n",
      "\u001b[90m│\u001b[39m          \u001b[90m│\u001b[39m Test     \u001b[90m│\u001b[39m if, for  \u001b[90m│\u001b[39m          \u001b[90m│\u001b[39m for i in \u001b[90m│\u001b[39m for      \u001b[90m│\u001b[39m compari… \u001b[90m│\u001b[39m\r\n",
      "\u001b[90m│\u001b[39m          \u001b[90m│\u001b[39m input:   \u001b[90m│\u001b[39m example, \u001b[90m│\u001b[39m          \u001b[90m│\u001b[39m scores:  \u001b[90m│\u001b[39m score in \u001b[90m│\u001b[39m operator \u001b[90m│\u001b[39m\r\n",
      "\u001b[90m│\u001b[39m          \u001b[90m│\u001b[39m C C C I  \u001b[90m│\u001b[39m you make \u001b[90m│\u001b[39m          \u001b[90m│\u001b[39m     liv… \u001b[90m│\u001b[39m scores:  \u001b[90m│\u001b[39m '=='     \u001b[90m│\u001b[39m\r\n",
      "\u001b[90m│\u001b[39m          \u001b[90m│\u001b[39m C C C C  \u001b[90m│\u001b[39m 3        \u001b[90m│\u001b[39m          \u001b[90m│\u001b[39m i == \"I\" \u001b[90m│\u001b[39m     if … \u001b[90m│\u001b[39m when     \u001b[90m│\u001b[39m\r\n",
      "\u001b[90m│\u001b[39m          \u001b[90m│\u001b[39m I I C C  \u001b[90m│\u001b[39m mistake… \u001b[90m│\u001b[39m          \u001b[90m│\u001b[39m final_s… \u001b[90m│\u001b[39m = 'C':   \u001b[90m│\u001b[39m checking \u001b[90m│\u001b[39m\r\n",
      "\u001b[90m│\u001b[39m          \u001b[90m│\u001b[39m C C C C  \u001b[90m│\u001b[39m you      \u001b[90m│\u001b[39m          \u001b[90m│\u001b[39m += i ==  \u001b[90m│\u001b[39m score_s… \u001b[90m│\u001b[39m the      \u001b[90m│\u001b[39m\r\n",
      "\u001b[90m│\u001b[39m          \u001b[90m│\u001b[39m C C C    \u001b[90m│\u001b[39m lose,    \u001b[90m│\u001b[39m          \u001b[90m│\u001b[39m \"C\"      \u001b[90m│\u001b[39m        … \u001b[90m│\u001b[39m value of \u001b[90m│\u001b[39m\r\n",
      "\u001b[90m│\u001b[39m          \u001b[90m│\u001b[39m Correct  \u001b[90m│\u001b[39m and      \u001b[90m│\u001b[39m          \u001b[90m│\u001b[39m     if … \u001b[90m│\u001b[39m     els… \u001b[90m│\u001b[39m 'score'. \u001b[90m│\u001b[39m\r\n",
      "\u001b[90m│\u001b[39m          \u001b[90m│\u001b[39m output:  \u001b[90m│\u001b[39m cannot   \u001b[90m│\u001b[39m          \u001b[90m│\u001b[39m <= 0:    \u001b[90m│\u001b[39m mistake… \u001b[90m│\u001b[39m To fix   \u001b[90m│\u001b[39m\r\n",
      "\u001b[90m│\u001b[39m          \u001b[90m│\u001b[39m Game     \u001b[90m│\u001b[39m continue \u001b[90m│\u001b[39m          \u001b[90m│\u001b[39m print(\"… \u001b[90m│\u001b[39m        … \u001b[90m│\u001b[39m this     \u001b[90m│\u001b[39m\r\n",
      "\u001b[90m│\u001b[39m          \u001b[90m│\u001b[39m over     \u001b[90m│\u001b[39m with the \u001b[90m│\u001b[39m          \u001b[90m│\u001b[39m over\")   \u001b[90m│\u001b[39m mistake… \u001b[90m│\u001b[39m error,   \u001b[90m│\u001b[39m\r\n",
      "\u001b[90m│\u001b[39m          \u001b[90m│\u001b[39m 7        \u001b[90m│\u001b[39m game.    \u001b[90m│\u001b[39m          \u001b[90m│\u001b[39m        … \u001b[90m│\u001b[39m        … \u001b[90m│\u001b[39m you      \u001b[90m│\u001b[39m\r\n",
      "\u001b[90m│\u001b[39m          \u001b[90m│\u001b[39m Your     \u001b[90m│\u001b[39m Let's    \u001b[90m│\u001b[39m          \u001b[90m│\u001b[39m else:    \u001b[90m│\u001b[39m       .… \u001b[90m│\u001b[39m should   \u001b[90m│\u001b[39m\r\n",
      "\u001b[90m│\u001b[39m          \u001b[90m│\u001b[39m code     \u001b[90m│\u001b[39m try to   \u001b[90m│\u001b[39m          \u001b[90m│\u001b[39m print(\"… \u001b[90m│\u001b[39m          \u001b[90m│\u001b[39m change   \u001b[90m│\u001b[39m\r\n",
      "\u001b[90m│\u001b[39m          \u001b[90m│\u001b[39m output:  \u001b[90m│\u001b[39m impleme… \u001b[90m│\u001b[39m          \u001b[90m│\u001b[39m won\")    \u001b[90m│\u001b[39m          \u001b[90m│\u001b[39m 'if      \u001b[90m│\u001b[39m\r\n",
      "\u001b[90m│\u001b[39m          \u001b[90m│\u001b[39m Error:   \u001b[90m│\u001b[39m this     \u001b[90m│\u001b[39m          \u001b[90m│\u001b[39m print(f… \u001b[90m│\u001b[39m          \u001b[90m│\u001b[39m score =  \u001b[90m│\u001b[39m\r\n",
      "\u001b[90m│\u001b[39m          \u001b[90m│\u001b[39m   File   \u001b[90m│\u001b[39m system.… \u001b[90m│\u001b[39m          \u001b[90m│\u001b[39m          \u001b[90m│\u001b[39m          \u001b[90m│\u001b[39m 'C':' to \u001b[90m│\u001b[39m\r\n",
      "\u001b[90m│\u001b[39m          \u001b[90m│\u001b[39m \"/sandb… \u001b[90m│\u001b[39m the line \u001b[90m│\u001b[39m          \u001b[90m│\u001b[39m          \u001b[90m│\u001b[39m          \u001b[90m│\u001b[39m 'if      \u001b[90m│\u001b[39m\r\n",
      "\u001b[90m│\u001b[39m          \u001b[90m│\u001b[39m line 7   \u001b[90m│\u001b[39m with     \u001b[90m│\u001b[39m          \u001b[90m│\u001b[39m          \u001b[90m│\u001b[39m          \u001b[90m│\u001b[39m score == \u001b[90m│\u001b[39m\r\n",
      "\u001b[90m│\u001b[39m          \u001b[90m│\u001b[39m     if … \u001b[90m│\u001b[39m user     \u001b[90m│\u001b[39m          \u001b[90m│\u001b[39m          \u001b[90m│\u001b[39m          \u001b[90m│\u001b[39m 'C':' in \u001b[90m│\u001b[39m\r\n",
      "\u001b[90m│\u001b[39m          \u001b[90m│\u001b[39m =        \u001b[90m│\u001b[39m answers  \u001b[90m│\u001b[39m          \u001b[90m│\u001b[39m          \u001b[90m│\u001b[39m          \u001b[90m│\u001b[39m your     \u001b[90m│\u001b[39m\r\n",
      "\u001b[90m│\u001b[39m          \u001b[90m│\u001b[39m 'C':...  \u001b[90m│\u001b[39m from the \u001b[90m│\u001b[39m          \u001b[90m│\u001b[39m          \u001b[90m│\u001b[39m          \u001b[90m│\u001b[39m code.    \u001b[90m│\u001b[39m\r\n",
      "\u001b[90m│\u001b[39m          \u001b[90m│\u001b[39m          \u001b[90m│\u001b[39m ...      \u001b[90m│\u001b[39m          \u001b[90m│\u001b[39m          \u001b[90m│\u001b[39m          \u001b[90m│\u001b[39m Additio… \u001b[90m│\u001b[39m\r\n",
      "\u001b[90m│\u001b[39m          \u001b[90m│\u001b[39m          \u001b[90m│\u001b[39m          \u001b[90m│\u001b[39m          \u001b[90m│\u001b[39m          \u001b[90m│\u001b[39m          \u001b[90m│\u001b[39m you      \u001b[90m│\u001b[39m\r\n",
      "\u001b[90m│\u001b[39m          \u001b[90m│\u001b[39m          \u001b[90m│\u001b[39m          \u001b[90m│\u001b[39m          \u001b[90m│\u001b[39m          \u001b[90m│\u001b[39m          \u001b[90m│\u001b[39m can...   \u001b[90m│\u001b[39m\r\n",
      "\u001b[90m├──────────\u001b[39m\u001b[90m┼──────────\u001b[39m\u001b[90m┼──────────\u001b[39m\u001b[90m┼──────────\u001b[39m\u001b[90m┼──────────\u001b[39m\u001b[90m┼──────────\u001b[39m\u001b[90m┼──────────┤\u001b[39m\r\n",
      "\u001b[90m│\u001b[39m python_4 \u001b[90m│\u001b[39m Failed   \u001b[90m│\u001b[39m <p>Imag… \u001b[90m│\u001b[39m [{\"inpu… \u001b[90m│\u001b[39m film_ti… \u001b[90m│\u001b[39m print(w… \u001b[90m│\u001b[39m \u001b[32m[PASS]\u001b[39m   \u001b[90m│\u001b[39m\r\n",
      "\u001b[90m│\u001b[39m          \u001b[90m│\u001b[39m test #1  \u001b[90m│\u001b[39m that you \u001b[90m│\u001b[39m lion     \u001b[90m│\u001b[39m =        \u001b[90m│\u001b[39m          \u001b[90m│\u001b[39m \u001b[32m\u001b[39mIt seems \u001b[90m│\u001b[39m\r\n",
      "\u001b[90m│\u001b[39m          \u001b[90m│\u001b[39m of 7.    \u001b[90m│\u001b[39m design   \u001b[90m│\u001b[39m king\",\"… \u001b[90m│\u001b[39m str(inp… \u001b[90m│\u001b[39m          \u001b[90m│\u001b[39m like you \u001b[90m│\u001b[39m\r\n",
      "\u001b[90m│\u001b[39m          \u001b[90m│\u001b[39m Runtime  \u001b[90m│\u001b[39m film     \u001b[90m│\u001b[39m LION     \u001b[90m│\u001b[39m print(f… \u001b[90m│\u001b[39m          \u001b[90m│\u001b[39m are      \u001b[90m│\u001b[39m\r\n",
      "\u001b[90m│\u001b[39m          \u001b[90m│\u001b[39m error    \u001b[90m│\u001b[39m posters  \u001b[90m│\u001b[39m KING\"}]  \u001b[90m│\u001b[39m          \u001b[90m│\u001b[39m          \u001b[90m│\u001b[39m getting  \u001b[90m│\u001b[39m\r\n",
      "\u001b[90m│\u001b[39m          \u001b[90m│\u001b[39m This is  \u001b[90m│\u001b[39m for a    \u001b[90m│\u001b[39m          \u001b[90m│\u001b[39m          \u001b[90m│\u001b[39m          \u001b[90m│\u001b[39m a        \u001b[90m│\u001b[39m\r\n",
      "\u001b[90m│\u001b[39m          \u001b[90m│\u001b[39m a sample \u001b[90m│\u001b[39m living.  \u001b[90m│\u001b[39m          \u001b[90m│\u001b[39m          \u001b[90m│\u001b[39m          \u001b[90m│\u001b[39m runtime  \u001b[90m│\u001b[39m\r\n",
      "\u001b[90m│\u001b[39m          \u001b[90m│\u001b[39m test     \u001b[90m│\u001b[39m Write a  \u001b[90m│\u001b[39m          \u001b[90m│\u001b[39m          \u001b[90m│\u001b[39m          \u001b[90m│\u001b[39m error    \u001b[90m│\u001b[39m\r\n",
      "\u001b[90m│\u001b[39m          \u001b[90m│\u001b[39m from the \u001b[90m│\u001b[39m program  \u001b[90m│\u001b[39m          \u001b[90m│\u001b[39m          \u001b[90m│\u001b[39m          \u001b[90m│\u001b[39m because  \u001b[90m│\u001b[39m\r\n",
      "\u001b[90m│\u001b[39m          \u001b[90m│\u001b[39m problem  \u001b[90m│\u001b[39m that     \u001b[90m│\u001b[39m          \u001b[90m│\u001b[39m          \u001b[90m│\u001b[39m          \u001b[90m│\u001b[39m the      \u001b[90m│\u001b[39m\r\n",
      "\u001b[90m│\u001b[39m          \u001b[90m│\u001b[39m stateme… \u001b[90m│\u001b[39m prints   \u001b[90m│\u001b[39m          \u001b[90m│\u001b[39m          \u001b[90m│\u001b[39m          \u001b[90m│\u001b[39m variable \u001b[90m│\u001b[39m\r\n",
      "\u001b[90m│\u001b[39m          \u001b[90m│\u001b[39m Test     \u001b[90m│\u001b[39m each     \u001b[90m│\u001b[39m          \u001b[90m│\u001b[39m          \u001b[90m│\u001b[39m          \u001b[90m│\u001b[39m 'word'   \u001b[90m│\u001b[39m\r\n",
      "\u001b[90m│\u001b[39m          \u001b[90m│\u001b[39m input:   \u001b[90m│\u001b[39m film     \u001b[90m│\u001b[39m          \u001b[90m│\u001b[39m          \u001b[90m│\u001b[39m          \u001b[90m│\u001b[39m is not   \u001b[90m│\u001b[39m\r\n",
      "\u001b[90m│\u001b[39m          \u001b[90m│\u001b[39m the lion \u001b[90m│\u001b[39m title in \u001b[90m│\u001b[39m          \u001b[90m│\u001b[39m          \u001b[90m│\u001b[39m          \u001b[90m│\u001b[39m defined  \u001b[90m│\u001b[39m\r\n",
      "\u001b[90m│\u001b[39m          \u001b[90m│\u001b[39m king     \u001b[90m│\u001b[39m all      \u001b[90m│\u001b[39m          \u001b[90m│\u001b[39m          \u001b[90m│\u001b[39m          \u001b[90m│\u001b[39m in your  \u001b[90m│\u001b[39m\r\n",
      "\u001b[90m│\u001b[39m          \u001b[90m│\u001b[39m Correct  \u001b[90m│\u001b[39m caps.</… \u001b[90m│\u001b[39m          \u001b[90m│\u001b[39m          \u001b[90m│\u001b[39m          \u001b[90m│\u001b[39m code.    \u001b[90m│\u001b[39m\r\n",
      "\u001b[90m│\u001b[39m          \u001b[90m│\u001b[39m output:  \u001b[90m│\u001b[39m          \u001b[90m│\u001b[39m          \u001b[90m│\u001b[39m          \u001b[90m│\u001b[39m          \u001b[90m│\u001b[39m The      \u001b[90m│\u001b[39m\r\n",
      "\u001b[90m│\u001b[39m          \u001b[90m│\u001b[39m THE LION \u001b[90m│\u001b[39m          \u001b[90m│\u001b[39m          \u001b[90m│\u001b[39m          \u001b[90m│\u001b[39m          \u001b[90m│\u001b[39m correct  \u001b[90m│\u001b[39m\r\n",
      "\u001b[90m│\u001b[39m          \u001b[90m│\u001b[39m KING     \u001b[90m│\u001b[39m          \u001b[90m│\u001b[39m          \u001b[90m│\u001b[39m          \u001b[90m│\u001b[39m          \u001b[90m│\u001b[39m way to   \u001b[90m│\u001b[39m\r\n",
      "\u001b[90m│\u001b[39m          \u001b[90m│\u001b[39m Your     \u001b[90m│\u001b[39m          \u001b[90m│\u001b[39m          \u001b[90m│\u001b[39m          \u001b[90m│\u001b[39m          \u001b[90m│\u001b[39m get the  \u001b[90m│\u001b[39m\r\n",
      "\u001b[90m│\u001b[39m          \u001b[90m│\u001b[39m code     \u001b[90m│\u001b[39m          \u001b[90m│\u001b[39m          \u001b[90m│\u001b[39m          \u001b[90m│\u001b[39m          \u001b[90m│\u001b[39m film     \u001b[90m│\u001b[39m\r\n",
      "\u001b[90m│\u001b[39m          \u001b[90m│\u001b[39m output:  \u001b[90m│\u001b[39m          \u001b[90m│\u001b[39m          \u001b[90m│\u001b[39m          \u001b[90m│\u001b[39m          \u001b[90m│\u001b[39m title    \u001b[90m│\u001b[39m\r\n",
      "\u001b[90m│\u001b[39m          \u001b[90m│\u001b[39m Error:   \u001b[90m│\u001b[39m          \u001b[90m│\u001b[39m          \u001b[90m│\u001b[39m          \u001b[90m│\u001b[39m          \u001b[90m│\u001b[39m input    \u001b[90m│\u001b[39m\r\n",
      "\u001b[90m│\u001b[39m          \u001b[90m│\u001b[39m Traceba… \u001b[90m│\u001b[39m          \u001b[90m│\u001b[39m          \u001b[90m│\u001b[39m          \u001b[90m│\u001b[39m          \u001b[90m│\u001b[39m from the \u001b[90m│\u001b[39m\r\n",
      "\u001b[90m│\u001b[39m          \u001b[90m│\u001b[39m (most    \u001b[90m│\u001b[39m          \u001b[90m│\u001b[39m          \u001b[90m│\u001b[39m          \u001b[90m│\u001b[39m          \u001b[90m│\u001b[39m user is  \u001b[90m│\u001b[39m\r\n",
      "\u001b[90m│\u001b[39m          \u001b[90m│\u001b[39m recent   \u001b[90m│\u001b[39m          \u001b[90m│\u001b[39m          \u001b[90m│\u001b[39m          \u001b[90m│\u001b[39m          \u001b[90m│\u001b[39m to use   \u001b[90m│\u001b[39m\r\n",
      "\u001b[90m│\u001b[39m          \u001b[90m│\u001b[39m call     \u001b[90m│\u001b[39m          \u001b[90m│\u001b[39m          \u001b[90m│\u001b[39m          \u001b[90m│\u001b[39m          \u001b[90m│\u001b[39m the      \u001b[90m│\u001b[39m\r\n",
      "\u001b[90m│\u001b[39m          \u001b[90m│\u001b[39m last):   \u001b[90m│\u001b[39m          \u001b[90m│\u001b[39m          \u001b[90m│\u001b[39m          \u001b[90m│\u001b[39m          \u001b[90m│\u001b[39m 'input(… \u001b[90m│\u001b[39m\r\n",
      "\u001b[90m│\u001b[39m          \u001b[90m│\u001b[39m   File   \u001b[90m│\u001b[39m          \u001b[90m│\u001b[39m          \u001b[90m│\u001b[39m          \u001b[90m│\u001b[39m          \u001b[90m│\u001b[39m function \u001b[90m│\u001b[39m\r\n",
      "\u001b[90m│\u001b[39m          \u001b[90m│\u001b[39m \"/sandb… \u001b[90m│\u001b[39m          \u001b[90m│\u001b[39m          \u001b[90m│\u001b[39m          \u001b[90m│\u001b[39m          \u001b[90m│\u001b[39m and      \u001b[90m│\u001b[39m\r\n",
      "\u001b[90m│\u001b[39m          \u001b[90m│\u001b[39m line 1,  \u001b[90m│\u001b[39m          \u001b[90m│\u001b[39m          \u001b[90m│\u001b[39m          \u001b[90m│\u001b[39m          \u001b[90m│\u001b[39m store it \u001b[90m│\u001b[39m\r\n",
      "\u001b[90m│\u001b[39m          \u001b[90m│\u001b[39m in       \u001b[90m│\u001b[39m          \u001b[90m│\u001b[39m          \u001b[90m│\u001b[39m          \u001b[90m│\u001b[39m          \u001b[90m│\u001b[39m in a     \u001b[90m│\u001b[39m\r\n",
      "\u001b[90m│\u001b[39m          \u001b[90m│\u001b[39m <mo...   \u001b[90m│\u001b[39m          \u001b[90m│\u001b[39m          \u001b[90m│\u001b[39m          \u001b[90m│\u001b[39m          \u001b[90m│\u001b[39m variable \u001b[90m│\u001b[39m\r\n",
      "\u001b[90m│\u001b[39m          \u001b[90m│\u001b[39m          \u001b[90m│\u001b[39m          \u001b[90m│\u001b[39m          \u001b[90m│\u001b[39m          \u001b[90m│\u001b[39m          \u001b[90m│\u001b[39m like     \u001b[90m│\u001b[39m\r\n",
      "\u001b[90m│\u001b[39m          \u001b[90m│\u001b[39m          \u001b[90m│\u001b[39m          \u001b[90m│\u001b[39m          \u001b[90m│\u001b[39m          \u001b[90m│\u001b[39m          \u001b[90m│\u001b[39m 'film_t… \u001b[90m│\u001b[39m\r\n",
      "\u001b[90m│\u001b[39m          \u001b[90m│\u001b[39m          \u001b[90m│\u001b[39m          \u001b[90m│\u001b[39m          \u001b[90m│\u001b[39m          \u001b[90m│\u001b[39m          \u001b[90m│\u001b[39m Then     \u001b[90m│\u001b[39m\r\n",
      "\u001b[90m│\u001b[39m          \u001b[90m│\u001b[39m          \u001b[90m│\u001b[39m          \u001b[90m│\u001b[39m          \u001b[90m│\u001b[39m          \u001b[90m│\u001b[39m          \u001b[90m│\u001b[39m yo...    \u001b[90m│\u001b[39m\r\n",
      "\u001b[90m├──────────\u001b[39m\u001b[90m┼──────────\u001b[39m\u001b[90m┼──────────\u001b[39m\u001b[90m┼──────────\u001b[39m\u001b[90m┼──────────\u001b[39m\u001b[90m┼──────────\u001b[39m\u001b[90m┼──────────┤\u001b[39m\r\n",
      "\u001b[90m│\u001b[39m python_5 \u001b[90m│\u001b[39m Failed   \u001b[90m│\u001b[39m <p>When  \u001b[90m│\u001b[39m [{\"inpu… \u001b[90m│\u001b[39m # put    \u001b[90m│\u001b[39m sentence \u001b[90m│\u001b[39m \u001b[32m[PASS]\u001b[39m   \u001b[90m│\u001b[39m\r\n",
      "\u001b[90m│\u001b[39m          \u001b[90m│\u001b[39m test #1  \u001b[90m│\u001b[39m Anton    \u001b[90m│\u001b[39m aa abC   \u001b[90m│\u001b[39m your     \u001b[90m│\u001b[39m =        \u001b[90m│\u001b[39m \u001b[32m\u001b[39mIn your  \u001b[90m│\u001b[39m\r\n",
      "\u001b[90m│\u001b[39m          \u001b[90m│\u001b[39m of 21.   \u001b[90m│\u001b[39m finished \u001b[90m│\u001b[39m aa ac    \u001b[90m│\u001b[39m python   \u001b[90m│\u001b[39m str(inp… \u001b[90m│\u001b[39m code,    \u001b[90m│\u001b[39m\r\n",
      "\u001b[90m│\u001b[39m          \u001b[90m│\u001b[39m Wrong    \u001b[90m│\u001b[39m reading  \u001b[90m│\u001b[39m abc bcd  \u001b[90m│\u001b[39m code     \u001b[90m│\u001b[39m lower_s… \u001b[90m│\u001b[39m you are  \u001b[90m│\u001b[39m\r\n",
      "\u001b[90m│\u001b[39m          \u001b[90m│\u001b[39m answer   \u001b[90m│\u001b[39m \"War and \u001b[90m│\u001b[39m a\",\"out… \u001b[90m│\u001b[39m here     \u001b[90m│\u001b[39m =        \u001b[90m│\u001b[39m printing \u001b[90m│\u001b[39m\r\n",
      "\u001b[90m│\u001b[39m          \u001b[90m│\u001b[39m This is  \u001b[90m│\u001b[39m Peace\",  \u001b[90m│\u001b[39m 2\\naa    \u001b[90m│\u001b[39m sentence \u001b[90m│\u001b[39m sentenc… \u001b[90m│\u001b[39m the word \u001b[90m│\u001b[39m\r\n",
      "\u001b[90m│\u001b[39m          \u001b[90m│\u001b[39m a sample \u001b[90m│\u001b[39m he       \u001b[90m│\u001b[39m 2\\nabc   \u001b[90m│\u001b[39m =        \u001b[90m│\u001b[39m word =   \u001b[90m│\u001b[39m counts   \u001b[90m│\u001b[39m\r\n",
      "\u001b[90m│\u001b[39m          \u001b[90m│\u001b[39m test     \u001b[90m│\u001b[39m decided  \u001b[90m│\u001b[39m 2\\nac    \u001b[90m│\u001b[39m input()… \u001b[90m│\u001b[39m lower_s… \u001b[90m│\u001b[39m with a   \u001b[90m│\u001b[39m\r\n",
      "\u001b[90m│\u001b[39m          \u001b[90m│\u001b[39m from the \u001b[90m│\u001b[39m to find  \u001b[90m│\u001b[39m 1\\nbcd   \u001b[90m│\u001b[39m words =  \u001b[90m│\u001b[39m word_co… \u001b[90m│\u001b[39m colon    \u001b[90m│\u001b[39m\r\n",
      "\u001b[90m│\u001b[39m          \u001b[90m│\u001b[39m problem  \u001b[90m│\u001b[39m out the  \u001b[90m│\u001b[39m 1\"}]     \u001b[90m│\u001b[39m sentenc… \u001b[90m│\u001b[39m = {}     \u001b[90m│\u001b[39m (:)      \u001b[90m│\u001b[39m\r\n",
      "\u001b[90m│\u001b[39m          \u001b[90m│\u001b[39m stateme… \u001b[90m│\u001b[39m number   \u001b[90m│\u001b[39m          \u001b[90m│\u001b[39m frequen… \u001b[90m│\u001b[39m for item \u001b[90m│\u001b[39m instead  \u001b[90m│\u001b[39m\r\n",
      "\u001b[90m│\u001b[39m          \u001b[90m│\u001b[39m Test     \u001b[90m│\u001b[39m of       \u001b[90m│\u001b[39m          \u001b[90m│\u001b[39m = {word: \u001b[90m│\u001b[39m in word: \u001b[90m│\u001b[39m of a     \u001b[90m│\u001b[39m\r\n",
      "\u001b[90m│\u001b[39m          \u001b[90m│\u001b[39m input:   \u001b[90m│\u001b[39m specific \u001b[90m│\u001b[39m          \u001b[90m│\u001b[39m words.c… \u001b[90m│\u001b[39m     if … \u001b[90m│\u001b[39m space.   \u001b[90m│\u001b[39m\r\n",
      "\u001b[90m│\u001b[39m          \u001b[90m│\u001b[39m a aa abC \u001b[90m│\u001b[39m words    \u001b[90m│\u001b[39m          \u001b[90m│\u001b[39m for word \u001b[90m│\u001b[39m in       \u001b[90m│\u001b[39m This is  \u001b[90m│\u001b[39m\r\n",
      "\u001b[90m│\u001b[39m          \u001b[90m│\u001b[39m aa ac    \u001b[90m│\u001b[39m used in  \u001b[90m│\u001b[39m          \u001b[90m│\u001b[39m in       \u001b[90m│\u001b[39m word_co… \u001b[90m│\u001b[39m causing  \u001b[90m│\u001b[39m\r\n",
      "\u001b[90m│\u001b[39m          \u001b[90m│\u001b[39m abc bcd  \u001b[90m│\u001b[39m the      \u001b[90m│\u001b[39m          \u001b[90m│\u001b[39m set(wor… \u001b[90m│\u001b[39m word_co… \u001b[90m│\u001b[39m the      \u001b[90m│\u001b[39m\r\n",
      "\u001b[90m│\u001b[39m          \u001b[90m│\u001b[39m a        \u001b[90m│\u001b[39m book.</… \u001b[90m│\u001b[39m          \u001b[90m│\u001b[39m for      \u001b[90m│\u001b[39m += 1     \u001b[90m│\u001b[39m output   \u001b[90m│\u001b[39m\r\n",
      "\u001b[90m│\u001b[39m          \u001b[90m│\u001b[39m Correct  \u001b[90m│\u001b[39m <p>Help  \u001b[90m│\u001b[39m          \u001b[90m│\u001b[39m word,    \u001b[90m│\u001b[39m     els… \u001b[90m│\u001b[39m format   \u001b[90m│\u001b[39m\r\n",
      "\u001b[90m│\u001b[39m          \u001b[90m│\u001b[39m output:  \u001b[90m│\u001b[39m Anton    \u001b[90m│\u001b[39m          \u001b[90m│\u001b[39m count in \u001b[90m│\u001b[39m word_co… \u001b[90m│\u001b[39m to be    \u001b[90m│\u001b[39m\r\n",
      "\u001b[90m│\u001b[39m          \u001b[90m│\u001b[39m a 2      \u001b[90m│\u001b[39m write a  \u001b[90m│\u001b[39m          \u001b[90m│\u001b[39m frequen… \u001b[90m│\u001b[39m = 1      \u001b[90m│\u001b[39m incorre… \u001b[90m│\u001b[39m\r\n",
      "\u001b[90m│\u001b[39m          \u001b[90m│\u001b[39m aa 2     \u001b[90m│\u001b[39m simplif… \u001b[90m│\u001b[39m          \u001b[90m│\u001b[39m print(w… \u001b[90m│\u001b[39m for key, \u001b[90m│\u001b[39m To fix   \u001b[90m│\u001b[39m\r\n",
      "\u001b[90m│\u001b[39m          \u001b[90m│\u001b[39m abc 2    \u001b[90m│\u001b[39m version  \u001b[90m│\u001b[39m          \u001b[90m│\u001b[39m count)   \u001b[90m│\u001b[39m value in \u001b[90m│\u001b[39m this     \u001b[90m│\u001b[39m\r\n",
      "\u001b[90m│\u001b[39m          \u001b[90m│\u001b[39m ac 1     \u001b[90m│\u001b[39m of such  \u001b[90m│\u001b[39m          \u001b[90m│\u001b[39m          \u001b[90m│\u001b[39m word_co… \u001b[90m│\u001b[39m issue,   \u001b[90m│\u001b[39m\r\n",
      "\u001b[90m│\u001b[39m          \u001b[90m│\u001b[39m bcd 1    \u001b[90m│\u001b[39m a        \u001b[90m│\u001b[39m          \u001b[90m│\u001b[39m          \u001b[90m│\u001b[39m          \u001b[90m│\u001b[39m you      \u001b[90m│\u001b[39m\r\n",
      "\u001b[90m│\u001b[39m          \u001b[90m│\u001b[39m Your     \u001b[90m│\u001b[39m program, \u001b[90m│\u001b[39m          \u001b[90m│\u001b[39m          \u001b[90m│\u001b[39m          \u001b[90m│\u001b[39m should   \u001b[90m│\u001b[39m\r\n",
      "\u001b[90m│\u001b[39m          \u001b[90m│\u001b[39m code     \u001b[90m│\u001b[39m that     \u001b[90m│\u001b[39m          \u001b[90m│\u001b[39m          \u001b[90m│\u001b[39m          \u001b[90m│\u001b[39m change   \u001b[90m│\u001b[39m\r\n",
      "\u001b[90m│\u001b[39m          \u001b[90m│\u001b[39m output:  \u001b[90m│\u001b[39m will be  \u001b[90m│\u001b[39m          \u001b[90m│\u001b[39m          \u001b[90m│\u001b[39m          \u001b[90m│\u001b[39m the      \u001b[90m│\u001b[39m\r\n",
      "\u001b[90m│\u001b[39m          \u001b[90m│\u001b[39m a : 2    \u001b[90m│\u001b[39m capable  \u001b[90m│\u001b[39m          \u001b[90m│\u001b[39m          \u001b[90m│\u001b[39m          \u001b[90m│\u001b[39m print    \u001b[90m│\u001b[39m\r\n",
      "\u001b[90m│\u001b[39m          \u001b[90m│\u001b[39m aa : 2   \u001b[90m│\u001b[39m of       \u001b[90m│\u001b[39m          \u001b[90m│\u001b[39m          \u001b[90m│\u001b[39m          \u001b[90m│\u001b[39m stateme… \u001b[90m│\u001b[39m\r\n",
      "\u001b[90m│\u001b[39m          \u001b[90m│\u001b[39m abc : 2  \u001b[90m│\u001b[39m counting \u001b[90m│\u001b[39m          \u001b[90m│\u001b[39m          \u001b[90m│\u001b[39m          \u001b[90m│\u001b[39m to use a \u001b[90m│\u001b[39m\r\n",
      "\u001b[90m│\u001b[39m          \u001b[90m│\u001b[39m ac : 1   \u001b[90m│\u001b[39m the      \u001b[90m│\u001b[39m          \u001b[90m│\u001b[39m          \u001b[90m│\u001b[39m          \u001b[90m│\u001b[39m space    \u001b[90m│\u001b[39m\r\n",
      "\u001b[90m│\u001b[39m          \u001b[90m│\u001b[39m bcd : 1  \u001b[90m│\u001b[39m words    \u001b[90m│\u001b[39m          \u001b[90m│\u001b[39m          \u001b[90m│\u001b[39m          \u001b[90m│\u001b[39m instead  \u001b[90m│\u001b[39m\r\n",
      "\u001b[90m│\u001b[39m          \u001b[90m│\u001b[39m          \u001b[90m│\u001b[39m separat… \u001b[90m│\u001b[39m          \u001b[90m│\u001b[39m          \u001b[90m│\u001b[39m          \u001b[90m│\u001b[39m of a     \u001b[90m│\u001b[39m\r\n",
      "\u001b[90m│\u001b[39m          \u001b[90m│\u001b[39m          \u001b[90m│\u001b[39m with     \u001b[90m│\u001b[39m          \u001b[90m│\u001b[39m          \u001b[90m│\u001b[39m          \u001b[90m│\u001b[39m colon.   \u001b[90m│\u001b[39m\r\n",
      "\u001b[90m│\u001b[39m          \u001b[90m│\u001b[39m          \u001b[90m│\u001b[39m space,   \u001b[90m│\u001b[39m          \u001b[90m│\u001b[39m          \u001b[90m│\u001b[39m          \u001b[90m│\u001b[39m For      \u001b[90m│\u001b[39m\r\n",
      "\u001b[90m│\u001b[39m          \u001b[90m│\u001b[39m          \u001b[90m│\u001b[39m ...      \u001b[90m│\u001b[39m          \u001b[90m│\u001b[39m          \u001b[90m│\u001b[39m          \u001b[90m│\u001b[39m example, \u001b[90m│\u001b[39m\r\n",
      "\u001b[90m│\u001b[39m          \u001b[90m│\u001b[39m          \u001b[90m│\u001b[39m          \u001b[90m│\u001b[39m          \u001b[90m│\u001b[39m          \u001b[90m│\u001b[39m          \u001b[90m│\u001b[39m instea.… \u001b[90m│\u001b[39m\r\n",
      "\u001b[90m├──────────\u001b[39m\u001b[90m┼──────────\u001b[39m\u001b[90m┼──────────\u001b[39m\u001b[90m┼──────────\u001b[39m\u001b[90m┼──────────\u001b[39m\u001b[90m┼──────────\u001b[39m\u001b[90m┼──────────┤\u001b[39m\r\n",
      "\u001b[90m│\u001b[39m python_6 \u001b[90m│\u001b[39m Failed   \u001b[90m│\u001b[39m <p></p>  \u001b[90m│\u001b[39m [{\"inpu… \u001b[90m│\u001b[39m # the    \u001b[90m│\u001b[39m # the    \u001b[90m│\u001b[39m \u001b[32m[PASS]\u001b[39m   \u001b[90m│\u001b[39m\r\n",
      "\u001b[90m│\u001b[39m          \u001b[90m│\u001b[39m test #1  \u001b[90m│\u001b[39m <p>We    \u001b[90m│\u001b[39m Sid and  \u001b[90m│\u001b[39m followi… \u001b[90m│\u001b[39m followi… \u001b[90m│\u001b[39m \u001b[32m\u001b[39mIt looks \u001b[90m│\u001b[39m\r\n",
      "\u001b[90m│\u001b[39m          \u001b[90m│\u001b[39m of 2.    \u001b[90m│\u001b[39m wrote a  \u001b[90m│\u001b[39m Nancy\\n… \u001b[90m│\u001b[39m lines    \u001b[90m│\u001b[39m lines    \u001b[90m│\u001b[39m like     \u001b[90m│\u001b[39m\r\n",
      "\u001b[90m│\u001b[39m          \u001b[90m│\u001b[39m Runtime  \u001b[90m│\u001b[39m function \u001b[90m│\u001b[39m Nancy    \u001b[90m│\u001b[39m read     \u001b[90m│\u001b[39m read     \u001b[90m│\u001b[39m there is \u001b[90m│\u001b[39m\r\n",
      "\u001b[90m│\u001b[39m          \u001b[90m│\u001b[39m error    \u001b[90m│\u001b[39m that     \u001b[90m│\u001b[39m and      \u001b[90m│\u001b[39m names    \u001b[90m│\u001b[39m names    \u001b[90m│\u001b[39m a typo   \u001b[90m│\u001b[39m\r\n",
      "\u001b[90m│\u001b[39m          \u001b[90m│\u001b[39m This is  \u001b[90m│\u001b[39m greets   \u001b[90m│\u001b[39m Sid\"}]   \u001b[90m│\u001b[39m from the \u001b[90m│\u001b[39m from the \u001b[90m│\u001b[39m in your  \u001b[90m│\u001b[39m\r\n",
      "\u001b[90m│\u001b[39m          \u001b[90m│\u001b[39m a sample \u001b[90m│\u001b[39m two      \u001b[90m│\u001b[39m          \u001b[90m│\u001b[39m input,   \u001b[90m│\u001b[39m input,   \u001b[90m│\u001b[39m code.    \u001b[90m│\u001b[39m\r\n",
      "\u001b[90m│\u001b[39m          \u001b[90m│\u001b[39m test     \u001b[90m│\u001b[39m people:… \u001b[90m│\u001b[39m          \u001b[90m│\u001b[39m do not   \u001b[90m│\u001b[39m do not   \u001b[90m│\u001b[39m The      \u001b[90m│\u001b[39m\r\n",
      "\u001b[90m│\u001b[39m          \u001b[90m│\u001b[39m from the \u001b[90m│\u001b[39m <pre><c… \u001b[90m│\u001b[39m          \u001b[90m│\u001b[39m modify   \u001b[90m│\u001b[39m modify   \u001b[90m│\u001b[39m function \u001b[90m│\u001b[39m\r\n",
      "\u001b[90m│\u001b[39m          \u001b[90m│\u001b[39m problem  \u001b[90m│\u001b[39m class=\"… \u001b[90m│\u001b[39m          \u001b[90m│\u001b[39m it,      \u001b[90m│\u001b[39m it,      \u001b[90m│\u001b[39m is       \u001b[90m│\u001b[39m\r\n",
      "\u001b[90m│\u001b[39m          \u001b[90m│\u001b[39m stateme… \u001b[90m│\u001b[39m greetin… \u001b[90m│\u001b[39m          \u001b[90m│\u001b[39m please   \u001b[90m│\u001b[39m please   \u001b[90m│\u001b[39m called   \u001b[90m│\u001b[39m\r\n",
      "\u001b[90m│\u001b[39m          \u001b[90m│\u001b[39m Test     \u001b[90m│\u001b[39m second_… \u001b[90m│\u001b[39m          \u001b[90m│\u001b[39m name_1 = \u001b[90m│\u001b[39m name_1 = \u001b[90m│\u001b[39m \"greeti… \u001b[90m│\u001b[39m\r\n",
      "\u001b[90m│\u001b[39m          \u001b[90m│\u001b[39m input:   \u001b[90m│\u001b[39m print(\"… \u001b[90m│\u001b[39m          \u001b[90m│\u001b[39m input()  \u001b[90m│\u001b[39m input()  \u001b[90m│\u001b[39m not      \u001b[90m│\u001b[39m\r\n",
      "\u001b[90m│\u001b[39m          \u001b[90m│\u001b[39m Sid      \u001b[90m│\u001b[39m first_n… \u001b[90m│\u001b[39m          \u001b[90m│\u001b[39m name_2 = \u001b[90m│\u001b[39m name_2 = \u001b[90m│\u001b[39m \"greeti… \u001b[90m│\u001b[39m\r\n",
      "\u001b[90m│\u001b[39m          \u001b[90m│\u001b[39m Nancy    \u001b[90m│\u001b[39m \"and\",   \u001b[90m│\u001b[39m          \u001b[90m│\u001b[39m input()  \u001b[90m│\u001b[39m input()  \u001b[90m│\u001b[39m Make     \u001b[90m│\u001b[39m\r\n",
      "\u001b[90m│\u001b[39m          \u001b[90m│\u001b[39m Correct  \u001b[90m│\u001b[39m second_… \u001b[90m│\u001b[39m          \u001b[90m│\u001b[39m greetin… \u001b[90m│\u001b[39m greetin… \u001b[90m│\u001b[39m sure to  \u001b[90m│\u001b[39m\r\n",
      "\u001b[90m│\u001b[39m          \u001b[90m│\u001b[39m output:  \u001b[90m│\u001b[39m <p>The   \u001b[90m│\u001b[39m          \u001b[90m│\u001b[39m name_2)  \u001b[90m│\u001b[39m # your   \u001b[90m│\u001b[39m call the \u001b[90m│\u001b[39m\r\n",
      "\u001b[90m│\u001b[39m          \u001b[90m│\u001b[39m Hello,   \u001b[90m│\u001b[39m first    \u001b[90m│\u001b[39m          \u001b[90m│\u001b[39m greetin… \u001b[90m│\u001b[39m code     \u001b[90m│\u001b[39m function \u001b[90m│\u001b[39m\r\n",
      "\u001b[90m│\u001b[39m          \u001b[90m│\u001b[39m Sid and  \u001b[90m│\u001b[39m name is  \u001b[90m│\u001b[39m          \u001b[90m│\u001b[39m name_1)  \u001b[90m│\u001b[39m here     \u001b[90m│\u001b[39m correct… \u001b[90m│\u001b[39m\r\n",
      "\u001b[90m│\u001b[39m          \u001b[90m│\u001b[39m Nancy    \u001b[90m│\u001b[39m already  \u001b[90m│\u001b[39m          \u001b[90m│\u001b[39m          \u001b[90m│\u001b[39m          \u001b[90m│\u001b[39m by using \u001b[90m│\u001b[39m\r\n",
      "\u001b[90m│\u001b[39m          \u001b[90m│\u001b[39m Hello,   \u001b[90m│\u001b[39m stored   \u001b[90m│\u001b[39m          \u001b[90m│\u001b[39m          \u001b[90m│\u001b[39m          \u001b[90m│\u001b[39m \"greeti… \u001b[90m│\u001b[39m\r\n",
      "\u001b[90m│\u001b[39m          \u001b[90m│\u001b[39m Nancy    \u001b[90m│\u001b[39m in the   \u001b[90m│\u001b[39m          \u001b[90m│\u001b[39m          \u001b[90m│\u001b[39m          \u001b[90m│\u001b[39m instead  \u001b[90m│\u001b[39m\r\n",
      "\u001b[90m│\u001b[39m          \u001b[90m│\u001b[39m and Sid  \u001b[90m│\u001b[39m variab.… \u001b[90m│\u001b[39m          \u001b[90m│\u001b[39m          \u001b[90m│\u001b[39m          \u001b[90m│\u001b[39m of       \u001b[90m│\u001b[39m\r\n",
      "\u001b[90m│\u001b[39m          \u001b[90m│\u001b[39m Your     \u001b[90m│\u001b[39m          \u001b[90m│\u001b[39m          \u001b[90m│\u001b[39m          \u001b[90m│\u001b[39m          \u001b[90m│\u001b[39m \"greeti… \u001b[90m│\u001b[39m\r\n",
      "\u001b[90m│\u001b[39m          \u001b[90m│\u001b[39m code     \u001b[90m│\u001b[39m          \u001b[90m│\u001b[39m          \u001b[90m│\u001b[39m          \u001b[90m│\u001b[39m          \u001b[90m│\u001b[39m Also,    \u001b[90m│\u001b[39m\r\n",
      "\u001b[90m│\u001b[39m          \u001b[90m│\u001b[39m output:  \u001b[90m│\u001b[39m          \u001b[90m│\u001b[39m          \u001b[90m│\u001b[39m          \u001b[90m│\u001b[39m          \u001b[90m│\u001b[39m remember \u001b[90m│\u001b[39m\r\n",
      "\u001b[90m│\u001b[39m          \u001b[90m│\u001b[39m Error:   \u001b[90m│\u001b[39m          \u001b[90m│\u001b[39m          \u001b[90m│\u001b[39m          \u001b[90m│\u001b[39m          \u001b[90m│\u001b[39m to call  \u001b[90m│\u001b[39m\r\n",
      "\u001b[90m│\u001b[39m          \u001b[90m│\u001b[39m Traceba… \u001b[90m│\u001b[39m          \u001b[90m│\u001b[39m          \u001b[90m│\u001b[39m          \u001b[90m│\u001b[39m          \u001b[90m│\u001b[39m the      \u001b[90m│\u001b[39m\r\n",
      "\u001b[90m│\u001b[39m          \u001b[90m│\u001b[39m (most    \u001b[90m│\u001b[39m          \u001b[90m│\u001b[39m          \u001b[90m│\u001b[39m          \u001b[90m│\u001b[39m          \u001b[90m│\u001b[39m function \u001b[90m│\u001b[39m\r\n",
      "\u001b[90m│\u001b[39m          \u001b[90m│\u001b[39m recent   \u001b[90m│\u001b[39m          \u001b[90m│\u001b[39m          \u001b[90m│\u001b[39m          \u001b[90m│\u001b[39m          \u001b[90m│\u001b[39m twice as \u001b[90m│\u001b[39m\r\n",
      "\u001b[90m│\u001b[39m          \u001b[90m│\u001b[39m call     \u001b[90m│\u001b[39m          \u001b[90m│\u001b[39m          \u001b[90m│\u001b[39m          \u001b[90m│\u001b[39m          \u001b[90m│\u001b[39m instruc… \u001b[90m│\u001b[39m\r\n",
      "\u001b[90m│\u001b[39m          \u001b[90m│\u001b[39m last):   \u001b[90m│\u001b[39m          \u001b[90m│\u001b[39m          \u001b[90m│\u001b[39m          \u001b[90m│\u001b[39m          \u001b[90m│\u001b[39m in the   \u001b[90m│\u001b[39m\r\n",
      "\u001b[90m│\u001b[39m          \u001b[90m│\u001b[39m   File   \u001b[90m│\u001b[39m          \u001b[90m│\u001b[39m          \u001b[90m│\u001b[39m          \u001b[90m│\u001b[39m          \u001b[90m│\u001b[39m task...  \u001b[90m│\u001b[39m\r\n",
      "\u001b[90m│\u001b[39m          \u001b[90m│\u001b[39m \"/sandb… \u001b[90m│\u001b[39m          \u001b[90m│\u001b[39m          \u001b[90m│\u001b[39m          \u001b[90m│\u001b[39m          \u001b[90m│\u001b[39m          \u001b[90m│\u001b[39m\r\n",
      "\u001b[90m├──────────\u001b[39m\u001b[90m┼──────────\u001b[39m\u001b[90m┼──────────\u001b[39m\u001b[90m┼──────────\u001b[39m\u001b[90m┼──────────\u001b[39m\u001b[90m┼──────────\u001b[39m\u001b[90m┼──────────┤\u001b[39m\r\n",
      "\u001b[90m│\u001b[39m python_7 \u001b[90m│\u001b[39m Failed   \u001b[90m│\u001b[39m <p></p>  \u001b[90m│\u001b[39m [{\"inpu… \u001b[90m│\u001b[39m word =   \u001b[90m│\u001b[39m word =   \u001b[90m│\u001b[39m \u001b[31m[FAIL]\u001b[39m   \u001b[90m│\u001b[39m\r\n",
      "\u001b[90m│\u001b[39m          \u001b[90m│\u001b[39m test #1  \u001b[90m│\u001b[39m <p>The   \u001b[90m│\u001b[39m          \u001b[90m│\u001b[39m input()  \u001b[90m│\u001b[39m input()  \u001b[90m│\u001b[39m \u001b[31m\u001b[39m\u001b[31m\u001b[1mThe\u001b[22m\u001b[39m      \u001b[90m│\u001b[39m\r\n",
      "\u001b[90m│\u001b[39m          \u001b[90m│\u001b[39m of 8.    \u001b[90m│\u001b[39m languag… \u001b[90m│\u001b[39m          \u001b[90m│\u001b[39m # Change \u001b[90m│\u001b[39m # Change \u001b[90m│\u001b[39m \u001b[31m\u001b[1msubmiss\u001b[22m\u001b[39m… \u001b[90m│\u001b[39m\r\n",
      "\u001b[90m│\u001b[39m          \u001b[90m│\u001b[39m Wrong    \u001b[90m│\u001b[39m of the   \u001b[90m│\u001b[39m          \u001b[90m│\u001b[39m the next \u001b[90m│\u001b[39m the next \u001b[90m│\u001b[39m \u001b[31m\u001b[1mdoes not\u001b[22m\u001b[39m \u001b[90m│\u001b[39m\r\n",
      "\u001b[90m│\u001b[39m          \u001b[90m│\u001b[39m answer   \u001b[90m│\u001b[39m world    \u001b[90m│\u001b[39m          \u001b[90m│\u001b[39m line     \u001b[90m│\u001b[39m line     \u001b[90m│\u001b[39m \u001b[31m\u001b[1mmeet the\u001b[22m\u001b[39m \u001b[90m│\u001b[39m\r\n",
      "\u001b[90m│\u001b[39m          \u001b[90m│\u001b[39m This is  \u001b[90m│\u001b[39m are      \u001b[90m│\u001b[39m          \u001b[90m│\u001b[39m print(w… \u001b[90m│\u001b[39m print(w… \u001b[90m│\u001b[39m \u001b[31m\u001b[1mcriteri\u001b[22m\u001b[39m… \u001b[90m│\u001b[39m\r\n",
      "\u001b[90m│\u001b[39m          \u001b[90m│\u001b[39m a sample \u001b[90m│\u001b[39m amazing! \u001b[90m│\u001b[39m          \u001b[90m│\u001b[39m          \u001b[90m│\u001b[39m          \u001b[90m│\u001b[39m \u001b[31m\u001b[1m1. The\u001b[22m\u001b[39m   \u001b[90m│\u001b[39m\r\n",
      "\u001b[90m│\u001b[39m          \u001b[90m│\u001b[39m test     \u001b[90m│\u001b[39m Program… \u001b[90m│\u001b[39m          \u001b[90m│\u001b[39m          \u001b[90m│\u001b[39m          \u001b[90m│\u001b[39m \u001b[31m\u001b[1mcriteri\u001b[22m\u001b[39m… \u001b[90m│\u001b[39m\r\n",
      "\u001b[90m│\u001b[39m          \u001b[90m│\u001b[39m from the \u001b[90m│\u001b[39m languag… \u001b[90m│\u001b[39m          \u001b[90m│\u001b[39m          \u001b[90m│\u001b[39m          \u001b[90m│\u001b[39m \u001b[31m\u001b[1mspecifi\u001b[22m\u001b[39m… \u001b[90m│\u001b[39m\r\n",
      "\u001b[90m│\u001b[39m          \u001b[90m│\u001b[39m problem  \u001b[90m│\u001b[39m too, but \u001b[90m│\u001b[39m          \u001b[90m│\u001b[39m          \u001b[90m│\u001b[39m          \u001b[90m│\u001b[39m \u001b[31m\u001b[1mthat the\u001b[22m\u001b[39m \u001b[90m│\u001b[39m\r\n",
      "\u001b[90m│\u001b[39m          \u001b[90m│\u001b[39m stateme… \u001b[90m│\u001b[39m now we   \u001b[90m│\u001b[39m          \u001b[90m│\u001b[39m          \u001b[90m│\u001b[39m          \u001b[90m│\u001b[39m \u001b[31m\u001b[1mfeedback\u001b[22m\u001b[39m \u001b[90m│\u001b[39m\r\n",
      "\u001b[90m│\u001b[39m          \u001b[90m│\u001b[39m Test     \u001b[90m│\u001b[39m will     \u001b[90m│\u001b[39m          \u001b[90m│\u001b[39m          \u001b[90m│\u001b[39m          \u001b[90m│\u001b[39m \u001b[31m\u001b[1mshould\u001b[22m\u001b[39m   \u001b[90m│\u001b[39m\r\n",
      "\u001b[90m│\u001b[39m          \u001b[90m│\u001b[39m input:   \u001b[90m│\u001b[39m talk     \u001b[90m│\u001b[39m          \u001b[90m│\u001b[39m          \u001b[90m│\u001b[39m          \u001b[90m│\u001b[39m \u001b[31m\u001b[1mnot give\u001b[22m\u001b[39m \u001b[90m│\u001b[39m\r\n",
      "\u001b[90m│\u001b[39m          \u001b[90m│\u001b[39m maru     \u001b[90m│\u001b[39m about    \u001b[90m│\u001b[39m          \u001b[90m│\u001b[39m          \u001b[90m│\u001b[39m          \u001b[90m│\u001b[39m \u001b[31m\u001b[1ma direct\u001b[22m\u001b[39m \u001b[90m│\u001b[39m\r\n",
      "\u001b[90m│\u001b[39m          \u001b[90m│\u001b[39m Correct  \u001b[90m│\u001b[39m the      \u001b[90m│\u001b[39m          \u001b[90m│\u001b[39m          \u001b[90m│\u001b[39m          \u001b[90m│\u001b[39m \u001b[31m\u001b[1manswer.\u001b[22m\u001b[39m  \u001b[90m│\u001b[39m\r\n",
      "\u001b[90m│\u001b[39m          \u001b[90m│\u001b[39m output:  \u001b[90m│\u001b[39m human    \u001b[90m│\u001b[39m          \u001b[90m│\u001b[39m          \u001b[90m│\u001b[39m          \u001b[90m│\u001b[39m \u001b[31m\u001b[1m2. The\u001b[22m\u001b[39m   \u001b[90m│\u001b[39m\r\n",
      "\u001b[90m│\u001b[39m          \u001b[90m│\u001b[39m marumaru \u001b[90m│\u001b[39m ones. In \u001b[90m│\u001b[39m          \u001b[90m│\u001b[39m          \u001b[90m│\u001b[39m          \u001b[90m│\u001b[39m \u001b[31m\u001b[1msubmiss\u001b[22m\u001b[39m… \u001b[90m│\u001b[39m\r\n",
      "\u001b[90m│\u001b[39m          \u001b[90m│\u001b[39m Your     \u001b[90m│\u001b[39m linguis… \u001b[90m│\u001b[39m          \u001b[90m│\u001b[39m          \u001b[90m│\u001b[39m          \u001b[90m│\u001b[39m \u001b[31m\u001b[1midentif\u001b[22m\u001b[39m… \u001b[90m│\u001b[39m\r\n",
      "\u001b[90m│\u001b[39m          \u001b[90m│\u001b[39m code     \u001b[90m│\u001b[39m repeati… \u001b[90m│\u001b[39m          \u001b[90m│\u001b[39m          \u001b[90m│\u001b[39m          \u001b[90m│\u001b[39m \u001b[31m\u001b[1mthe\u001b[22m\u001b[39m      \u001b[90m│\u001b[39m\r\n",
      "\u001b[90m│\u001b[39m          \u001b[90m│\u001b[39m output:  \u001b[90m│\u001b[39m a word   \u001b[90m│\u001b[39m          \u001b[90m│\u001b[39m          \u001b[90m│\u001b[39m          \u001b[90m│\u001b[39m \u001b[31m\u001b[1mmistake\u001b[22m\u001b[39m  \u001b[90m│\u001b[39m\r\n",
      "\u001b[90m│\u001b[39m          \u001b[90m│\u001b[39m maru     \u001b[90m│\u001b[39m or part  \u001b[90m│\u001b[39m          \u001b[90m│\u001b[39m          \u001b[90m│\u001b[39m          \u001b[90m│\u001b[39m \u001b[31m\u001b[1min the\u001b[22m\u001b[39m   \u001b[90m│\u001b[39m\r\n",
      "\u001b[90m│\u001b[39m          \u001b[90m│\u001b[39m          \u001b[90m│\u001b[39m of it is \u001b[90m│\u001b[39m          \u001b[90m│\u001b[39m          \u001b[90m│\u001b[39m          \u001b[90m│\u001b[39m \u001b[31m\u001b[1mstudent\u001b[22m\u001b[39m… \u001b[90m│\u001b[39m\r\n",
      "\u001b[90m│\u001b[39m          \u001b[90m│\u001b[39m          \u001b[90m│\u001b[39m called   \u001b[90m│\u001b[39m          \u001b[90m│\u001b[39m          \u001b[90m│\u001b[39m          \u001b[90m│\u001b[39m \u001b[31m\u001b[1mcode,\u001b[22m\u001b[39m    \u001b[90m│\u001b[39m\r\n",
      "\u001b[90m│\u001b[39m          \u001b[90m│\u001b[39m          \u001b[90m│\u001b[39m <em>red… \u001b[90m│\u001b[39m          \u001b[90m│\u001b[39m          \u001b[90m│\u001b[39m          \u001b[90m│\u001b[39m \u001b[31m\u001b[1mwhich is\u001b[22m\u001b[39m \u001b[90m│\u001b[39m\r\n",
      "\u001b[90m│\u001b[39m          \u001b[90m│\u001b[39m          \u001b[90m│\u001b[39m This     \u001b[90m│\u001b[39m          \u001b[90m│\u001b[39m          \u001b[90m│\u001b[39m          \u001b[90m│\u001b[39m \u001b[31m\u001b[1mprinting\u001b[22m\u001b[39m \u001b[90m│\u001b[39m\r\n",
      "\u001b[90m│\u001b[39m          \u001b[90m│\u001b[39m          \u001b[90m│\u001b[39m morphol… \u001b[90m│\u001b[39m          \u001b[90m│\u001b[39m          \u001b[90m│\u001b[39m          \u001b[90m│\u001b[39m \u001b[31m\u001b[1mthe word\u001b[22m\u001b[39m \u001b[90m│\u001b[39m\r\n",
      "\u001b[90m│\u001b[39m          \u001b[90m│\u001b[39m          \u001b[90m│\u001b[39m phenome… \u001b[90m│\u001b[39m          \u001b[90m│\u001b[39m          \u001b[90m│\u001b[39m          \u001b[90m│\u001b[39m \u001b[31m\u001b[1monly\u001b[22m\u001b[39m     \u001b[90m│\u001b[39m\r\n",
      "\u001b[90m│\u001b[39m          \u001b[90m│\u001b[39m          \u001b[90m│\u001b[39m is found \u001b[90m│\u001b[39m          \u001b[90m│\u001b[39m          \u001b[90m│\u001b[39m          \u001b[90m│\u001b[39m \u001b[31m\u001b[1monce\u001b[22m\u001b[39m     \u001b[90m│\u001b[39m\r\n",
      "\u001b[90m│\u001b[39m          \u001b[90m│\u001b[39m          \u001b[90m│\u001b[39m in       \u001b[90m│\u001b[39m          \u001b[90m│\u001b[39m          \u001b[90m│\u001b[39m          \u001b[90m│\u001b[39m \u001b[31m\u001b[1minstead\u001b[22m\u001b[39m  \u001b[90m│\u001b[39m\r\n",
      "\u001b[90m│\u001b[39m          \u001b[90m│\u001b[39m          \u001b[90m│\u001b[39m dif...   \u001b[90m│\u001b[39m          \u001b[90m│\u001b[39m          \u001b[90m│\u001b[39m          \u001b[90m│\u001b[39m \u001b[31m\u001b[1mof\u001b[22m\u001b[39m       \u001b[90m│\u001b[39m\r\n",
      "\u001b[90m│\u001b[39m          \u001b[90m│\u001b[39m          \u001b[90m│\u001b[39m          \u001b[90m│\u001b[39m          \u001b[90m│\u001b[39m          \u001b[90m│\u001b[39m          \u001b[90m│\u001b[39m \u001b[31m\u001b[1mtwice.\u001b[22m\u001b[39m   \u001b[90m│\u001b[39m\r\n",
      "\u001b[90m│\u001b[39m          \u001b[90m│\u001b[39m          \u001b[90m│\u001b[39m          \u001b[90m│\u001b[39m          \u001b[90m│\u001b[39m          \u001b[90m│\u001b[39m          \u001b[90m│\u001b[39m \u001b[31m\u001b[1m3.\u001b[22m\u001b[39m       \u001b[90m│\u001b[39m\r\n",
      "\u001b[90m│\u001b[39m          \u001b[90m│\u001b[39m          \u001b[90m│\u001b[39m          \u001b[90m│\u001b[39m          \u001b[90m│\u001b[39m          \u001b[90m│\u001b[39m          \u001b[90m│\u001b[39m \u001b[31m\u001b[1mThe...\u001b[22m\u001b[39m   \u001b[90m│\u001b[39m\r\n",
      "\u001b[90m├──────────\u001b[39m\u001b[90m┼──────────\u001b[39m\u001b[90m┼──────────\u001b[39m\u001b[90m┼──────────\u001b[39m\u001b[90m┼──────────\u001b[39m\u001b[90m┼──────────\u001b[39m\u001b[90m┼──────────┤\u001b[39m\r\n",
      "\u001b[90m│\u001b[39m python_8 \u001b[90m│\u001b[39m Failed   \u001b[90m│\u001b[39m <p></p>… \u001b[90m│\u001b[39m [{\"inpu… \u001b[90m│\u001b[39m # put    \u001b[90m│\u001b[39m a =      \u001b[90m│\u001b[39m \u001b[31m[FAIL]\u001b[39m   \u001b[90m│\u001b[39m\r\n",
      "\u001b[90m│\u001b[39m          \u001b[90m│\u001b[39m test #1  \u001b[90m│\u001b[39m a        \u001b[90m│\u001b[39m          \u001b[90m│\u001b[39m your     \u001b[90m│\u001b[39m int(inp… \u001b[90m│\u001b[39m \u001b[31m\u001b[39m\u001b[31m\u001b[1mThe\u001b[22m\u001b[39m      \u001b[90m│\u001b[39m\r\n",
      "\u001b[90m│\u001b[39m          \u001b[90m│\u001b[39m of 11.   \u001b[90m│\u001b[39m program  \u001b[90m│\u001b[39m          \u001b[90m│\u001b[39m python   \u001b[90m│\u001b[39m b =      \u001b[90m│\u001b[39m \u001b[31m\u001b[1msubmiss\u001b[22m\u001b[39m… \u001b[90m│\u001b[39m\r\n",
      "\u001b[90m│\u001b[39m          \u001b[90m│\u001b[39m Runtime  \u001b[90m│\u001b[39m that     \u001b[90m│\u001b[39m          \u001b[90m│\u001b[39m code     \u001b[90m│\u001b[39m int(inp… \u001b[90m│\u001b[39m \u001b[31m\u001b[1mdoes not\u001b[22m\u001b[39m \u001b[90m│\u001b[39m\r\n",
      "\u001b[90m│\u001b[39m          \u001b[90m│\u001b[39m error    \u001b[90m│\u001b[39m reads    \u001b[90m│\u001b[39m          \u001b[90m│\u001b[39m here     \u001b[90m│\u001b[39m c =      \u001b[90m│\u001b[39m \u001b[31m\u001b[1mmeet the\u001b[22m\u001b[39m \u001b[90m│\u001b[39m\r\n",
      "\u001b[90m│\u001b[39m          \u001b[90m│\u001b[39m This is  \u001b[90m│\u001b[39m three    \u001b[90m│\u001b[39m          \u001b[90m│\u001b[39m a =      \u001b[90m│\u001b[39m int(inp… \u001b[90m│\u001b[39m \u001b[31m\u001b[1mcriteri\u001b[22m\u001b[39m… \u001b[90m│\u001b[39m\r\n",
      "\u001b[90m│\u001b[39m          \u001b[90m│\u001b[39m a sample \u001b[90m│\u001b[39m numbers  \u001b[90m│\u001b[39m          \u001b[90m│\u001b[39m int(inp… \u001b[90m│\u001b[39m sum = a  \u001b[90m│\u001b[39m \u001b[31m\u001b[1m1. The\u001b[22m\u001b[39m   \u001b[90m│\u001b[39m\r\n",
      "\u001b[90m│\u001b[39m          \u001b[90m│\u001b[39m test     \u001b[90m│\u001b[39m from the \u001b[90m│\u001b[39m          \u001b[90m│\u001b[39m b =      \u001b[90m│\u001b[39m + b + c  \u001b[90m│\u001b[39m \u001b[31m\u001b[1mcriteri\u001b[22m\u001b[39m… \u001b[90m│\u001b[39m\r\n",
      "\u001b[90m│\u001b[39m          \u001b[90m│\u001b[39m from the \u001b[90m│\u001b[39m input    \u001b[90m│\u001b[39m          \u001b[90m│\u001b[39m int(inp… \u001b[90m│\u001b[39m print(s… \u001b[90m│\u001b[39m \u001b[31m\u001b[1mspecifi\u001b[22m\u001b[39m… \u001b[90m│\u001b[39m\r\n",
      "\u001b[90m│\u001b[39m          \u001b[90m│\u001b[39m problem  \u001b[90m│\u001b[39m separat… \u001b[90m│\u001b[39m          \u001b[90m│\u001b[39m c =      \u001b[90m│\u001b[39m          \u001b[90m│\u001b[39m \u001b[31m\u001b[1mthat the\u001b[22m\u001b[39m \u001b[90m│\u001b[39m\r\n",
      "\u001b[90m│\u001b[39m          \u001b[90m│\u001b[39m stateme… \u001b[90m│\u001b[39m and      \u001b[90m│\u001b[39m          \u001b[90m│\u001b[39m int(inp… \u001b[90m│\u001b[39m          \u001b[90m│\u001b[39m \u001b[31m\u001b[1mfeedback\u001b[22m\u001b[39m \u001b[90m│\u001b[39m\r\n",
      "\u001b[90m│\u001b[39m          \u001b[90m│\u001b[39m Test     \u001b[90m│\u001b[39m prints   \u001b[90m│\u001b[39m          \u001b[90m│\u001b[39m print(a  \u001b[90m│\u001b[39m          \u001b[90m│\u001b[39m \u001b[31m\u001b[1mshould\u001b[22m\u001b[39m   \u001b[90m│\u001b[39m\r\n",
      "\u001b[90m│\u001b[39m          \u001b[90m│\u001b[39m input:   \u001b[90m│\u001b[39m the sum  \u001b[90m│\u001b[39m          \u001b[90m│\u001b[39m + b + c) \u001b[90m│\u001b[39m          \u001b[90m│\u001b[39m \u001b[31m\u001b[1mnot give\u001b[22m\u001b[39m \u001b[90m│\u001b[39m\r\n",
      "\u001b[90m│\u001b[39m          \u001b[90m│\u001b[39m 3        \u001b[90m│\u001b[39m of three \u001b[90m│\u001b[39m          \u001b[90m│\u001b[39m          \u001b[90m│\u001b[39m          \u001b[90m│\u001b[39m \u001b[31m\u001b[1ma direct\u001b[22m\u001b[39m \u001b[90m│\u001b[39m\r\n",
      "\u001b[90m│\u001b[39m          \u001b[90m│\u001b[39m 6        \u001b[90m│\u001b[39m integer  \u001b[90m│\u001b[39m          \u001b[90m│\u001b[39m          \u001b[90m│\u001b[39m          \u001b[90m│\u001b[39m \u001b[31m\u001b[1manswer.\u001b[22m\u001b[39m  \u001b[90m│\u001b[39m\r\n",
      "\u001b[90m│\u001b[39m          \u001b[90m│\u001b[39m 8        \u001b[90m│\u001b[39m numbers. \u001b[90m│\u001b[39m          \u001b[90m│\u001b[39m          \u001b[90m│\u001b[39m          \u001b[90m│\u001b[39m \u001b[31m\u001b[1m2. The\u001b[22m\u001b[39m   \u001b[90m│\u001b[39m\r\n",
      "\u001b[90m│\u001b[39m          \u001b[90m│\u001b[39m Correct  \u001b[90m│\u001b[39m Don't    \u001b[90m│\u001b[39m          \u001b[90m│\u001b[39m          \u001b[90m│\u001b[39m          \u001b[90m│\u001b[39m \u001b[31m\u001b[1msubmiss\u001b[22m\u001b[39m… \u001b[90m│\u001b[39m\r\n",
      "\u001b[90m│\u001b[39m          \u001b[90m│\u001b[39m output:  \u001b[90m│\u001b[39m specify  \u001b[90m│\u001b[39m          \u001b[90m│\u001b[39m          \u001b[90m│\u001b[39m          \u001b[90m│\u001b[39m \u001b[31m\u001b[1midentif\u001b[22m\u001b[39m… \u001b[90m│\u001b[39m\r\n",
      "\u001b[90m│\u001b[39m          \u001b[90m│\u001b[39m 17       \u001b[90m│\u001b[39m any      \u001b[90m│\u001b[39m          \u001b[90m│\u001b[39m          \u001b[90m│\u001b[39m          \u001b[90m│\u001b[39m \u001b[31m\u001b[1mthe\u001b[22m\u001b[39m      \u001b[90m│\u001b[39m\r\n",
      "\u001b[90m│\u001b[39m          \u001b[90m│\u001b[39m Your     \u001b[90m│\u001b[39m message  \u001b[90m│\u001b[39m          \u001b[90m│\u001b[39m          \u001b[90m│\u001b[39m          \u001b[90m│\u001b[39m \u001b[31m\u001b[1mspecific\u001b[22m\u001b[39m \u001b[90m│\u001b[39m\r\n",
      "\u001b[90m│\u001b[39m          \u001b[90m│\u001b[39m code     \u001b[90m│\u001b[39m in the   \u001b[90m│\u001b[39m          \u001b[90m│\u001b[39m          \u001b[90m│\u001b[39m          \u001b[90m│\u001b[39m \u001b[31m\u001b[1merror in\u001b[22m\u001b[39m \u001b[90m│\u001b[39m\r\n",
      "\u001b[90m│\u001b[39m          \u001b[90m│\u001b[39m output:  \u001b[90m│\u001b[39m input,   \u001b[90m│\u001b[39m          \u001b[90m│\u001b[39m          \u001b[90m│\u001b[39m          \u001b[90m│\u001b[39m \u001b[31m\u001b[1mthe\u001b[22m\u001b[39m      \u001b[90m│\u001b[39m\r\n",
      "\u001b[90m│\u001b[39m          \u001b[90m│\u001b[39m Error:   \u001b[90m│\u001b[39m please.… \u001b[90m│\u001b[39m          \u001b[90m│\u001b[39m          \u001b[90m│\u001b[39m          \u001b[90m│\u001b[39m \u001b[31m\u001b[1mstudent\u001b[22m\u001b[39m… \u001b[90m│\u001b[39m\r\n",
      "\u001b[90m│\u001b[39m          \u001b[90m│\u001b[39m Traceba… \u001b[90m│\u001b[39m class=\"… \u001b[90m│\u001b[39m          \u001b[90m│\u001b[39m          \u001b[90m│\u001b[39m          \u001b[90m│\u001b[39m \u001b[31m\u001b[1mcode,\u001b[22m\u001b[39m    \u001b[90m│\u001b[39m\r\n",
      "\u001b[90m│\u001b[39m          \u001b[90m│\u001b[39m (most    \u001b[90m│\u001b[39m alert-p… \u001b[90m│\u001b[39m          \u001b[90m│\u001b[39m          \u001b[90m│\u001b[39m          \u001b[90m│\u001b[39m \u001b[31m\u001b[1mwhich is\u001b[22m\u001b[39m \u001b[90m│\u001b[39m\r\n",
      "\u001b[90m│\u001b[39m          \u001b[90m│\u001b[39m recent   \u001b[90m│\u001b[39m use      \u001b[90m│\u001b[39m          \u001b[90m│\u001b[39m          \u001b[90m│\u001b[39m          \u001b[90m│\u001b[39m \u001b[31m\u001b[1mtrying\u001b[22m\u001b[39m   \u001b[90m│\u001b[39m\r\n",
      "\u001b[90m│\u001b[39m          \u001b[90m│\u001b[39m call     \u001b[90m│\u001b[39m specific \u001b[90m│\u001b[39m          \u001b[90m│\u001b[39m          \u001b[90m│\u001b[39m          \u001b[90m│\u001b[39m \u001b[31m\u001b[1mto\u001b[22m\u001b[39m       \u001b[90m│\u001b[39m\r\n",
      "\u001b[90m│\u001b[39m          \u001b[90m│\u001b[39m last):   \u001b[90m│\u001b[39m numbers  \u001b[90m│\u001b[39m          \u001b[90m│\u001b[39m          \u001b[90m│\u001b[39m          \u001b[90m│\u001b[39m \u001b[31m\u001b[1mconvert\u001b[22m\u001b[39m  \u001b[90m│\u001b[39m\r\n",
      "\u001b[90m│\u001b[39m          \u001b[90m│\u001b[39m   File   \u001b[90m│\u001b[39m from the \u001b[90m│\u001b[39m          \u001b[90m│\u001b[39m          \u001b[90m│\u001b[39m          \u001b[90m│\u001b[39m \u001b[31m\u001b[1mthe\u001b[22m\u001b[39m      \u001b[90m│\u001b[39m\r\n",
      "\u001b[90m│\u001b[39m          \u001b[90m│\u001b[39m \"/sandb… \u001b[90m│\u001b[39m ex...    \u001b[90m│\u001b[39m          \u001b[90m│\u001b[39m          \u001b[90m│\u001b[39m          \u001b[90m│\u001b[39m \u001b[31m\u001b[1minput\u001b[22m\u001b[39m    \u001b[90m│\u001b[39m\r\n",
      "\u001b[90m│\u001b[39m          \u001b[90m│\u001b[39m line 1,  \u001b[90m│\u001b[39m          \u001b[90m│\u001b[39m          \u001b[90m│\u001b[39m          \u001b[90m│\u001b[39m          \u001b[90m│\u001b[39m \u001b[31m\u001b[1mfunction\u001b[22m\u001b[39m \u001b[90m│\u001b[39m\r\n",
      "\u001b[90m│\u001b[39m          \u001b[90m│\u001b[39m in       \u001b[90m│\u001b[39m          \u001b[90m│\u001b[39m          \u001b[90m│\u001b[39m          \u001b[90m│\u001b[39m          \u001b[90m│\u001b[39m \u001b[31m\u001b[1mdirectl\u001b[22m\u001b[39m… \u001b[90m│\u001b[39m\r\n",
      "\u001b[90m│\u001b[39m          \u001b[90m│\u001b[39m <module> \u001b[90m│\u001b[39m          \u001b[90m│\u001b[39m          \u001b[90m│\u001b[39m          \u001b[90m│\u001b[39m          \u001b[90m│\u001b[39m          \u001b[90m│\u001b[39m\r\n",
      "\u001b[90m│\u001b[39m          \u001b[90m│\u001b[39m     a =  \u001b[90m│\u001b[39m          \u001b[90m│\u001b[39m          \u001b[90m│\u001b[39m          \u001b[90m│\u001b[39m          \u001b[90m│\u001b[39m          \u001b[90m│\u001b[39m\r\n",
      "\u001b[90m│\u001b[39m          \u001b[90m│\u001b[39m int(...  \u001b[90m│\u001b[39m          \u001b[90m│\u001b[39m          \u001b[90m│\u001b[39m          \u001b[90m│\u001b[39m          \u001b[90m│\u001b[39m          \u001b[90m│\u001b[39m\r\n",
      "\u001b[90m├──────────\u001b[39m\u001b[90m┼──────────\u001b[39m\u001b[90m┼──────────\u001b[39m\u001b[90m┼──────────\u001b[39m\u001b[90m┼──────────\u001b[39m\u001b[90m┼──────────\u001b[39m\u001b[90m┼──────────┤\u001b[39m\r\n",
      "\u001b[90m│\u001b[39m python_9 \u001b[90m│\u001b[39m Failed   \u001b[90m│\u001b[39m <p></p>  \u001b[90m│\u001b[39m [{\"inpu… \u001b[90m│\u001b[39m a =      \u001b[90m│\u001b[39m a =      \u001b[90m│\u001b[39m \u001b[32m[PASS]\u001b[39m   \u001b[90m│\u001b[39m\r\n",
      "\u001b[90m│\u001b[39m          \u001b[90m│\u001b[39m test #2  \u001b[90m│\u001b[39m <p>Write \u001b[90m│\u001b[39m Brother  \u001b[90m│\u001b[39m input()  \u001b[90m│\u001b[39m input()  \u001b[90m│\u001b[39m \u001b[32m\u001b[39mIn your  \u001b[90m│\u001b[39m\r\n",
      "\u001b[90m│\u001b[39m          \u001b[90m│\u001b[39m of 3.    \u001b[90m│\u001b[39m a        \u001b[90m│\u001b[39m watches  \u001b[90m│\u001b[39m b =      \u001b[90m│\u001b[39m b =      \u001b[90m│\u001b[39m code,    \u001b[90m│\u001b[39m\r\n",
      "\u001b[90m│\u001b[39m          \u001b[90m│\u001b[39m Wrong    \u001b[90m│\u001b[39m program  \u001b[90m│\u001b[39m you\\nFa… \u001b[90m│\u001b[39m input()  \u001b[90m│\u001b[39m input()  \u001b[90m│\u001b[39m you are  \u001b[90m│\u001b[39m\r\n",
      "\u001b[90m│\u001b[39m          \u001b[90m│\u001b[39m answer   \u001b[90m│\u001b[39m that     \u001b[90m│\u001b[39m          \u001b[90m│\u001b[39m # run    \u001b[90m│\u001b[39m # run    \u001b[90m│\u001b[39m checking \u001b[90m│\u001b[39m\r\n",
      "\u001b[90m│\u001b[39m          \u001b[90m│\u001b[39m          \u001b[90m│\u001b[39m takes    \u001b[90m│\u001b[39m          \u001b[90m│\u001b[39m the      \u001b[90m│\u001b[39m the      \u001b[90m│\u001b[39m if the   \u001b[90m│\u001b[39m\r\n",
      "\u001b[90m│\u001b[39m          \u001b[90m│\u001b[39m          \u001b[90m│\u001b[39m two      \u001b[90m│\u001b[39m          \u001b[90m│\u001b[39m members… \u001b[90m│\u001b[39m members… \u001b[90m│\u001b[39m first    \u001b[90m│\u001b[39m\r\n",
      "\u001b[90m│\u001b[39m          \u001b[90m│\u001b[39m          \u001b[90m│\u001b[39m strings, \u001b[90m│\u001b[39m          \u001b[90m│\u001b[39m test     \u001b[90m│\u001b[39m test     \u001b[90m│\u001b[39m string   \u001b[90m│\u001b[39m\r\n",
      "\u001b[90m│\u001b[39m          \u001b[90m│\u001b[39m          \u001b[90m│\u001b[39m checks   \u001b[90m│\u001b[39m          \u001b[90m│\u001b[39m below    \u001b[90m│\u001b[39m below    \u001b[90m│\u001b[39m is in    \u001b[90m│\u001b[39m\r\n",
      "\u001b[90m│\u001b[39m          \u001b[90m│\u001b[39m          \u001b[90m│\u001b[39m whether  \u001b[90m│\u001b[39m          \u001b[90m│\u001b[39m print(b  \u001b[90m│\u001b[39m print(a  \u001b[90m│\u001b[39m the      \u001b[90m│\u001b[39m\r\n",
      "\u001b[90m│\u001b[39m          \u001b[90m│\u001b[39m          \u001b[90m│\u001b[39m the      \u001b[90m│\u001b[39m          \u001b[90m│\u001b[39m in a)    \u001b[90m│\u001b[39m in b)    \u001b[90m│\u001b[39m second   \u001b[90m│\u001b[39m\r\n",
      "\u001b[90m│\u001b[39m          \u001b[90m│\u001b[39m          \u001b[90m│\u001b[39m first    \u001b[90m│\u001b[39m          \u001b[90m│\u001b[39m          \u001b[90m│\u001b[39m          \u001b[90m│\u001b[39m string   \u001b[90m│\u001b[39m\r\n",
      "\u001b[90m│\u001b[39m          \u001b[90m│\u001b[39m          \u001b[90m│\u001b[39m string   \u001b[90m│\u001b[39m          \u001b[90m│\u001b[39m          \u001b[90m│\u001b[39m          \u001b[90m│\u001b[39m instead  \u001b[90m│\u001b[39m\r\n",
      "\u001b[90m│\u001b[39m          \u001b[90m│\u001b[39m          \u001b[90m│\u001b[39m contains \u001b[90m│\u001b[39m          \u001b[90m│\u001b[39m          \u001b[90m│\u001b[39m          \u001b[90m│\u001b[39m of       \u001b[90m│\u001b[39m\r\n",
      "\u001b[90m│\u001b[39m          \u001b[90m│\u001b[39m          \u001b[90m│\u001b[39m the      \u001b[90m│\u001b[39m          \u001b[90m│\u001b[39m          \u001b[90m│\u001b[39m          \u001b[90m│\u001b[39m checking \u001b[90m│\u001b[39m\r\n",
      "\u001b[90m│\u001b[39m          \u001b[90m│\u001b[39m          \u001b[90m│\u001b[39m second   \u001b[90m│\u001b[39m          \u001b[90m│\u001b[39m          \u001b[90m│\u001b[39m          \u001b[90m│\u001b[39m if the   \u001b[90m│\u001b[39m\r\n",
      "\u001b[90m│\u001b[39m          \u001b[90m│\u001b[39m          \u001b[90m│\u001b[39m one and  \u001b[90m│\u001b[39m          \u001b[90m│\u001b[39m          \u001b[90m│\u001b[39m          \u001b[90m│\u001b[39m second   \u001b[90m│\u001b[39m\r\n",
      "\u001b[90m│\u001b[39m          \u001b[90m│\u001b[39m          \u001b[90m│\u001b[39m prints   \u001b[90m│\u001b[39m          \u001b[90m│\u001b[39m          \u001b[90m│\u001b[39m          \u001b[90m│\u001b[39m string   \u001b[90m│\u001b[39m\r\n",
      "\u001b[90m│\u001b[39m          \u001b[90m│\u001b[39m          \u001b[90m│\u001b[39m the      \u001b[90m│\u001b[39m          \u001b[90m│\u001b[39m          \u001b[90m│\u001b[39m          \u001b[90m│\u001b[39m is in    \u001b[90m│\u001b[39m\r\n",
      "\u001b[90m│\u001b[39m          \u001b[90m│\u001b[39m          \u001b[90m│\u001b[39m result   \u001b[90m│\u001b[39m          \u001b[90m│\u001b[39m          \u001b[90m│\u001b[39m          \u001b[90m│\u001b[39m the      \u001b[90m│\u001b[39m\r\n",
      "\u001b[90m│\u001b[39m          \u001b[90m│\u001b[39m          \u001b[90m│\u001b[39m of the   \u001b[90m│\u001b[39m          \u001b[90m│\u001b[39m          \u001b[90m│\u001b[39m          \u001b[90m│\u001b[39m first    \u001b[90m│\u001b[39m\r\n",
      "\u001b[90m│\u001b[39m          \u001b[90m│\u001b[39m          \u001b[90m│\u001b[39m members… \u001b[90m│\u001b[39m          \u001b[90m│\u001b[39m          \u001b[90m│\u001b[39m          \u001b[90m│\u001b[39m string.  \u001b[90m│\u001b[39m\r\n",
      "\u001b[90m│\u001b[39m          \u001b[90m│\u001b[39m          \u001b[90m│\u001b[39m test.</… \u001b[90m│\u001b[39m          \u001b[90m│\u001b[39m          \u001b[90m│\u001b[39m          \u001b[90m│\u001b[39m To fix   \u001b[90m│\u001b[39m\r\n",
      "\u001b[90m│\u001b[39m          \u001b[90m│\u001b[39m          \u001b[90m│\u001b[39m <p>The   \u001b[90m│\u001b[39m          \u001b[90m│\u001b[39m          \u001b[90m│\u001b[39m          \u001b[90m│\u001b[39m this,    \u001b[90m│\u001b[39m\r\n",
      "\u001b[90m│\u001b[39m          \u001b[90m│\u001b[39m          \u001b[90m│\u001b[39m variabl… \u001b[90m│\u001b[39m          \u001b[90m│\u001b[39m          \u001b[90m│\u001b[39m          \u001b[90m│\u001b[39m you      \u001b[90m│\u001b[39m\r\n",
      "\u001b[90m│\u001b[39m          \u001b[90m│\u001b[39m          \u001b[90m│\u001b[39m for both \u001b[90m│\u001b[39m          \u001b[90m│\u001b[39m          \u001b[90m│\u001b[39m          \u001b[90m│\u001b[39m should   \u001b[90m│\u001b[39m\r\n",
      "\u001b[90m│\u001b[39m          \u001b[90m│\u001b[39m          \u001b[90m│\u001b[39m input    \u001b[90m│\u001b[39m          \u001b[90m│\u001b[39m          \u001b[90m│\u001b[39m          \u001b[90m│\u001b[39m change   \u001b[90m│\u001b[39m\r\n",
      "\u001b[90m│\u001b[39m          \u001b[90m│\u001b[39m          \u001b[90m│\u001b[39m strings  \u001b[90m│\u001b[39m          \u001b[90m│\u001b[39m          \u001b[90m│\u001b[39m          \u001b[90m│\u001b[39m the      \u001b[90m│\u001b[39m\r\n",
      "\u001b[90m│\u001b[39m          \u001b[90m│\u001b[39m          \u001b[90m│\u001b[39m have     \u001b[90m│\u001b[39m          \u001b[90m│\u001b[39m          \u001b[90m│\u001b[39m          \u001b[90m│\u001b[39m order of \u001b[90m│\u001b[39m\r\n",
      "\u001b[90m│\u001b[39m          \u001b[90m│\u001b[39m          \u001b[90m│\u001b[39m already  \u001b[90m│\u001b[39m          \u001b[90m│\u001b[39m          \u001b[90m│\u001b[39m          \u001b[90m│\u001b[39m the      \u001b[90m│\u001b[39m\r\n",
      "\u001b[90m│\u001b[39m          \u001b[90m│\u001b[39m          \u001b[90m│\u001b[39m been     \u001b[90m│\u001b[39m          \u001b[90m│\u001b[39m          \u001b[90m│\u001b[39m          \u001b[90m│\u001b[39m variabl… \u001b[90m│\u001b[39m\r\n",
      "\u001b[90m│\u001b[39m          \u001b[90m│\u001b[39m          \u001b[90m│\u001b[39m defined… \u001b[90m│\u001b[39m          \u001b[90m│\u001b[39m          \u001b[90m│\u001b[39m          \u001b[90m│\u001b[39m in the   \u001b[90m│\u001b[39m\r\n",
      "\u001b[90m│\u001b[39m          \u001b[90m│\u001b[39m          \u001b[90m│\u001b[39m          \u001b[90m│\u001b[39m          \u001b[90m│\u001b[39m          \u001b[90m│\u001b[39m          \u001b[90m│\u001b[39m members… \u001b[90m│\u001b[39m\r\n",
      "\u001b[90m│\u001b[39m          \u001b[90m│\u001b[39m          \u001b[90m│\u001b[39m          \u001b[90m│\u001b[39m          \u001b[90m│\u001b[39m          \u001b[90m│\u001b[39m          \u001b[90m│\u001b[39m test.    \u001b[90m│\u001b[39m\r\n",
      "\u001b[90m│\u001b[39m          \u001b[90m│\u001b[39m          \u001b[90m│\u001b[39m          \u001b[90m│\u001b[39m          \u001b[90m│\u001b[39m          \u001b[90m│\u001b[39m          \u001b[90m│\u001b[39m Instead  \u001b[90m│\u001b[39m\r\n",
      "\u001b[90m│\u001b[39m          \u001b[90m│\u001b[39m          \u001b[90m│\u001b[39m          \u001b[90m│\u001b[39m          \u001b[90m│\u001b[39m          \u001b[90m│\u001b[39m          \u001b[90m│\u001b[39m of:      \u001b[90m│\u001b[39m\r\n",
      "\u001b[90m│\u001b[39m          \u001b[90m│\u001b[39m          \u001b[90m│\u001b[39m          \u001b[90m│\u001b[39m          \u001b[90m│\u001b[39m          \u001b[90m│\u001b[39m          \u001b[90m│\u001b[39m print(a  \u001b[90m│\u001b[39m\r\n",
      "\u001b[90m│\u001b[39m          \u001b[90m│\u001b[39m          \u001b[90m│\u001b[39m          \u001b[90m│\u001b[39m          \u001b[90m│\u001b[39m          \u001b[90m│\u001b[39m          \u001b[90m│\u001b[39m in ...   \u001b[90m│\u001b[39m\r\n",
      "\u001b[90m└──────────\u001b[39m\u001b[90m┴──────────\u001b[39m\u001b[90m┴──────────\u001b[39m\u001b[90m┴──────────\u001b[39m\u001b[90m┴──────────\u001b[39m\u001b[90m┴──────────\u001b[39m\u001b[90m┴──────────┘\u001b[39m\r\n",
      "\u001b[33mWriting output to ./outputs/output_1.json\u001b[39m\r\n",
      "======================================================================\r\n",
      "\u001b[32m✔\u001b[39m Evaluation complete.\r\n",
      "\r\n"
     ]
    },
    {
     "name": "stdout",
     "output_type": "stream",
     "text": [
      "» Run \u001b[92m\u001b[1mpromptfoo view\u001b[22m\u001b[39m to use the local web viewer\n",
      "» Run \u001b[92m\u001b[1mpromptfoo share\u001b[22m\u001b[39m to create a shareable URL\n",
      "» This project needs your feedback. What's one thing we can improve? \u001b[92m\u001b[1mhttps://forms.gle/YFLgTe1dKJKNSCsU7\u001b[22m\u001b[39m\n",
      "======================================================================\n",
      "\u001b[32m\u001b[1mSuccesses: 14\u001b[22m\u001b[39m\n",
      "\u001b[31m\u001b[1mFailures: 6\u001b[22m\u001b[39m\n",
      "Token usage: Total 76646, Prompt 0, Completion 0, Cached 9990\n",
      "Done.\n"
     ]
    }
   ],
   "source": [
    "make_eval(\"./outputs/output_1.json\")"
   ]
  },
  {
   "cell_type": "markdown",
   "id": "727e2b03",
   "metadata": {},
   "source": [
    "----\n",
    "\n",
    "## FIRST ATTEMPT TOTAL SCORE: 70%\n",
    "\n",
    "----"
   ]
  },
  {
   "cell_type": "markdown",
   "id": "89322daf",
   "metadata": {},
   "source": [
    "### Checking issues in the first prompt"
   ]
  },
  {
   "cell_type": "code",
   "execution_count": 260,
   "id": "e0595c80",
   "metadata": {},
   "outputs": [],
   "source": [
    "with open(\"./outputs/output_1.json\", 'r') as f:\n",
    "    feedbacks = json.load(f)\n",
    "\n",
    "def find_async_feedback_by_id(prefix, feedbacks, id_):\n",
    "    for feedback in feedbacks['results']['results']:\n",
    "        if feedback['vars']['id'] == f\"{prefix}_{id_}\":\n",
    "            return feedback"
   ]
  },
  {
   "cell_type": "code",
   "execution_count": 306,
   "id": "9bf29dfa",
   "metadata": {
    "scrolled": true
   },
   "outputs": [
    {
     "data": {
      "application/vnd.jupyter.widget-view+json": {
       "model_id": "13379bd4d77140de852cf736af43fb60",
       "version_major": 2,
       "version_minor": 0
      },
      "text/plain": [
       "HTML(value='<h1>Function, arguments and parameters</h1>')"
      ]
     },
     "metadata": {},
     "output_type": "display_data"
    },
    {
     "data": {
      "application/vnd.jupyter.widget-view+json": {
       "model_id": "5a6fde322a0543d6986f6a999a82caf2",
       "version_major": 2,
       "version_minor": 0
      },
      "text/plain": [
       "HTML(value=\"<h2><a href='https://hyperskill.org/learn/step/7248'>Equation</a></h2>\")"
      ]
     },
     "metadata": {},
     "output_type": "display_data"
    },
    {
     "data": {
      "application/vnd.jupyter.widget-view+json": {
       "model_id": "a3e6a14c71344b83b96c0b15c9339aea",
       "version_major": 2,
       "version_minor": 0
      },
      "text/plain": [
       "HTML(value='<p></p>\\n<p>Write a function <code class=\"java\">equation_writing()</code> that will <strong>print<…"
      ]
     },
     "metadata": {},
     "output_type": "display_data"
    },
    {
     "data": {
      "application/vnd.jupyter.widget-view+json": {
       "model_id": "f0e573bd27804e69b4a86259882a55e7",
       "version_major": 2,
       "version_minor": 0
      },
      "text/plain": [
       "HTML(value=\"<h3>Wrong Code Submission</h3><pre>def equation_writing(a, b, c):\\n    print(a, 'x +', b, '=', c)\\…"
      ]
     },
     "metadata": {},
     "output_type": "display_data"
    },
    {
     "data": {
      "application/vnd.jupyter.widget-view+json": {
       "model_id": "c7ea24aae15b4cbcb93e49cf7ab305c6",
       "version_major": 2,
       "version_minor": 0
      },
      "text/plain": [
       "HTML(value='<h3>Test Cases</h3>')"
      ]
     },
     "metadata": {},
     "output_type": "display_data"
    },
    {
     "data": {
      "application/vnd.jupyter.widget-view+json": {
       "model_id": "f0ca248f92c842cba7a0f8b7d97ed43e",
       "version_major": 2,
       "version_minor": 0
      },
      "text/plain": [
       "HTML(value='<strong>Input:</strong> 3 4 3 <strong>Output:</strong> 3 x + 4 = 3')"
      ]
     },
     "metadata": {},
     "output_type": "display_data"
    },
    {
     "data": {
      "application/vnd.jupyter.widget-view+json": {
       "model_id": "4ddfb8cc239f442f9d0dc4f787ec5636",
       "version_major": 2,
       "version_minor": 0
      },
      "text/plain": [
       "HTML(value='<h3>Feedback for Wrong Submission</h3><pre>Failed test #1 of 3. Wrong answer\\n\\nThis is a sample t…"
      ]
     },
     "metadata": {},
     "output_type": "display_data"
    },
    {
     "data": {
      "application/vnd.jupyter.widget-view+json": {
       "model_id": "a4d459170dc3434c9c9b98ab9cc65cc7",
       "version_major": 2,
       "version_minor": 0
      },
      "text/plain": [
       "HTML(value=\"<h3>Additional GPT Feedback</h3><pre>1. Change the existing print statement to use string formatti…"
      ]
     },
     "metadata": {},
     "output_type": "display_data"
    },
    {
     "data": {
      "application/vnd.jupyter.widget-view+json": {
       "model_id": "3bb12827bea7432a80d629fc33f618cb",
       "version_major": 2,
       "version_minor": 0
      },
      "text/plain": [
       "HTML(value='<h3>Correct Code Submission</h3><pre>def equation_writing(a, b, c):\\n    print(f\"{a} x + {b} = {c}…"
      ]
     },
     "metadata": {},
     "output_type": "display_data"
    },
    {
     "name": "stdout",
     "output_type": "stream",
     "text": [
      "----------------------------------------------------\n"
     ]
    },
    {
     "data": {
      "application/vnd.jupyter.widget-view+json": {
       "model_id": "a86797add3164ad4a5601626c5569ff6",
       "version_major": 2,
       "version_minor": 0
      },
      "text/plain": [
       "HTML(value='<h3>GPT New Feedback (Passed: False)</h3><pre>In your code, you are missing the f-string formattin…"
      ]
     },
     "metadata": {},
     "output_type": "display_data"
    },
    {
     "data": {
      "application/vnd.jupyter.widget-view+json": {
       "model_id": "79d4f7e01ae54f75bffbbcfe0a9646cd",
       "version_major": 2,
       "version_minor": 0
      },
      "text/plain": [
       "HTML(value='<h3>Evaluation feedback:</h3>')"
      ]
     },
     "metadata": {},
     "output_type": "display_data"
    },
    {
     "data": {
      "application/vnd.jupyter.widget-view+json": {
       "model_id": "11a67922893a42bc9a8f14f3b82c4dbc",
       "version_major": 2,
       "version_minor": 0
      },
      "text/plain": [
       "HTML(value='<h3>Score: 0.25. Passed: False</h3>')"
      ]
     },
     "metadata": {},
     "output_type": "display_data"
    },
    {
     "data": {
      "application/vnd.jupyter.widget-view+json": {
       "model_id": "26da4d1fb2f84a8cbbf9312e42cde8dc",
       "version_major": 2,
       "version_minor": 0
      },
      "text/plain": [
       "HTML(value='<h3>Reason:</h3>')"
      ]
     },
     "metadata": {},
     "output_type": "display_data"
    },
    {
     "name": "stdout",
     "output_type": "stream",
     "text": [
      "The submission does not meet the criterion:\n",
      "1. The criterion requires the feedback to be easy to understand for an adult programming newbie with no experience.\n",
      "2. The submission suggests that the student's error is not using f-string formatting and explains the importance of using f-string to correctly insert variables into the string.\n",
      "3. However, the student's code does use print statements correctly to output the desired format without explicitly using f-string formatting. The issue in the student's code is not the absence of f-string formatting but rather that the function was called twice, leading to duplicate output.\n",
      "4. The feedback provided in the submission does not accurately identify the mistake in the student's code. Instead, it incorrectly points to the lack of f-string formatting as the problem.\n",
      "5. For a programming newbie, this feedback might be confusing because it directs attention to an aspect of the code (f-string formatting) that is not the source of the error. The actual error (the function being called twice, leading to duplicate output) is not mentioned.\n",
      "6. Therefore, the feedback does not meet the criterion of being easy to understand for a programming newbie with no experience, as it misidentifies the problem and could lead to further confusion.\n",
      "\n",
      "N\n",
      "\n",
      "N\n",
      "\n"
     ]
    }
   ],
   "source": [
    "step = 1\n",
    "data = python['python']['code_problems'][step]\n",
    "feedback = find_async_feedback_by_id(\"python\", feedbacks, step)\n",
    "llm_feedback = feedback['response']['output']\n",
    "passed = feedback['success']\n",
    "grading = feedback['gradingResult']\n",
    "render_data(data, llm_feedback, passed, grading)"
   ]
  },
  {
   "cell_type": "markdown",
   "id": "b732cd61",
   "metadata": {},
   "source": [
    "**Note**: Student called function instead of just defining it, gpt is not able to detect this case."
   ]
  },
  {
   "cell_type": "code",
   "execution_count": 307,
   "id": "fdd68dd8",
   "metadata": {
    "scrolled": true
   },
   "outputs": [
    {
     "data": {
      "application/vnd.jupyter.widget-view+json": {
       "model_id": "1de4d032bdbe42a5adbbfe1a6b7f8dfe",
       "version_major": 2,
       "version_minor": 0
      },
      "text/plain": [
       "HTML(value='<h1>Type casting</h1>')"
      ]
     },
     "metadata": {},
     "output_type": "display_data"
    },
    {
     "data": {
      "application/vnd.jupyter.widget-view+json": {
       "model_id": "f87eae94fab943a387c1c207ec0a747c",
       "version_major": 2,
       "version_minor": 0
      },
      "text/plain": [
       "HTML(value=\"<h2><a href='https://hyperskill.org/learn/step/6224'>Lexical reduplication</a></h2>\")"
      ]
     },
     "metadata": {},
     "output_type": "display_data"
    },
    {
     "data": {
      "application/vnd.jupyter.widget-view+json": {
       "model_id": "c03c4e91d1d743e4add56609c1cbb4ba",
       "version_major": 2,
       "version_minor": 0
      },
      "text/plain": [
       "HTML(value='<p></p>\\n<p>The languages of the world are amazing! Programming languages too, but now we will tal…"
      ]
     },
     "metadata": {},
     "output_type": "display_data"
    },
    {
     "data": {
      "application/vnd.jupyter.widget-view+json": {
       "model_id": "83daf999cce946f28cd4eea3b1b9e482",
       "version_major": 2,
       "version_minor": 0
      },
      "text/plain": [
       "HTML(value='<h3>Wrong Code Submission</h3><pre>word = input()\\n\\n# Change the next line\\nprint(word)</pre>')"
      ]
     },
     "metadata": {},
     "output_type": "display_data"
    },
    {
     "data": {
      "application/vnd.jupyter.widget-view+json": {
       "model_id": "2adeac1acca9452b889af2d1f6b76506",
       "version_major": 2,
       "version_minor": 0
      },
      "text/plain": [
       "HTML(value='<h3>Test Cases</h3>')"
      ]
     },
     "metadata": {},
     "output_type": "display_data"
    },
    {
     "data": {
      "application/vnd.jupyter.widget-view+json": {
       "model_id": "c8a105f1fcef4b6e9fe3d4c7a3b69417",
       "version_major": 2,
       "version_minor": 0
      },
      "text/plain": [
       "HTML(value='<strong>Input:</strong> maru <strong>Output:</strong> marumaru')"
      ]
     },
     "metadata": {},
     "output_type": "display_data"
    },
    {
     "data": {
      "application/vnd.jupyter.widget-view+json": {
       "model_id": "058f5638837945d8a974906806aaade7",
       "version_major": 2,
       "version_minor": 0
      },
      "text/plain": [
       "HTML(value='<h3>Feedback for Wrong Submission</h3><pre>Failed test #1 of 8. Wrong answer\\n\\nThis is a sample t…"
      ]
     },
     "metadata": {},
     "output_type": "display_data"
    },
    {
     "data": {
      "application/vnd.jupyter.widget-view+json": {
       "model_id": "2b05edb64e0e4bd3a1625620296950c0",
       "version_major": 2,
       "version_minor": 0
      },
      "text/plain": [
       "HTML(value='<h3>Additional GPT Feedback</h3><pre>1. Change the print statement to print the variable word conc…"
      ]
     },
     "metadata": {},
     "output_type": "display_data"
    },
    {
     "data": {
      "application/vnd.jupyter.widget-view+json": {
       "model_id": "ac78554439b149fbb51965a6635e4bfc",
       "version_major": 2,
       "version_minor": 0
      },
      "text/plain": [
       "HTML(value='<h3>Correct Code Submission</h3><pre>word = input()\\n\\n# Change the next line\\nprint(word*2)</pre>…"
      ]
     },
     "metadata": {},
     "output_type": "display_data"
    },
    {
     "name": "stdout",
     "output_type": "stream",
     "text": [
      "----------------------------------------------------\n"
     ]
    },
    {
     "data": {
      "application/vnd.jupyter.widget-view+json": {
       "model_id": "de442a9a33184582b058262b8b2fb012",
       "version_major": 2,
       "version_minor": 0
      },
      "text/plain": [
       "HTML(value='<h3>GPT New Feedback (Passed: True)</h3><pre>In your code, you are only printing the word once ins…"
      ]
     },
     "metadata": {},
     "output_type": "display_data"
    },
    {
     "data": {
      "application/vnd.jupyter.widget-view+json": {
       "model_id": "c70a1be8305848429cacfea0aa7d5500",
       "version_major": 2,
       "version_minor": 0
      },
      "text/plain": [
       "HTML(value='<h3>Evaluation feedback:</h3>')"
      ]
     },
     "metadata": {},
     "output_type": "display_data"
    },
    {
     "data": {
      "application/vnd.jupyter.widget-view+json": {
       "model_id": "8488daedb8da4476ab46a97289b02d4d",
       "version_major": 2,
       "version_minor": 0
      },
      "text/plain": [
       "HTML(value='<h3>Score: 1. Passed: True</h3>')"
      ]
     },
     "metadata": {},
     "output_type": "display_data"
    },
    {
     "data": {
      "application/vnd.jupyter.widget-view+json": {
       "model_id": "bf8808fb0540498480779a5b0e38d50f",
       "version_major": 2,
       "version_minor": 0
      },
      "text/plain": [
       "HTML(value='<h3>Reason:</h3>')"
      ]
     },
     "metadata": {},
     "output_type": "display_data"
    },
    {
     "name": "stdout",
     "output_type": "stream",
     "text": [
      "All assertions passed\n",
      "\n"
     ]
    }
   ],
   "source": [
    "step = 7\n",
    "data = python['python']['code_problems'][step]\n",
    "feedback = find_async_feedback_by_id(\"python\", feedbacks, step)\n",
    "llm_feedback = feedback['response']['output']\n",
    "passed = feedback['success']\n",
    "grading = feedback['gradingResult']\n",
    "render_data(data, llm_feedback, passed, grading)"
   ]
  },
  {
   "cell_type": "markdown",
   "id": "5d27f36d",
   "metadata": {},
   "source": [
    "**Note**: Output contains direct solution. We have to improve prompt handling this case"
   ]
  },
  {
   "cell_type": "code",
   "execution_count": 266,
   "id": "eaa8e4b6",
   "metadata": {},
   "outputs": [
    {
     "data": {
      "application/vnd.jupyter.widget-view+json": {
       "model_id": "f6d57c5c9f4a45dcb3deb4e355d17b7f",
       "version_major": 2,
       "version_minor": 0
      },
      "text/plain": [
       "HTML(value=\"<h1>Taking user's input</h1>\")"
      ]
     },
     "metadata": {},
     "output_type": "display_data"
    },
    {
     "data": {
      "application/vnd.jupyter.widget-view+json": {
       "model_id": "769add48f44f4bed883ee3e91d76c777",
       "version_major": 2,
       "version_minor": 0
      },
      "text/plain": [
       "HTML(value=\"<h2><a href='https://hyperskill.org/learn/step/5913'>Sum</a></h2>\")"
      ]
     },
     "metadata": {},
     "output_type": "display_data"
    },
    {
     "data": {
      "application/vnd.jupyter.widget-view+json": {
       "model_id": "8326aa67cade44cba44fb4ca5a004731",
       "version_major": 2,
       "version_minor": 0
      },
      "text/plain": [
       "HTML(value='<p></p><p>Write a program that reads three numbers from the input separately and prints the sum of…"
      ]
     },
     "metadata": {},
     "output_type": "display_data"
    },
    {
     "data": {
      "application/vnd.jupyter.widget-view+json": {
       "model_id": "53c5103fafaa4bb2ba5adfb2168e89a9",
       "version_major": 2,
       "version_minor": 0
      },
      "text/plain": [
       "HTML(value='<h3>Wrong Code Submission</h3><pre>a = int(input)\\nb = int(input)\\nc = int(input)\\nsum = a + b + c…"
      ]
     },
     "metadata": {},
     "output_type": "display_data"
    },
    {
     "data": {
      "application/vnd.jupyter.widget-view+json": {
       "model_id": "b2358936111243f5ad15d65f5eb57f8b",
       "version_major": 2,
       "version_minor": 0
      },
      "text/plain": [
       "HTML(value='<h3>Test Cases</h3>')"
      ]
     },
     "metadata": {},
     "output_type": "display_data"
    },
    {
     "data": {
      "application/vnd.jupyter.widget-view+json": {
       "model_id": "0719a2d6880c45aa8824f9d9e98c8b69",
       "version_major": 2,
       "version_minor": 0
      },
      "text/plain": [
       "HTML(value='<strong>Input:</strong> 3\\n6\\n8 <strong>Output:</strong> 17')"
      ]
     },
     "metadata": {},
     "output_type": "display_data"
    },
    {
     "data": {
      "application/vnd.jupyter.widget-view+json": {
       "model_id": "afc6099370434f1b8d87d46391e9d6b0",
       "version_major": 2,
       "version_minor": 0
      },
      "text/plain": [
       "HTML(value='<h3>Feedback for Wrong Submission</h3><pre>Failed test #1 of 11. Runtime error\\n\\nThis is a sample…"
      ]
     },
     "metadata": {},
     "output_type": "display_data"
    },
    {
     "data": {
      "application/vnd.jupyter.widget-view+json": {
       "model_id": "4117ea6e32ce49e09894229c014507f0",
       "version_major": 2,
       "version_minor": 0
      },
      "text/plain": [
       "HTML(value='<h3>Additional GPT Feedback</h3><pre>1. Change all occurrences of \"input\" to \"input()\" to correctl…"
      ]
     },
     "metadata": {},
     "output_type": "display_data"
    },
    {
     "data": {
      "application/vnd.jupyter.widget-view+json": {
       "model_id": "80c7612903c344b4a990181b9d011bff",
       "version_major": 2,
       "version_minor": 0
      },
      "text/plain": [
       "HTML(value='<h3>Correct Code Submission</h3><pre># put your python code here\\na = int(input())\\nb = int(input(…"
      ]
     },
     "metadata": {},
     "output_type": "display_data"
    },
    {
     "name": "stdout",
     "output_type": "stream",
     "text": [
      "----------------------------------------------------\n"
     ]
    },
    {
     "data": {
      "application/vnd.jupyter.widget-view+json": {
       "model_id": "a57345a6c74147a7856b44a7ab3f2513",
       "version_major": 2,
       "version_minor": 0
      },
      "text/plain": [
       "HTML(value=\"<h3>GPT New Feedback (Passed: False)</h3><pre>In your code, you are trying to convert the input fu…"
      ]
     },
     "metadata": {},
     "output_type": "display_data"
    },
    {
     "data": {
      "application/vnd.jupyter.widget-view+json": {
       "model_id": "ab94a19a12434dbda67505652c76b9a8",
       "version_major": 2,
       "version_minor": 0
      },
      "text/plain": [
       "HTML(value='<h3>Evaluation feedback:</h3>')"
      ]
     },
     "metadata": {},
     "output_type": "display_data"
    },
    {
     "data": {
      "application/vnd.jupyter.widget-view+json": {
       "model_id": "ebd8b55c557d45b5aed63d3ea15ce751",
       "version_major": 2,
       "version_minor": 0
      },
      "text/plain": [
       "HTML(value='<h3>Score: 0.75. Passed: False</h3>')"
      ]
     },
     "metadata": {},
     "output_type": "display_data"
    },
    {
     "data": {
      "application/vnd.jupyter.widget-view+json": {
       "model_id": "76a19b69dac94376b723c0e435b43cb0",
       "version_major": 2,
       "version_minor": 0
      },
      "text/plain": [
       "HTML(value='<h3>Reason:</h3>')"
      ]
     },
     "metadata": {},
     "output_type": "display_data"
    },
    {
     "name": "stdout",
     "output_type": "stream",
     "text": [
      "The submission does not meet the criterion:\n",
      "1. The criterion specifies that the feedback should not give a direct answer.\n",
      "2. The submission identifies the specific error in the student's code, which is trying to convert the input function directly to an integer.\n",
      "3. The submission provides actionable advice on how to correct the error by explaining the need to call the input function before converting it to an integer.\n",
      "4. However, the submission then directly provides the corrected code, which includes the exact lines of code the student should use to fix their program.\n",
      "5. Providing the corrected code directly contradicts the criterion of not giving a direct answer.\n",
      "\n",
      "N\n",
      "\n",
      "N\n",
      "\n"
     ]
    }
   ],
   "source": [
    "step = 8\n",
    "data = python['python']['code_problems'][step]\n",
    "feedback = find_async_feedback_by_id(\"python\", feedbacks, step)\n",
    "llm_feedback = feedback['response']['output']\n",
    "passed = feedback['success']\n",
    "grading = feedback['gradingResult']\n",
    "render_data(data, llm_feedback, passed, grading)"
   ]
  },
  {
   "cell_type": "markdown",
   "id": "6a98f8fc",
   "metadata": {},
   "source": [
    "**Note:** Direct solution. Again."
   ]
  },
  {
   "cell_type": "markdown",
   "id": "276089a4",
   "metadata": {},
   "source": [
    "### First prompt issues exporation results:\n",
    "- Frequently gives direct solutions\n",
    "- Not able to detect function calling in one of the user submissions\n",
    "\n",
    "\n",
    "### Possible ways to improve the prompt:\n",
    "- Add the IMPORTANT statement to focus the model on not giving the direct solutions"
   ]
  },
  {
   "cell_type": "markdown",
   "id": "161e14c4",
   "metadata": {},
   "source": [
    "# Testing the second prompt attempt\n",
    "Lets try to fix the prompt"
   ]
  },
  {
   "cell_type": "code",
   "execution_count": 4,
   "id": "f4d4ed8a",
   "metadata": {},
   "outputs": [
    {
     "ename": "NameError",
     "evalue": "name 'create_data_template' is not defined",
     "output_type": "error",
     "traceback": [
      "\u001b[0;31m---------------------------------------------------------------------------\u001b[0m",
      "\u001b[0;31mNameError\u001b[0m                                 Traceback (most recent call last)",
      "Cell \u001b[0;32mIn[4], line 5\u001b[0m\n\u001b[1;32m      1\u001b[0m \u001b[38;5;66;03m# Prompt is adapted for promptfoo evaluation system, so we are using {{}} instead of f-strings\u001b[39;00m\n\u001b[1;32m      2\u001b[0m prompt \u001b[38;5;241m=\u001b[39m \\\n\u001b[1;32m      3\u001b[0m \u001b[38;5;124mf\u001b[39m\u001b[38;5;124m\"\"\"\u001b[39m\u001b[38;5;124mThis is feedback of the coding testing system. \u001b[39m\n\u001b[1;32m      4\u001b[0m \u001b[38;5;124mWrite a human feedback explaining the student what to fix and why theirs solution is wrong.\u001b[39m\n\u001b[0;32m----> 5\u001b[0m \u001b[38;5;132;01m{\u001b[39;00m\u001b[43mcreate_data_template\u001b[49m(extract_important_data_1(data))\u001b[38;5;132;01m}\u001b[39;00m\n\u001b[1;32m      6\u001b[0m \u001b[38;5;124mHighlight the specific errors in the student\u001b[39m\u001b[38;5;124m'\u001b[39m\u001b[38;5;124ms code.\u001b[39m\n\u001b[1;32m      7\u001b[0m \u001b[38;5;124mOffer actionable advice for correcting these errors.\u001b[39m\n\u001b[1;32m      8\u001b[0m \u001b[38;5;124mEncourage best coding practices and make the answer simple to understand for a adult programming newbie with no experience.\u001b[39m\n\u001b[1;32m      9\u001b[0m \u001b[38;5;124mMake your asnwer scructured, using list with items.\u001b[39m\n\u001b[1;32m     10\u001b[0m \u001b[38;5;124mIMPORTANT: DO NOT GIVE DIRECT SOLUTION, JUST A HINT!\u001b[39m\u001b[38;5;124m\"\"\"\u001b[39m \u001b[38;5;66;03m# Adding this line\u001b[39;00m\n\u001b[1;32m     12\u001b[0m \u001b[38;5;28;01mwith\u001b[39;00m \u001b[38;5;28mopen\u001b[39m(\u001b[38;5;124m\"\u001b[39m\u001b[38;5;124m./prompts/prompt.txt\u001b[39m\u001b[38;5;124m\"\u001b[39m, \u001b[38;5;124m'\u001b[39m\u001b[38;5;124mw\u001b[39m\u001b[38;5;124m'\u001b[39m) \u001b[38;5;28;01mas\u001b[39;00m f:\n\u001b[1;32m     13\u001b[0m     f\u001b[38;5;241m.\u001b[39mwrite(prompt)\n",
      "\u001b[0;31mNameError\u001b[0m: name 'create_data_template' is not defined"
     ]
    }
   ],
   "source": [
    "# Prompt is adapted for promptfoo evaluation system, so we are using {{}} instead of f-strings\n",
    "prompt = \\\n",
    "f\"\"\"This is feedback of the coding testing system. \n",
    "Write a human feedback explaining the student what to fix and why theirs solution is wrong.\n",
    "{create_data_template(extract_important_data_1(data))}\n",
    "Highlight the specific errors in the student's code.\n",
    "Offer actionable advice for correcting these errors.\n",
    "Encourage best coding practices and make the answer simple to understand for a adult programming newbie with no experience.\n",
    "Make your asnwer scructured, using list with items.\n",
    "IMPORTANT: DO NOT GIVE DIRECT SOLUTION, JUST A HINT!\"\"\" # Adding this line\n",
    "\n",
    "with open(\"./prompts/prompt.txt\", 'w') as f:\n",
    "    f.write(prompt)"
   ]
  },
  {
   "cell_type": "code",
   "execution_count": 3,
   "id": "b1d33564",
   "metadata": {},
   "outputs": [
    {
     "ename": "NameError",
     "evalue": "name 'prompt' is not defined",
     "output_type": "error",
     "traceback": [
      "\u001b[0;31m---------------------------------------------------------------------------\u001b[0m",
      "\u001b[0;31mNameError\u001b[0m                                 Traceback (most recent call last)",
      "Cell \u001b[0;32mIn[3], line 1\u001b[0m\n\u001b[0;32m----> 1\u001b[0m \u001b[43mprompt\u001b[49m\n",
      "\u001b[0;31mNameError\u001b[0m: name 'prompt' is not defined"
     ]
    }
   ],
   "source": [
    "prompt"
   ]
  },
  {
   "cell_type": "code",
   "execution_count": 269,
   "id": "0bbce093",
   "metadata": {
    "scrolled": true
   },
   "outputs": [
    {
     "name": "stdout",
     "output_type": "stream",
     "text": [
      "\r\n",
      "\u001b[90m┌──────────\u001b[39m\u001b[90m┬──────────\u001b[39m\u001b[90m┬──────────\u001b[39m\u001b[90m┬──────────\u001b[39m\u001b[90m┬──────────\u001b[39m\u001b[90m┬──────────\u001b[39m\u001b[90m┬──────────┐\u001b[39m\r\n",
      "\u001b[90m│\u001b[39m\u001b[1m\u001b[34m id       \u001b[39m\u001b[22m\u001b[90m│\u001b[39m\u001b[1m\u001b[34m submiss… \u001b[39m\u001b[22m\u001b[90m│\u001b[39m\u001b[1m\u001b[34m task_de… \u001b[39m\u001b[22m\u001b[90m│\u001b[39m\u001b[1m\u001b[34m test_ca… \u001b[39m\u001b[22m\u001b[90m│\u001b[39m\u001b[1m\u001b[34m test_co… \u001b[39m\u001b[22m\u001b[90m│\u001b[39m\u001b[1m\u001b[34m user_wr… \u001b[39m\u001b[22m\u001b[90m│\u001b[39m\u001b[1m\u001b[34m This is  \u001b[39m\u001b[22m\u001b[90m│\u001b[39m\r\n",
      "\u001b[90m│\u001b[39m\u001b[1m\u001b[34m          \u001b[39m\u001b[22m\u001b[90m│\u001b[39m\u001b[1m\u001b[34m          \u001b[39m\u001b[22m\u001b[90m│\u001b[39m\u001b[1m\u001b[34m          \u001b[39m\u001b[22m\u001b[90m│\u001b[39m\u001b[1m\u001b[34m          \u001b[39m\u001b[22m\u001b[90m│\u001b[39m\u001b[1m\u001b[34m          \u001b[39m\u001b[22m\u001b[90m│\u001b[39m\u001b[1m\u001b[34m          \u001b[39m\u001b[22m\u001b[90m│\u001b[39m\u001b[1m\u001b[34m feedback \u001b[39m\u001b[22m\u001b[90m│\u001b[39m\r\n",
      "\u001b[90m│\u001b[39m\u001b[1m\u001b[34m          \u001b[39m\u001b[22m\u001b[90m│\u001b[39m\u001b[1m\u001b[34m          \u001b[39m\u001b[22m\u001b[90m│\u001b[39m\u001b[1m\u001b[34m          \u001b[39m\u001b[22m\u001b[90m│\u001b[39m\u001b[1m\u001b[34m          \u001b[39m\u001b[22m\u001b[90m│\u001b[39m\u001b[1m\u001b[34m          \u001b[39m\u001b[22m\u001b[90m│\u001b[39m\u001b[1m\u001b[34m          \u001b[39m\u001b[22m\u001b[90m│\u001b[39m\u001b[1m\u001b[34m of the   \u001b[39m\u001b[22m\u001b[90m│\u001b[39m\r\n",
      "\u001b[90m│\u001b[39m\u001b[1m\u001b[34m          \u001b[39m\u001b[22m\u001b[90m│\u001b[39m\u001b[1m\u001b[34m          \u001b[39m\u001b[22m\u001b[90m│\u001b[39m\u001b[1m\u001b[34m          \u001b[39m\u001b[22m\u001b[90m│\u001b[39m\u001b[1m\u001b[34m          \u001b[39m\u001b[22m\u001b[90m│\u001b[39m\u001b[1m\u001b[34m          \u001b[39m\u001b[22m\u001b[90m│\u001b[39m\u001b[1m\u001b[34m          \u001b[39m\u001b[22m\u001b[90m│\u001b[39m\u001b[1m\u001b[34m coding   \u001b[39m\u001b[22m\u001b[90m│\u001b[39m\r\n",
      "\u001b[90m│\u001b[39m\u001b[1m\u001b[34m          \u001b[39m\u001b[22m\u001b[90m│\u001b[39m\u001b[1m\u001b[34m          \u001b[39m\u001b[22m\u001b[90m│\u001b[39m\u001b[1m\u001b[34m          \u001b[39m\u001b[22m\u001b[90m│\u001b[39m\u001b[1m\u001b[34m          \u001b[39m\u001b[22m\u001b[90m│\u001b[39m\u001b[1m\u001b[34m          \u001b[39m\u001b[22m\u001b[90m│\u001b[39m\u001b[1m\u001b[34m          \u001b[39m\u001b[22m\u001b[90m│\u001b[39m\u001b[1m\u001b[34m testing  \u001b[39m\u001b[22m\u001b[90m│\u001b[39m\r\n",
      "\u001b[90m│\u001b[39m\u001b[1m\u001b[34m          \u001b[39m\u001b[22m\u001b[90m│\u001b[39m\u001b[1m\u001b[34m          \u001b[39m\u001b[22m\u001b[90m│\u001b[39m\u001b[1m\u001b[34m          \u001b[39m\u001b[22m\u001b[90m│\u001b[39m\u001b[1m\u001b[34m          \u001b[39m\u001b[22m\u001b[90m│\u001b[39m\u001b[1m\u001b[34m          \u001b[39m\u001b[22m\u001b[90m│\u001b[39m\u001b[1m\u001b[34m          \u001b[39m\u001b[22m\u001b[90m│\u001b[39m\u001b[1m\u001b[34m system.  \u001b[39m\u001b[22m\u001b[90m│\u001b[39m\r\n",
      "\u001b[90m│\u001b[39m\u001b[1m\u001b[34m          \u001b[39m\u001b[22m\u001b[90m│\u001b[39m\u001b[1m\u001b[34m          \u001b[39m\u001b[22m\u001b[90m│\u001b[39m\u001b[1m\u001b[34m          \u001b[39m\u001b[22m\u001b[90m│\u001b[39m\u001b[1m\u001b[34m          \u001b[39m\u001b[22m\u001b[90m│\u001b[39m\u001b[1m\u001b[34m          \u001b[39m\u001b[22m\u001b[90m│\u001b[39m\u001b[1m\u001b[34m          \u001b[39m\u001b[22m\u001b[90m│\u001b[39m\u001b[1m\u001b[34m Write a  \u001b[39m\u001b[22m\u001b[90m│\u001b[39m\r\n",
      "\u001b[90m│\u001b[39m\u001b[1m\u001b[34m          \u001b[39m\u001b[22m\u001b[90m│\u001b[39m\u001b[1m\u001b[34m          \u001b[39m\u001b[22m\u001b[90m│\u001b[39m\u001b[1m\u001b[34m          \u001b[39m\u001b[22m\u001b[90m│\u001b[39m\u001b[1m\u001b[34m          \u001b[39m\u001b[22m\u001b[90m│\u001b[39m\u001b[1m\u001b[34m          \u001b[39m\u001b[22m\u001b[90m│\u001b[39m\u001b[1m\u001b[34m          \u001b[39m\u001b[22m\u001b[90m│\u001b[39m\u001b[1m\u001b[34m human    \u001b[39m\u001b[22m\u001b[90m│\u001b[39m\r\n",
      "\u001b[90m│\u001b[39m\u001b[1m\u001b[34m          \u001b[39m\u001b[22m\u001b[90m│\u001b[39m\u001b[1m\u001b[34m          \u001b[39m\u001b[22m\u001b[90m│\u001b[39m\u001b[1m\u001b[34m          \u001b[39m\u001b[22m\u001b[90m│\u001b[39m\u001b[1m\u001b[34m          \u001b[39m\u001b[22m\u001b[90m│\u001b[39m\u001b[1m\u001b[34m          \u001b[39m\u001b[22m\u001b[90m│\u001b[39m\u001b[1m\u001b[34m          \u001b[39m\u001b[22m\u001b[90m│\u001b[39m\u001b[1m\u001b[34m feedback \u001b[39m\u001b[22m\u001b[90m│\u001b[39m\r\n",
      "\u001b[90m│\u001b[39m\u001b[1m\u001b[34m          \u001b[39m\u001b[22m\u001b[90m│\u001b[39m\u001b[1m\u001b[34m          \u001b[39m\u001b[22m\u001b[90m│\u001b[39m\u001b[1m\u001b[34m          \u001b[39m\u001b[22m\u001b[90m│\u001b[39m\u001b[1m\u001b[34m          \u001b[39m\u001b[22m\u001b[90m│\u001b[39m\u001b[1m\u001b[34m          \u001b[39m\u001b[22m\u001b[90m│\u001b[39m\u001b[1m\u001b[34m          \u001b[39m\u001b[22m\u001b[90m│\u001b[39m\u001b[1m\u001b[34m explain… \u001b[39m\u001b[22m\u001b[90m│\u001b[39m\r\n",
      "\u001b[90m│\u001b[39m\u001b[1m\u001b[34m          \u001b[39m\u001b[22m\u001b[90m│\u001b[39m\u001b[1m\u001b[34m          \u001b[39m\u001b[22m\u001b[90m│\u001b[39m\u001b[1m\u001b[34m          \u001b[39m\u001b[22m\u001b[90m│\u001b[39m\u001b[1m\u001b[34m          \u001b[39m\u001b[22m\u001b[90m│\u001b[39m\u001b[1m\u001b[34m          \u001b[39m\u001b[22m\u001b[90m│\u001b[39m\u001b[1m\u001b[34m          \u001b[39m\u001b[22m\u001b[90m│\u001b[39m\u001b[1m\u001b[34m the      \u001b[39m\u001b[22m\u001b[90m│\u001b[39m\r\n",
      "\u001b[90m│\u001b[39m\u001b[1m\u001b[34m          \u001b[39m\u001b[22m\u001b[90m│\u001b[39m\u001b[1m\u001b[34m          \u001b[39m\u001b[22m\u001b[90m│\u001b[39m\u001b[1m\u001b[34m          \u001b[39m\u001b[22m\u001b[90m│\u001b[39m\u001b[1m\u001b[34m          \u001b[39m\u001b[22m\u001b[90m│\u001b[39m\u001b[1m\u001b[34m          \u001b[39m\u001b[22m\u001b[90m│\u001b[39m\u001b[1m\u001b[34m          \u001b[39m\u001b[22m\u001b[90m│\u001b[39m\u001b[1m\u001b[34m student  \u001b[39m\u001b[22m\u001b[90m│\u001b[39m\r\n",
      "\u001b[90m│\u001b[39m\u001b[1m\u001b[34m          \u001b[39m\u001b[22m\u001b[90m│\u001b[39m\u001b[1m\u001b[34m          \u001b[39m\u001b[22m\u001b[90m│\u001b[39m\u001b[1m\u001b[34m          \u001b[39m\u001b[22m\u001b[90m│\u001b[39m\u001b[1m\u001b[34m          \u001b[39m\u001b[22m\u001b[90m│\u001b[39m\u001b[1m\u001b[34m          \u001b[39m\u001b[22m\u001b[90m│\u001b[39m\u001b[1m\u001b[34m          \u001b[39m\u001b[22m\u001b[90m│\u001b[39m\u001b[1m\u001b[34m what to  \u001b[39m\u001b[22m\u001b[90m│\u001b[39m\r\n",
      "\u001b[90m│\u001b[39m\u001b[1m\u001b[34m          \u001b[39m\u001b[22m\u001b[90m│\u001b[39m\u001b[1m\u001b[34m          \u001b[39m\u001b[22m\u001b[90m│\u001b[39m\u001b[1m\u001b[34m          \u001b[39m\u001b[22m\u001b[90m│\u001b[39m\u001b[1m\u001b[34m          \u001b[39m\u001b[22m\u001b[90m│\u001b[39m\u001b[1m\u001b[34m          \u001b[39m\u001b[22m\u001b[90m│\u001b[39m\u001b[1m\u001b[34m          \u001b[39m\u001b[22m\u001b[90m│\u001b[39m\u001b[1m\u001b[34m fix and  \u001b[39m\u001b[22m\u001b[90m│\u001b[39m\r\n",
      "\u001b[90m│\u001b[39m\u001b[1m\u001b[34m          \u001b[39m\u001b[22m\u001b[90m│\u001b[39m\u001b[1m\u001b[34m          \u001b[39m\u001b[22m\u001b[90m│\u001b[39m\u001b[1m\u001b[34m          \u001b[39m\u001b[22m\u001b[90m│\u001b[39m\u001b[1m\u001b[34m          \u001b[39m\u001b[22m\u001b[90m│\u001b[39m\u001b[1m\u001b[34m          \u001b[39m\u001b[22m\u001b[90m│\u001b[39m\u001b[1m\u001b[34m          \u001b[39m\u001b[22m\u001b[90m│\u001b[39m\u001b[1m\u001b[34m why      \u001b[39m\u001b[22m\u001b[90m│\u001b[39m\r\n",
      "\u001b[90m│\u001b[39m\u001b[1m\u001b[34m          \u001b[39m\u001b[22m\u001b[90m│\u001b[39m\u001b[1m\u001b[34m          \u001b[39m\u001b[22m\u001b[90m│\u001b[39m\u001b[1m\u001b[34m          \u001b[39m\u001b[22m\u001b[90m│\u001b[39m\u001b[1m\u001b[34m          \u001b[39m\u001b[22m\u001b[90m│\u001b[39m\u001b[1m\u001b[34m          \u001b[39m\u001b[22m\u001b[90m│\u001b[39m\u001b[1m\u001b[34m          \u001b[39m\u001b[22m\u001b[90m│\u001b[39m\u001b[1m\u001b[34m theirs   \u001b[39m\u001b[22m\u001b[90m│\u001b[39m\r\n",
      "\u001b[90m│\u001b[39m\u001b[1m\u001b[34m          \u001b[39m\u001b[22m\u001b[90m│\u001b[39m\u001b[1m\u001b[34m          \u001b[39m\u001b[22m\u001b[90m│\u001b[39m\u001b[1m\u001b[34m          \u001b[39m\u001b[22m\u001b[90m│\u001b[39m\u001b[1m\u001b[34m          \u001b[39m\u001b[22m\u001b[90m│\u001b[39m\u001b[1m\u001b[34m          \u001b[39m\u001b[22m\u001b[90m│\u001b[39m\u001b[1m\u001b[34m          \u001b[39m\u001b[22m\u001b[90m│\u001b[39m\u001b[1m\u001b[34m solution \u001b[39m\u001b[22m\u001b[90m│\u001b[39m\r\n",
      "\u001b[90m│\u001b[39m\u001b[1m\u001b[34m          \u001b[39m\u001b[22m\u001b[90m│\u001b[39m\u001b[1m\u001b[34m          \u001b[39m\u001b[22m\u001b[90m│\u001b[39m\u001b[1m\u001b[34m          \u001b[39m\u001b[22m\u001b[90m│\u001b[39m\u001b[1m\u001b[34m          \u001b[39m\u001b[22m\u001b[90m│\u001b[39m\u001b[1m\u001b[34m          \u001b[39m\u001b[22m\u001b[90m│\u001b[39m\u001b[1m\u001b[34m          \u001b[39m\u001b[22m\u001b[90m│\u001b[39m\u001b[1m\u001b[34m is       \u001b[39m\u001b[22m\u001b[90m│\u001b[39m\r\n",
      "\u001b[90m│\u001b[39m\u001b[1m\u001b[34m          \u001b[39m\u001b[22m\u001b[90m│\u001b[39m\u001b[1m\u001b[34m          \u001b[39m\u001b[22m\u001b[90m│\u001b[39m\u001b[1m\u001b[34m          \u001b[39m\u001b[22m\u001b[90m│\u001b[39m\u001b[1m\u001b[34m          \u001b[39m\u001b[22m\u001b[90m│\u001b[39m\u001b[1m\u001b[34m          \u001b[39m\u001b[22m\u001b[90m│\u001b[39m\u001b[1m\u001b[34m          \u001b[39m\u001b[22m\u001b[90m│\u001b[39m\u001b[1m\u001b[34m wrong.   \u001b[39m\u001b[22m\u001b[90m│\u001b[39m\r\n",
      "\u001b[90m│\u001b[39m\u001b[1m\u001b[34m          \u001b[39m\u001b[22m\u001b[90m│\u001b[39m\u001b[1m\u001b[34m          \u001b[39m\u001b[22m\u001b[90m│\u001b[39m\u001b[1m\u001b[34m          \u001b[39m\u001b[22m\u001b[90m│\u001b[39m\u001b[1m\u001b[34m          \u001b[39m\u001b[22m\u001b[90m│\u001b[39m\u001b[1m\u001b[34m          \u001b[39m\u001b[22m\u001b[90m│\u001b[39m\u001b[1m\u001b[34m          \u001b[39m\u001b[22m\u001b[90m│\u001b[39m\u001b[1m\u001b[34m task_de… \u001b[39m\u001b[22m\u001b[90m│\u001b[39m\r\n",
      "\u001b[90m│\u001b[39m\u001b[1m\u001b[34m          \u001b[39m\u001b[22m\u001b[90m│\u001b[39m\u001b[1m\u001b[34m          \u001b[39m\u001b[22m\u001b[90m│\u001b[39m\u001b[1m\u001b[34m          \u001b[39m\u001b[22m\u001b[90m│\u001b[39m\u001b[1m\u001b[34m          \u001b[39m\u001b[22m\u001b[90m│\u001b[39m\u001b[1m\u001b[34m          \u001b[39m\u001b[22m\u001b[90m│\u001b[39m\u001b[1m\u001b[34m          \u001b[39m\u001b[22m\u001b[90m│\u001b[39m\u001b[1m\u001b[34m {{task_… \u001b[39m\u001b[22m\u001b[90m│\u001b[39m\r\n",
      "\u001b[90m│\u001b[39m\u001b[1m\u001b[34m          \u001b[39m\u001b[22m\u001b[90m│\u001b[39m\u001b[1m\u001b[34m          \u001b[39m\u001b[22m\u001b[90m│\u001b[39m\u001b[1m\u001b[34m          \u001b[39m\u001b[22m\u001b[90m│\u001b[39m\u001b[1m\u001b[34m          \u001b[39m\u001b[22m\u001b[90m│\u001b[39m\u001b[1m\u001b[34m          \u001b[39m\u001b[22m\u001b[90m│\u001b[39m\u001b[1m\u001b[34m          \u001b[39m\u001b[22m\u001b[90m│\u001b[39m\u001b[1m\u001b[34m test_ca… \u001b[39m\u001b[22m\u001b[90m│\u001b[39m\r\n",
      "\u001b[90m│\u001b[39m\u001b[1m\u001b[34m          \u001b[39m\u001b[22m\u001b[90m│\u001b[39m\u001b[1m\u001b[34m          \u001b[39m\u001b[22m\u001b[90m│\u001b[39m\u001b[1m\u001b[34m          \u001b[39m\u001b[22m\u001b[90m│\u001b[39m\u001b[1m\u001b[34m          \u001b[39m\u001b[22m\u001b[90m│\u001b[39m\u001b[1m\u001b[34m          \u001b[39m\u001b[22m\u001b[90m│\u001b[39m\u001b[1m\u001b[34m          \u001b[39m\u001b[22m\u001b[90m│\u001b[39m\u001b[1m\u001b[34m {{test_… \u001b[39m\u001b[22m\u001b[90m│\u001b[39m\r\n",
      "\u001b[90m│\u001b[39m\u001b[1m\u001b[34m          \u001b[39m\u001b[22m\u001b[90m│\u001b[39m\u001b[1m\u001b[34m          \u001b[39m\u001b[22m\u001b[90m│\u001b[39m\u001b[1m\u001b[34m          \u001b[39m\u001b[22m\u001b[90m│\u001b[39m\u001b[1m\u001b[34m          \u001b[39m\u001b[22m\u001b[90m│\u001b[39m\u001b[1m\u001b[34m          \u001b[39m\u001b[22m\u001b[90m│\u001b[39m\u001b[1m\u001b[34m          \u001b[39m\u001b[22m\u001b[90m│\u001b[39m\u001b[1m\u001b[34m submiss… \u001b[39m\u001b[22m\u001b[90m│\u001b[39m\r\n",
      "\u001b[90m│\u001b[39m\u001b[1m\u001b[34m          \u001b[39m\u001b[22m\u001b[90m│\u001b[39m\u001b[1m\u001b[34m          \u001b[39m\u001b[22m\u001b[90m│\u001b[39m\u001b[1m\u001b[34m          \u001b[39m\u001b[22m\u001b[90m│\u001b[39m\u001b[1m\u001b[34m          \u001b[39m\u001b[22m\u001b[90m│\u001b[39m\u001b[1m\u001b[34m          \u001b[39m\u001b[22m\u001b[90m│\u001b[39m\u001b[1m\u001b[34m          \u001b[39m\u001b[22m\u001b[90m│\u001b[39m\u001b[1m\u001b[34m {{submi… \u001b[39m\u001b[22m\u001b[90m│\u001b[39m\r\n",
      "\u001b[90m├──────────\u001b[39m\u001b[90m┼──────────\u001b[39m\u001b[90m┼──────────\u001b[39m\u001b[90m┼──────────\u001b[39m\u001b[90m┼──────────\u001b[39m\u001b[90m┼──────────\u001b[39m\u001b[90m┼──────────┤\u001b[39m\r\n",
      "\u001b[90m│\u001b[39m python_0 \u001b[90m│\u001b[39m Failed   \u001b[90m│\u001b[39m <p></p>… \u001b[90m│\u001b[39m [{\"inpu… \u001b[90m│\u001b[39m N =      \u001b[90m│\u001b[39m # put    \u001b[90m│\u001b[39m \u001b[32m[PASS]\u001b[39m   \u001b[90m│\u001b[39m\r\n",
      "\u001b[90m│\u001b[39m          \u001b[90m│\u001b[39m test #1  \u001b[90m│\u001b[39m squirre… \u001b[90m│\u001b[39m          \u001b[90m│\u001b[39m int(inp… \u001b[90m│\u001b[39m your     \u001b[90m│\u001b[39m \u001b[32m\u001b[39mIn your  \u001b[90m│\u001b[39m\r\n",
      "\u001b[90m│\u001b[39m          \u001b[90m│\u001b[39m of 6.    \u001b[90m│\u001b[39m found K  \u001b[90m│\u001b[39m          \u001b[90m│\u001b[39m K =      \u001b[90m│\u001b[39m python   \u001b[90m│\u001b[39m code,    \u001b[90m│\u001b[39m\r\n",
      "\u001b[90m│\u001b[39m          \u001b[90m│\u001b[39m Wrong    \u001b[90m│\u001b[39m nuts and \u001b[90m│\u001b[39m          \u001b[90m│\u001b[39m int(inp… \u001b[90m│\u001b[39m code     \u001b[90m│\u001b[39m you are  \u001b[90m│\u001b[39m\r\n",
      "\u001b[90m│\u001b[39m          \u001b[90m│\u001b[39m answer   \u001b[90m│\u001b[39m decided  \u001b[90m│\u001b[39m          \u001b[90m│\u001b[39m print(K  \u001b[90m│\u001b[39m here     \u001b[90m│\u001b[39m prompti… \u001b[90m│\u001b[39m\r\n",
      "\u001b[90m│\u001b[39m          \u001b[90m│\u001b[39m This is  \u001b[90m│\u001b[39m to       \u001b[90m│\u001b[39m          \u001b[90m│\u001b[39m // N)    \u001b[90m│\u001b[39m N=int(i… \u001b[90m│\u001b[39m the user \u001b[90m│\u001b[39m\r\n",
      "\u001b[90m│\u001b[39m          \u001b[90m│\u001b[39m a sample \u001b[90m│\u001b[39m divide   \u001b[90m│\u001b[39m          \u001b[90m│\u001b[39m          \u001b[90m│\u001b[39m value of \u001b[90m│\u001b[39m to enter \u001b[90m│\u001b[39m\r\n",
      "\u001b[90m│\u001b[39m          \u001b[90m│\u001b[39m test     \u001b[90m│\u001b[39m them     \u001b[90m│\u001b[39m          \u001b[90m│\u001b[39m          \u001b[90m│\u001b[39m n\"))     \u001b[90m│\u001b[39m the      \u001b[90m│\u001b[39m\r\n",
      "\u001b[90m│\u001b[39m          \u001b[90m│\u001b[39m from the \u001b[90m│\u001b[39m equally. \u001b[90m│\u001b[39m          \u001b[90m│\u001b[39m          \u001b[90m│\u001b[39m K=int(i… \u001b[90m│\u001b[39m values   \u001b[90m│\u001b[39m\r\n",
      "\u001b[90m│\u001b[39m          \u001b[90m│\u001b[39m problem  \u001b[90m│\u001b[39m Determi… \u001b[90m│\u001b[39m          \u001b[90m│\u001b[39m          \u001b[90m│\u001b[39m value of \u001b[90m│\u001b[39m of N and \u001b[90m│\u001b[39m\r\n",
      "\u001b[90m│\u001b[39m          \u001b[90m│\u001b[39m stateme… \u001b[90m│\u001b[39m how many \u001b[90m│\u001b[39m          \u001b[90m│\u001b[39m          \u001b[90m│\u001b[39m k\"))     \u001b[90m│\u001b[39m K        \u001b[90m│\u001b[39m\r\n",
      "\u001b[90m│\u001b[39m          \u001b[90m│\u001b[39m Test     \u001b[90m│\u001b[39m nuts     \u001b[90m│\u001b[39m          \u001b[90m│\u001b[39m          \u001b[90m│\u001b[39m ans=K//N \u001b[90m│\u001b[39m separat… \u001b[90m│\u001b[39m\r\n",
      "\u001b[90m│\u001b[39m          \u001b[90m│\u001b[39m input:   \u001b[90m│\u001b[39m each     \u001b[90m│\u001b[39m          \u001b[90m│\u001b[39m          \u001b[90m│\u001b[39m print(a… \u001b[90m│\u001b[39m However, \u001b[90m│\u001b[39m\r\n",
      "\u001b[90m│\u001b[39m          \u001b[90m│\u001b[39m 3        \u001b[90m│\u001b[39m squirrel \u001b[90m│\u001b[39m          \u001b[90m│\u001b[39m          \u001b[90m│\u001b[39m          \u001b[90m│\u001b[39m the      \u001b[90m│\u001b[39m\r\n",
      "\u001b[90m│\u001b[39m          \u001b[90m│\u001b[39m 14       \u001b[90m│\u001b[39m will get \u001b[90m│\u001b[39m          \u001b[90m│\u001b[39m          \u001b[90m│\u001b[39m          \u001b[90m│\u001b[39m input    \u001b[90m│\u001b[39m\r\n",
      "\u001b[90m│\u001b[39m          \u001b[90m│\u001b[39m Correct  \u001b[90m│\u001b[39m and      \u001b[90m│\u001b[39m          \u001b[90m│\u001b[39m          \u001b[90m│\u001b[39m          \u001b[90m│\u001b[39m format   \u001b[90m│\u001b[39m\r\n",
      "\u001b[90m│\u001b[39m          \u001b[90m│\u001b[39m output:  \u001b[90m│\u001b[39m print    \u001b[90m│\u001b[39m          \u001b[90m│\u001b[39m          \u001b[90m│\u001b[39m          \u001b[90m│\u001b[39m specifi… \u001b[90m│\u001b[39m\r\n",
      "\u001b[90m│\u001b[39m          \u001b[90m│\u001b[39m 4        \u001b[90m│\u001b[39m the      \u001b[90m│\u001b[39m          \u001b[90m│\u001b[39m          \u001b[90m│\u001b[39m          \u001b[90m│\u001b[39m that the \u001b[90m│\u001b[39m\r\n",
      "\u001b[90m│\u001b[39m          \u001b[90m│\u001b[39m Your     \u001b[90m│\u001b[39m result.  \u001b[90m│\u001b[39m          \u001b[90m│\u001b[39m          \u001b[90m│\u001b[39m          \u001b[90m│\u001b[39m values   \u001b[90m│\u001b[39m\r\n",
      "\u001b[90m│\u001b[39m          \u001b[90m│\u001b[39m code     \u001b[90m│\u001b[39m The      \u001b[90m│\u001b[39m          \u001b[90m│\u001b[39m          \u001b[90m│\u001b[39m          \u001b[90m│\u001b[39m should   \u001b[90m│\u001b[39m\r\n",
      "\u001b[90m│\u001b[39m          \u001b[90m│\u001b[39m output:  \u001b[90m│\u001b[39m answer   \u001b[90m│\u001b[39m          \u001b[90m│\u001b[39m          \u001b[90m│\u001b[39m          \u001b[90m│\u001b[39m be       \u001b[90m│\u001b[39m\r\n",
      "\u001b[90m│\u001b[39m          \u001b[90m│\u001b[39m Enter    \u001b[90m│\u001b[39m should   \u001b[90m│\u001b[39m          \u001b[90m│\u001b[39m          \u001b[90m│\u001b[39m          \u001b[90m│\u001b[39m entered  \u001b[90m│\u001b[39m\r\n",
      "\u001b[90m│\u001b[39m          \u001b[90m│\u001b[39m value of \u001b[90m│\u001b[39m be an    \u001b[90m│\u001b[39m          \u001b[90m│\u001b[39m          \u001b[90m│\u001b[39m          \u001b[90m│\u001b[39m on       \u001b[90m│\u001b[39m\r\n",
      "\u001b[90m│\u001b[39m          \u001b[90m│\u001b[39m nEnter   \u001b[90m│\u001b[39m integer… \u001b[90m│\u001b[39m          \u001b[90m│\u001b[39m          \u001b[90m│\u001b[39m          \u001b[90m│\u001b[39m separate \u001b[90m│\u001b[39m\r\n",
      "\u001b[90m│\u001b[39m          \u001b[90m│\u001b[39m value of \u001b[90m│\u001b[39m </stron… \u001b[90m│\u001b[39m          \u001b[90m│\u001b[39m          \u001b[90m│\u001b[39m          \u001b[90m│\u001b[39m lines.   \u001b[90m│\u001b[39m\r\n",
      "\u001b[90m│\u001b[39m          \u001b[90m│\u001b[39m k4       \u001b[90m│\u001b[39m the      \u001b[90m│\u001b[39m          \u001b[90m│\u001b[39m          \u001b[90m│\u001b[39m          \u001b[90m│\u001b[39m To       \u001b[90m│\u001b[39m\r\n",
      "\u001b[90m│\u001b[39m          \u001b[90m│\u001b[39m          \u001b[90m│\u001b[39m order of \u001b[90m│\u001b[39m          \u001b[90m│\u001b[39m          \u001b[90m│\u001b[39m          \u001b[90m│\u001b[39m correct  \u001b[90m│\u001b[39m\r\n",
      "\u001b[90m│\u001b[39m          \u001b[90m│\u001b[39m          \u001b[90m│\u001b[39m the      \u001b[90m│\u001b[39m          \u001b[90m│\u001b[39m          \u001b[90m│\u001b[39m          \u001b[90m│\u001b[39m this,    \u001b[90m│\u001b[39m\r\n",
      "\u001b[90m│\u001b[39m          \u001b[90m│\u001b[39m          \u001b[90m│\u001b[39m variabl… \u001b[90m│\u001b[39m          \u001b[90m│\u001b[39m          \u001b[90m│\u001b[39m          \u001b[90m│\u001b[39m you      \u001b[90m│\u001b[39m\r\n",
      "\u001b[90m│\u001b[39m          \u001b[90m│\u001b[39m          \u001b[90m│\u001b[39m          \u001b[90m│\u001b[39m          \u001b[90m│\u001b[39m          \u001b[90m│\u001b[39m          \u001b[90m│\u001b[39m should   \u001b[90m│\u001b[39m\r\n",
      "\u001b[90m│\u001b[39m          \u001b[90m│\u001b[39m          \u001b[90m│\u001b[39m          \u001b[90m│\u001b[39m          \u001b[90m│\u001b[39m          \u001b[90m│\u001b[39m          \u001b[90m│\u001b[39m use the  \u001b[90m│\u001b[39m\r\n",
      "\u001b[90m│\u001b[39m          \u001b[90m│\u001b[39m          \u001b[90m│\u001b[39m          \u001b[90m│\u001b[39m          \u001b[90m│\u001b[39m          \u001b[90m│\u001b[39m          \u001b[90m│\u001b[39m input()  \u001b[90m│\u001b[39m\r\n",
      "\u001b[90m│\u001b[39m          \u001b[90m│\u001b[39m          \u001b[90m│\u001b[39m          \u001b[90m│\u001b[39m          \u001b[90m│\u001b[39m          \u001b[90m│\u001b[39m          \u001b[90m│\u001b[39m function \u001b[90m│\u001b[39m\r\n",
      "\u001b[90m│\u001b[39m          \u001b[90m│\u001b[39m          \u001b[90m│\u001b[39m          \u001b[90m│\u001b[39m          \u001b[90m│\u001b[39m          \u001b[90m│\u001b[39m          \u001b[90m│\u001b[39m without  \u001b[90m│\u001b[39m\r\n",
      "\u001b[90m│\u001b[39m          \u001b[90m│\u001b[39m          \u001b[90m│\u001b[39m          \u001b[90m│\u001b[39m          \u001b[90m│\u001b[39m          \u001b[90m│\u001b[39m          \u001b[90m│\u001b[39m any      \u001b[90m│\u001b[39m\r\n",
      "\u001b[90m│\u001b[39m          \u001b[90m│\u001b[39m          \u001b[90m│\u001b[39m          \u001b[90m│\u001b[39m          \u001b[90m│\u001b[39m          \u001b[90m│\u001b[39m          \u001b[90m│\u001b[39m prompts… \u001b[90m│\u001b[39m\r\n",
      "\u001b[90m├──────────\u001b[39m\u001b[90m┼──────────\u001b[39m\u001b[90m┼──────────\u001b[39m\u001b[90m┼──────────\u001b[39m\u001b[90m┼──────────\u001b[39m\u001b[90m┼──────────\u001b[39m\u001b[90m┼──────────┤\u001b[39m\r\n",
      "\u001b[90m│\u001b[39m python_1 \u001b[90m│\u001b[39m Failed   \u001b[90m│\u001b[39m <p></p>  \u001b[90m│\u001b[39m [{\"inpu… \u001b[90m│\u001b[39m def      \u001b[90m│\u001b[39m def      \u001b[90m│\u001b[39m \u001b[31m[FAIL]\u001b[39m   \u001b[90m│\u001b[39m\r\n",
      "\u001b[90m│\u001b[39m          \u001b[90m│\u001b[39m test #1  \u001b[90m│\u001b[39m <p>Write \u001b[90m│\u001b[39m 4        \u001b[90m│\u001b[39m equatio… \u001b[90m│\u001b[39m equatio… \u001b[90m│\u001b[39m \u001b[31m\u001b[39m\u001b[31m\u001b[1mThe\u001b[22m\u001b[39m      \u001b[90m│\u001b[39m\r\n",
      "\u001b[90m│\u001b[39m          \u001b[90m│\u001b[39m of 3.    \u001b[90m│\u001b[39m a        \u001b[90m│\u001b[39m 3\",\"out… \u001b[90m│\u001b[39m b, c):   \u001b[90m│\u001b[39m b, c):   \u001b[90m│\u001b[39m \u001b[31m\u001b[1msubmiss\u001b[22m\u001b[39m… \u001b[90m│\u001b[39m\r\n",
      "\u001b[90m│\u001b[39m          \u001b[90m│\u001b[39m Wrong    \u001b[90m│\u001b[39m function \u001b[90m│\u001b[39m x + 4 =  \u001b[90m│\u001b[39m print(f… \u001b[90m│\u001b[39m     pri… \u001b[90m│\u001b[39m \u001b[31m\u001b[1mdoes not\u001b[22m\u001b[39m \u001b[90m│\u001b[39m\r\n",
      "\u001b[90m│\u001b[39m          \u001b[90m│\u001b[39m answer   \u001b[90m│\u001b[39m <code    \u001b[90m│\u001b[39m 3\"}]     \u001b[90m│\u001b[39m x + {b}  \u001b[90m│\u001b[39m 'x +',   \u001b[90m│\u001b[39m \u001b[31m\u001b[1mmeet the\u001b[22m\u001b[39m \u001b[90m│\u001b[39m\r\n",
      "\u001b[90m│\u001b[39m          \u001b[90m│\u001b[39m This is  \u001b[90m│\u001b[39m class=\"… \u001b[90m│\u001b[39m          \u001b[90m│\u001b[39m = {c}\")  \u001b[90m│\u001b[39m b, '=',  \u001b[90m│\u001b[39m \u001b[31m\u001b[1mcriteri\u001b[22m\u001b[39m… \u001b[90m│\u001b[39m\r\n",
      "\u001b[90m│\u001b[39m          \u001b[90m│\u001b[39m a sample \u001b[90m│\u001b[39m that     \u001b[90m│\u001b[39m          \u001b[90m│\u001b[39m          \u001b[90m│\u001b[39m c)       \u001b[90m│\u001b[39m \u001b[31m\u001b[1m1. The\u001b[22m\u001b[39m   \u001b[90m│\u001b[39m\r\n",
      "\u001b[90m│\u001b[39m          \u001b[90m│\u001b[39m test     \u001b[90m│\u001b[39m will     \u001b[90m│\u001b[39m          \u001b[90m│\u001b[39m          \u001b[90m│\u001b[39m # Sample \u001b[90m│\u001b[39m \u001b[31m\u001b[1mcriteri\u001b[22m\u001b[39m… \u001b[90m│\u001b[39m\r\n",
      "\u001b[90m│\u001b[39m          \u001b[90m│\u001b[39m from the \u001b[90m│\u001b[39m <strong… \u001b[90m│\u001b[39m          \u001b[90m│\u001b[39m          \u001b[90m│\u001b[39m Input 1: \u001b[90m│\u001b[39m \u001b[31m\u001b[1mrequires\u001b[22m\u001b[39m \u001b[90m│\u001b[39m\r\n",
      "\u001b[90m│\u001b[39m          \u001b[90m│\u001b[39m problem  \u001b[90m│\u001b[39m the      \u001b[90m│\u001b[39m          \u001b[90m│\u001b[39m          \u001b[90m│\u001b[39m equatio… \u001b[90m│\u001b[39m \u001b[31m\u001b[1mthe\u001b[22m\u001b[39m      \u001b[90m│\u001b[39m\r\n",
      "\u001b[90m│\u001b[39m          \u001b[90m│\u001b[39m stateme… \u001b[90m│\u001b[39m equation \u001b[90m│\u001b[39m          \u001b[90m│\u001b[39m          \u001b[90m│\u001b[39m 4, 3)    \u001b[90m│\u001b[39m \u001b[31m\u001b[1mfeedback\u001b[22m\u001b[39m \u001b[90m│\u001b[39m\r\n",
      "\u001b[90m│\u001b[39m          \u001b[90m│\u001b[39m Test     \u001b[90m│\u001b[39m in the   \u001b[90m│\u001b[39m          \u001b[90m│\u001b[39m          \u001b[90m│\u001b[39m          \u001b[90m│\u001b[39m \u001b[31m\u001b[1mto be\u001b[22m\u001b[39m    \u001b[90m│\u001b[39m\r\n",
      "\u001b[90m│\u001b[39m          \u001b[90m│\u001b[39m input:   \u001b[90m│\u001b[39m followi… \u001b[90m│\u001b[39m          \u001b[90m│\u001b[39m          \u001b[90m│\u001b[39m          \u001b[90m│\u001b[39m \u001b[31m\u001b[1measy to\u001b[22m\u001b[39m  \u001b[90m│\u001b[39m\r\n",
      "\u001b[90m│\u001b[39m          \u001b[90m│\u001b[39m 3 4 3    \u001b[90m│\u001b[39m format:  \u001b[90m│\u001b[39m          \u001b[90m│\u001b[39m          \u001b[90m│\u001b[39m          \u001b[90m│\u001b[39m \u001b[31m\u001b[1munderst\u001b[22m\u001b[39m… \u001b[90m│\u001b[39m\r\n",
      "\u001b[90m│\u001b[39m          \u001b[90m│\u001b[39m Correct  \u001b[90m│\u001b[39m <code    \u001b[90m│\u001b[39m          \u001b[90m│\u001b[39m          \u001b[90m│\u001b[39m          \u001b[90m│\u001b[39m \u001b[31m\u001b[1mfor an\u001b[22m\u001b[39m   \u001b[90m│\u001b[39m\r\n",
      "\u001b[90m│\u001b[39m          \u001b[90m│\u001b[39m output:  \u001b[90m│\u001b[39m class=\"… \u001b[90m│\u001b[39m          \u001b[90m│\u001b[39m          \u001b[90m│\u001b[39m          \u001b[90m│\u001b[39m \u001b[31m\u001b[1madult\u001b[22m\u001b[39m    \u001b[90m│\u001b[39m\r\n",
      "\u001b[90m│\u001b[39m          \u001b[90m│\u001b[39m 3 x + 4  \u001b[90m│\u001b[39m x + b =  \u001b[90m│\u001b[39m          \u001b[90m│\u001b[39m          \u001b[90m│\u001b[39m          \u001b[90m│\u001b[39m \u001b[31m\u001b[1mprogram\u001b[22m\u001b[39m… \u001b[90m│\u001b[39m\r\n",
      "\u001b[90m│\u001b[39m          \u001b[90m│\u001b[39m = 3      \u001b[90m│\u001b[39m c</code… \u001b[90m│\u001b[39m          \u001b[90m│\u001b[39m          \u001b[90m│\u001b[39m          \u001b[90m│\u001b[39m \u001b[31m\u001b[1mnewbie\u001b[22m\u001b[39m   \u001b[90m│\u001b[39m\r\n",
      "\u001b[90m│\u001b[39m          \u001b[90m│\u001b[39m Your     \u001b[90m│\u001b[39m The      \u001b[90m│\u001b[39m          \u001b[90m│\u001b[39m          \u001b[90m│\u001b[39m          \u001b[90m│\u001b[39m \u001b[31m\u001b[1mwith no\u001b[22m\u001b[39m  \u001b[90m│\u001b[39m\r\n",
      "\u001b[90m│\u001b[39m          \u001b[90m│\u001b[39m code     \u001b[90m│\u001b[39m function \u001b[90m│\u001b[39m          \u001b[90m│\u001b[39m          \u001b[90m│\u001b[39m          \u001b[90m│\u001b[39m \u001b[31m\u001b[1mexperie\u001b[22m\u001b[39m… \u001b[90m│\u001b[39m\r\n",
      "\u001b[90m│\u001b[39m          \u001b[90m│\u001b[39m output:  \u001b[90m│\u001b[39m must     \u001b[90m│\u001b[39m          \u001b[90m│\u001b[39m          \u001b[90m│\u001b[39m          \u001b[90m│\u001b[39m \u001b[31m\u001b[1m2. The\u001b[22m\u001b[39m   \u001b[90m│\u001b[39m\r\n",
      "\u001b[90m│\u001b[39m          \u001b[90m│\u001b[39m 3 x + 4  \u001b[90m│\u001b[39m take     \u001b[90m│\u001b[39m          \u001b[90m│\u001b[39m          \u001b[90m│\u001b[39m          \u001b[90m│\u001b[39m \u001b[31m\u001b[1msubmiss\u001b[22m\u001b[39m… \u001b[90m│\u001b[39m\r\n",
      "\u001b[90m│\u001b[39m          \u001b[90m│\u001b[39m = 3      \u001b[90m│\u001b[39m three    \u001b[90m│\u001b[39m          \u001b[90m│\u001b[39m          \u001b[90m│\u001b[39m          \u001b[90m│\u001b[39m \u001b[31m\u001b[1msuggests\u001b[22m\u001b[39m \u001b[90m│\u001b[39m\r\n",
      "\u001b[90m│\u001b[39m          \u001b[90m│\u001b[39m 3 x + 4  \u001b[90m│\u001b[39m argumen… \u001b[90m│\u001b[39m          \u001b[90m│\u001b[39m          \u001b[90m│\u001b[39m          \u001b[90m│\u001b[39m \u001b[31m\u001b[1mthat the\u001b[22m\u001b[39m \u001b[90m│\u001b[39m\r\n",
      "\u001b[90m│\u001b[39m          \u001b[90m│\u001b[39m = 3      \u001b[90m│\u001b[39m <code    \u001b[90m│\u001b[39m          \u001b[90m│\u001b[39m          \u001b[90m│\u001b[39m          \u001b[90m│\u001b[39m \u001b[31m\u001b[1mstudent\u001b[22m\u001b[39m… \u001b[90m│\u001b[39m\r\n",
      "\u001b[90m│\u001b[39m          \u001b[90m│\u001b[39m          \u001b[90m│\u001b[39m class=\"… \u001b[90m│\u001b[39m          \u001b[90m│\u001b[39m          \u001b[90m│\u001b[39m          \u001b[90m│\u001b[39m \u001b[31m\u001b[1merror is\u001b[22m\u001b[39m \u001b[90m│\u001b[39m\r\n",
      "\u001b[90m│\u001b[39m          \u001b[90m│\u001b[39m          \u001b[90m│\u001b[39m          \u001b[90m│\u001b[39m          \u001b[90m│\u001b[39m          \u001b[90m│\u001b[39m          \u001b[90m│\u001b[39m \u001b[31m\u001b[1mnot\u001b[22m\u001b[39m      \u001b[90m│\u001b[39m\r\n",
      "\u001b[90m│\u001b[39m          \u001b[90m│\u001b[39m          \u001b[90m│\u001b[39m          \u001b[90m│\u001b[39m          \u001b[90m│\u001b[39m          \u001b[90m│\u001b[39m          \u001b[90m│\u001b[39m \u001b[31m\u001b[1musing\u001b[22m\u001b[39m    \u001b[90m│\u001b[39m\r\n",
      "\u001b[90m│\u001b[39m          \u001b[90m│\u001b[39m          \u001b[90m│\u001b[39m          \u001b[90m│\u001b[39m          \u001b[90m│\u001b[39m          \u001b[90m│\u001b[39m          \u001b[90m│\u001b[39m \u001b[31m\u001b[1mf-string\u001b[22m\u001b[39m \u001b[90m│\u001b[39m\r\n",
      "\u001b[90m│\u001b[39m          \u001b[90m│\u001b[39m          \u001b[90m│\u001b[39m          \u001b[90m│\u001b[39m          \u001b[90m│\u001b[39m          \u001b[90m│\u001b[39m          \u001b[90m│\u001b[39m \u001b[31m\u001b[1mformatt\u001b[22m\u001b[39m… \u001b[90m│\u001b[39m\r\n",
      "\u001b[90m│\u001b[39m          \u001b[90m│\u001b[39m          \u001b[90m│\u001b[39m          \u001b[90m│\u001b[39m          \u001b[90m│\u001b[39m          \u001b[90m│\u001b[39m          \u001b[90m│\u001b[39m \u001b[31m\u001b[1man...\u001b[22m\u001b[39m    \u001b[90m│\u001b[39m\r\n",
      "\u001b[90m├──────────\u001b[39m\u001b[90m┼──────────\u001b[39m\u001b[90m┼──────────\u001b[39m\u001b[90m┼──────────\u001b[39m\u001b[90m┼──────────\u001b[39m\u001b[90m┼──────────\u001b[39m\u001b[90m┼──────────┤\u001b[39m\r\n",
      "\u001b[90m│\u001b[39m python_2 \u001b[90m│\u001b[39m          \u001b[90m│\u001b[39m <p></p>… \u001b[90m│\u001b[39m [{\"inpu… \u001b[90m│\u001b[39m A, B, H  \u001b[90m│\u001b[39m a =      \u001b[90m│\u001b[39m \u001b[32m[PASS]\u001b[39m   \u001b[90m│\u001b[39m\r\n",
      "\u001b[90m│\u001b[39m          \u001b[90m│\u001b[39m          \u001b[90m│\u001b[39m learned  \u001b[90m│\u001b[39m          \u001b[90m│\u001b[39m =        \u001b[90m│\u001b[39m input()  \u001b[90m│\u001b[39m \u001b[32m\u001b[39mIn the   \u001b[90m│\u001b[39m\r\n",
      "\u001b[90m│\u001b[39m          \u001b[90m│\u001b[39m          \u001b[90m│\u001b[39m from a   \u001b[90m│\u001b[39m          \u001b[90m│\u001b[39m int(inp… \u001b[90m│\u001b[39m b =      \u001b[90m│\u001b[39m student… \u001b[90m│\u001b[39m\r\n",
      "\u001b[90m│\u001b[39m          \u001b[90m│\u001b[39m          \u001b[90m│\u001b[39m health   \u001b[90m│\u001b[39m          \u001b[90m│\u001b[39m int(inp… \u001b[90m│\u001b[39m input()  \u001b[90m│\u001b[39m code,    \u001b[90m│\u001b[39m\r\n",
      "\u001b[90m│\u001b[39m          \u001b[90m│\u001b[39m          \u001b[90m│\u001b[39m TV       \u001b[90m│\u001b[39m          \u001b[90m│\u001b[39m int(inp… \u001b[90m│\u001b[39m h =      \u001b[90m│\u001b[39m the      \u001b[90m│\u001b[39m\r\n",
      "\u001b[90m│\u001b[39m          \u001b[90m│\u001b[39m          \u001b[90m│\u001b[39m program  \u001b[90m│\u001b[39m          \u001b[90m│\u001b[39m if H <   \u001b[90m│\u001b[39m input()  \u001b[90m│\u001b[39m input    \u001b[90m│\u001b[39m\r\n",
      "\u001b[90m│\u001b[39m          \u001b[90m│\u001b[39m          \u001b[90m│\u001b[39m that     \u001b[90m│\u001b[39m          \u001b[90m│\u001b[39m A:       \u001b[90m│\u001b[39m if h >=  \u001b[90m│\u001b[39m values   \u001b[90m│\u001b[39m\r\n",
      "\u001b[90m│\u001b[39m          \u001b[90m│\u001b[39m          \u001b[90m│\u001b[39m it's     \u001b[90m│\u001b[39m          \u001b[90m│\u001b[39m print(\"… \u001b[90m│\u001b[39m a and h  \u001b[90m│\u001b[39m are      \u001b[90m│\u001b[39m\r\n",
      "\u001b[90m│\u001b[39m          \u001b[90m│\u001b[39m          \u001b[90m│\u001b[39m ideal to \u001b[90m│\u001b[39m          \u001b[90m│\u001b[39m elif H > \u001b[90m│\u001b[39m <= b:    \u001b[90m│\u001b[39m being    \u001b[90m│\u001b[39m\r\n",
      "\u001b[90m│\u001b[39m          \u001b[90m│\u001b[39m          \u001b[90m│\u001b[39m sleep a  \u001b[90m│\u001b[39m          \u001b[90m│\u001b[39m B:       \u001b[90m│\u001b[39m print(\"… \u001b[90m│\u001b[39m stored   \u001b[90m│\u001b[39m\r\n",
      "\u001b[90m│\u001b[39m          \u001b[90m│\u001b[39m          \u001b[90m│\u001b[39m minimum  \u001b[90m│\u001b[39m          \u001b[90m│\u001b[39m print(\"… \u001b[90m│\u001b[39m else:    \u001b[90m│\u001b[39m as       \u001b[90m│\u001b[39m\r\n",
      "\u001b[90m│\u001b[39m          \u001b[90m│\u001b[39m          \u001b[90m│\u001b[39m of <code \u001b[90m│\u001b[39m          \u001b[90m│\u001b[39m else:    \u001b[90m│\u001b[39m     if … \u001b[90m│\u001b[39m strings  \u001b[90m│\u001b[39m\r\n",
      "\u001b[90m│\u001b[39m          \u001b[90m│\u001b[39m          \u001b[90m│\u001b[39m class=\"… \u001b[90m│\u001b[39m          \u001b[90m│\u001b[39m print(\"… \u001b[90m│\u001b[39m a:       \u001b[90m│\u001b[39m instead  \u001b[90m│\u001b[39m\r\n",
      "\u001b[90m│\u001b[39m          \u001b[90m│\u001b[39m          \u001b[90m│\u001b[39m hours    \u001b[90m│\u001b[39m          \u001b[90m│\u001b[39m          \u001b[90m│\u001b[39m print(\"… \u001b[90m│\u001b[39m of       \u001b[90m│\u001b[39m\r\n",
      "\u001b[90m│\u001b[39m          \u001b[90m│\u001b[39m          \u001b[90m│\u001b[39m daily    \u001b[90m│\u001b[39m          \u001b[90m│\u001b[39m          \u001b[90m│\u001b[39m     els… \u001b[90m│\u001b[39m integer… \u001b[90m│\u001b[39m\r\n",
      "\u001b[90m│\u001b[39m          \u001b[90m│\u001b[39m          \u001b[90m│\u001b[39m but not  \u001b[90m│\u001b[39m          \u001b[90m│\u001b[39m          \u001b[90m│\u001b[39m print(\"… \u001b[90m│\u001b[39m This can \u001b[90m│\u001b[39m\r\n",
      "\u001b[90m│\u001b[39m          \u001b[90m│\u001b[39m          \u001b[90m│\u001b[39m to       \u001b[90m│\u001b[39m          \u001b[90m│\u001b[39m          \u001b[90m│\u001b[39m          \u001b[90m│\u001b[39m lead to  \u001b[90m│\u001b[39m\r\n",
      "\u001b[90m│\u001b[39m          \u001b[90m│\u001b[39m          \u001b[90m│\u001b[39m exceed   \u001b[90m│\u001b[39m          \u001b[90m│\u001b[39m          \u001b[90m│\u001b[39m          \u001b[90m│\u001b[39m incorre… \u001b[90m│\u001b[39m\r\n",
      "\u001b[90m│\u001b[39m          \u001b[90m│\u001b[39m          \u001b[90m│\u001b[39m <code    \u001b[90m│\u001b[39m          \u001b[90m│\u001b[39m          \u001b[90m│\u001b[39m          \u001b[90m│\u001b[39m compari… \u001b[90m│\u001b[39m\r\n",
      "\u001b[90m│\u001b[39m          \u001b[90m│\u001b[39m          \u001b[90m│\u001b[39m class=\"… \u001b[90m│\u001b[39m          \u001b[90m│\u001b[39m          \u001b[90m│\u001b[39m          \u001b[90m│\u001b[39m when     \u001b[90m│\u001b[39m\r\n",
      "\u001b[90m│\u001b[39m          \u001b[90m│\u001b[39m          \u001b[90m│\u001b[39m hours.   \u001b[90m│\u001b[39m          \u001b[90m│\u001b[39m          \u001b[90m│\u001b[39m          \u001b[90m│\u001b[39m checking \u001b[90m│\u001b[39m\r\n",
      "\u001b[90m│\u001b[39m          \u001b[90m│\u001b[39m          \u001b[90m│\u001b[39m Ann      \u001b[90m│\u001b[39m          \u001b[90m│\u001b[39m          \u001b[90m│\u001b[39m          \u001b[90m│\u001b[39m if the   \u001b[90m│\u001b[39m\r\n",
      "\u001b[90m│\u001b[39m          \u001b[90m│\u001b[39m          \u001b[90m│\u001b[39m current… \u001b[90m│\u001b[39m          \u001b[90m│\u001b[39m          \u001b[90m│\u001b[39m          \u001b[90m│\u001b[39m hours    \u001b[90m│\u001b[39m\r\n",
      "\u001b[90m│\u001b[39m          \u001b[90m│\u001b[39m          \u001b[90m│\u001b[39m sleeps   \u001b[90m│\u001b[39m          \u001b[90m│\u001b[39m          \u001b[90m│\u001b[39m          \u001b[90m│\u001b[39m slept    \u001b[90m│\u001b[39m\r\n",
      "\u001b[90m│\u001b[39m          \u001b[90m│\u001b[39m          \u001b[90m│\u001b[39m for      \u001b[90m│\u001b[39m          \u001b[90m│\u001b[39m          \u001b[90m│\u001b[39m          \u001b[90m│\u001b[39m are      \u001b[90m│\u001b[39m\r\n",
      "\u001b[90m│\u001b[39m          \u001b[90m│\u001b[39m          \u001b[90m│\u001b[39m <code    \u001b[90m│\u001b[39m          \u001b[90m│\u001b[39m          \u001b[90m│\u001b[39m          \u001b[90m│\u001b[39m within   \u001b[90m│\u001b[39m\r\n",
      "\u001b[90m│\u001b[39m          \u001b[90m│\u001b[39m          \u001b[90m│\u001b[39m class=\"… \u001b[90m│\u001b[39m          \u001b[90m│\u001b[39m          \u001b[90m│\u001b[39m          \u001b[90m│\u001b[39m the      \u001b[90m│\u001b[39m\r\n",
      "\u001b[90m│\u001b[39m          \u001b[90m│\u001b[39m          \u001b[90m│\u001b[39m hours    \u001b[90m│\u001b[39m          \u001b[90m│\u001b[39m          \u001b[90m│\u001b[39m          \u001b[90m│\u001b[39m healthy  \u001b[90m│\u001b[39m\r\n",
      "\u001b[90m│\u001b[39m          \u001b[90m│\u001b[39m          \u001b[90m│\u001b[39m each day \u001b[90m│\u001b[39m          \u001b[90m│\u001b[39m          \u001b[90m│\u001b[39m          \u001b[90m│\u001b[39m range.   \u001b[90m│\u001b[39m\r\n",
      "\u001b[90m│\u001b[39m          \u001b[90m│\u001b[39m          \u001b[90m│\u001b[39m a...     \u001b[90m│\u001b[39m          \u001b[90m│\u001b[39m          \u001b[90m│\u001b[39m          \u001b[90m│\u001b[39m To fix   \u001b[90m│\u001b[39m\r\n",
      "\u001b[90m│\u001b[39m          \u001b[90m│\u001b[39m          \u001b[90m│\u001b[39m          \u001b[90m│\u001b[39m          \u001b[90m│\u001b[39m          \u001b[90m│\u001b[39m          \u001b[90m│\u001b[39m this     \u001b[90m│\u001b[39m\r\n",
      "\u001b[90m│\u001b[39m          \u001b[90m│\u001b[39m          \u001b[90m│\u001b[39m          \u001b[90m│\u001b[39m          \u001b[90m│\u001b[39m          \u001b[90m│\u001b[39m          \u001b[90m│\u001b[39m issue,   \u001b[90m│\u001b[39m\r\n",
      "\u001b[90m│\u001b[39m          \u001b[90m│\u001b[39m          \u001b[90m│\u001b[39m          \u001b[90m│\u001b[39m          \u001b[90m│\u001b[39m          \u001b[90m│\u001b[39m          \u001b[90m│\u001b[39m make     \u001b[90m│\u001b[39m\r\n",
      "\u001b[90m│\u001b[39m          \u001b[90m│\u001b[39m          \u001b[90m│\u001b[39m          \u001b[90m│\u001b[39m          \u001b[90m│\u001b[39m          \u001b[90m│\u001b[39m          \u001b[90m│\u001b[39m sure to  \u001b[90m│\u001b[39m\r\n",
      "\u001b[90m│\u001b[39m          \u001b[90m│\u001b[39m          \u001b[90m│\u001b[39m          \u001b[90m│\u001b[39m          \u001b[90m│\u001b[39m          \u001b[90m│\u001b[39m          \u001b[90m│\u001b[39m convert  \u001b[90m│\u001b[39m\r\n",
      "\u001b[90m│\u001b[39m          \u001b[90m│\u001b[39m          \u001b[90m│\u001b[39m          \u001b[90m│\u001b[39m          \u001b[90m│\u001b[39m          \u001b[90m│\u001b[39m          \u001b[90m│\u001b[39m the      \u001b[90m│\u001b[39m\r\n",
      "\u001b[90m│\u001b[39m          \u001b[90m│\u001b[39m          \u001b[90m│\u001b[39m          \u001b[90m│\u001b[39m          \u001b[90m│\u001b[39m          \u001b[90m│\u001b[39m          \u001b[90m│\u001b[39m input    \u001b[90m│\u001b[39m\r\n",
      "\u001b[90m│\u001b[39m          \u001b[90m│\u001b[39m          \u001b[90m│\u001b[39m          \u001b[90m│\u001b[39m          \u001b[90m│\u001b[39m          \u001b[90m│\u001b[39m          \u001b[90m│\u001b[39m value... \u001b[90m│\u001b[39m\r\n",
      "\u001b[90m├──────────\u001b[39m\u001b[90m┼──────────\u001b[39m\u001b[90m┼──────────\u001b[39m\u001b[90m┼──────────\u001b[39m\u001b[90m┼──────────\u001b[39m\u001b[90m┼──────────\u001b[39m\u001b[90m┼──────────┤\u001b[39m\r\n",
      "\u001b[90m│\u001b[39m python_3 \u001b[90m│\u001b[39m Failed   \u001b[90m│\u001b[39m <p></p>… \u001b[90m│\u001b[39m [{\"inpu… \u001b[90m│\u001b[39m scores = \u001b[90m│\u001b[39m scores = \u001b[90m│\u001b[39m \u001b[32m[PASS]\u001b[39m   \u001b[90m│\u001b[39m\r\n",
      "\u001b[90m│\u001b[39m          \u001b[90m│\u001b[39m test #1  \u001b[90m│\u001b[39m online   \u001b[90m│\u001b[39m C C I C  \u001b[90m│\u001b[39m input()… \u001b[90m│\u001b[39m input()… \u001b[90m│\u001b[39m \u001b[32m\u001b[39mIn your  \u001b[90m│\u001b[39m\r\n",
      "\u001b[90m│\u001b[39m          \u001b[90m│\u001b[39m of 17.   \u001b[90m│\u001b[39m test     \u001b[90m│\u001b[39m C C C I  \u001b[90m│\u001b[39m # put    \u001b[90m│\u001b[39m # put    \u001b[90m│\u001b[39m code,    \u001b[90m│\u001b[39m\r\n",
      "\u001b[90m│\u001b[39m          \u001b[90m│\u001b[39m Runtime  \u001b[90m│\u001b[39m games,   \u001b[90m│\u001b[39m I C C C  \u001b[90m│\u001b[39m your     \u001b[90m│\u001b[39m your     \u001b[90m│\u001b[39m you are  \u001b[90m│\u001b[39m\r\n",
      "\u001b[90m│\u001b[39m          \u001b[90m│\u001b[39m error    \u001b[90m│\u001b[39m there is \u001b[90m│\u001b[39m C C C C  \u001b[90m│\u001b[39m python   \u001b[90m│\u001b[39m python   \u001b[90m│\u001b[39m using    \u001b[90m│\u001b[39m\r\n",
      "\u001b[90m│\u001b[39m          \u001b[90m│\u001b[39m This is  \u001b[90m│\u001b[39m usually  \u001b[90m│\u001b[39m C        \u001b[90m│\u001b[39m code     \u001b[90m│\u001b[39m code     \u001b[90m│\u001b[39m the      \u001b[90m│\u001b[39m\r\n",
      "\u001b[90m│\u001b[39m          \u001b[90m│\u001b[39m a sample \u001b[90m│\u001b[39m a        \u001b[90m│\u001b[39m C\",\"out… \u001b[90m│\u001b[39m here     \u001b[90m│\u001b[39m here     \u001b[90m│\u001b[39m assignm… \u001b[90m│\u001b[39m\r\n",
      "\u001b[90m│\u001b[39m          \u001b[90m│\u001b[39m test     \u001b[90m│\u001b[39m limited  \u001b[90m│\u001b[39m over\\n7… \u001b[90m│\u001b[39m lives =  \u001b[90m│\u001b[39m score_s… \u001b[90m│\u001b[39m operator \u001b[90m│\u001b[39m\r\n",
      "\u001b[90m│\u001b[39m          \u001b[90m│\u001b[39m from the \u001b[90m│\u001b[39m number   \u001b[90m│\u001b[39m          \u001b[90m│\u001b[39m 3        \u001b[90m│\u001b[39m = 0      \u001b[90m│\u001b[39m '='      \u001b[90m│\u001b[39m\r\n",
      "\u001b[90m│\u001b[39m          \u001b[90m│\u001b[39m problem  \u001b[90m│\u001b[39m of       \u001b[90m│\u001b[39m          \u001b[90m│\u001b[39m final_s… \u001b[90m│\u001b[39m mistake… \u001b[90m│\u001b[39m instead  \u001b[90m│\u001b[39m\r\n",
      "\u001b[90m│\u001b[39m          \u001b[90m│\u001b[39m stateme… \u001b[90m│\u001b[39m lives:   \u001b[90m│\u001b[39m          \u001b[90m│\u001b[39m = 0      \u001b[90m│\u001b[39m = 0      \u001b[90m│\u001b[39m of the   \u001b[90m│\u001b[39m\r\n",
      "\u001b[90m│\u001b[39m          \u001b[90m│\u001b[39m Test     \u001b[90m│\u001b[39m if, for  \u001b[90m│\u001b[39m          \u001b[90m│\u001b[39m for i in \u001b[90m│\u001b[39m for      \u001b[90m│\u001b[39m compari… \u001b[90m│\u001b[39m\r\n",
      "\u001b[90m│\u001b[39m          \u001b[90m│\u001b[39m input:   \u001b[90m│\u001b[39m example, \u001b[90m│\u001b[39m          \u001b[90m│\u001b[39m scores:  \u001b[90m│\u001b[39m score in \u001b[90m│\u001b[39m operator \u001b[90m│\u001b[39m\r\n",
      "\u001b[90m│\u001b[39m          \u001b[90m│\u001b[39m C C C I  \u001b[90m│\u001b[39m you make \u001b[90m│\u001b[39m          \u001b[90m│\u001b[39m     liv… \u001b[90m│\u001b[39m scores:  \u001b[90m│\u001b[39m '=='     \u001b[90m│\u001b[39m\r\n",
      "\u001b[90m│\u001b[39m          \u001b[90m│\u001b[39m C C C C  \u001b[90m│\u001b[39m 3        \u001b[90m│\u001b[39m          \u001b[90m│\u001b[39m i == \"I\" \u001b[90m│\u001b[39m     if … \u001b[90m│\u001b[39m when     \u001b[90m│\u001b[39m\r\n",
      "\u001b[90m│\u001b[39m          \u001b[90m│\u001b[39m I I C C  \u001b[90m│\u001b[39m mistake… \u001b[90m│\u001b[39m          \u001b[90m│\u001b[39m final_s… \u001b[90m│\u001b[39m = 'C':   \u001b[90m│\u001b[39m checking \u001b[90m│\u001b[39m\r\n",
      "\u001b[90m│\u001b[39m          \u001b[90m│\u001b[39m C C C C  \u001b[90m│\u001b[39m you      \u001b[90m│\u001b[39m          \u001b[90m│\u001b[39m += i ==  \u001b[90m│\u001b[39m score_s… \u001b[90m│\u001b[39m the      \u001b[90m│\u001b[39m\r\n",
      "\u001b[90m│\u001b[39m          \u001b[90m│\u001b[39m C C C    \u001b[90m│\u001b[39m lose,    \u001b[90m│\u001b[39m          \u001b[90m│\u001b[39m \"C\"      \u001b[90m│\u001b[39m        … \u001b[90m│\u001b[39m value of \u001b[90m│\u001b[39m\r\n",
      "\u001b[90m│\u001b[39m          \u001b[90m│\u001b[39m Correct  \u001b[90m│\u001b[39m and      \u001b[90m│\u001b[39m          \u001b[90m│\u001b[39m     if … \u001b[90m│\u001b[39m     els… \u001b[90m│\u001b[39m 'score'. \u001b[90m│\u001b[39m\r\n",
      "\u001b[90m│\u001b[39m          \u001b[90m│\u001b[39m output:  \u001b[90m│\u001b[39m cannot   \u001b[90m│\u001b[39m          \u001b[90m│\u001b[39m <= 0:    \u001b[90m│\u001b[39m mistake… \u001b[90m│\u001b[39m This is  \u001b[90m│\u001b[39m\r\n",
      "\u001b[90m│\u001b[39m          \u001b[90m│\u001b[39m Game     \u001b[90m│\u001b[39m continue \u001b[90m│\u001b[39m          \u001b[90m│\u001b[39m print(\"… \u001b[90m│\u001b[39m        … \u001b[90m│\u001b[39m causing  \u001b[90m│\u001b[39m\r\n",
      "\u001b[90m│\u001b[39m          \u001b[90m│\u001b[39m over     \u001b[90m│\u001b[39m with the \u001b[90m│\u001b[39m          \u001b[90m│\u001b[39m over\")   \u001b[90m│\u001b[39m mistake… \u001b[90m│\u001b[39m a syntax \u001b[90m│\u001b[39m\r\n",
      "\u001b[90m│\u001b[39m          \u001b[90m│\u001b[39m 7        \u001b[90m│\u001b[39m game.    \u001b[90m│\u001b[39m          \u001b[90m│\u001b[39m        … \u001b[90m│\u001b[39m        … \u001b[90m│\u001b[39m error.   \u001b[90m│\u001b[39m\r\n",
      "\u001b[90m│\u001b[39m          \u001b[90m│\u001b[39m Your     \u001b[90m│\u001b[39m Let's    \u001b[90m│\u001b[39m          \u001b[90m│\u001b[39m else:    \u001b[90m│\u001b[39m       .… \u001b[90m│\u001b[39m To fix   \u001b[90m│\u001b[39m\r\n",
      "\u001b[90m│\u001b[39m          \u001b[90m│\u001b[39m code     \u001b[90m│\u001b[39m try to   \u001b[90m│\u001b[39m          \u001b[90m│\u001b[39m print(\"… \u001b[90m│\u001b[39m          \u001b[90m│\u001b[39m this     \u001b[90m│\u001b[39m\r\n",
      "\u001b[90m│\u001b[39m          \u001b[90m│\u001b[39m output:  \u001b[90m│\u001b[39m impleme… \u001b[90m│\u001b[39m          \u001b[90m│\u001b[39m won\")    \u001b[90m│\u001b[39m          \u001b[90m│\u001b[39m issue,   \u001b[90m│\u001b[39m\r\n",
      "\u001b[90m│\u001b[39m          \u001b[90m│\u001b[39m Error:   \u001b[90m│\u001b[39m this     \u001b[90m│\u001b[39m          \u001b[90m│\u001b[39m print(f… \u001b[90m│\u001b[39m          \u001b[90m│\u001b[39m you      \u001b[90m│\u001b[39m\r\n",
      "\u001b[90m│\u001b[39m          \u001b[90m│\u001b[39m   File   \u001b[90m│\u001b[39m system.… \u001b[90m│\u001b[39m          \u001b[90m│\u001b[39m          \u001b[90m│\u001b[39m          \u001b[90m│\u001b[39m should   \u001b[90m│\u001b[39m\r\n",
      "\u001b[90m│\u001b[39m          \u001b[90m│\u001b[39m \"/sandb… \u001b[90m│\u001b[39m the line \u001b[90m│\u001b[39m          \u001b[90m│\u001b[39m          \u001b[90m│\u001b[39m          \u001b[90m│\u001b[39m use '==' \u001b[90m│\u001b[39m\r\n",
      "\u001b[90m│\u001b[39m          \u001b[90m│\u001b[39m line 7   \u001b[90m│\u001b[39m with     \u001b[90m│\u001b[39m          \u001b[90m│\u001b[39m          \u001b[90m│\u001b[39m          \u001b[90m│\u001b[39m instead  \u001b[90m│\u001b[39m\r\n",
      "\u001b[90m│\u001b[39m          \u001b[90m│\u001b[39m     if … \u001b[90m│\u001b[39m user     \u001b[90m│\u001b[39m          \u001b[90m│\u001b[39m          \u001b[90m│\u001b[39m          \u001b[90m│\u001b[39m of '='   \u001b[90m│\u001b[39m\r\n",
      "\u001b[90m│\u001b[39m          \u001b[90m│\u001b[39m =        \u001b[90m│\u001b[39m answers  \u001b[90m│\u001b[39m          \u001b[90m│\u001b[39m          \u001b[90m│\u001b[39m          \u001b[90m│\u001b[39m when     \u001b[90m│\u001b[39m\r\n",
      "\u001b[90m│\u001b[39m          \u001b[90m│\u001b[39m 'C':...  \u001b[90m│\u001b[39m from the \u001b[90m│\u001b[39m          \u001b[90m│\u001b[39m          \u001b[90m│\u001b[39m          \u001b[90m│\u001b[39m compari… \u001b[90m│\u001b[39m\r\n",
      "\u001b[90m│\u001b[39m          \u001b[90m│\u001b[39m          \u001b[90m│\u001b[39m ...      \u001b[90m│\u001b[39m          \u001b[90m│\u001b[39m          \u001b[90m│\u001b[39m          \u001b[90m│\u001b[39m the      \u001b[90m│\u001b[39m\r\n",
      "\u001b[90m│\u001b[39m          \u001b[90m│\u001b[39m          \u001b[90m│\u001b[39m          \u001b[90m│\u001b[39m          \u001b[90m│\u001b[39m          \u001b[90m│\u001b[39m          \u001b[90m│\u001b[39m value    \u001b[90m│\u001b[39m\r\n",
      "\u001b[90m│\u001b[39m          \u001b[90m│\u001b[39m          \u001b[90m│\u001b[39m          \u001b[90m│\u001b[39m          \u001b[90m│\u001b[39m          \u001b[90m│\u001b[39m          \u001b[90m│\u001b[39m of...    \u001b[90m│\u001b[39m\r\n",
      "\u001b[90m├──────────\u001b[39m\u001b[90m┼──────────\u001b[39m\u001b[90m┼──────────\u001b[39m\u001b[90m┼──────────\u001b[39m\u001b[90m┼──────────\u001b[39m\u001b[90m┼──────────\u001b[39m\u001b[90m┼──────────┤\u001b[39m\r\n",
      "\u001b[90m│\u001b[39m python_4 \u001b[90m│\u001b[39m Failed   \u001b[90m│\u001b[39m <p>Imag… \u001b[90m│\u001b[39m [{\"inpu… \u001b[90m│\u001b[39m film_ti… \u001b[90m│\u001b[39m print(w… \u001b[90m│\u001b[39m \u001b[31m[FAIL]\u001b[39m   \u001b[90m│\u001b[39m\r\n",
      "\u001b[90m│\u001b[39m          \u001b[90m│\u001b[39m test #1  \u001b[90m│\u001b[39m that you \u001b[90m│\u001b[39m lion     \u001b[90m│\u001b[39m =        \u001b[90m│\u001b[39m          \u001b[90m│\u001b[39m \u001b[31m\u001b[39m\u001b[31m\u001b[1mThe\u001b[22m\u001b[39m      \u001b[90m│\u001b[39m\r\n",
      "\u001b[90m│\u001b[39m          \u001b[90m│\u001b[39m of 7.    \u001b[90m│\u001b[39m design   \u001b[90m│\u001b[39m king\",\"… \u001b[90m│\u001b[39m str(inp… \u001b[90m│\u001b[39m          \u001b[90m│\u001b[39m \u001b[31m\u001b[1msubmiss\u001b[22m\u001b[39m… \u001b[90m│\u001b[39m\r\n",
      "\u001b[90m│\u001b[39m          \u001b[90m│\u001b[39m Runtime  \u001b[90m│\u001b[39m film     \u001b[90m│\u001b[39m LION     \u001b[90m│\u001b[39m print(f… \u001b[90m│\u001b[39m          \u001b[90m│\u001b[39m \u001b[31m\u001b[1mdoes not\u001b[22m\u001b[39m \u001b[90m│\u001b[39m\r\n",
      "\u001b[90m│\u001b[39m          \u001b[90m│\u001b[39m error    \u001b[90m│\u001b[39m posters  \u001b[90m│\u001b[39m KING\"}]  \u001b[90m│\u001b[39m          \u001b[90m│\u001b[39m          \u001b[90m│\u001b[39m \u001b[31m\u001b[1mmeet the\u001b[22m\u001b[39m \u001b[90m│\u001b[39m\r\n",
      "\u001b[90m│\u001b[39m          \u001b[90m│\u001b[39m This is  \u001b[90m│\u001b[39m for a    \u001b[90m│\u001b[39m          \u001b[90m│\u001b[39m          \u001b[90m│\u001b[39m          \u001b[90m│\u001b[39m \u001b[31m\u001b[1mcriteri\u001b[22m\u001b[39m… \u001b[90m│\u001b[39m\r\n",
      "\u001b[90m│\u001b[39m          \u001b[90m│\u001b[39m a sample \u001b[90m│\u001b[39m living.  \u001b[90m│\u001b[39m          \u001b[90m│\u001b[39m          \u001b[90m│\u001b[39m          \u001b[90m│\u001b[39m \u001b[31m\u001b[1m1. The\u001b[22m\u001b[39m   \u001b[90m│\u001b[39m\r\n",
      "\u001b[90m│\u001b[39m          \u001b[90m│\u001b[39m test     \u001b[90m│\u001b[39m Write a  \u001b[90m│\u001b[39m          \u001b[90m│\u001b[39m          \u001b[90m│\u001b[39m          \u001b[90m│\u001b[39m \u001b[31m\u001b[1mtask was\u001b[22m\u001b[39m \u001b[90m│\u001b[39m\r\n",
      "\u001b[90m│\u001b[39m          \u001b[90m│\u001b[39m from the \u001b[90m│\u001b[39m program  \u001b[90m│\u001b[39m          \u001b[90m│\u001b[39m          \u001b[90m│\u001b[39m          \u001b[90m│\u001b[39m \u001b[31m\u001b[1mto write\u001b[22m\u001b[39m \u001b[90m│\u001b[39m\r\n",
      "\u001b[90m│\u001b[39m          \u001b[90m│\u001b[39m problem  \u001b[90m│\u001b[39m that     \u001b[90m│\u001b[39m          \u001b[90m│\u001b[39m          \u001b[90m│\u001b[39m          \u001b[90m│\u001b[39m \u001b[31m\u001b[1ma\u001b[22m\u001b[39m        \u001b[90m│\u001b[39m\r\n",
      "\u001b[90m│\u001b[39m          \u001b[90m│\u001b[39m stateme… \u001b[90m│\u001b[39m prints   \u001b[90m│\u001b[39m          \u001b[90m│\u001b[39m          \u001b[90m│\u001b[39m          \u001b[90m│\u001b[39m \u001b[31m\u001b[1mprogram\u001b[22m\u001b[39m  \u001b[90m│\u001b[39m\r\n",
      "\u001b[90m│\u001b[39m          \u001b[90m│\u001b[39m Test     \u001b[90m│\u001b[39m each     \u001b[90m│\u001b[39m          \u001b[90m│\u001b[39m          \u001b[90m│\u001b[39m          \u001b[90m│\u001b[39m \u001b[31m\u001b[1mthat\u001b[22m\u001b[39m     \u001b[90m│\u001b[39m\r\n",
      "\u001b[90m│\u001b[39m          \u001b[90m│\u001b[39m input:   \u001b[90m│\u001b[39m film     \u001b[90m│\u001b[39m          \u001b[90m│\u001b[39m          \u001b[90m│\u001b[39m          \u001b[90m│\u001b[39m \u001b[31m\u001b[1mprints\u001b[22m\u001b[39m   \u001b[90m│\u001b[39m\r\n",
      "\u001b[90m│\u001b[39m          \u001b[90m│\u001b[39m the lion \u001b[90m│\u001b[39m title in \u001b[90m│\u001b[39m          \u001b[90m│\u001b[39m          \u001b[90m│\u001b[39m          \u001b[90m│\u001b[39m \u001b[31m\u001b[1meach\u001b[22m\u001b[39m     \u001b[90m│\u001b[39m\r\n",
      "\u001b[90m│\u001b[39m          \u001b[90m│\u001b[39m king     \u001b[90m│\u001b[39m all      \u001b[90m│\u001b[39m          \u001b[90m│\u001b[39m          \u001b[90m│\u001b[39m          \u001b[90m│\u001b[39m \u001b[31m\u001b[1mfilm\u001b[22m\u001b[39m     \u001b[90m│\u001b[39m\r\n",
      "\u001b[90m│\u001b[39m          \u001b[90m│\u001b[39m Correct  \u001b[90m│\u001b[39m caps.</… \u001b[90m│\u001b[39m          \u001b[90m│\u001b[39m          \u001b[90m│\u001b[39m          \u001b[90m│\u001b[39m \u001b[31m\u001b[1mtitle in\u001b[22m\u001b[39m \u001b[90m│\u001b[39m\r\n",
      "\u001b[90m│\u001b[39m          \u001b[90m│\u001b[39m output:  \u001b[90m│\u001b[39m          \u001b[90m│\u001b[39m          \u001b[90m│\u001b[39m          \u001b[90m│\u001b[39m          \u001b[90m│\u001b[39m \u001b[31m\u001b[1mall\u001b[22m\u001b[39m      \u001b[90m│\u001b[39m\r\n",
      "\u001b[90m│\u001b[39m          \u001b[90m│\u001b[39m THE LION \u001b[90m│\u001b[39m          \u001b[90m│\u001b[39m          \u001b[90m│\u001b[39m          \u001b[90m│\u001b[39m          \u001b[90m│\u001b[39m \u001b[31m\u001b[1mcaps,\u001b[22m\u001b[39m    \u001b[90m│\u001b[39m\r\n",
      "\u001b[90m│\u001b[39m          \u001b[90m│\u001b[39m KING     \u001b[90m│\u001b[39m          \u001b[90m│\u001b[39m          \u001b[90m│\u001b[39m          \u001b[90m│\u001b[39m          \u001b[90m│\u001b[39m \u001b[31m\u001b[1mwhich\u001b[22m\u001b[39m    \u001b[90m│\u001b[39m\r\n",
      "\u001b[90m│\u001b[39m          \u001b[90m│\u001b[39m Your     \u001b[90m│\u001b[39m          \u001b[90m│\u001b[39m          \u001b[90m│\u001b[39m          \u001b[90m│\u001b[39m          \u001b[90m│\u001b[39m \u001b[31m\u001b[1mimplies\u001b[22m\u001b[39m  \u001b[90m│\u001b[39m\r\n",
      "\u001b[90m│\u001b[39m          \u001b[90m│\u001b[39m code     \u001b[90m│\u001b[39m          \u001b[90m│\u001b[39m          \u001b[90m│\u001b[39m          \u001b[90m│\u001b[39m          \u001b[90m│\u001b[39m \u001b[31m\u001b[1mtaking\u001b[22m\u001b[39m   \u001b[90m│\u001b[39m\r\n",
      "\u001b[90m│\u001b[39m          \u001b[90m│\u001b[39m output:  \u001b[90m│\u001b[39m          \u001b[90m│\u001b[39m          \u001b[90m│\u001b[39m          \u001b[90m│\u001b[39m          \u001b[90m│\u001b[39m \u001b[31m\u001b[1man input\u001b[22m\u001b[39m \u001b[90m│\u001b[39m\r\n",
      "\u001b[90m│\u001b[39m          \u001b[90m│\u001b[39m Error:   \u001b[90m│\u001b[39m          \u001b[90m│\u001b[39m          \u001b[90m│\u001b[39m          \u001b[90m│\u001b[39m          \u001b[90m│\u001b[39m \u001b[31m\u001b[1mand\u001b[22m\u001b[39m      \u001b[90m│\u001b[39m\r\n",
      "\u001b[90m│\u001b[39m          \u001b[90m│\u001b[39m Traceba… \u001b[90m│\u001b[39m          \u001b[90m│\u001b[39m          \u001b[90m│\u001b[39m          \u001b[90m│\u001b[39m          \u001b[90m│\u001b[39m \u001b[31m\u001b[1mconvert\u001b[22m\u001b[39m… \u001b[90m│\u001b[39m\r\n",
      "\u001b[90m│\u001b[39m          \u001b[90m│\u001b[39m (most    \u001b[90m│\u001b[39m          \u001b[90m│\u001b[39m          \u001b[90m│\u001b[39m          \u001b[90m│\u001b[39m          \u001b[90m│\u001b[39m \u001b[31m\u001b[1mit to\u001b[22m\u001b[39m    \u001b[90m│\u001b[39m\r\n",
      "\u001b[90m│\u001b[39m          \u001b[90m│\u001b[39m recent   \u001b[90m│\u001b[39m          \u001b[90m│\u001b[39m          \u001b[90m│\u001b[39m          \u001b[90m│\u001b[39m          \u001b[90m│\u001b[39m \u001b[31m\u001b[1mupperca\u001b[22m\u001b[39m… \u001b[90m│\u001b[39m\r\n",
      "\u001b[90m│\u001b[39m          \u001b[90m│\u001b[39m call     \u001b[90m│\u001b[39m          \u001b[90m│\u001b[39m          \u001b[90m│\u001b[39m          \u001b[90m│\u001b[39m          \u001b[90m│\u001b[39m \u001b[31m\u001b[1m2. The\u001b[22m\u001b[39m   \u001b[90m│\u001b[39m\r\n",
      "\u001b[90m│\u001b[39m          \u001b[90m│\u001b[39m last):   \u001b[90m│\u001b[39m          \u001b[90m│\u001b[39m          \u001b[90m│\u001b[39m          \u001b[90m│\u001b[39m          \u001b[90m│\u001b[39m \u001b[31m\u001b[1mstudent\u001b[22m\u001b[39m… \u001b[90m│\u001b[39m\r\n",
      "\u001b[90m│\u001b[39m          \u001b[90m│\u001b[39m   File   \u001b[90m│\u001b[39m          \u001b[90m│\u001b[39m          \u001b[90m│\u001b[39m          \u001b[90m│\u001b[39m          \u001b[90m│\u001b[39m \u001b[31m\u001b[1mcode\u001b[22m\u001b[39m     \u001b[90m│\u001b[39m\r\n",
      "\u001b[90m│\u001b[39m          \u001b[90m│\u001b[39m \"/sandb… \u001b[90m│\u001b[39m          \u001b[90m│\u001b[39m          \u001b[90m│\u001b[39m          \u001b[90m│\u001b[39m          \u001b[90m│\u001b[39m \u001b[31m\u001b[1mattempt\u001b[22m\u001b[39m… \u001b[90m│\u001b[39m\r\n",
      "\u001b[90m│\u001b[39m          \u001b[90m│\u001b[39m line 1,  \u001b[90m│\u001b[39m          \u001b[90m│\u001b[39m          \u001b[90m│\u001b[39m          \u001b[90m│\u001b[39m          \u001b[90m│\u001b[39m \u001b[31m\u001b[1mto print\u001b[22m\u001b[39m \u001b[90m│\u001b[39m\r\n",
      "\u001b[90m│\u001b[39m          \u001b[90m│\u001b[39m in       \u001b[90m│\u001b[39m          \u001b[90m│\u001b[39m          \u001b[90m│\u001b[39m          \u001b[90m│\u001b[39m          \u001b[90m│\u001b[39m \u001b[31m\u001b[1ma\u001b[22m\u001b[39m        \u001b[90m│\u001b[39m\r\n",
      "\u001b[90m│\u001b[39m          \u001b[90m│\u001b[39m <mo...   \u001b[90m│\u001b[39m          \u001b[90m│\u001b[39m          \u001b[90m│\u001b[39m          \u001b[90m│\u001b[39m          \u001b[90m│\u001b[39m \u001b[31m\u001b[1mvariable\u001b[22m\u001b[39m \u001b[90m│\u001b[39m\r\n",
      "\u001b[90m│\u001b[39m          \u001b[90m│\u001b[39m          \u001b[90m│\u001b[39m          \u001b[90m│\u001b[39m          \u001b[90m│\u001b[39m          \u001b[90m│\u001b[39m          \u001b[90m│\u001b[39m \u001b[31m\u001b[1min\u001b[22m\u001b[39m       \u001b[90m│\u001b[39m\r\n",
      "\u001b[90m│\u001b[39m          \u001b[90m│\u001b[39m          \u001b[90m│\u001b[39m          \u001b[90m│\u001b[39m          \u001b[90m│\u001b[39m          \u001b[90m│\u001b[39m          \u001b[90m│\u001b[39m \u001b[31m\u001b[1mupperca\u001b[22m\u001b[39m… \u001b[90m│\u001b[39m\r\n",
      "\u001b[90m│\u001b[39m          \u001b[90m│\u001b[39m          \u001b[90m│\u001b[39m          \u001b[90m│\u001b[39m          \u001b[90m│\u001b[39m          \u001b[90m│\u001b[39m          \u001b[90m│\u001b[39m \u001b[31m\u001b[1m...\u001b[22m\u001b[39m      \u001b[90m│\u001b[39m\r\n",
      "\u001b[90m├──────────\u001b[39m\u001b[90m┼──────────\u001b[39m\u001b[90m┼──────────\u001b[39m\u001b[90m┼──────────\u001b[39m\u001b[90m┼──────────\u001b[39m\u001b[90m┼──────────\u001b[39m\u001b[90m┼──────────┤\u001b[39m\r\n",
      "\u001b[90m│\u001b[39m python_5 \u001b[90m│\u001b[39m Failed   \u001b[90m│\u001b[39m <p>When  \u001b[90m│\u001b[39m [{\"inpu… \u001b[90m│\u001b[39m # put    \u001b[90m│\u001b[39m sentence \u001b[90m│\u001b[39m \u001b[32m[PASS]\u001b[39m   \u001b[90m│\u001b[39m\r\n",
      "\u001b[90m│\u001b[39m          \u001b[90m│\u001b[39m test #1  \u001b[90m│\u001b[39m Anton    \u001b[90m│\u001b[39m aa abC   \u001b[90m│\u001b[39m your     \u001b[90m│\u001b[39m =        \u001b[90m│\u001b[39m \u001b[32m\u001b[39mIn your  \u001b[90m│\u001b[39m\r\n",
      "\u001b[90m│\u001b[39m          \u001b[90m│\u001b[39m of 21.   \u001b[90m│\u001b[39m finished \u001b[90m│\u001b[39m aa ac    \u001b[90m│\u001b[39m python   \u001b[90m│\u001b[39m str(inp… \u001b[90m│\u001b[39m code,    \u001b[90m│\u001b[39m\r\n",
      "\u001b[90m│\u001b[39m          \u001b[90m│\u001b[39m Wrong    \u001b[90m│\u001b[39m reading  \u001b[90m│\u001b[39m abc bcd  \u001b[90m│\u001b[39m code     \u001b[90m│\u001b[39m lower_s… \u001b[90m│\u001b[39m you are  \u001b[90m│\u001b[39m\r\n",
      "\u001b[90m│\u001b[39m          \u001b[90m│\u001b[39m answer   \u001b[90m│\u001b[39m \"War and \u001b[90m│\u001b[39m a\",\"out… \u001b[90m│\u001b[39m here     \u001b[90m│\u001b[39m =        \u001b[90m│\u001b[39m printing \u001b[90m│\u001b[39m\r\n",
      "\u001b[90m│\u001b[39m          \u001b[90m│\u001b[39m This is  \u001b[90m│\u001b[39m Peace\",  \u001b[90m│\u001b[39m 2\\naa    \u001b[90m│\u001b[39m sentence \u001b[90m│\u001b[39m sentenc… \u001b[90m│\u001b[39m the word \u001b[90m│\u001b[39m\r\n",
      "\u001b[90m│\u001b[39m          \u001b[90m│\u001b[39m a sample \u001b[90m│\u001b[39m he       \u001b[90m│\u001b[39m 2\\nabc   \u001b[90m│\u001b[39m =        \u001b[90m│\u001b[39m word =   \u001b[90m│\u001b[39m count    \u001b[90m│\u001b[39m\r\n",
      "\u001b[90m│\u001b[39m          \u001b[90m│\u001b[39m test     \u001b[90m│\u001b[39m decided  \u001b[90m│\u001b[39m 2\\nac    \u001b[90m│\u001b[39m input()… \u001b[90m│\u001b[39m lower_s… \u001b[90m│\u001b[39m with a   \u001b[90m│\u001b[39m\r\n",
      "\u001b[90m│\u001b[39m          \u001b[90m│\u001b[39m from the \u001b[90m│\u001b[39m to find  \u001b[90m│\u001b[39m 1\\nbcd   \u001b[90m│\u001b[39m words =  \u001b[90m│\u001b[39m word_co… \u001b[90m│\u001b[39m colon    \u001b[90m│\u001b[39m\r\n",
      "\u001b[90m│\u001b[39m          \u001b[90m│\u001b[39m problem  \u001b[90m│\u001b[39m out the  \u001b[90m│\u001b[39m 1\"}]     \u001b[90m│\u001b[39m sentenc… \u001b[90m│\u001b[39m = {}     \u001b[90m│\u001b[39m (:)      \u001b[90m│\u001b[39m\r\n",
      "\u001b[90m│\u001b[39m          \u001b[90m│\u001b[39m stateme… \u001b[90m│\u001b[39m number   \u001b[90m│\u001b[39m          \u001b[90m│\u001b[39m frequen… \u001b[90m│\u001b[39m for item \u001b[90m│\u001b[39m separat… \u001b[90m│\u001b[39m\r\n",
      "\u001b[90m│\u001b[39m          \u001b[90m│\u001b[39m Test     \u001b[90m│\u001b[39m of       \u001b[90m│\u001b[39m          \u001b[90m│\u001b[39m = {word: \u001b[90m│\u001b[39m in word: \u001b[90m│\u001b[39m instead  \u001b[90m│\u001b[39m\r\n",
      "\u001b[90m│\u001b[39m          \u001b[90m│\u001b[39m input:   \u001b[90m│\u001b[39m specific \u001b[90m│\u001b[39m          \u001b[90m│\u001b[39m words.c… \u001b[90m│\u001b[39m     if … \u001b[90m│\u001b[39m of a     \u001b[90m│\u001b[39m\r\n",
      "\u001b[90m│\u001b[39m          \u001b[90m│\u001b[39m a aa abC \u001b[90m│\u001b[39m words    \u001b[90m│\u001b[39m          \u001b[90m│\u001b[39m for word \u001b[90m│\u001b[39m in       \u001b[90m│\u001b[39m space.   \u001b[90m│\u001b[39m\r\n",
      "\u001b[90m│\u001b[39m          \u001b[90m│\u001b[39m aa ac    \u001b[90m│\u001b[39m used in  \u001b[90m│\u001b[39m          \u001b[90m│\u001b[39m in       \u001b[90m│\u001b[39m word_co… \u001b[90m│\u001b[39m This is  \u001b[90m│\u001b[39m\r\n",
      "\u001b[90m│\u001b[39m          \u001b[90m│\u001b[39m abc bcd  \u001b[90m│\u001b[39m the      \u001b[90m│\u001b[39m          \u001b[90m│\u001b[39m set(wor… \u001b[90m│\u001b[39m word_co… \u001b[90m│\u001b[39m causing  \u001b[90m│\u001b[39m\r\n",
      "\u001b[90m│\u001b[39m          \u001b[90m│\u001b[39m a        \u001b[90m│\u001b[39m book.</… \u001b[90m│\u001b[39m          \u001b[90m│\u001b[39m for      \u001b[90m│\u001b[39m += 1     \u001b[90m│\u001b[39m the      \u001b[90m│\u001b[39m\r\n",
      "\u001b[90m│\u001b[39m          \u001b[90m│\u001b[39m Correct  \u001b[90m│\u001b[39m <p>Help  \u001b[90m│\u001b[39m          \u001b[90m│\u001b[39m word,    \u001b[90m│\u001b[39m     els… \u001b[90m│\u001b[39m output   \u001b[90m│\u001b[39m\r\n",
      "\u001b[90m│\u001b[39m          \u001b[90m│\u001b[39m output:  \u001b[90m│\u001b[39m Anton    \u001b[90m│\u001b[39m          \u001b[90m│\u001b[39m count in \u001b[90m│\u001b[39m word_co… \u001b[90m│\u001b[39m format   \u001b[90m│\u001b[39m\r\n",
      "\u001b[90m│\u001b[39m          \u001b[90m│\u001b[39m a 2      \u001b[90m│\u001b[39m write a  \u001b[90m│\u001b[39m          \u001b[90m│\u001b[39m frequen… \u001b[90m│\u001b[39m = 1      \u001b[90m│\u001b[39m to be    \u001b[90m│\u001b[39m\r\n",
      "\u001b[90m│\u001b[39m          \u001b[90m│\u001b[39m aa 2     \u001b[90m│\u001b[39m simplif… \u001b[90m│\u001b[39m          \u001b[90m│\u001b[39m print(w… \u001b[90m│\u001b[39m for key, \u001b[90m│\u001b[39m incorre… \u001b[90m│\u001b[39m\r\n",
      "\u001b[90m│\u001b[39m          \u001b[90m│\u001b[39m abc 2    \u001b[90m│\u001b[39m version  \u001b[90m│\u001b[39m          \u001b[90m│\u001b[39m count)   \u001b[90m│\u001b[39m value in \u001b[90m│\u001b[39m To fix   \u001b[90m│\u001b[39m\r\n",
      "\u001b[90m│\u001b[39m          \u001b[90m│\u001b[39m ac 1     \u001b[90m│\u001b[39m of such  \u001b[90m│\u001b[39m          \u001b[90m│\u001b[39m          \u001b[90m│\u001b[39m word_co… \u001b[90m│\u001b[39m this     \u001b[90m│\u001b[39m\r\n",
      "\u001b[90m│\u001b[39m          \u001b[90m│\u001b[39m bcd 1    \u001b[90m│\u001b[39m a        \u001b[90m│\u001b[39m          \u001b[90m│\u001b[39m          \u001b[90m│\u001b[39m          \u001b[90m│\u001b[39m issue,   \u001b[90m│\u001b[39m\r\n",
      "\u001b[90m│\u001b[39m          \u001b[90m│\u001b[39m Your     \u001b[90m│\u001b[39m program, \u001b[90m│\u001b[39m          \u001b[90m│\u001b[39m          \u001b[90m│\u001b[39m          \u001b[90m│\u001b[39m you      \u001b[90m│\u001b[39m\r\n",
      "\u001b[90m│\u001b[39m          \u001b[90m│\u001b[39m code     \u001b[90m│\u001b[39m that     \u001b[90m│\u001b[39m          \u001b[90m│\u001b[39m          \u001b[90m│\u001b[39m          \u001b[90m│\u001b[39m should   \u001b[90m│\u001b[39m\r\n",
      "\u001b[90m│\u001b[39m          \u001b[90m│\u001b[39m output:  \u001b[90m│\u001b[39m will be  \u001b[90m│\u001b[39m          \u001b[90m│\u001b[39m          \u001b[90m│\u001b[39m          \u001b[90m│\u001b[39m modify   \u001b[90m│\u001b[39m\r\n",
      "\u001b[90m│\u001b[39m          \u001b[90m│\u001b[39m a : 2    \u001b[90m│\u001b[39m capable  \u001b[90m│\u001b[39m          \u001b[90m│\u001b[39m          \u001b[90m│\u001b[39m          \u001b[90m│\u001b[39m the      \u001b[90m│\u001b[39m\r\n",
      "\u001b[90m│\u001b[39m          \u001b[90m│\u001b[39m aa : 2   \u001b[90m│\u001b[39m of       \u001b[90m│\u001b[39m          \u001b[90m│\u001b[39m          \u001b[90m│\u001b[39m          \u001b[90m│\u001b[39m print    \u001b[90m│\u001b[39m\r\n",
      "\u001b[90m│\u001b[39m          \u001b[90m│\u001b[39m abc : 2  \u001b[90m│\u001b[39m counting \u001b[90m│\u001b[39m          \u001b[90m│\u001b[39m          \u001b[90m│\u001b[39m          \u001b[90m│\u001b[39m stateme… \u001b[90m│\u001b[39m\r\n",
      "\u001b[90m│\u001b[39m          \u001b[90m│\u001b[39m ac : 1   \u001b[90m│\u001b[39m the      \u001b[90m│\u001b[39m          \u001b[90m│\u001b[39m          \u001b[90m│\u001b[39m          \u001b[90m│\u001b[39m to use a \u001b[90m│\u001b[39m\r\n",
      "\u001b[90m│\u001b[39m          \u001b[90m│\u001b[39m bcd : 1  \u001b[90m│\u001b[39m words    \u001b[90m│\u001b[39m          \u001b[90m│\u001b[39m          \u001b[90m│\u001b[39m          \u001b[90m│\u001b[39m space    \u001b[90m│\u001b[39m\r\n",
      "\u001b[90m│\u001b[39m          \u001b[90m│\u001b[39m          \u001b[90m│\u001b[39m separat… \u001b[90m│\u001b[39m          \u001b[90m│\u001b[39m          \u001b[90m│\u001b[39m          \u001b[90m│\u001b[39m separat… \u001b[90m│\u001b[39m\r\n",
      "\u001b[90m│\u001b[39m          \u001b[90m│\u001b[39m          \u001b[90m│\u001b[39m with     \u001b[90m│\u001b[39m          \u001b[90m│\u001b[39m          \u001b[90m│\u001b[39m          \u001b[90m│\u001b[39m instead  \u001b[90m│\u001b[39m\r\n",
      "\u001b[90m│\u001b[39m          \u001b[90m│\u001b[39m          \u001b[90m│\u001b[39m space,   \u001b[90m│\u001b[39m          \u001b[90m│\u001b[39m          \u001b[90m│\u001b[39m          \u001b[90m│\u001b[39m of a     \u001b[90m│\u001b[39m\r\n",
      "\u001b[90m│\u001b[39m          \u001b[90m│\u001b[39m          \u001b[90m│\u001b[39m ...      \u001b[90m│\u001b[39m          \u001b[90m│\u001b[39m          \u001b[90m│\u001b[39m          \u001b[90m│\u001b[39m colon.   \u001b[90m│\u001b[39m\r\n",
      "\u001b[90m│\u001b[39m          \u001b[90m│\u001b[39m          \u001b[90m│\u001b[39m          \u001b[90m│\u001b[39m          \u001b[90m│\u001b[39m          \u001b[90m│\u001b[39m          \u001b[90m│\u001b[39m ...      \u001b[90m│\u001b[39m\r\n",
      "\u001b[90m├──────────\u001b[39m\u001b[90m┼──────────\u001b[39m\u001b[90m┼──────────\u001b[39m\u001b[90m┼──────────\u001b[39m\u001b[90m┼──────────\u001b[39m\u001b[90m┼──────────\u001b[39m\u001b[90m┼──────────┤\u001b[39m\r\n",
      "\u001b[90m│\u001b[39m python_6 \u001b[90m│\u001b[39m Failed   \u001b[90m│\u001b[39m <p></p>  \u001b[90m│\u001b[39m [{\"inpu… \u001b[90m│\u001b[39m # the    \u001b[90m│\u001b[39m # the    \u001b[90m│\u001b[39m \u001b[32m[PASS]\u001b[39m   \u001b[90m│\u001b[39m\r\n",
      "\u001b[90m│\u001b[39m          \u001b[90m│\u001b[39m test #1  \u001b[90m│\u001b[39m <p>We    \u001b[90m│\u001b[39m Sid and  \u001b[90m│\u001b[39m followi… \u001b[90m│\u001b[39m followi… \u001b[90m│\u001b[39m \u001b[32m\u001b[39mIn your  \u001b[90m│\u001b[39m\r\n",
      "\u001b[90m│\u001b[39m          \u001b[90m│\u001b[39m of 2.    \u001b[90m│\u001b[39m wrote a  \u001b[90m│\u001b[39m Nancy\\n… \u001b[90m│\u001b[39m lines    \u001b[90m│\u001b[39m lines    \u001b[90m│\u001b[39m code,    \u001b[90m│\u001b[39m\r\n",
      "\u001b[90m│\u001b[39m          \u001b[90m│\u001b[39m Runtime  \u001b[90m│\u001b[39m function \u001b[90m│\u001b[39m Nancy    \u001b[90m│\u001b[39m read     \u001b[90m│\u001b[39m read     \u001b[90m│\u001b[39m you have \u001b[90m│\u001b[39m\r\n",
      "\u001b[90m│\u001b[39m          \u001b[90m│\u001b[39m error    \u001b[90m│\u001b[39m that     \u001b[90m│\u001b[39m and      \u001b[90m│\u001b[39m names    \u001b[90m│\u001b[39m names    \u001b[90m│\u001b[39m a typo   \u001b[90m│\u001b[39m\r\n",
      "\u001b[90m│\u001b[39m          \u001b[90m│\u001b[39m This is  \u001b[90m│\u001b[39m greets   \u001b[90m│\u001b[39m Sid\"}]   \u001b[90m│\u001b[39m from the \u001b[90m│\u001b[39m from the \u001b[90m│\u001b[39m in the   \u001b[90m│\u001b[39m\r\n",
      "\u001b[90m│\u001b[39m          \u001b[90m│\u001b[39m a sample \u001b[90m│\u001b[39m two      \u001b[90m│\u001b[39m          \u001b[90m│\u001b[39m input,   \u001b[90m│\u001b[39m input,   \u001b[90m│\u001b[39m function \u001b[90m│\u001b[39m\r\n",
      "\u001b[90m│\u001b[39m          \u001b[90m│\u001b[39m test     \u001b[90m│\u001b[39m people:… \u001b[90m│\u001b[39m          \u001b[90m│\u001b[39m do not   \u001b[90m│\u001b[39m do not   \u001b[90m│\u001b[39m name.    \u001b[90m│\u001b[39m\r\n",
      "\u001b[90m│\u001b[39m          \u001b[90m│\u001b[39m from the \u001b[90m│\u001b[39m <pre><c… \u001b[90m│\u001b[39m          \u001b[90m│\u001b[39m modify   \u001b[90m│\u001b[39m modify   \u001b[90m│\u001b[39m The      \u001b[90m│\u001b[39m\r\n",
      "\u001b[90m│\u001b[39m          \u001b[90m│\u001b[39m problem  \u001b[90m│\u001b[39m class=\"… \u001b[90m│\u001b[39m          \u001b[90m│\u001b[39m it,      \u001b[90m│\u001b[39m it,      \u001b[90m│\u001b[39m function \u001b[90m│\u001b[39m\r\n",
      "\u001b[90m│\u001b[39m          \u001b[90m│\u001b[39m stateme… \u001b[90m│\u001b[39m greetin… \u001b[90m│\u001b[39m          \u001b[90m│\u001b[39m please   \u001b[90m│\u001b[39m please   \u001b[90m│\u001b[39m is       \u001b[90m│\u001b[39m\r\n",
      "\u001b[90m│\u001b[39m          \u001b[90m│\u001b[39m Test     \u001b[90m│\u001b[39m second_… \u001b[90m│\u001b[39m          \u001b[90m│\u001b[39m name_1 = \u001b[90m│\u001b[39m name_1 = \u001b[90m│\u001b[39m called   \u001b[90m│\u001b[39m\r\n",
      "\u001b[90m│\u001b[39m          \u001b[90m│\u001b[39m input:   \u001b[90m│\u001b[39m print(\"… \u001b[90m│\u001b[39m          \u001b[90m│\u001b[39m input()  \u001b[90m│\u001b[39m input()  \u001b[90m│\u001b[39m `greeti… \u001b[90m│\u001b[39m\r\n",
      "\u001b[90m│\u001b[39m          \u001b[90m│\u001b[39m Sid      \u001b[90m│\u001b[39m first_n… \u001b[90m│\u001b[39m          \u001b[90m│\u001b[39m name_2 = \u001b[90m│\u001b[39m name_2 = \u001b[90m│\u001b[39m not      \u001b[90m│\u001b[39m\r\n",
      "\u001b[90m│\u001b[39m          \u001b[90m│\u001b[39m Nancy    \u001b[90m│\u001b[39m \"and\",   \u001b[90m│\u001b[39m          \u001b[90m│\u001b[39m input()  \u001b[90m│\u001b[39m input()  \u001b[90m│\u001b[39m `greeti… \u001b[90m│\u001b[39m\r\n",
      "\u001b[90m│\u001b[39m          \u001b[90m│\u001b[39m Correct  \u001b[90m│\u001b[39m second_… \u001b[90m│\u001b[39m          \u001b[90m│\u001b[39m greetin… \u001b[90m│\u001b[39m greetin… \u001b[90m│\u001b[39m That's   \u001b[90m│\u001b[39m\r\n",
      "\u001b[90m│\u001b[39m          \u001b[90m│\u001b[39m output:  \u001b[90m│\u001b[39m <p>The   \u001b[90m│\u001b[39m          \u001b[90m│\u001b[39m name_2)  \u001b[90m│\u001b[39m # your   \u001b[90m│\u001b[39m why      \u001b[90m│\u001b[39m\r\n",
      "\u001b[90m│\u001b[39m          \u001b[90m│\u001b[39m Hello,   \u001b[90m│\u001b[39m first    \u001b[90m│\u001b[39m          \u001b[90m│\u001b[39m greetin… \u001b[90m│\u001b[39m code     \u001b[90m│\u001b[39m you're   \u001b[90m│\u001b[39m\r\n",
      "\u001b[90m│\u001b[39m          \u001b[90m│\u001b[39m Sid and  \u001b[90m│\u001b[39m name is  \u001b[90m│\u001b[39m          \u001b[90m│\u001b[39m name_1)  \u001b[90m│\u001b[39m here     \u001b[90m│\u001b[39m getting  \u001b[90m│\u001b[39m\r\n",
      "\u001b[90m│\u001b[39m          \u001b[90m│\u001b[39m Nancy    \u001b[90m│\u001b[39m already  \u001b[90m│\u001b[39m          \u001b[90m│\u001b[39m          \u001b[90m│\u001b[39m          \u001b[90m│\u001b[39m a        \u001b[90m│\u001b[39m\r\n",
      "\u001b[90m│\u001b[39m          \u001b[90m│\u001b[39m Hello,   \u001b[90m│\u001b[39m stored   \u001b[90m│\u001b[39m          \u001b[90m│\u001b[39m          \u001b[90m│\u001b[39m          \u001b[90m│\u001b[39m `NameEr… \u001b[90m│\u001b[39m\r\n",
      "\u001b[90m│\u001b[39m          \u001b[90m│\u001b[39m Nancy    \u001b[90m│\u001b[39m in the   \u001b[90m│\u001b[39m          \u001b[90m│\u001b[39m          \u001b[90m│\u001b[39m          \u001b[90m│\u001b[39m To fix   \u001b[90m│\u001b[39m\r\n",
      "\u001b[90m│\u001b[39m          \u001b[90m│\u001b[39m and Sid  \u001b[90m│\u001b[39m variab.… \u001b[90m│\u001b[39m          \u001b[90m│\u001b[39m          \u001b[90m│\u001b[39m          \u001b[90m│\u001b[39m this     \u001b[90m│\u001b[39m\r\n",
      "\u001b[90m│\u001b[39m          \u001b[90m│\u001b[39m Your     \u001b[90m│\u001b[39m          \u001b[90m│\u001b[39m          \u001b[90m│\u001b[39m          \u001b[90m│\u001b[39m          \u001b[90m│\u001b[39m issue,   \u001b[90m│\u001b[39m\r\n",
      "\u001b[90m│\u001b[39m          \u001b[90m│\u001b[39m code     \u001b[90m│\u001b[39m          \u001b[90m│\u001b[39m          \u001b[90m│\u001b[39m          \u001b[90m│\u001b[39m          \u001b[90m│\u001b[39m you need \u001b[90m│\u001b[39m\r\n",
      "\u001b[90m│\u001b[39m          \u001b[90m│\u001b[39m output:  \u001b[90m│\u001b[39m          \u001b[90m│\u001b[39m          \u001b[90m│\u001b[39m          \u001b[90m│\u001b[39m          \u001b[90m│\u001b[39m to       \u001b[90m│\u001b[39m\r\n",
      "\u001b[90m│\u001b[39m          \u001b[90m│\u001b[39m Error:   \u001b[90m│\u001b[39m          \u001b[90m│\u001b[39m          \u001b[90m│\u001b[39m          \u001b[90m│\u001b[39m          \u001b[90m│\u001b[39m change   \u001b[90m│\u001b[39m\r\n",
      "\u001b[90m│\u001b[39m          \u001b[90m│\u001b[39m Traceba… \u001b[90m│\u001b[39m          \u001b[90m│\u001b[39m          \u001b[90m│\u001b[39m          \u001b[90m│\u001b[39m          \u001b[90m│\u001b[39m `greeti… \u001b[90m│\u001b[39m\r\n",
      "\u001b[90m│\u001b[39m          \u001b[90m│\u001b[39m (most    \u001b[90m│\u001b[39m          \u001b[90m│\u001b[39m          \u001b[90m│\u001b[39m          \u001b[90m│\u001b[39m          \u001b[90m│\u001b[39m to       \u001b[90m│\u001b[39m\r\n",
      "\u001b[90m│\u001b[39m          \u001b[90m│\u001b[39m recent   \u001b[90m│\u001b[39m          \u001b[90m│\u001b[39m          \u001b[90m│\u001b[39m          \u001b[90m│\u001b[39m          \u001b[90m│\u001b[39m `greeti… \u001b[90m│\u001b[39m\r\n",
      "\u001b[90m│\u001b[39m          \u001b[90m│\u001b[39m call     \u001b[90m│\u001b[39m          \u001b[90m│\u001b[39m          \u001b[90m│\u001b[39m          \u001b[90m│\u001b[39m          \u001b[90m│\u001b[39m in your  \u001b[90m│\u001b[39m\r\n",
      "\u001b[90m│\u001b[39m          \u001b[90m│\u001b[39m last):   \u001b[90m│\u001b[39m          \u001b[90m│\u001b[39m          \u001b[90m│\u001b[39m          \u001b[90m│\u001b[39m          \u001b[90m│\u001b[39m code     \u001b[90m│\u001b[39m\r\n",
      "\u001b[90m│\u001b[39m          \u001b[90m│\u001b[39m   File   \u001b[90m│\u001b[39m          \u001b[90m│\u001b[39m          \u001b[90m│\u001b[39m          \u001b[90m│\u001b[39m          \u001b[90m│\u001b[39m where    \u001b[90m│\u001b[39m\r\n",
      "\u001b[90m│\u001b[39m          \u001b[90m│\u001b[39m \"/sandb… \u001b[90m│\u001b[39m          \u001b[90m│\u001b[39m          \u001b[90m│\u001b[39m          \u001b[90m│\u001b[39m          \u001b[90m│\u001b[39m you are  \u001b[90m│\u001b[39m\r\n",
      "\u001b[90m│\u001b[39m          \u001b[90m│\u001b[39m          \u001b[90m│\u001b[39m          \u001b[90m│\u001b[39m          \u001b[90m│\u001b[39m          \u001b[90m│\u001b[39m          \u001b[90m│\u001b[39m calling  \u001b[90m│\u001b[39m\r\n",
      "\u001b[90m│\u001b[39m          \u001b[90m│\u001b[39m          \u001b[90m│\u001b[39m          \u001b[90m│\u001b[39m          \u001b[90m│\u001b[39m          \u001b[90m│\u001b[39m          \u001b[90m│\u001b[39m t...     \u001b[90m│\u001b[39m\r\n",
      "\u001b[90m├──────────\u001b[39m\u001b[90m┼──────────\u001b[39m\u001b[90m┼──────────\u001b[39m\u001b[90m┼──────────\u001b[39m\u001b[90m┼──────────\u001b[39m\u001b[90m┼──────────\u001b[39m\u001b[90m┼──────────┤\u001b[39m\r\n",
      "\u001b[90m│\u001b[39m python_7 \u001b[90m│\u001b[39m Failed   \u001b[90m│\u001b[39m <p></p>  \u001b[90m│\u001b[39m [{\"inpu… \u001b[90m│\u001b[39m word =   \u001b[90m│\u001b[39m word =   \u001b[90m│\u001b[39m \u001b[32m[PASS]\u001b[39m   \u001b[90m│\u001b[39m\r\n",
      "\u001b[90m│\u001b[39m          \u001b[90m│\u001b[39m test #1  \u001b[90m│\u001b[39m <p>The   \u001b[90m│\u001b[39m          \u001b[90m│\u001b[39m input()  \u001b[90m│\u001b[39m input()  \u001b[90m│\u001b[39m \u001b[32m\u001b[39mIn your  \u001b[90m│\u001b[39m\r\n",
      "\u001b[90m│\u001b[39m          \u001b[90m│\u001b[39m of 8.    \u001b[90m│\u001b[39m languag… \u001b[90m│\u001b[39m          \u001b[90m│\u001b[39m # Change \u001b[90m│\u001b[39m # Change \u001b[90m│\u001b[39m code,    \u001b[90m│\u001b[39m\r\n",
      "\u001b[90m│\u001b[39m          \u001b[90m│\u001b[39m Wrong    \u001b[90m│\u001b[39m of the   \u001b[90m│\u001b[39m          \u001b[90m│\u001b[39m the next \u001b[90m│\u001b[39m the next \u001b[90m│\u001b[39m you are  \u001b[90m│\u001b[39m\r\n",
      "\u001b[90m│\u001b[39m          \u001b[90m│\u001b[39m answer   \u001b[90m│\u001b[39m world    \u001b[90m│\u001b[39m          \u001b[90m│\u001b[39m line     \u001b[90m│\u001b[39m line     \u001b[90m│\u001b[39m only     \u001b[90m│\u001b[39m\r\n",
      "\u001b[90m│\u001b[39m          \u001b[90m│\u001b[39m This is  \u001b[90m│\u001b[39m are      \u001b[90m│\u001b[39m          \u001b[90m│\u001b[39m print(w… \u001b[90m│\u001b[39m print(w… \u001b[90m│\u001b[39m printing \u001b[90m│\u001b[39m\r\n",
      "\u001b[90m│\u001b[39m          \u001b[90m│\u001b[39m a sample \u001b[90m│\u001b[39m amazing! \u001b[90m│\u001b[39m          \u001b[90m│\u001b[39m          \u001b[90m│\u001b[39m          \u001b[90m│\u001b[39m the word \u001b[90m│\u001b[39m\r\n",
      "\u001b[90m│\u001b[39m          \u001b[90m│\u001b[39m test     \u001b[90m│\u001b[39m Program… \u001b[90m│\u001b[39m          \u001b[90m│\u001b[39m          \u001b[90m│\u001b[39m          \u001b[90m│\u001b[39m once     \u001b[90m│\u001b[39m\r\n",
      "\u001b[90m│\u001b[39m          \u001b[90m│\u001b[39m from the \u001b[90m│\u001b[39m languag… \u001b[90m│\u001b[39m          \u001b[90m│\u001b[39m          \u001b[90m│\u001b[39m          \u001b[90m│\u001b[39m instead  \u001b[90m│\u001b[39m\r\n",
      "\u001b[90m│\u001b[39m          \u001b[90m│\u001b[39m problem  \u001b[90m│\u001b[39m too, but \u001b[90m│\u001b[39m          \u001b[90m│\u001b[39m          \u001b[90m│\u001b[39m          \u001b[90m│\u001b[39m of       \u001b[90m│\u001b[39m\r\n",
      "\u001b[90m│\u001b[39m          \u001b[90m│\u001b[39m stateme… \u001b[90m│\u001b[39m now we   \u001b[90m│\u001b[39m          \u001b[90m│\u001b[39m          \u001b[90m│\u001b[39m          \u001b[90m│\u001b[39m printing \u001b[90m│\u001b[39m\r\n",
      "\u001b[90m│\u001b[39m          \u001b[90m│\u001b[39m Test     \u001b[90m│\u001b[39m will     \u001b[90m│\u001b[39m          \u001b[90m│\u001b[39m          \u001b[90m│\u001b[39m          \u001b[90m│\u001b[39m it       \u001b[90m│\u001b[39m\r\n",
      "\u001b[90m│\u001b[39m          \u001b[90m│\u001b[39m input:   \u001b[90m│\u001b[39m talk     \u001b[90m│\u001b[39m          \u001b[90m│\u001b[39m          \u001b[90m│\u001b[39m          \u001b[90m│\u001b[39m exactly  \u001b[90m│\u001b[39m\r\n",
      "\u001b[90m│\u001b[39m          \u001b[90m│\u001b[39m maru     \u001b[90m│\u001b[39m about    \u001b[90m│\u001b[39m          \u001b[90m│\u001b[39m          \u001b[90m│\u001b[39m          \u001b[90m│\u001b[39m 2 times  \u001b[90m│\u001b[39m\r\n",
      "\u001b[90m│\u001b[39m          \u001b[90m│\u001b[39m Correct  \u001b[90m│\u001b[39m the      \u001b[90m│\u001b[39m          \u001b[90m│\u001b[39m          \u001b[90m│\u001b[39m          \u001b[90m│\u001b[39m as       \u001b[90m│\u001b[39m\r\n",
      "\u001b[90m│\u001b[39m          \u001b[90m│\u001b[39m output:  \u001b[90m│\u001b[39m human    \u001b[90m│\u001b[39m          \u001b[90m│\u001b[39m          \u001b[90m│\u001b[39m          \u001b[90m│\u001b[39m required \u001b[90m│\u001b[39m\r\n",
      "\u001b[90m│\u001b[39m          \u001b[90m│\u001b[39m marumaru \u001b[90m│\u001b[39m ones. In \u001b[90m│\u001b[39m          \u001b[90m│\u001b[39m          \u001b[90m│\u001b[39m          \u001b[90m│\u001b[39m by the   \u001b[90m│\u001b[39m\r\n",
      "\u001b[90m│\u001b[39m          \u001b[90m│\u001b[39m Your     \u001b[90m│\u001b[39m linguis… \u001b[90m│\u001b[39m          \u001b[90m│\u001b[39m          \u001b[90m│\u001b[39m          \u001b[90m│\u001b[39m task. To \u001b[90m│\u001b[39m\r\n",
      "\u001b[90m│\u001b[39m          \u001b[90m│\u001b[39m code     \u001b[90m│\u001b[39m repeati… \u001b[90m│\u001b[39m          \u001b[90m│\u001b[39m          \u001b[90m│\u001b[39m          \u001b[90m│\u001b[39m fix      \u001b[90m│\u001b[39m\r\n",
      "\u001b[90m│\u001b[39m          \u001b[90m│\u001b[39m output:  \u001b[90m│\u001b[39m a word   \u001b[90m│\u001b[39m          \u001b[90m│\u001b[39m          \u001b[90m│\u001b[39m          \u001b[90m│\u001b[39m this,    \u001b[90m│\u001b[39m\r\n",
      "\u001b[90m│\u001b[39m          \u001b[90m│\u001b[39m maru     \u001b[90m│\u001b[39m or part  \u001b[90m│\u001b[39m          \u001b[90m│\u001b[39m          \u001b[90m│\u001b[39m          \u001b[90m│\u001b[39m you need \u001b[90m│\u001b[39m\r\n",
      "\u001b[90m│\u001b[39m          \u001b[90m│\u001b[39m          \u001b[90m│\u001b[39m of it is \u001b[90m│\u001b[39m          \u001b[90m│\u001b[39m          \u001b[90m│\u001b[39m          \u001b[90m│\u001b[39m to       \u001b[90m│\u001b[39m\r\n",
      "\u001b[90m│\u001b[39m          \u001b[90m│\u001b[39m          \u001b[90m│\u001b[39m called   \u001b[90m│\u001b[39m          \u001b[90m│\u001b[39m          \u001b[90m│\u001b[39m          \u001b[90m│\u001b[39m modify   \u001b[90m│\u001b[39m\r\n",
      "\u001b[90m│\u001b[39m          \u001b[90m│\u001b[39m          \u001b[90m│\u001b[39m <em>red… \u001b[90m│\u001b[39m          \u001b[90m│\u001b[39m          \u001b[90m│\u001b[39m          \u001b[90m│\u001b[39m the      \u001b[90m│\u001b[39m\r\n",
      "\u001b[90m│\u001b[39m          \u001b[90m│\u001b[39m          \u001b[90m│\u001b[39m This     \u001b[90m│\u001b[39m          \u001b[90m│\u001b[39m          \u001b[90m│\u001b[39m          \u001b[90m│\u001b[39m print    \u001b[90m│\u001b[39m\r\n",
      "\u001b[90m│\u001b[39m          \u001b[90m│\u001b[39m          \u001b[90m│\u001b[39m morphol… \u001b[90m│\u001b[39m          \u001b[90m│\u001b[39m          \u001b[90m│\u001b[39m          \u001b[90m│\u001b[39m stateme… \u001b[90m│\u001b[39m\r\n",
      "\u001b[90m│\u001b[39m          \u001b[90m│\u001b[39m          \u001b[90m│\u001b[39m phenome… \u001b[90m│\u001b[39m          \u001b[90m│\u001b[39m          \u001b[90m│\u001b[39m          \u001b[90m│\u001b[39m to print \u001b[90m│\u001b[39m\r\n",
      "\u001b[90m│\u001b[39m          \u001b[90m│\u001b[39m          \u001b[90m│\u001b[39m is found \u001b[90m│\u001b[39m          \u001b[90m│\u001b[39m          \u001b[90m│\u001b[39m          \u001b[90m│\u001b[39m the word \u001b[90m│\u001b[39m\r\n",
      "\u001b[90m│\u001b[39m          \u001b[90m│\u001b[39m          \u001b[90m│\u001b[39m in       \u001b[90m│\u001b[39m          \u001b[90m│\u001b[39m          \u001b[90m│\u001b[39m          \u001b[90m│\u001b[39m twice.   \u001b[90m│\u001b[39m\r\n",
      "\u001b[90m│\u001b[39m          \u001b[90m│\u001b[39m          \u001b[90m│\u001b[39m dif...   \u001b[90m│\u001b[39m          \u001b[90m│\u001b[39m          \u001b[90m│\u001b[39m          \u001b[90m│\u001b[39m Remember \u001b[90m│\u001b[39m\r\n",
      "\u001b[90m│\u001b[39m          \u001b[90m│\u001b[39m          \u001b[90m│\u001b[39m          \u001b[90m│\u001b[39m          \u001b[90m│\u001b[39m          \u001b[90m│\u001b[39m          \u001b[90m│\u001b[39m that you \u001b[90m│\u001b[39m\r\n",
      "\u001b[90m│\u001b[39m          \u001b[90m│\u001b[39m          \u001b[90m│\u001b[39m          \u001b[90m│\u001b[39m          \u001b[90m│\u001b[39m          \u001b[90m│\u001b[39m          \u001b[90m│\u001b[39m can      \u001b[90m│\u001b[39m\r\n",
      "\u001b[90m│\u001b[39m          \u001b[90m│\u001b[39m          \u001b[90m│\u001b[39m          \u001b[90m│\u001b[39m          \u001b[90m│\u001b[39m          \u001b[90m│\u001b[39m          \u001b[90m│\u001b[39m achieve  \u001b[90m│\u001b[39m\r\n",
      "\u001b[90m│\u001b[39m          \u001b[90m│\u001b[39m          \u001b[90m│\u001b[39m          \u001b[90m│\u001b[39m          \u001b[90m│\u001b[39m          \u001b[90m│\u001b[39m          \u001b[90m│\u001b[39m this by  \u001b[90m│\u001b[39m\r\n",
      "\u001b[90m│\u001b[39m          \u001b[90m│\u001b[39m          \u001b[90m│\u001b[39m          \u001b[90m│\u001b[39m          \u001b[90m│\u001b[39m          \u001b[90m│\u001b[39m          \u001b[90m│\u001b[39m using    \u001b[90m│\u001b[39m\r\n",
      "\u001b[90m│\u001b[39m          \u001b[90m│\u001b[39m          \u001b[90m│\u001b[39m          \u001b[90m│\u001b[39m          \u001b[90m│\u001b[39m          \u001b[90m│\u001b[39m          \u001b[90m│\u001b[39m the      \u001b[90m│\u001b[39m\r\n",
      "\u001b[90m│\u001b[39m          \u001b[90m│\u001b[39m          \u001b[90m│\u001b[39m          \u001b[90m│\u001b[39m          \u001b[90m│\u001b[39m          \u001b[90m│\u001b[39m          \u001b[90m│\u001b[39m multipl… \u001b[90m│\u001b[39m\r\n",
      "\u001b[90m├──────────\u001b[39m\u001b[90m┼──────────\u001b[39m\u001b[90m┼──────────\u001b[39m\u001b[90m┼──────────\u001b[39m\u001b[90m┼──────────\u001b[39m\u001b[90m┼──────────\u001b[39m\u001b[90m┼──────────┤\u001b[39m\r\n",
      "\u001b[90m│\u001b[39m python_8 \u001b[90m│\u001b[39m Failed   \u001b[90m│\u001b[39m <p></p>… \u001b[90m│\u001b[39m [{\"inpu… \u001b[90m│\u001b[39m # put    \u001b[90m│\u001b[39m a =      \u001b[90m│\u001b[39m \u001b[32m[PASS]\u001b[39m   \u001b[90m│\u001b[39m\r\n",
      "\u001b[90m│\u001b[39m          \u001b[90m│\u001b[39m test #1  \u001b[90m│\u001b[39m a        \u001b[90m│\u001b[39m          \u001b[90m│\u001b[39m your     \u001b[90m│\u001b[39m int(inp… \u001b[90m│\u001b[39m \u001b[32m\u001b[39mIn your  \u001b[90m│\u001b[39m\r\n",
      "\u001b[90m│\u001b[39m          \u001b[90m│\u001b[39m of 11.   \u001b[90m│\u001b[39m program  \u001b[90m│\u001b[39m          \u001b[90m│\u001b[39m python   \u001b[90m│\u001b[39m b =      \u001b[90m│\u001b[39m code,    \u001b[90m│\u001b[39m\r\n",
      "\u001b[90m│\u001b[39m          \u001b[90m│\u001b[39m Runtime  \u001b[90m│\u001b[39m that     \u001b[90m│\u001b[39m          \u001b[90m│\u001b[39m code     \u001b[90m│\u001b[39m int(inp… \u001b[90m│\u001b[39m you are  \u001b[90m│\u001b[39m\r\n",
      "\u001b[90m│\u001b[39m          \u001b[90m│\u001b[39m error    \u001b[90m│\u001b[39m reads    \u001b[90m│\u001b[39m          \u001b[90m│\u001b[39m here     \u001b[90m│\u001b[39m c =      \u001b[90m│\u001b[39m trying   \u001b[90m│\u001b[39m\r\n",
      "\u001b[90m│\u001b[39m          \u001b[90m│\u001b[39m This is  \u001b[90m│\u001b[39m three    \u001b[90m│\u001b[39m          \u001b[90m│\u001b[39m a =      \u001b[90m│\u001b[39m int(inp… \u001b[90m│\u001b[39m to       \u001b[90m│\u001b[39m\r\n",
      "\u001b[90m│\u001b[39m          \u001b[90m│\u001b[39m a sample \u001b[90m│\u001b[39m numbers  \u001b[90m│\u001b[39m          \u001b[90m│\u001b[39m int(inp… \u001b[90m│\u001b[39m sum = a  \u001b[90m│\u001b[39m convert  \u001b[90m│\u001b[39m\r\n",
      "\u001b[90m│\u001b[39m          \u001b[90m│\u001b[39m test     \u001b[90m│\u001b[39m from the \u001b[90m│\u001b[39m          \u001b[90m│\u001b[39m b =      \u001b[90m│\u001b[39m + b + c  \u001b[90m│\u001b[39m the      \u001b[90m│\u001b[39m\r\n",
      "\u001b[90m│\u001b[39m          \u001b[90m│\u001b[39m from the \u001b[90m│\u001b[39m input    \u001b[90m│\u001b[39m          \u001b[90m│\u001b[39m int(inp… \u001b[90m│\u001b[39m print(s… \u001b[90m│\u001b[39m `input`  \u001b[90m│\u001b[39m\r\n",
      "\u001b[90m│\u001b[39m          \u001b[90m│\u001b[39m problem  \u001b[90m│\u001b[39m separat… \u001b[90m│\u001b[39m          \u001b[90m│\u001b[39m c =      \u001b[90m│\u001b[39m          \u001b[90m│\u001b[39m function \u001b[90m│\u001b[39m\r\n",
      "\u001b[90m│\u001b[39m          \u001b[90m│\u001b[39m stateme… \u001b[90m│\u001b[39m and      \u001b[90m│\u001b[39m          \u001b[90m│\u001b[39m int(inp… \u001b[90m│\u001b[39m          \u001b[90m│\u001b[39m directly \u001b[90m│\u001b[39m\r\n",
      "\u001b[90m│\u001b[39m          \u001b[90m│\u001b[39m Test     \u001b[90m│\u001b[39m prints   \u001b[90m│\u001b[39m          \u001b[90m│\u001b[39m print(a  \u001b[90m│\u001b[39m          \u001b[90m│\u001b[39m to an    \u001b[90m│\u001b[39m\r\n",
      "\u001b[90m│\u001b[39m          \u001b[90m│\u001b[39m input:   \u001b[90m│\u001b[39m the sum  \u001b[90m│\u001b[39m          \u001b[90m│\u001b[39m + b + c) \u001b[90m│\u001b[39m          \u001b[90m│\u001b[39m integer  \u001b[90m│\u001b[39m\r\n",
      "\u001b[90m│\u001b[39m          \u001b[90m│\u001b[39m 3        \u001b[90m│\u001b[39m of three \u001b[90m│\u001b[39m          \u001b[90m│\u001b[39m          \u001b[90m│\u001b[39m          \u001b[90m│\u001b[39m using    \u001b[90m│\u001b[39m\r\n",
      "\u001b[90m│\u001b[39m          \u001b[90m│\u001b[39m 6        \u001b[90m│\u001b[39m integer  \u001b[90m│\u001b[39m          \u001b[90m│\u001b[39m          \u001b[90m│\u001b[39m          \u001b[90m│\u001b[39m `int(in… \u001b[90m│\u001b[39m\r\n",
      "\u001b[90m│\u001b[39m          \u001b[90m│\u001b[39m 8        \u001b[90m│\u001b[39m numbers. \u001b[90m│\u001b[39m          \u001b[90m│\u001b[39m          \u001b[90m│\u001b[39m          \u001b[90m│\u001b[39m This is  \u001b[90m│\u001b[39m\r\n",
      "\u001b[90m│\u001b[39m          \u001b[90m│\u001b[39m Correct  \u001b[90m│\u001b[39m Don't    \u001b[90m│\u001b[39m          \u001b[90m│\u001b[39m          \u001b[90m│\u001b[39m          \u001b[90m│\u001b[39m incorre… \u001b[90m│\u001b[39m\r\n",
      "\u001b[90m│\u001b[39m          \u001b[90m│\u001b[39m output:  \u001b[90m│\u001b[39m specify  \u001b[90m│\u001b[39m          \u001b[90m│\u001b[39m          \u001b[90m│\u001b[39m          \u001b[90m│\u001b[39m because  \u001b[90m│\u001b[39m\r\n",
      "\u001b[90m│\u001b[39m          \u001b[90m│\u001b[39m 17       \u001b[90m│\u001b[39m any      \u001b[90m│\u001b[39m          \u001b[90m│\u001b[39m          \u001b[90m│\u001b[39m          \u001b[90m│\u001b[39m `input`  \u001b[90m│\u001b[39m\r\n",
      "\u001b[90m│\u001b[39m          \u001b[90m│\u001b[39m Your     \u001b[90m│\u001b[39m message  \u001b[90m│\u001b[39m          \u001b[90m│\u001b[39m          \u001b[90m│\u001b[39m          \u001b[90m│\u001b[39m is a     \u001b[90m│\u001b[39m\r\n",
      "\u001b[90m│\u001b[39m          \u001b[90m│\u001b[39m code     \u001b[90m│\u001b[39m in the   \u001b[90m│\u001b[39m          \u001b[90m│\u001b[39m          \u001b[90m│\u001b[39m          \u001b[90m│\u001b[39m functio… \u001b[90m│\u001b[39m\r\n",
      "\u001b[90m│\u001b[39m          \u001b[90m│\u001b[39m output:  \u001b[90m│\u001b[39m input,   \u001b[90m│\u001b[39m          \u001b[90m│\u001b[39m          \u001b[90m│\u001b[39m          \u001b[90m│\u001b[39m and you  \u001b[90m│\u001b[39m\r\n",
      "\u001b[90m│\u001b[39m          \u001b[90m│\u001b[39m Error:   \u001b[90m│\u001b[39m please.… \u001b[90m│\u001b[39m          \u001b[90m│\u001b[39m          \u001b[90m│\u001b[39m          \u001b[90m│\u001b[39m need to  \u001b[90m│\u001b[39m\r\n",
      "\u001b[90m│\u001b[39m          \u001b[90m│\u001b[39m Traceba… \u001b[90m│\u001b[39m class=\"… \u001b[90m│\u001b[39m          \u001b[90m│\u001b[39m          \u001b[90m│\u001b[39m          \u001b[90m│\u001b[39m call it  \u001b[90m│\u001b[39m\r\n",
      "\u001b[90m│\u001b[39m          \u001b[90m│\u001b[39m (most    \u001b[90m│\u001b[39m alert-p… \u001b[90m│\u001b[39m          \u001b[90m│\u001b[39m          \u001b[90m│\u001b[39m          \u001b[90m│\u001b[39m to get   \u001b[90m│\u001b[39m\r\n",
      "\u001b[90m│\u001b[39m          \u001b[90m│\u001b[39m recent   \u001b[90m│\u001b[39m use      \u001b[90m│\u001b[39m          \u001b[90m│\u001b[39m          \u001b[90m│\u001b[39m          \u001b[90m│\u001b[39m the user \u001b[90m│\u001b[39m\r\n",
      "\u001b[90m│\u001b[39m          \u001b[90m│\u001b[39m call     \u001b[90m│\u001b[39m specific \u001b[90m│\u001b[39m          \u001b[90m│\u001b[39m          \u001b[90m│\u001b[39m          \u001b[90m│\u001b[39m input as \u001b[90m│\u001b[39m\r\n",
      "\u001b[90m│\u001b[39m          \u001b[90m│\u001b[39m last):   \u001b[90m│\u001b[39m numbers  \u001b[90m│\u001b[39m          \u001b[90m│\u001b[39m          \u001b[90m│\u001b[39m          \u001b[90m│\u001b[39m a        \u001b[90m│\u001b[39m\r\n",
      "\u001b[90m│\u001b[39m          \u001b[90m│\u001b[39m   File   \u001b[90m│\u001b[39m from the \u001b[90m│\u001b[39m          \u001b[90m│\u001b[39m          \u001b[90m│\u001b[39m          \u001b[90m│\u001b[39m string.  \u001b[90m│\u001b[39m\r\n",
      "\u001b[90m│\u001b[39m          \u001b[90m│\u001b[39m \"/sandb… \u001b[90m│\u001b[39m ex...    \u001b[90m│\u001b[39m          \u001b[90m│\u001b[39m          \u001b[90m│\u001b[39m          \u001b[90m│\u001b[39m To fix   \u001b[90m│\u001b[39m\r\n",
      "\u001b[90m│\u001b[39m          \u001b[90m│\u001b[39m line 1,  \u001b[90m│\u001b[39m          \u001b[90m│\u001b[39m          \u001b[90m│\u001b[39m          \u001b[90m│\u001b[39m          \u001b[90m│\u001b[39m this     \u001b[90m│\u001b[39m\r\n",
      "\u001b[90m│\u001b[39m          \u001b[90m│\u001b[39m in       \u001b[90m│\u001b[39m          \u001b[90m│\u001b[39m          \u001b[90m│\u001b[39m          \u001b[90m│\u001b[39m          \u001b[90m│\u001b[39m error,   \u001b[90m│\u001b[39m\r\n",
      "\u001b[90m│\u001b[39m          \u001b[90m│\u001b[39m <module> \u001b[90m│\u001b[39m          \u001b[90m│\u001b[39m          \u001b[90m│\u001b[39m          \u001b[90m│\u001b[39m          \u001b[90m│\u001b[39m you      \u001b[90m│\u001b[39m\r\n",
      "\u001b[90m│\u001b[39m          \u001b[90m│\u001b[39m     a =  \u001b[90m│\u001b[39m          \u001b[90m│\u001b[39m          \u001b[90m│\u001b[39m          \u001b[90m│\u001b[39m          \u001b[90m│\u001b[39m should   \u001b[90m│\u001b[39m\r\n",
      "\u001b[90m│\u001b[39m          \u001b[90m│\u001b[39m int(...  \u001b[90m│\u001b[39m          \u001b[90m│\u001b[39m          \u001b[90m│\u001b[39m          \u001b[90m│\u001b[39m          \u001b[90m│\u001b[39m call...  \u001b[90m│\u001b[39m\r\n",
      "\u001b[90m├──────────\u001b[39m\u001b[90m┼──────────\u001b[39m\u001b[90m┼──────────\u001b[39m\u001b[90m┼──────────\u001b[39m\u001b[90m┼──────────\u001b[39m\u001b[90m┼──────────\u001b[39m\u001b[90m┼──────────┤\u001b[39m\r\n",
      "\u001b[90m│\u001b[39m python_9 \u001b[90m│\u001b[39m Failed   \u001b[90m│\u001b[39m <p></p>  \u001b[90m│\u001b[39m [{\"inpu… \u001b[90m│\u001b[39m a =      \u001b[90m│\u001b[39m a =      \u001b[90m│\u001b[39m \u001b[32m[PASS]\u001b[39m   \u001b[90m│\u001b[39m\r\n",
      "\u001b[90m│\u001b[39m          \u001b[90m│\u001b[39m test #2  \u001b[90m│\u001b[39m <p>Write \u001b[90m│\u001b[39m Brother  \u001b[90m│\u001b[39m input()  \u001b[90m│\u001b[39m input()  \u001b[90m│\u001b[39m \u001b[32m\u001b[39mIn your  \u001b[90m│\u001b[39m\r\n",
      "\u001b[90m│\u001b[39m          \u001b[90m│\u001b[39m of 3.    \u001b[90m│\u001b[39m a        \u001b[90m│\u001b[39m watches  \u001b[90m│\u001b[39m b =      \u001b[90m│\u001b[39m b =      \u001b[90m│\u001b[39m code,    \u001b[90m│\u001b[39m\r\n",
      "\u001b[90m│\u001b[39m          \u001b[90m│\u001b[39m Wrong    \u001b[90m│\u001b[39m program  \u001b[90m│\u001b[39m you\\nFa… \u001b[90m│\u001b[39m input()  \u001b[90m│\u001b[39m input()  \u001b[90m│\u001b[39m you are  \u001b[90m│\u001b[39m\r\n",
      "\u001b[90m│\u001b[39m          \u001b[90m│\u001b[39m answer   \u001b[90m│\u001b[39m that     \u001b[90m│\u001b[39m          \u001b[90m│\u001b[39m # run    \u001b[90m│\u001b[39m # run    \u001b[90m│\u001b[39m checking \u001b[90m│\u001b[39m\r\n",
      "\u001b[90m│\u001b[39m          \u001b[90m│\u001b[39m          \u001b[90m│\u001b[39m takes    \u001b[90m│\u001b[39m          \u001b[90m│\u001b[39m the      \u001b[90m│\u001b[39m the      \u001b[90m│\u001b[39m if the   \u001b[90m│\u001b[39m\r\n",
      "\u001b[90m│\u001b[39m          \u001b[90m│\u001b[39m          \u001b[90m│\u001b[39m two      \u001b[90m│\u001b[39m          \u001b[90m│\u001b[39m members… \u001b[90m│\u001b[39m members… \u001b[90m│\u001b[39m first    \u001b[90m│\u001b[39m\r\n",
      "\u001b[90m│\u001b[39m          \u001b[90m│\u001b[39m          \u001b[90m│\u001b[39m strings, \u001b[90m│\u001b[39m          \u001b[90m│\u001b[39m test     \u001b[90m│\u001b[39m test     \u001b[90m│\u001b[39m string   \u001b[90m│\u001b[39m\r\n",
      "\u001b[90m│\u001b[39m          \u001b[90m│\u001b[39m          \u001b[90m│\u001b[39m checks   \u001b[90m│\u001b[39m          \u001b[90m│\u001b[39m below    \u001b[90m│\u001b[39m below    \u001b[90m│\u001b[39m is in    \u001b[90m│\u001b[39m\r\n",
      "\u001b[90m│\u001b[39m          \u001b[90m│\u001b[39m          \u001b[90m│\u001b[39m whether  \u001b[90m│\u001b[39m          \u001b[90m│\u001b[39m print(b  \u001b[90m│\u001b[39m print(a  \u001b[90m│\u001b[39m the      \u001b[90m│\u001b[39m\r\n",
      "\u001b[90m│\u001b[39m          \u001b[90m│\u001b[39m          \u001b[90m│\u001b[39m the      \u001b[90m│\u001b[39m          \u001b[90m│\u001b[39m in a)    \u001b[90m│\u001b[39m in b)    \u001b[90m│\u001b[39m second   \u001b[90m│\u001b[39m\r\n",
      "\u001b[90m│\u001b[39m          \u001b[90m│\u001b[39m          \u001b[90m│\u001b[39m first    \u001b[90m│\u001b[39m          \u001b[90m│\u001b[39m          \u001b[90m│\u001b[39m          \u001b[90m│\u001b[39m string   \u001b[90m│\u001b[39m\r\n",
      "\u001b[90m│\u001b[39m          \u001b[90m│\u001b[39m          \u001b[90m│\u001b[39m string   \u001b[90m│\u001b[39m          \u001b[90m│\u001b[39m          \u001b[90m│\u001b[39m          \u001b[90m│\u001b[39m by using \u001b[90m│\u001b[39m\r\n",
      "\u001b[90m│\u001b[39m          \u001b[90m│\u001b[39m          \u001b[90m│\u001b[39m contains \u001b[90m│\u001b[39m          \u001b[90m│\u001b[39m          \u001b[90m│\u001b[39m          \u001b[90m│\u001b[39m the 'in' \u001b[90m│\u001b[39m\r\n",
      "\u001b[90m│\u001b[39m          \u001b[90m│\u001b[39m          \u001b[90m│\u001b[39m the      \u001b[90m│\u001b[39m          \u001b[90m│\u001b[39m          \u001b[90m│\u001b[39m          \u001b[90m│\u001b[39m operato… \u001b[90m│\u001b[39m\r\n",
      "\u001b[90m│\u001b[39m          \u001b[90m│\u001b[39m          \u001b[90m│\u001b[39m second   \u001b[90m│\u001b[39m          \u001b[90m│\u001b[39m          \u001b[90m│\u001b[39m          \u001b[90m│\u001b[39m However, \u001b[90m│\u001b[39m\r\n",
      "\u001b[90m│\u001b[39m          \u001b[90m│\u001b[39m          \u001b[90m│\u001b[39m one and  \u001b[90m│\u001b[39m          \u001b[90m│\u001b[39m          \u001b[90m│\u001b[39m          \u001b[90m│\u001b[39m the task \u001b[90m│\u001b[39m\r\n",
      "\u001b[90m│\u001b[39m          \u001b[90m│\u001b[39m          \u001b[90m│\u001b[39m prints   \u001b[90m│\u001b[39m          \u001b[90m│\u001b[39m          \u001b[90m│\u001b[39m          \u001b[90m│\u001b[39m requires \u001b[90m│\u001b[39m\r\n",
      "\u001b[90m│\u001b[39m          \u001b[90m│\u001b[39m          \u001b[90m│\u001b[39m the      \u001b[90m│\u001b[39m          \u001b[90m│\u001b[39m          \u001b[90m│\u001b[39m          \u001b[90m│\u001b[39m you to   \u001b[90m│\u001b[39m\r\n",
      "\u001b[90m│\u001b[39m          \u001b[90m│\u001b[39m          \u001b[90m│\u001b[39m result   \u001b[90m│\u001b[39m          \u001b[90m│\u001b[39m          \u001b[90m│\u001b[39m          \u001b[90m│\u001b[39m check if \u001b[90m│\u001b[39m\r\n",
      "\u001b[90m│\u001b[39m          \u001b[90m│\u001b[39m          \u001b[90m│\u001b[39m of the   \u001b[90m│\u001b[39m          \u001b[90m│\u001b[39m          \u001b[90m│\u001b[39m          \u001b[90m│\u001b[39m the      \u001b[90m│\u001b[39m\r\n",
      "\u001b[90m│\u001b[39m          \u001b[90m│\u001b[39m          \u001b[90m│\u001b[39m members… \u001b[90m│\u001b[39m          \u001b[90m│\u001b[39m          \u001b[90m│\u001b[39m          \u001b[90m│\u001b[39m second   \u001b[90m│\u001b[39m\r\n",
      "\u001b[90m│\u001b[39m          \u001b[90m│\u001b[39m          \u001b[90m│\u001b[39m test.</… \u001b[90m│\u001b[39m          \u001b[90m│\u001b[39m          \u001b[90m│\u001b[39m          \u001b[90m│\u001b[39m string   \u001b[90m│\u001b[39m\r\n",
      "\u001b[90m│\u001b[39m          \u001b[90m│\u001b[39m          \u001b[90m│\u001b[39m <p>The   \u001b[90m│\u001b[39m          \u001b[90m│\u001b[39m          \u001b[90m│\u001b[39m          \u001b[90m│\u001b[39m is in    \u001b[90m│\u001b[39m\r\n",
      "\u001b[90m│\u001b[39m          \u001b[90m│\u001b[39m          \u001b[90m│\u001b[39m variabl… \u001b[90m│\u001b[39m          \u001b[90m│\u001b[39m          \u001b[90m│\u001b[39m          \u001b[90m│\u001b[39m the      \u001b[90m│\u001b[39m\r\n",
      "\u001b[90m│\u001b[39m          \u001b[90m│\u001b[39m          \u001b[90m│\u001b[39m for both \u001b[90m│\u001b[39m          \u001b[90m│\u001b[39m          \u001b[90m│\u001b[39m          \u001b[90m│\u001b[39m first    \u001b[90m│\u001b[39m\r\n",
      "\u001b[90m│\u001b[39m          \u001b[90m│\u001b[39m          \u001b[90m│\u001b[39m input    \u001b[90m│\u001b[39m          \u001b[90m│\u001b[39m          \u001b[90m│\u001b[39m          \u001b[90m│\u001b[39m string.  \u001b[90m│\u001b[39m\r\n",
      "\u001b[90m│\u001b[39m          \u001b[90m│\u001b[39m          \u001b[90m│\u001b[39m strings  \u001b[90m│\u001b[39m          \u001b[90m│\u001b[39m          \u001b[90m│\u001b[39m          \u001b[90m│\u001b[39m To       \u001b[90m│\u001b[39m\r\n",
      "\u001b[90m│\u001b[39m          \u001b[90m│\u001b[39m          \u001b[90m│\u001b[39m have     \u001b[90m│\u001b[39m          \u001b[90m│\u001b[39m          \u001b[90m│\u001b[39m          \u001b[90m│\u001b[39m correct  \u001b[90m│\u001b[39m\r\n",
      "\u001b[90m│\u001b[39m          \u001b[90m│\u001b[39m          \u001b[90m│\u001b[39m already  \u001b[90m│\u001b[39m          \u001b[90m│\u001b[39m          \u001b[90m│\u001b[39m          \u001b[90m│\u001b[39m this     \u001b[90m│\u001b[39m\r\n",
      "\u001b[90m│\u001b[39m          \u001b[90m│\u001b[39m          \u001b[90m│\u001b[39m been     \u001b[90m│\u001b[39m          \u001b[90m│\u001b[39m          \u001b[90m│\u001b[39m          \u001b[90m│\u001b[39m error,   \u001b[90m│\u001b[39m\r\n",
      "\u001b[90m│\u001b[39m          \u001b[90m│\u001b[39m          \u001b[90m│\u001b[39m defined… \u001b[90m│\u001b[39m          \u001b[90m│\u001b[39m          \u001b[90m│\u001b[39m          \u001b[90m│\u001b[39m you      \u001b[90m│\u001b[39m\r\n",
      "\u001b[90m│\u001b[39m          \u001b[90m│\u001b[39m          \u001b[90m│\u001b[39m          \u001b[90m│\u001b[39m          \u001b[90m│\u001b[39m          \u001b[90m│\u001b[39m          \u001b[90m│\u001b[39m should   \u001b[90m│\u001b[39m\r\n",
      "\u001b[90m│\u001b[39m          \u001b[90m│\u001b[39m          \u001b[90m│\u001b[39m          \u001b[90m│\u001b[39m          \u001b[90m│\u001b[39m          \u001b[90m│\u001b[39m          \u001b[90m│\u001b[39m switch   \u001b[90m│\u001b[39m\r\n",
      "\u001b[90m│\u001b[39m          \u001b[90m│\u001b[39m          \u001b[90m│\u001b[39m          \u001b[90m│\u001b[39m          \u001b[90m│\u001b[39m          \u001b[90m│\u001b[39m          \u001b[90m│\u001b[39m the      \u001b[90m│\u001b[39m\r\n",
      "\u001b[90m│\u001b[39m          \u001b[90m│\u001b[39m          \u001b[90m│\u001b[39m          \u001b[90m│\u001b[39m          \u001b[90m│\u001b[39m          \u001b[90m│\u001b[39m          \u001b[90m│\u001b[39m order of \u001b[90m│\u001b[39m\r\n",
      "\u001b[90m│\u001b[39m          \u001b[90m│\u001b[39m          \u001b[90m│\u001b[39m          \u001b[90m│\u001b[39m          \u001b[90m│\u001b[39m          \u001b[90m│\u001b[39m          \u001b[90m│\u001b[39m the...   \u001b[90m│\u001b[39m\r\n",
      "\u001b[90m├──────────\u001b[39m\u001b[90m┼──────────\u001b[39m\u001b[90m┼──────────\u001b[39m\u001b[90m┼──────────\u001b[39m\u001b[90m┼──────────\u001b[39m\u001b[90m┼──────────\u001b[39m\u001b[90m┼──────────┤\u001b[39m\r\n",
      "\u001b[90m│\u001b[39m python_0 \u001b[90m│\u001b[39m Failed   \u001b[90m│\u001b[39m <p></p>… \u001b[90m│\u001b[39m [{\"inpu… \u001b[90m│\u001b[39m N =      \u001b[90m│\u001b[39m # put    \u001b[90m│\u001b[39m \u001b[32m[PASS]\u001b[39m   \u001b[90m│\u001b[39m\r\n",
      "\u001b[90m│\u001b[39m          \u001b[90m│\u001b[39m test #1  \u001b[90m│\u001b[39m squirre… \u001b[90m│\u001b[39m          \u001b[90m│\u001b[39m int(inp… \u001b[90m│\u001b[39m your     \u001b[90m│\u001b[39m \u001b[32m\u001b[39mIn your  \u001b[90m│\u001b[39m\r\n",
      "\u001b[90m│\u001b[39m          \u001b[90m│\u001b[39m of 6.    \u001b[90m│\u001b[39m found K  \u001b[90m│\u001b[39m          \u001b[90m│\u001b[39m K =      \u001b[90m│\u001b[39m python   \u001b[90m│\u001b[39m code,    \u001b[90m│\u001b[39m\r\n",
      "\u001b[90m│\u001b[39m          \u001b[90m│\u001b[39m Wrong    \u001b[90m│\u001b[39m nuts and \u001b[90m│\u001b[39m          \u001b[90m│\u001b[39m int(inp… \u001b[90m│\u001b[39m code     \u001b[90m│\u001b[39m you are  \u001b[90m│\u001b[39m\r\n",
      "\u001b[90m│\u001b[39m          \u001b[90m│\u001b[39m answer   \u001b[90m│\u001b[39m decided  \u001b[90m│\u001b[39m          \u001b[90m│\u001b[39m print(K  \u001b[90m│\u001b[39m here     \u001b[90m│\u001b[39m prompti… \u001b[90m│\u001b[39m\r\n",
      "\u001b[90m│\u001b[39m          \u001b[90m│\u001b[39m This is  \u001b[90m│\u001b[39m to       \u001b[90m│\u001b[39m          \u001b[90m│\u001b[39m // N)    \u001b[90m│\u001b[39m N=int(i… \u001b[90m│\u001b[39m the user \u001b[90m│\u001b[39m\r\n",
      "\u001b[90m│\u001b[39m          \u001b[90m│\u001b[39m a sample \u001b[90m│\u001b[39m divide   \u001b[90m│\u001b[39m          \u001b[90m│\u001b[39m          \u001b[90m│\u001b[39m value of \u001b[90m│\u001b[39m to enter \u001b[90m│\u001b[39m\r\n",
      "\u001b[90m│\u001b[39m          \u001b[90m│\u001b[39m test     \u001b[90m│\u001b[39m them     \u001b[90m│\u001b[39m          \u001b[90m│\u001b[39m          \u001b[90m│\u001b[39m n\"))     \u001b[90m│\u001b[39m the      \u001b[90m│\u001b[39m\r\n",
      "\u001b[90m│\u001b[39m          \u001b[90m│\u001b[39m from the \u001b[90m│\u001b[39m equally. \u001b[90m│\u001b[39m          \u001b[90m│\u001b[39m          \u001b[90m│\u001b[39m K=int(i… \u001b[90m│\u001b[39m values   \u001b[90m│\u001b[39m\r\n",
      "\u001b[90m│\u001b[39m          \u001b[90m│\u001b[39m problem  \u001b[90m│\u001b[39m Determi… \u001b[90m│\u001b[39m          \u001b[90m│\u001b[39m          \u001b[90m│\u001b[39m value of \u001b[90m│\u001b[39m of N and \u001b[90m│\u001b[39m\r\n",
      "\u001b[90m│\u001b[39m          \u001b[90m│\u001b[39m stateme… \u001b[90m│\u001b[39m how many \u001b[90m│\u001b[39m          \u001b[90m│\u001b[39m          \u001b[90m│\u001b[39m k\"))     \u001b[90m│\u001b[39m K        \u001b[90m│\u001b[39m\r\n",
      "\u001b[90m│\u001b[39m          \u001b[90m│\u001b[39m Test     \u001b[90m│\u001b[39m nuts     \u001b[90m│\u001b[39m          \u001b[90m│\u001b[39m          \u001b[90m│\u001b[39m ans=K//N \u001b[90m│\u001b[39m separat… \u001b[90m│\u001b[39m\r\n",
      "\u001b[90m│\u001b[39m          \u001b[90m│\u001b[39m input:   \u001b[90m│\u001b[39m each     \u001b[90m│\u001b[39m          \u001b[90m│\u001b[39m          \u001b[90m│\u001b[39m print(a… \u001b[90m│\u001b[39m However, \u001b[90m│\u001b[39m\r\n",
      "\u001b[90m│\u001b[39m          \u001b[90m│\u001b[39m 3        \u001b[90m│\u001b[39m squirrel \u001b[90m│\u001b[39m          \u001b[90m│\u001b[39m          \u001b[90m│\u001b[39m          \u001b[90m│\u001b[39m the      \u001b[90m│\u001b[39m\r\n",
      "\u001b[90m│\u001b[39m          \u001b[90m│\u001b[39m 14       \u001b[90m│\u001b[39m will get \u001b[90m│\u001b[39m          \u001b[90m│\u001b[39m          \u001b[90m│\u001b[39m          \u001b[90m│\u001b[39m input    \u001b[90m│\u001b[39m\r\n",
      "\u001b[90m│\u001b[39m          \u001b[90m│\u001b[39m Correct  \u001b[90m│\u001b[39m and      \u001b[90m│\u001b[39m          \u001b[90m│\u001b[39m          \u001b[90m│\u001b[39m          \u001b[90m│\u001b[39m format   \u001b[90m│\u001b[39m\r\n",
      "\u001b[90m│\u001b[39m          \u001b[90m│\u001b[39m output:  \u001b[90m│\u001b[39m print    \u001b[90m│\u001b[39m          \u001b[90m│\u001b[39m          \u001b[90m│\u001b[39m          \u001b[90m│\u001b[39m specifi… \u001b[90m│\u001b[39m\r\n",
      "\u001b[90m│\u001b[39m          \u001b[90m│\u001b[39m 4        \u001b[90m│\u001b[39m the      \u001b[90m│\u001b[39m          \u001b[90m│\u001b[39m          \u001b[90m│\u001b[39m          \u001b[90m│\u001b[39m that the \u001b[90m│\u001b[39m\r\n",
      "\u001b[90m│\u001b[39m          \u001b[90m│\u001b[39m Your     \u001b[90m│\u001b[39m result.  \u001b[90m│\u001b[39m          \u001b[90m│\u001b[39m          \u001b[90m│\u001b[39m          \u001b[90m│\u001b[39m values   \u001b[90m│\u001b[39m\r\n",
      "\u001b[90m│\u001b[39m          \u001b[90m│\u001b[39m code     \u001b[90m│\u001b[39m The      \u001b[90m│\u001b[39m          \u001b[90m│\u001b[39m          \u001b[90m│\u001b[39m          \u001b[90m│\u001b[39m should   \u001b[90m│\u001b[39m\r\n",
      "\u001b[90m│\u001b[39m          \u001b[90m│\u001b[39m output:  \u001b[90m│\u001b[39m answer   \u001b[90m│\u001b[39m          \u001b[90m│\u001b[39m          \u001b[90m│\u001b[39m          \u001b[90m│\u001b[39m be       \u001b[90m│\u001b[39m\r\n",
      "\u001b[90m│\u001b[39m          \u001b[90m│\u001b[39m Enter    \u001b[90m│\u001b[39m should   \u001b[90m│\u001b[39m          \u001b[90m│\u001b[39m          \u001b[90m│\u001b[39m          \u001b[90m│\u001b[39m entered  \u001b[90m│\u001b[39m\r\n",
      "\u001b[90m│\u001b[39m          \u001b[90m│\u001b[39m value of \u001b[90m│\u001b[39m be an    \u001b[90m│\u001b[39m          \u001b[90m│\u001b[39m          \u001b[90m│\u001b[39m          \u001b[90m│\u001b[39m on       \u001b[90m│\u001b[39m\r\n",
      "\u001b[90m│\u001b[39m          \u001b[90m│\u001b[39m nEnter   \u001b[90m│\u001b[39m integer… \u001b[90m│\u001b[39m          \u001b[90m│\u001b[39m          \u001b[90m│\u001b[39m          \u001b[90m│\u001b[39m separate \u001b[90m│\u001b[39m\r\n",
      "\u001b[90m│\u001b[39m          \u001b[90m│\u001b[39m value of \u001b[90m│\u001b[39m </stron… \u001b[90m│\u001b[39m          \u001b[90m│\u001b[39m          \u001b[90m│\u001b[39m          \u001b[90m│\u001b[39m lines.   \u001b[90m│\u001b[39m\r\n",
      "\u001b[90m│\u001b[39m          \u001b[90m│\u001b[39m k4       \u001b[90m│\u001b[39m the      \u001b[90m│\u001b[39m          \u001b[90m│\u001b[39m          \u001b[90m│\u001b[39m          \u001b[90m│\u001b[39m To       \u001b[90m│\u001b[39m\r\n",
      "\u001b[90m│\u001b[39m          \u001b[90m│\u001b[39m          \u001b[90m│\u001b[39m order of \u001b[90m│\u001b[39m          \u001b[90m│\u001b[39m          \u001b[90m│\u001b[39m          \u001b[90m│\u001b[39m correct  \u001b[90m│\u001b[39m\r\n",
      "\u001b[90m│\u001b[39m          \u001b[90m│\u001b[39m          \u001b[90m│\u001b[39m the      \u001b[90m│\u001b[39m          \u001b[90m│\u001b[39m          \u001b[90m│\u001b[39m          \u001b[90m│\u001b[39m this,    \u001b[90m│\u001b[39m\r\n",
      "\u001b[90m│\u001b[39m          \u001b[90m│\u001b[39m          \u001b[90m│\u001b[39m variabl… \u001b[90m│\u001b[39m          \u001b[90m│\u001b[39m          \u001b[90m│\u001b[39m          \u001b[90m│\u001b[39m you      \u001b[90m│\u001b[39m\r\n",
      "\u001b[90m│\u001b[39m          \u001b[90m│\u001b[39m          \u001b[90m│\u001b[39m          \u001b[90m│\u001b[39m          \u001b[90m│\u001b[39m          \u001b[90m│\u001b[39m          \u001b[90m│\u001b[39m should   \u001b[90m│\u001b[39m\r\n",
      "\u001b[90m│\u001b[39m          \u001b[90m│\u001b[39m          \u001b[90m│\u001b[39m          \u001b[90m│\u001b[39m          \u001b[90m│\u001b[39m          \u001b[90m│\u001b[39m          \u001b[90m│\u001b[39m use the  \u001b[90m│\u001b[39m\r\n",
      "\u001b[90m│\u001b[39m          \u001b[90m│\u001b[39m          \u001b[90m│\u001b[39m          \u001b[90m│\u001b[39m          \u001b[90m│\u001b[39m          \u001b[90m│\u001b[39m          \u001b[90m│\u001b[39m input()  \u001b[90m│\u001b[39m\r\n",
      "\u001b[90m│\u001b[39m          \u001b[90m│\u001b[39m          \u001b[90m│\u001b[39m          \u001b[90m│\u001b[39m          \u001b[90m│\u001b[39m          \u001b[90m│\u001b[39m          \u001b[90m│\u001b[39m function \u001b[90m│\u001b[39m\r\n",
      "\u001b[90m│\u001b[39m          \u001b[90m│\u001b[39m          \u001b[90m│\u001b[39m          \u001b[90m│\u001b[39m          \u001b[90m│\u001b[39m          \u001b[90m│\u001b[39m          \u001b[90m│\u001b[39m without  \u001b[90m│\u001b[39m\r\n",
      "\u001b[90m│\u001b[39m          \u001b[90m│\u001b[39m          \u001b[90m│\u001b[39m          \u001b[90m│\u001b[39m          \u001b[90m│\u001b[39m          \u001b[90m│\u001b[39m          \u001b[90m│\u001b[39m any      \u001b[90m│\u001b[39m\r\n",
      "\u001b[90m│\u001b[39m          \u001b[90m│\u001b[39m          \u001b[90m│\u001b[39m          \u001b[90m│\u001b[39m          \u001b[90m│\u001b[39m          \u001b[90m│\u001b[39m          \u001b[90m│\u001b[39m prompts… \u001b[90m│\u001b[39m\r\n",
      "\u001b[90m├──────────\u001b[39m\u001b[90m┼──────────\u001b[39m\u001b[90m┼──────────\u001b[39m\u001b[90m┼──────────\u001b[39m\u001b[90m┼──────────\u001b[39m\u001b[90m┼──────────\u001b[39m\u001b[90m┼──────────┤\u001b[39m\r\n",
      "\u001b[90m│\u001b[39m python_1 \u001b[90m│\u001b[39m Failed   \u001b[90m│\u001b[39m <p></p>  \u001b[90m│\u001b[39m [{\"inpu… \u001b[90m│\u001b[39m def      \u001b[90m│\u001b[39m def      \u001b[90m│\u001b[39m \u001b[31m[FAIL]\u001b[39m   \u001b[90m│\u001b[39m\r\n",
      "\u001b[90m│\u001b[39m          \u001b[90m│\u001b[39m test #1  \u001b[90m│\u001b[39m <p>Write \u001b[90m│\u001b[39m 4        \u001b[90m│\u001b[39m equatio… \u001b[90m│\u001b[39m equatio… \u001b[90m│\u001b[39m \u001b[31m\u001b[39m\u001b[31m\u001b[1mThe\u001b[22m\u001b[39m      \u001b[90m│\u001b[39m\r\n",
      "\u001b[90m│\u001b[39m          \u001b[90m│\u001b[39m of 3.    \u001b[90m│\u001b[39m a        \u001b[90m│\u001b[39m 3\",\"out… \u001b[90m│\u001b[39m b, c):   \u001b[90m│\u001b[39m b, c):   \u001b[90m│\u001b[39m \u001b[31m\u001b[1msubmiss\u001b[22m\u001b[39m… \u001b[90m│\u001b[39m\r\n",
      "\u001b[90m│\u001b[39m          \u001b[90m│\u001b[39m Wrong    \u001b[90m│\u001b[39m function \u001b[90m│\u001b[39m x + 4 =  \u001b[90m│\u001b[39m print(f… \u001b[90m│\u001b[39m     pri… \u001b[90m│\u001b[39m \u001b[31m\u001b[1mdoes not\u001b[22m\u001b[39m \u001b[90m│\u001b[39m\r\n",
      "\u001b[90m│\u001b[39m          \u001b[90m│\u001b[39m answer   \u001b[90m│\u001b[39m <code    \u001b[90m│\u001b[39m 3\"}]     \u001b[90m│\u001b[39m x + {b}  \u001b[90m│\u001b[39m 'x +',   \u001b[90m│\u001b[39m \u001b[31m\u001b[1mmeet the\u001b[22m\u001b[39m \u001b[90m│\u001b[39m\r\n",
      "\u001b[90m│\u001b[39m          \u001b[90m│\u001b[39m This is  \u001b[90m│\u001b[39m class=\"… \u001b[90m│\u001b[39m          \u001b[90m│\u001b[39m = {c}\")  \u001b[90m│\u001b[39m b, '=',  \u001b[90m│\u001b[39m \u001b[31m\u001b[1mcriteri\u001b[22m\u001b[39m… \u001b[90m│\u001b[39m\r\n",
      "\u001b[90m│\u001b[39m          \u001b[90m│\u001b[39m a sample \u001b[90m│\u001b[39m that     \u001b[90m│\u001b[39m          \u001b[90m│\u001b[39m          \u001b[90m│\u001b[39m c)       \u001b[90m│\u001b[39m \u001b[31m\u001b[1m1. The\u001b[22m\u001b[39m   \u001b[90m│\u001b[39m\r\n",
      "\u001b[90m│\u001b[39m          \u001b[90m│\u001b[39m test     \u001b[90m│\u001b[39m will     \u001b[90m│\u001b[39m          \u001b[90m│\u001b[39m          \u001b[90m│\u001b[39m # Sample \u001b[90m│\u001b[39m \u001b[31m\u001b[1mcriteri\u001b[22m\u001b[39m… \u001b[90m│\u001b[39m\r\n",
      "\u001b[90m│\u001b[39m          \u001b[90m│\u001b[39m from the \u001b[90m│\u001b[39m <strong… \u001b[90m│\u001b[39m          \u001b[90m│\u001b[39m          \u001b[90m│\u001b[39m Input 1: \u001b[90m│\u001b[39m \u001b[31m\u001b[1mrequires\u001b[22m\u001b[39m \u001b[90m│\u001b[39m\r\n",
      "\u001b[90m│\u001b[39m          \u001b[90m│\u001b[39m problem  \u001b[90m│\u001b[39m the      \u001b[90m│\u001b[39m          \u001b[90m│\u001b[39m          \u001b[90m│\u001b[39m equatio… \u001b[90m│\u001b[39m \u001b[31m\u001b[1mthe\u001b[22m\u001b[39m      \u001b[90m│\u001b[39m\r\n",
      "\u001b[90m│\u001b[39m          \u001b[90m│\u001b[39m stateme… \u001b[90m│\u001b[39m equation \u001b[90m│\u001b[39m          \u001b[90m│\u001b[39m          \u001b[90m│\u001b[39m 4, 3)    \u001b[90m│\u001b[39m \u001b[31m\u001b[1mfeedback\u001b[22m\u001b[39m \u001b[90m│\u001b[39m\r\n",
      "\u001b[90m│\u001b[39m          \u001b[90m│\u001b[39m Test     \u001b[90m│\u001b[39m in the   \u001b[90m│\u001b[39m          \u001b[90m│\u001b[39m          \u001b[90m│\u001b[39m          \u001b[90m│\u001b[39m \u001b[31m\u001b[1mto be\u001b[22m\u001b[39m    \u001b[90m│\u001b[39m\r\n",
      "\u001b[90m│\u001b[39m          \u001b[90m│\u001b[39m input:   \u001b[90m│\u001b[39m followi… \u001b[90m│\u001b[39m          \u001b[90m│\u001b[39m          \u001b[90m│\u001b[39m          \u001b[90m│\u001b[39m \u001b[31m\u001b[1measy to\u001b[22m\u001b[39m  \u001b[90m│\u001b[39m\r\n",
      "\u001b[90m│\u001b[39m          \u001b[90m│\u001b[39m 3 4 3    \u001b[90m│\u001b[39m format:  \u001b[90m│\u001b[39m          \u001b[90m│\u001b[39m          \u001b[90m│\u001b[39m          \u001b[90m│\u001b[39m \u001b[31m\u001b[1munderst\u001b[22m\u001b[39m… \u001b[90m│\u001b[39m\r\n",
      "\u001b[90m│\u001b[39m          \u001b[90m│\u001b[39m Correct  \u001b[90m│\u001b[39m <code    \u001b[90m│\u001b[39m          \u001b[90m│\u001b[39m          \u001b[90m│\u001b[39m          \u001b[90m│\u001b[39m \u001b[31m\u001b[1mfor an\u001b[22m\u001b[39m   \u001b[90m│\u001b[39m\r\n",
      "\u001b[90m│\u001b[39m          \u001b[90m│\u001b[39m output:  \u001b[90m│\u001b[39m class=\"… \u001b[90m│\u001b[39m          \u001b[90m│\u001b[39m          \u001b[90m│\u001b[39m          \u001b[90m│\u001b[39m \u001b[31m\u001b[1madult\u001b[22m\u001b[39m    \u001b[90m│\u001b[39m\r\n",
      "\u001b[90m│\u001b[39m          \u001b[90m│\u001b[39m 3 x + 4  \u001b[90m│\u001b[39m x + b =  \u001b[90m│\u001b[39m          \u001b[90m│\u001b[39m          \u001b[90m│\u001b[39m          \u001b[90m│\u001b[39m \u001b[31m\u001b[1mprogram\u001b[22m\u001b[39m… \u001b[90m│\u001b[39m\r\n",
      "\u001b[90m│\u001b[39m          \u001b[90m│\u001b[39m = 3      \u001b[90m│\u001b[39m c</code… \u001b[90m│\u001b[39m          \u001b[90m│\u001b[39m          \u001b[90m│\u001b[39m          \u001b[90m│\u001b[39m \u001b[31m\u001b[1mnewbie\u001b[22m\u001b[39m   \u001b[90m│\u001b[39m\r\n",
      "\u001b[90m│\u001b[39m          \u001b[90m│\u001b[39m Your     \u001b[90m│\u001b[39m The      \u001b[90m│\u001b[39m          \u001b[90m│\u001b[39m          \u001b[90m│\u001b[39m          \u001b[90m│\u001b[39m \u001b[31m\u001b[1mwith no\u001b[22m\u001b[39m  \u001b[90m│\u001b[39m\r\n",
      "\u001b[90m│\u001b[39m          \u001b[90m│\u001b[39m code     \u001b[90m│\u001b[39m function \u001b[90m│\u001b[39m          \u001b[90m│\u001b[39m          \u001b[90m│\u001b[39m          \u001b[90m│\u001b[39m \u001b[31m\u001b[1mexperie\u001b[22m\u001b[39m… \u001b[90m│\u001b[39m\r\n",
      "\u001b[90m│\u001b[39m          \u001b[90m│\u001b[39m output:  \u001b[90m│\u001b[39m must     \u001b[90m│\u001b[39m          \u001b[90m│\u001b[39m          \u001b[90m│\u001b[39m          \u001b[90m│\u001b[39m \u001b[31m\u001b[1m2. The\u001b[22m\u001b[39m   \u001b[90m│\u001b[39m\r\n",
      "\u001b[90m│\u001b[39m          \u001b[90m│\u001b[39m 3 x + 4  \u001b[90m│\u001b[39m take     \u001b[90m│\u001b[39m          \u001b[90m│\u001b[39m          \u001b[90m│\u001b[39m          \u001b[90m│\u001b[39m \u001b[31m\u001b[1msubmiss\u001b[22m\u001b[39m… \u001b[90m│\u001b[39m\r\n",
      "\u001b[90m│\u001b[39m          \u001b[90m│\u001b[39m = 3      \u001b[90m│\u001b[39m three    \u001b[90m│\u001b[39m          \u001b[90m│\u001b[39m          \u001b[90m│\u001b[39m          \u001b[90m│\u001b[39m \u001b[31m\u001b[1msuggests\u001b[22m\u001b[39m \u001b[90m│\u001b[39m\r\n",
      "\u001b[90m│\u001b[39m          \u001b[90m│\u001b[39m 3 x + 4  \u001b[90m│\u001b[39m argumen… \u001b[90m│\u001b[39m          \u001b[90m│\u001b[39m          \u001b[90m│\u001b[39m          \u001b[90m│\u001b[39m \u001b[31m\u001b[1mthat the\u001b[22m\u001b[39m \u001b[90m│\u001b[39m\r\n",
      "\u001b[90m│\u001b[39m          \u001b[90m│\u001b[39m = 3      \u001b[90m│\u001b[39m <code    \u001b[90m│\u001b[39m          \u001b[90m│\u001b[39m          \u001b[90m│\u001b[39m          \u001b[90m│\u001b[39m \u001b[31m\u001b[1mstudent\u001b[22m\u001b[39m… \u001b[90m│\u001b[39m\r\n",
      "\u001b[90m│\u001b[39m          \u001b[90m│\u001b[39m          \u001b[90m│\u001b[39m class=\"… \u001b[90m│\u001b[39m          \u001b[90m│\u001b[39m          \u001b[90m│\u001b[39m          \u001b[90m│\u001b[39m \u001b[31m\u001b[1merror is\u001b[22m\u001b[39m \u001b[90m│\u001b[39m\r\n",
      "\u001b[90m│\u001b[39m          \u001b[90m│\u001b[39m          \u001b[90m│\u001b[39m          \u001b[90m│\u001b[39m          \u001b[90m│\u001b[39m          \u001b[90m│\u001b[39m          \u001b[90m│\u001b[39m \u001b[31m\u001b[1mnot\u001b[22m\u001b[39m      \u001b[90m│\u001b[39m\r\n",
      "\u001b[90m│\u001b[39m          \u001b[90m│\u001b[39m          \u001b[90m│\u001b[39m          \u001b[90m│\u001b[39m          \u001b[90m│\u001b[39m          \u001b[90m│\u001b[39m          \u001b[90m│\u001b[39m \u001b[31m\u001b[1musing\u001b[22m\u001b[39m    \u001b[90m│\u001b[39m\r\n",
      "\u001b[90m│\u001b[39m          \u001b[90m│\u001b[39m          \u001b[90m│\u001b[39m          \u001b[90m│\u001b[39m          \u001b[90m│\u001b[39m          \u001b[90m│\u001b[39m          \u001b[90m│\u001b[39m \u001b[31m\u001b[1mf-string\u001b[22m\u001b[39m \u001b[90m│\u001b[39m\r\n",
      "\u001b[90m│\u001b[39m          \u001b[90m│\u001b[39m          \u001b[90m│\u001b[39m          \u001b[90m│\u001b[39m          \u001b[90m│\u001b[39m          \u001b[90m│\u001b[39m          \u001b[90m│\u001b[39m \u001b[31m\u001b[1mformatt\u001b[22m\u001b[39m… \u001b[90m│\u001b[39m\r\n",
      "\u001b[90m│\u001b[39m          \u001b[90m│\u001b[39m          \u001b[90m│\u001b[39m          \u001b[90m│\u001b[39m          \u001b[90m│\u001b[39m          \u001b[90m│\u001b[39m          \u001b[90m│\u001b[39m \u001b[31m\u001b[1man...\u001b[22m\u001b[39m    \u001b[90m│\u001b[39m\r\n",
      "\u001b[90m├──────────\u001b[39m\u001b[90m┼──────────\u001b[39m\u001b[90m┼──────────\u001b[39m\u001b[90m┼──────────\u001b[39m\u001b[90m┼──────────\u001b[39m\u001b[90m┼──────────\u001b[39m\u001b[90m┼──────────┤\u001b[39m\r\n",
      "\u001b[90m│\u001b[39m python_2 \u001b[90m│\u001b[39m          \u001b[90m│\u001b[39m <p></p>… \u001b[90m│\u001b[39m [{\"inpu… \u001b[90m│\u001b[39m A, B, H  \u001b[90m│\u001b[39m a =      \u001b[90m│\u001b[39m \u001b[32m[PASS]\u001b[39m   \u001b[90m│\u001b[39m\r\n",
      "\u001b[90m│\u001b[39m          \u001b[90m│\u001b[39m          \u001b[90m│\u001b[39m learned  \u001b[90m│\u001b[39m          \u001b[90m│\u001b[39m =        \u001b[90m│\u001b[39m input()  \u001b[90m│\u001b[39m \u001b[32m\u001b[39mIn the   \u001b[90m│\u001b[39m\r\n",
      "\u001b[90m│\u001b[39m          \u001b[90m│\u001b[39m          \u001b[90m│\u001b[39m from a   \u001b[90m│\u001b[39m          \u001b[90m│\u001b[39m int(inp… \u001b[90m│\u001b[39m b =      \u001b[90m│\u001b[39m student… \u001b[90m│\u001b[39m\r\n",
      "\u001b[90m│\u001b[39m          \u001b[90m│\u001b[39m          \u001b[90m│\u001b[39m health   \u001b[90m│\u001b[39m          \u001b[90m│\u001b[39m int(inp… \u001b[90m│\u001b[39m input()  \u001b[90m│\u001b[39m code,    \u001b[90m│\u001b[39m\r\n",
      "\u001b[90m│\u001b[39m          \u001b[90m│\u001b[39m          \u001b[90m│\u001b[39m TV       \u001b[90m│\u001b[39m          \u001b[90m│\u001b[39m int(inp… \u001b[90m│\u001b[39m h =      \u001b[90m│\u001b[39m the      \u001b[90m│\u001b[39m\r\n",
      "\u001b[90m│\u001b[39m          \u001b[90m│\u001b[39m          \u001b[90m│\u001b[39m program  \u001b[90m│\u001b[39m          \u001b[90m│\u001b[39m if H <   \u001b[90m│\u001b[39m input()  \u001b[90m│\u001b[39m input    \u001b[90m│\u001b[39m\r\n",
      "\u001b[90m│\u001b[39m          \u001b[90m│\u001b[39m          \u001b[90m│\u001b[39m that     \u001b[90m│\u001b[39m          \u001b[90m│\u001b[39m A:       \u001b[90m│\u001b[39m if h >=  \u001b[90m│\u001b[39m values   \u001b[90m│\u001b[39m\r\n",
      "\u001b[90m│\u001b[39m          \u001b[90m│\u001b[39m          \u001b[90m│\u001b[39m it's     \u001b[90m│\u001b[39m          \u001b[90m│\u001b[39m print(\"… \u001b[90m│\u001b[39m a and h  \u001b[90m│\u001b[39m are      \u001b[90m│\u001b[39m\r\n",
      "\u001b[90m│\u001b[39m          \u001b[90m│\u001b[39m          \u001b[90m│\u001b[39m ideal to \u001b[90m│\u001b[39m          \u001b[90m│\u001b[39m elif H > \u001b[90m│\u001b[39m <= b:    \u001b[90m│\u001b[39m being    \u001b[90m│\u001b[39m\r\n",
      "\u001b[90m│\u001b[39m          \u001b[90m│\u001b[39m          \u001b[90m│\u001b[39m sleep a  \u001b[90m│\u001b[39m          \u001b[90m│\u001b[39m B:       \u001b[90m│\u001b[39m print(\"… \u001b[90m│\u001b[39m stored   \u001b[90m│\u001b[39m\r\n",
      "\u001b[90m│\u001b[39m          \u001b[90m│\u001b[39m          \u001b[90m│\u001b[39m minimum  \u001b[90m│\u001b[39m          \u001b[90m│\u001b[39m print(\"… \u001b[90m│\u001b[39m else:    \u001b[90m│\u001b[39m as       \u001b[90m│\u001b[39m\r\n",
      "\u001b[90m│\u001b[39m          \u001b[90m│\u001b[39m          \u001b[90m│\u001b[39m of <code \u001b[90m│\u001b[39m          \u001b[90m│\u001b[39m else:    \u001b[90m│\u001b[39m     if … \u001b[90m│\u001b[39m strings  \u001b[90m│\u001b[39m\r\n",
      "\u001b[90m│\u001b[39m          \u001b[90m│\u001b[39m          \u001b[90m│\u001b[39m class=\"… \u001b[90m│\u001b[39m          \u001b[90m│\u001b[39m print(\"… \u001b[90m│\u001b[39m a:       \u001b[90m│\u001b[39m instead  \u001b[90m│\u001b[39m\r\n",
      "\u001b[90m│\u001b[39m          \u001b[90m│\u001b[39m          \u001b[90m│\u001b[39m hours    \u001b[90m│\u001b[39m          \u001b[90m│\u001b[39m          \u001b[90m│\u001b[39m print(\"… \u001b[90m│\u001b[39m of       \u001b[90m│\u001b[39m\r\n",
      "\u001b[90m│\u001b[39m          \u001b[90m│\u001b[39m          \u001b[90m│\u001b[39m daily    \u001b[90m│\u001b[39m          \u001b[90m│\u001b[39m          \u001b[90m│\u001b[39m     els… \u001b[90m│\u001b[39m integer… \u001b[90m│\u001b[39m\r\n",
      "\u001b[90m│\u001b[39m          \u001b[90m│\u001b[39m          \u001b[90m│\u001b[39m but not  \u001b[90m│\u001b[39m          \u001b[90m│\u001b[39m          \u001b[90m│\u001b[39m print(\"… \u001b[90m│\u001b[39m This can \u001b[90m│\u001b[39m\r\n",
      "\u001b[90m│\u001b[39m          \u001b[90m│\u001b[39m          \u001b[90m│\u001b[39m to       \u001b[90m│\u001b[39m          \u001b[90m│\u001b[39m          \u001b[90m│\u001b[39m          \u001b[90m│\u001b[39m lead to  \u001b[90m│\u001b[39m\r\n",
      "\u001b[90m│\u001b[39m          \u001b[90m│\u001b[39m          \u001b[90m│\u001b[39m exceed   \u001b[90m│\u001b[39m          \u001b[90m│\u001b[39m          \u001b[90m│\u001b[39m          \u001b[90m│\u001b[39m incorre… \u001b[90m│\u001b[39m\r\n",
      "\u001b[90m│\u001b[39m          \u001b[90m│\u001b[39m          \u001b[90m│\u001b[39m <code    \u001b[90m│\u001b[39m          \u001b[90m│\u001b[39m          \u001b[90m│\u001b[39m          \u001b[90m│\u001b[39m compari… \u001b[90m│\u001b[39m\r\n",
      "\u001b[90m│\u001b[39m          \u001b[90m│\u001b[39m          \u001b[90m│\u001b[39m class=\"… \u001b[90m│\u001b[39m          \u001b[90m│\u001b[39m          \u001b[90m│\u001b[39m          \u001b[90m│\u001b[39m when     \u001b[90m│\u001b[39m\r\n",
      "\u001b[90m│\u001b[39m          \u001b[90m│\u001b[39m          \u001b[90m│\u001b[39m hours.   \u001b[90m│\u001b[39m          \u001b[90m│\u001b[39m          \u001b[90m│\u001b[39m          \u001b[90m│\u001b[39m checking \u001b[90m│\u001b[39m\r\n",
      "\u001b[90m│\u001b[39m          \u001b[90m│\u001b[39m          \u001b[90m│\u001b[39m Ann      \u001b[90m│\u001b[39m          \u001b[90m│\u001b[39m          \u001b[90m│\u001b[39m          \u001b[90m│\u001b[39m if the   \u001b[90m│\u001b[39m\r\n",
      "\u001b[90m│\u001b[39m          \u001b[90m│\u001b[39m          \u001b[90m│\u001b[39m current… \u001b[90m│\u001b[39m          \u001b[90m│\u001b[39m          \u001b[90m│\u001b[39m          \u001b[90m│\u001b[39m hours    \u001b[90m│\u001b[39m\r\n",
      "\u001b[90m│\u001b[39m          \u001b[90m│\u001b[39m          \u001b[90m│\u001b[39m sleeps   \u001b[90m│\u001b[39m          \u001b[90m│\u001b[39m          \u001b[90m│\u001b[39m          \u001b[90m│\u001b[39m slept    \u001b[90m│\u001b[39m\r\n",
      "\u001b[90m│\u001b[39m          \u001b[90m│\u001b[39m          \u001b[90m│\u001b[39m for      \u001b[90m│\u001b[39m          \u001b[90m│\u001b[39m          \u001b[90m│\u001b[39m          \u001b[90m│\u001b[39m are      \u001b[90m│\u001b[39m\r\n",
      "\u001b[90m│\u001b[39m          \u001b[90m│\u001b[39m          \u001b[90m│\u001b[39m <code    \u001b[90m│\u001b[39m          \u001b[90m│\u001b[39m          \u001b[90m│\u001b[39m          \u001b[90m│\u001b[39m within   \u001b[90m│\u001b[39m\r\n",
      "\u001b[90m│\u001b[39m          \u001b[90m│\u001b[39m          \u001b[90m│\u001b[39m class=\"… \u001b[90m│\u001b[39m          \u001b[90m│\u001b[39m          \u001b[90m│\u001b[39m          \u001b[90m│\u001b[39m the      \u001b[90m│\u001b[39m\r\n",
      "\u001b[90m│\u001b[39m          \u001b[90m│\u001b[39m          \u001b[90m│\u001b[39m hours    \u001b[90m│\u001b[39m          \u001b[90m│\u001b[39m          \u001b[90m│\u001b[39m          \u001b[90m│\u001b[39m healthy  \u001b[90m│\u001b[39m\r\n",
      "\u001b[90m│\u001b[39m          \u001b[90m│\u001b[39m          \u001b[90m│\u001b[39m each day \u001b[90m│\u001b[39m          \u001b[90m│\u001b[39m          \u001b[90m│\u001b[39m          \u001b[90m│\u001b[39m range.   \u001b[90m│\u001b[39m\r\n",
      "\u001b[90m│\u001b[39m          \u001b[90m│\u001b[39m          \u001b[90m│\u001b[39m a...     \u001b[90m│\u001b[39m          \u001b[90m│\u001b[39m          \u001b[90m│\u001b[39m          \u001b[90m│\u001b[39m To fix   \u001b[90m│\u001b[39m\r\n",
      "\u001b[90m│\u001b[39m          \u001b[90m│\u001b[39m          \u001b[90m│\u001b[39m          \u001b[90m│\u001b[39m          \u001b[90m│\u001b[39m          \u001b[90m│\u001b[39m          \u001b[90m│\u001b[39m this     \u001b[90m│\u001b[39m\r\n",
      "\u001b[90m│\u001b[39m          \u001b[90m│\u001b[39m          \u001b[90m│\u001b[39m          \u001b[90m│\u001b[39m          \u001b[90m│\u001b[39m          \u001b[90m│\u001b[39m          \u001b[90m│\u001b[39m issue,   \u001b[90m│\u001b[39m\r\n",
      "\u001b[90m│\u001b[39m          \u001b[90m│\u001b[39m          \u001b[90m│\u001b[39m          \u001b[90m│\u001b[39m          \u001b[90m│\u001b[39m          \u001b[90m│\u001b[39m          \u001b[90m│\u001b[39m make     \u001b[90m│\u001b[39m\r\n",
      "\u001b[90m│\u001b[39m          \u001b[90m│\u001b[39m          \u001b[90m│\u001b[39m          \u001b[90m│\u001b[39m          \u001b[90m│\u001b[39m          \u001b[90m│\u001b[39m          \u001b[90m│\u001b[39m sure to  \u001b[90m│\u001b[39m\r\n",
      "\u001b[90m│\u001b[39m          \u001b[90m│\u001b[39m          \u001b[90m│\u001b[39m          \u001b[90m│\u001b[39m          \u001b[90m│\u001b[39m          \u001b[90m│\u001b[39m          \u001b[90m│\u001b[39m convert  \u001b[90m│\u001b[39m\r\n",
      "\u001b[90m│\u001b[39m          \u001b[90m│\u001b[39m          \u001b[90m│\u001b[39m          \u001b[90m│\u001b[39m          \u001b[90m│\u001b[39m          \u001b[90m│\u001b[39m          \u001b[90m│\u001b[39m the      \u001b[90m│\u001b[39m\r\n",
      "\u001b[90m│\u001b[39m          \u001b[90m│\u001b[39m          \u001b[90m│\u001b[39m          \u001b[90m│\u001b[39m          \u001b[90m│\u001b[39m          \u001b[90m│\u001b[39m          \u001b[90m│\u001b[39m input    \u001b[90m│\u001b[39m\r\n",
      "\u001b[90m│\u001b[39m          \u001b[90m│\u001b[39m          \u001b[90m│\u001b[39m          \u001b[90m│\u001b[39m          \u001b[90m│\u001b[39m          \u001b[90m│\u001b[39m          \u001b[90m│\u001b[39m value... \u001b[90m│\u001b[39m\r\n",
      "\u001b[90m├──────────\u001b[39m\u001b[90m┼──────────\u001b[39m\u001b[90m┼──────────\u001b[39m\u001b[90m┼──────────\u001b[39m\u001b[90m┼──────────\u001b[39m\u001b[90m┼──────────\u001b[39m\u001b[90m┼──────────┤\u001b[39m\r\n",
      "\u001b[90m│\u001b[39m python_3 \u001b[90m│\u001b[39m Failed   \u001b[90m│\u001b[39m <p></p>… \u001b[90m│\u001b[39m [{\"inpu… \u001b[90m│\u001b[39m scores = \u001b[90m│\u001b[39m scores = \u001b[90m│\u001b[39m \u001b[32m[PASS]\u001b[39m   \u001b[90m│\u001b[39m\r\n",
      "\u001b[90m│\u001b[39m          \u001b[90m│\u001b[39m test #1  \u001b[90m│\u001b[39m online   \u001b[90m│\u001b[39m C C I C  \u001b[90m│\u001b[39m input()… \u001b[90m│\u001b[39m input()… \u001b[90m│\u001b[39m \u001b[32m\u001b[39mIn your  \u001b[90m│\u001b[39m\r\n",
      "\u001b[90m│\u001b[39m          \u001b[90m│\u001b[39m of 17.   \u001b[90m│\u001b[39m test     \u001b[90m│\u001b[39m C C C I  \u001b[90m│\u001b[39m # put    \u001b[90m│\u001b[39m # put    \u001b[90m│\u001b[39m code,    \u001b[90m│\u001b[39m\r\n",
      "\u001b[90m│\u001b[39m          \u001b[90m│\u001b[39m Runtime  \u001b[90m│\u001b[39m games,   \u001b[90m│\u001b[39m I C C C  \u001b[90m│\u001b[39m your     \u001b[90m│\u001b[39m your     \u001b[90m│\u001b[39m you are  \u001b[90m│\u001b[39m\r\n",
      "\u001b[90m│\u001b[39m          \u001b[90m│\u001b[39m error    \u001b[90m│\u001b[39m there is \u001b[90m│\u001b[39m C C C C  \u001b[90m│\u001b[39m python   \u001b[90m│\u001b[39m python   \u001b[90m│\u001b[39m using    \u001b[90m│\u001b[39m\r\n",
      "\u001b[90m│\u001b[39m          \u001b[90m│\u001b[39m This is  \u001b[90m│\u001b[39m usually  \u001b[90m│\u001b[39m C        \u001b[90m│\u001b[39m code     \u001b[90m│\u001b[39m code     \u001b[90m│\u001b[39m the      \u001b[90m│\u001b[39m\r\n",
      "\u001b[90m│\u001b[39m          \u001b[90m│\u001b[39m a sample \u001b[90m│\u001b[39m a        \u001b[90m│\u001b[39m C\",\"out… \u001b[90m│\u001b[39m here     \u001b[90m│\u001b[39m here     \u001b[90m│\u001b[39m assignm… \u001b[90m│\u001b[39m\r\n",
      "\u001b[90m│\u001b[39m          \u001b[90m│\u001b[39m test     \u001b[90m│\u001b[39m limited  \u001b[90m│\u001b[39m over\\n7… \u001b[90m│\u001b[39m lives =  \u001b[90m│\u001b[39m score_s… \u001b[90m│\u001b[39m operator \u001b[90m│\u001b[39m\r\n",
      "\u001b[90m│\u001b[39m          \u001b[90m│\u001b[39m from the \u001b[90m│\u001b[39m number   \u001b[90m│\u001b[39m          \u001b[90m│\u001b[39m 3        \u001b[90m│\u001b[39m = 0      \u001b[90m│\u001b[39m '='      \u001b[90m│\u001b[39m\r\n",
      "\u001b[90m│\u001b[39m          \u001b[90m│\u001b[39m problem  \u001b[90m│\u001b[39m of       \u001b[90m│\u001b[39m          \u001b[90m│\u001b[39m final_s… \u001b[90m│\u001b[39m mistake… \u001b[90m│\u001b[39m instead  \u001b[90m│\u001b[39m\r\n",
      "\u001b[90m│\u001b[39m          \u001b[90m│\u001b[39m stateme… \u001b[90m│\u001b[39m lives:   \u001b[90m│\u001b[39m          \u001b[90m│\u001b[39m = 0      \u001b[90m│\u001b[39m = 0      \u001b[90m│\u001b[39m of the   \u001b[90m│\u001b[39m\r\n",
      "\u001b[90m│\u001b[39m          \u001b[90m│\u001b[39m Test     \u001b[90m│\u001b[39m if, for  \u001b[90m│\u001b[39m          \u001b[90m│\u001b[39m for i in \u001b[90m│\u001b[39m for      \u001b[90m│\u001b[39m compari… \u001b[90m│\u001b[39m\r\n",
      "\u001b[90m│\u001b[39m          \u001b[90m│\u001b[39m input:   \u001b[90m│\u001b[39m example, \u001b[90m│\u001b[39m          \u001b[90m│\u001b[39m scores:  \u001b[90m│\u001b[39m score in \u001b[90m│\u001b[39m operator \u001b[90m│\u001b[39m\r\n",
      "\u001b[90m│\u001b[39m          \u001b[90m│\u001b[39m C C C I  \u001b[90m│\u001b[39m you make \u001b[90m│\u001b[39m          \u001b[90m│\u001b[39m     liv… \u001b[90m│\u001b[39m scores:  \u001b[90m│\u001b[39m '=='     \u001b[90m│\u001b[39m\r\n",
      "\u001b[90m│\u001b[39m          \u001b[90m│\u001b[39m C C C C  \u001b[90m│\u001b[39m 3        \u001b[90m│\u001b[39m          \u001b[90m│\u001b[39m i == \"I\" \u001b[90m│\u001b[39m     if … \u001b[90m│\u001b[39m when     \u001b[90m│\u001b[39m\r\n",
      "\u001b[90m│\u001b[39m          \u001b[90m│\u001b[39m I I C C  \u001b[90m│\u001b[39m mistake… \u001b[90m│\u001b[39m          \u001b[90m│\u001b[39m final_s… \u001b[90m│\u001b[39m = 'C':   \u001b[90m│\u001b[39m checking \u001b[90m│\u001b[39m\r\n",
      "\u001b[90m│\u001b[39m          \u001b[90m│\u001b[39m C C C C  \u001b[90m│\u001b[39m you      \u001b[90m│\u001b[39m          \u001b[90m│\u001b[39m += i ==  \u001b[90m│\u001b[39m score_s… \u001b[90m│\u001b[39m the      \u001b[90m│\u001b[39m\r\n",
      "\u001b[90m│\u001b[39m          \u001b[90m│\u001b[39m C C C    \u001b[90m│\u001b[39m lose,    \u001b[90m│\u001b[39m          \u001b[90m│\u001b[39m \"C\"      \u001b[90m│\u001b[39m        … \u001b[90m│\u001b[39m value of \u001b[90m│\u001b[39m\r\n",
      "\u001b[90m│\u001b[39m          \u001b[90m│\u001b[39m Correct  \u001b[90m│\u001b[39m and      \u001b[90m│\u001b[39m          \u001b[90m│\u001b[39m     if … \u001b[90m│\u001b[39m     els… \u001b[90m│\u001b[39m 'score'. \u001b[90m│\u001b[39m\r\n",
      "\u001b[90m│\u001b[39m          \u001b[90m│\u001b[39m output:  \u001b[90m│\u001b[39m cannot   \u001b[90m│\u001b[39m          \u001b[90m│\u001b[39m <= 0:    \u001b[90m│\u001b[39m mistake… \u001b[90m│\u001b[39m This is  \u001b[90m│\u001b[39m\r\n",
      "\u001b[90m│\u001b[39m          \u001b[90m│\u001b[39m Game     \u001b[90m│\u001b[39m continue \u001b[90m│\u001b[39m          \u001b[90m│\u001b[39m print(\"… \u001b[90m│\u001b[39m        … \u001b[90m│\u001b[39m causing  \u001b[90m│\u001b[39m\r\n",
      "\u001b[90m│\u001b[39m          \u001b[90m│\u001b[39m over     \u001b[90m│\u001b[39m with the \u001b[90m│\u001b[39m          \u001b[90m│\u001b[39m over\")   \u001b[90m│\u001b[39m mistake… \u001b[90m│\u001b[39m a syntax \u001b[90m│\u001b[39m\r\n",
      "\u001b[90m│\u001b[39m          \u001b[90m│\u001b[39m 7        \u001b[90m│\u001b[39m game.    \u001b[90m│\u001b[39m          \u001b[90m│\u001b[39m        … \u001b[90m│\u001b[39m        … \u001b[90m│\u001b[39m error.   \u001b[90m│\u001b[39m\r\n",
      "\u001b[90m│\u001b[39m          \u001b[90m│\u001b[39m Your     \u001b[90m│\u001b[39m Let's    \u001b[90m│\u001b[39m          \u001b[90m│\u001b[39m else:    \u001b[90m│\u001b[39m       .… \u001b[90m│\u001b[39m To fix   \u001b[90m│\u001b[39m\r\n",
      "\u001b[90m│\u001b[39m          \u001b[90m│\u001b[39m code     \u001b[90m│\u001b[39m try to   \u001b[90m│\u001b[39m          \u001b[90m│\u001b[39m print(\"… \u001b[90m│\u001b[39m          \u001b[90m│\u001b[39m this     \u001b[90m│\u001b[39m\r\n",
      "\u001b[90m│\u001b[39m          \u001b[90m│\u001b[39m output:  \u001b[90m│\u001b[39m impleme… \u001b[90m│\u001b[39m          \u001b[90m│\u001b[39m won\")    \u001b[90m│\u001b[39m          \u001b[90m│\u001b[39m issue,   \u001b[90m│\u001b[39m\r\n",
      "\u001b[90m│\u001b[39m          \u001b[90m│\u001b[39m Error:   \u001b[90m│\u001b[39m this     \u001b[90m│\u001b[39m          \u001b[90m│\u001b[39m print(f… \u001b[90m│\u001b[39m          \u001b[90m│\u001b[39m you      \u001b[90m│\u001b[39m\r\n",
      "\u001b[90m│\u001b[39m          \u001b[90m│\u001b[39m   File   \u001b[90m│\u001b[39m system.… \u001b[90m│\u001b[39m          \u001b[90m│\u001b[39m          \u001b[90m│\u001b[39m          \u001b[90m│\u001b[39m should   \u001b[90m│\u001b[39m\r\n",
      "\u001b[90m│\u001b[39m          \u001b[90m│\u001b[39m \"/sandb… \u001b[90m│\u001b[39m the line \u001b[90m│\u001b[39m          \u001b[90m│\u001b[39m          \u001b[90m│\u001b[39m          \u001b[90m│\u001b[39m use '==' \u001b[90m│\u001b[39m\r\n",
      "\u001b[90m│\u001b[39m          \u001b[90m│\u001b[39m line 7   \u001b[90m│\u001b[39m with     \u001b[90m│\u001b[39m          \u001b[90m│\u001b[39m          \u001b[90m│\u001b[39m          \u001b[90m│\u001b[39m instead  \u001b[90m│\u001b[39m\r\n",
      "\u001b[90m│\u001b[39m          \u001b[90m│\u001b[39m     if … \u001b[90m│\u001b[39m user     \u001b[90m│\u001b[39m          \u001b[90m│\u001b[39m          \u001b[90m│\u001b[39m          \u001b[90m│\u001b[39m of '='   \u001b[90m│\u001b[39m\r\n",
      "\u001b[90m│\u001b[39m          \u001b[90m│\u001b[39m =        \u001b[90m│\u001b[39m answers  \u001b[90m│\u001b[39m          \u001b[90m│\u001b[39m          \u001b[90m│\u001b[39m          \u001b[90m│\u001b[39m when     \u001b[90m│\u001b[39m\r\n",
      "\u001b[90m│\u001b[39m          \u001b[90m│\u001b[39m 'C':...  \u001b[90m│\u001b[39m from the \u001b[90m│\u001b[39m          \u001b[90m│\u001b[39m          \u001b[90m│\u001b[39m          \u001b[90m│\u001b[39m compari… \u001b[90m│\u001b[39m\r\n",
      "\u001b[90m│\u001b[39m          \u001b[90m│\u001b[39m          \u001b[90m│\u001b[39m ...      \u001b[90m│\u001b[39m          \u001b[90m│\u001b[39m          \u001b[90m│\u001b[39m          \u001b[90m│\u001b[39m the      \u001b[90m│\u001b[39m\r\n",
      "\u001b[90m│\u001b[39m          \u001b[90m│\u001b[39m          \u001b[90m│\u001b[39m          \u001b[90m│\u001b[39m          \u001b[90m│\u001b[39m          \u001b[90m│\u001b[39m          \u001b[90m│\u001b[39m value    \u001b[90m│\u001b[39m\r\n",
      "\u001b[90m│\u001b[39m          \u001b[90m│\u001b[39m          \u001b[90m│\u001b[39m          \u001b[90m│\u001b[39m          \u001b[90m│\u001b[39m          \u001b[90m│\u001b[39m          \u001b[90m│\u001b[39m of...    \u001b[90m│\u001b[39m\r\n",
      "\u001b[90m├──────────\u001b[39m\u001b[90m┼──────────\u001b[39m\u001b[90m┼──────────\u001b[39m\u001b[90m┼──────────\u001b[39m\u001b[90m┼──────────\u001b[39m\u001b[90m┼──────────\u001b[39m\u001b[90m┼──────────┤\u001b[39m\r\n",
      "\u001b[90m│\u001b[39m python_4 \u001b[90m│\u001b[39m Failed   \u001b[90m│\u001b[39m <p>Imag… \u001b[90m│\u001b[39m [{\"inpu… \u001b[90m│\u001b[39m film_ti… \u001b[90m│\u001b[39m print(w… \u001b[90m│\u001b[39m \u001b[31m[FAIL]\u001b[39m   \u001b[90m│\u001b[39m\r\n",
      "\u001b[90m│\u001b[39m          \u001b[90m│\u001b[39m test #1  \u001b[90m│\u001b[39m that you \u001b[90m│\u001b[39m lion     \u001b[90m│\u001b[39m =        \u001b[90m│\u001b[39m          \u001b[90m│\u001b[39m \u001b[31m\u001b[39m\u001b[31m\u001b[1mThe\u001b[22m\u001b[39m      \u001b[90m│\u001b[39m\r\n",
      "\u001b[90m│\u001b[39m          \u001b[90m│\u001b[39m of 7.    \u001b[90m│\u001b[39m design   \u001b[90m│\u001b[39m king\",\"… \u001b[90m│\u001b[39m str(inp… \u001b[90m│\u001b[39m          \u001b[90m│\u001b[39m \u001b[31m\u001b[1msubmiss\u001b[22m\u001b[39m… \u001b[90m│\u001b[39m\r\n",
      "\u001b[90m│\u001b[39m          \u001b[90m│\u001b[39m Runtime  \u001b[90m│\u001b[39m film     \u001b[90m│\u001b[39m LION     \u001b[90m│\u001b[39m print(f… \u001b[90m│\u001b[39m          \u001b[90m│\u001b[39m \u001b[31m\u001b[1mdoes not\u001b[22m\u001b[39m \u001b[90m│\u001b[39m\r\n",
      "\u001b[90m│\u001b[39m          \u001b[90m│\u001b[39m error    \u001b[90m│\u001b[39m posters  \u001b[90m│\u001b[39m KING\"}]  \u001b[90m│\u001b[39m          \u001b[90m│\u001b[39m          \u001b[90m│\u001b[39m \u001b[31m\u001b[1mmeet the\u001b[22m\u001b[39m \u001b[90m│\u001b[39m\r\n",
      "\u001b[90m│\u001b[39m          \u001b[90m│\u001b[39m This is  \u001b[90m│\u001b[39m for a    \u001b[90m│\u001b[39m          \u001b[90m│\u001b[39m          \u001b[90m│\u001b[39m          \u001b[90m│\u001b[39m \u001b[31m\u001b[1mcriteri\u001b[22m\u001b[39m… \u001b[90m│\u001b[39m\r\n",
      "\u001b[90m│\u001b[39m          \u001b[90m│\u001b[39m a sample \u001b[90m│\u001b[39m living.  \u001b[90m│\u001b[39m          \u001b[90m│\u001b[39m          \u001b[90m│\u001b[39m          \u001b[90m│\u001b[39m \u001b[31m\u001b[1m1. The\u001b[22m\u001b[39m   \u001b[90m│\u001b[39m\r\n",
      "\u001b[90m│\u001b[39m          \u001b[90m│\u001b[39m test     \u001b[90m│\u001b[39m Write a  \u001b[90m│\u001b[39m          \u001b[90m│\u001b[39m          \u001b[90m│\u001b[39m          \u001b[90m│\u001b[39m \u001b[31m\u001b[1mcriteri\u001b[22m\u001b[39m… \u001b[90m│\u001b[39m\r\n",
      "\u001b[90m│\u001b[39m          \u001b[90m│\u001b[39m from the \u001b[90m│\u001b[39m program  \u001b[90m│\u001b[39m          \u001b[90m│\u001b[39m          \u001b[90m│\u001b[39m          \u001b[90m│\u001b[39m \u001b[31m\u001b[1mspecifi\u001b[22m\u001b[39m… \u001b[90m│\u001b[39m\r\n",
      "\u001b[90m│\u001b[39m          \u001b[90m│\u001b[39m problem  \u001b[90m│\u001b[39m that     \u001b[90m│\u001b[39m          \u001b[90m│\u001b[39m          \u001b[90m│\u001b[39m          \u001b[90m│\u001b[39m \u001b[31m\u001b[1mthat the\u001b[22m\u001b[39m \u001b[90m│\u001b[39m\r\n",
      "\u001b[90m│\u001b[39m          \u001b[90m│\u001b[39m stateme… \u001b[90m│\u001b[39m prints   \u001b[90m│\u001b[39m          \u001b[90m│\u001b[39m          \u001b[90m│\u001b[39m          \u001b[90m│\u001b[39m \u001b[31m\u001b[1mfeedback\u001b[22m\u001b[39m \u001b[90m│\u001b[39m\r\n",
      "\u001b[90m│\u001b[39m          \u001b[90m│\u001b[39m Test     \u001b[90m│\u001b[39m each     \u001b[90m│\u001b[39m          \u001b[90m│\u001b[39m          \u001b[90m│\u001b[39m          \u001b[90m│\u001b[39m \u001b[31m\u001b[1mshould\u001b[22m\u001b[39m   \u001b[90m│\u001b[39m\r\n",
      "\u001b[90m│\u001b[39m          \u001b[90m│\u001b[39m input:   \u001b[90m│\u001b[39m film     \u001b[90m│\u001b[39m          \u001b[90m│\u001b[39m          \u001b[90m│\u001b[39m          \u001b[90m│\u001b[39m \u001b[31m\u001b[1mnot give\u001b[22m\u001b[39m \u001b[90m│\u001b[39m\r\n",
      "\u001b[90m│\u001b[39m          \u001b[90m│\u001b[39m the lion \u001b[90m│\u001b[39m title in \u001b[90m│\u001b[39m          \u001b[90m│\u001b[39m          \u001b[90m│\u001b[39m          \u001b[90m│\u001b[39m \u001b[31m\u001b[1ma direct\u001b[22m\u001b[39m \u001b[90m│\u001b[39m\r\n",
      "\u001b[90m│\u001b[39m          \u001b[90m│\u001b[39m king     \u001b[90m│\u001b[39m all      \u001b[90m│\u001b[39m          \u001b[90m│\u001b[39m          \u001b[90m│\u001b[39m          \u001b[90m│\u001b[39m \u001b[31m\u001b[1manswer\u001b[22m\u001b[39m   \u001b[90m│\u001b[39m\r\n",
      "\u001b[90m│\u001b[39m          \u001b[90m│\u001b[39m Correct  \u001b[90m│\u001b[39m caps.</… \u001b[90m│\u001b[39m          \u001b[90m│\u001b[39m          \u001b[90m│\u001b[39m          \u001b[90m│\u001b[39m \u001b[31m\u001b[1mto the\u001b[22m\u001b[39m   \u001b[90m│\u001b[39m\r\n",
      "\u001b[90m│\u001b[39m          \u001b[90m│\u001b[39m output:  \u001b[90m│\u001b[39m          \u001b[90m│\u001b[39m          \u001b[90m│\u001b[39m          \u001b[90m│\u001b[39m          \u001b[90m│\u001b[39m \u001b[31m\u001b[1mproblem.\u001b[22m\u001b[39m \u001b[90m│\u001b[39m\r\n",
      "\u001b[90m│\u001b[39m          \u001b[90m│\u001b[39m THE LION \u001b[90m│\u001b[39m          \u001b[90m│\u001b[39m          \u001b[90m│\u001b[39m          \u001b[90m│\u001b[39m          \u001b[90m│\u001b[39m \u001b[31m\u001b[1m2. The\u001b[22m\u001b[39m   \u001b[90m│\u001b[39m\r\n",
      "\u001b[90m│\u001b[39m          \u001b[90m│\u001b[39m KING     \u001b[90m│\u001b[39m          \u001b[90m│\u001b[39m          \u001b[90m│\u001b[39m          \u001b[90m│\u001b[39m          \u001b[90m│\u001b[39m \u001b[31m\u001b[1msubmiss\u001b[22m\u001b[39m… \u001b[90m│\u001b[39m\r\n",
      "\u001b[90m│\u001b[39m          \u001b[90m│\u001b[39m Your     \u001b[90m│\u001b[39m          \u001b[90m│\u001b[39m          \u001b[90m│\u001b[39m          \u001b[90m│\u001b[39m          \u001b[90m│\u001b[39m \u001b[31m\u001b[1midentif\u001b[22m\u001b[39m… \u001b[90m│\u001b[39m\r\n",
      "\u001b[90m│\u001b[39m          \u001b[90m│\u001b[39m code     \u001b[90m│\u001b[39m          \u001b[90m│\u001b[39m          \u001b[90m│\u001b[39m          \u001b[90m│\u001b[39m          \u001b[90m│\u001b[39m \u001b[31m\u001b[1mthe\u001b[22m\u001b[39m      \u001b[90m│\u001b[39m\r\n",
      "\u001b[90m│\u001b[39m          \u001b[90m│\u001b[39m output:  \u001b[90m│\u001b[39m          \u001b[90m│\u001b[39m          \u001b[90m│\u001b[39m          \u001b[90m│\u001b[39m          \u001b[90m│\u001b[39m \u001b[31m\u001b[1merror in\u001b[22m\u001b[39m \u001b[90m│\u001b[39m\r\n",
      "\u001b[90m│\u001b[39m          \u001b[90m│\u001b[39m Error:   \u001b[90m│\u001b[39m          \u001b[90m│\u001b[39m          \u001b[90m│\u001b[39m          \u001b[90m│\u001b[39m          \u001b[90m│\u001b[39m \u001b[31m\u001b[1mthe\u001b[22m\u001b[39m      \u001b[90m│\u001b[39m\r\n",
      "\u001b[90m│\u001b[39m          \u001b[90m│\u001b[39m Traceba… \u001b[90m│\u001b[39m          \u001b[90m│\u001b[39m          \u001b[90m│\u001b[39m          \u001b[90m│\u001b[39m          \u001b[90m│\u001b[39m \u001b[31m\u001b[1mstudent\u001b[22m\u001b[39m… \u001b[90m│\u001b[39m\r\n",
      "\u001b[90m│\u001b[39m          \u001b[90m│\u001b[39m (most    \u001b[90m│\u001b[39m          \u001b[90m│\u001b[39m          \u001b[90m│\u001b[39m          \u001b[90m│\u001b[39m          \u001b[90m│\u001b[39m \u001b[31m\u001b[1mcode,\u001b[22m\u001b[39m    \u001b[90m│\u001b[39m\r\n",
      "\u001b[90m│\u001b[39m          \u001b[90m│\u001b[39m recent   \u001b[90m│\u001b[39m          \u001b[90m│\u001b[39m          \u001b[90m│\u001b[39m          \u001b[90m│\u001b[39m          \u001b[90m│\u001b[39m \u001b[31m\u001b[1mwhich is\u001b[22m\u001b[39m \u001b[90m│\u001b[39m\r\n",
      "\u001b[90m│\u001b[39m          \u001b[90m│\u001b[39m call     \u001b[90m│\u001b[39m          \u001b[90m│\u001b[39m          \u001b[90m│\u001b[39m          \u001b[90m│\u001b[39m          \u001b[90m│\u001b[39m \u001b[31m\u001b[1mthe use\u001b[22m\u001b[39m  \u001b[90m│\u001b[39m\r\n",
      "\u001b[90m│\u001b[39m          \u001b[90m│\u001b[39m last):   \u001b[90m│\u001b[39m          \u001b[90m│\u001b[39m          \u001b[90m│\u001b[39m          \u001b[90m│\u001b[39m          \u001b[90m│\u001b[39m \u001b[31m\u001b[1mof an\u001b[22m\u001b[39m    \u001b[90m│\u001b[39m\r\n",
      "\u001b[90m│\u001b[39m          \u001b[90m│\u001b[39m   File   \u001b[90m│\u001b[39m          \u001b[90m│\u001b[39m          \u001b[90m│\u001b[39m          \u001b[90m│\u001b[39m          \u001b[90m│\u001b[39m \u001b[31m\u001b[1mundefin\u001b[22m\u001b[39m… \u001b[90m│\u001b[39m\r\n",
      "\u001b[90m│\u001b[39m          \u001b[90m│\u001b[39m \"/sandb… \u001b[90m│\u001b[39m          \u001b[90m│\u001b[39m          \u001b[90m│\u001b[39m          \u001b[90m│\u001b[39m          \u001b[90m│\u001b[39m \u001b[31m\u001b[1mvariable\u001b[22m\u001b[39m \u001b[90m│\u001b[39m\r\n",
      "\u001b[90m│\u001b[39m          \u001b[90m│\u001b[39m line 1,  \u001b[90m│\u001b[39m          \u001b[90m│\u001b[39m          \u001b[90m│\u001b[39m          \u001b[90m│\u001b[39m          \u001b[90m│\u001b[39m \u001b[31m\u001b[1m'word'.\u001b[22m\u001b[39m… \u001b[90m│\u001b[39m\r\n",
      "\u001b[90m│\u001b[39m          \u001b[90m│\u001b[39m in       \u001b[90m│\u001b[39m          \u001b[90m│\u001b[39m          \u001b[90m│\u001b[39m          \u001b[90m│\u001b[39m          \u001b[90m│\u001b[39m          \u001b[90m│\u001b[39m\r\n",
      "\u001b[90m│\u001b[39m          \u001b[90m│\u001b[39m <mo...   \u001b[90m│\u001b[39m          \u001b[90m│\u001b[39m          \u001b[90m│\u001b[39m          \u001b[90m│\u001b[39m          \u001b[90m│\u001b[39m          \u001b[90m│\u001b[39m\r\n",
      "\u001b[90m├──────────\u001b[39m\u001b[90m┼──────────\u001b[39m\u001b[90m┼──────────\u001b[39m\u001b[90m┼──────────\u001b[39m\u001b[90m┼──────────\u001b[39m\u001b[90m┼──────────\u001b[39m\u001b[90m┼──────────┤\u001b[39m\r\n",
      "\u001b[90m│\u001b[39m python_5 \u001b[90m│\u001b[39m Failed   \u001b[90m│\u001b[39m <p>When  \u001b[90m│\u001b[39m [{\"inpu… \u001b[90m│\u001b[39m # put    \u001b[90m│\u001b[39m sentence \u001b[90m│\u001b[39m \u001b[32m[PASS]\u001b[39m   \u001b[90m│\u001b[39m\r\n",
      "\u001b[90m│\u001b[39m          \u001b[90m│\u001b[39m test #1  \u001b[90m│\u001b[39m Anton    \u001b[90m│\u001b[39m aa abC   \u001b[90m│\u001b[39m your     \u001b[90m│\u001b[39m =        \u001b[90m│\u001b[39m \u001b[32m\u001b[39mIn your  \u001b[90m│\u001b[39m\r\n",
      "\u001b[90m│\u001b[39m          \u001b[90m│\u001b[39m of 21.   \u001b[90m│\u001b[39m finished \u001b[90m│\u001b[39m aa ac    \u001b[90m│\u001b[39m python   \u001b[90m│\u001b[39m str(inp… \u001b[90m│\u001b[39m code,    \u001b[90m│\u001b[39m\r\n",
      "\u001b[90m│\u001b[39m          \u001b[90m│\u001b[39m Wrong    \u001b[90m│\u001b[39m reading  \u001b[90m│\u001b[39m abc bcd  \u001b[90m│\u001b[39m code     \u001b[90m│\u001b[39m lower_s… \u001b[90m│\u001b[39m you are  \u001b[90m│\u001b[39m\r\n",
      "\u001b[90m│\u001b[39m          \u001b[90m│\u001b[39m answer   \u001b[90m│\u001b[39m \"War and \u001b[90m│\u001b[39m a\",\"out… \u001b[90m│\u001b[39m here     \u001b[90m│\u001b[39m =        \u001b[90m│\u001b[39m printing \u001b[90m│\u001b[39m\r\n",
      "\u001b[90m│\u001b[39m          \u001b[90m│\u001b[39m This is  \u001b[90m│\u001b[39m Peace\",  \u001b[90m│\u001b[39m 2\\naa    \u001b[90m│\u001b[39m sentence \u001b[90m│\u001b[39m sentenc… \u001b[90m│\u001b[39m the word \u001b[90m│\u001b[39m\r\n",
      "\u001b[90m│\u001b[39m          \u001b[90m│\u001b[39m a sample \u001b[90m│\u001b[39m he       \u001b[90m│\u001b[39m 2\\nabc   \u001b[90m│\u001b[39m =        \u001b[90m│\u001b[39m word =   \u001b[90m│\u001b[39m count    \u001b[90m│\u001b[39m\r\n",
      "\u001b[90m│\u001b[39m          \u001b[90m│\u001b[39m test     \u001b[90m│\u001b[39m decided  \u001b[90m│\u001b[39m 2\\nac    \u001b[90m│\u001b[39m input()… \u001b[90m│\u001b[39m lower_s… \u001b[90m│\u001b[39m with a   \u001b[90m│\u001b[39m\r\n",
      "\u001b[90m│\u001b[39m          \u001b[90m│\u001b[39m from the \u001b[90m│\u001b[39m to find  \u001b[90m│\u001b[39m 1\\nbcd   \u001b[90m│\u001b[39m words =  \u001b[90m│\u001b[39m word_co… \u001b[90m│\u001b[39m colon    \u001b[90m│\u001b[39m\r\n",
      "\u001b[90m│\u001b[39m          \u001b[90m│\u001b[39m problem  \u001b[90m│\u001b[39m out the  \u001b[90m│\u001b[39m 1\"}]     \u001b[90m│\u001b[39m sentenc… \u001b[90m│\u001b[39m = {}     \u001b[90m│\u001b[39m (:)      \u001b[90m│\u001b[39m\r\n",
      "\u001b[90m│\u001b[39m          \u001b[90m│\u001b[39m stateme… \u001b[90m│\u001b[39m number   \u001b[90m│\u001b[39m          \u001b[90m│\u001b[39m frequen… \u001b[90m│\u001b[39m for item \u001b[90m│\u001b[39m separat… \u001b[90m│\u001b[39m\r\n",
      "\u001b[90m│\u001b[39m          \u001b[90m│\u001b[39m Test     \u001b[90m│\u001b[39m of       \u001b[90m│\u001b[39m          \u001b[90m│\u001b[39m = {word: \u001b[90m│\u001b[39m in word: \u001b[90m│\u001b[39m instead  \u001b[90m│\u001b[39m\r\n",
      "\u001b[90m│\u001b[39m          \u001b[90m│\u001b[39m input:   \u001b[90m│\u001b[39m specific \u001b[90m│\u001b[39m          \u001b[90m│\u001b[39m words.c… \u001b[90m│\u001b[39m     if … \u001b[90m│\u001b[39m of a     \u001b[90m│\u001b[39m\r\n",
      "\u001b[90m│\u001b[39m          \u001b[90m│\u001b[39m a aa abC \u001b[90m│\u001b[39m words    \u001b[90m│\u001b[39m          \u001b[90m│\u001b[39m for word \u001b[90m│\u001b[39m in       \u001b[90m│\u001b[39m space.   \u001b[90m│\u001b[39m\r\n",
      "\u001b[90m│\u001b[39m          \u001b[90m│\u001b[39m aa ac    \u001b[90m│\u001b[39m used in  \u001b[90m│\u001b[39m          \u001b[90m│\u001b[39m in       \u001b[90m│\u001b[39m word_co… \u001b[90m│\u001b[39m This is  \u001b[90m│\u001b[39m\r\n",
      "\u001b[90m│\u001b[39m          \u001b[90m│\u001b[39m abc bcd  \u001b[90m│\u001b[39m the      \u001b[90m│\u001b[39m          \u001b[90m│\u001b[39m set(wor… \u001b[90m│\u001b[39m word_co… \u001b[90m│\u001b[39m causing  \u001b[90m│\u001b[39m\r\n",
      "\u001b[90m│\u001b[39m          \u001b[90m│\u001b[39m a        \u001b[90m│\u001b[39m book.</… \u001b[90m│\u001b[39m          \u001b[90m│\u001b[39m for      \u001b[90m│\u001b[39m += 1     \u001b[90m│\u001b[39m the      \u001b[90m│\u001b[39m\r\n",
      "\u001b[90m│\u001b[39m          \u001b[90m│\u001b[39m Correct  \u001b[90m│\u001b[39m <p>Help  \u001b[90m│\u001b[39m          \u001b[90m│\u001b[39m word,    \u001b[90m│\u001b[39m     els… \u001b[90m│\u001b[39m output   \u001b[90m│\u001b[39m\r\n",
      "\u001b[90m│\u001b[39m          \u001b[90m│\u001b[39m output:  \u001b[90m│\u001b[39m Anton    \u001b[90m│\u001b[39m          \u001b[90m│\u001b[39m count in \u001b[90m│\u001b[39m word_co… \u001b[90m│\u001b[39m format   \u001b[90m│\u001b[39m\r\n",
      "\u001b[90m│\u001b[39m          \u001b[90m│\u001b[39m a 2      \u001b[90m│\u001b[39m write a  \u001b[90m│\u001b[39m          \u001b[90m│\u001b[39m frequen… \u001b[90m│\u001b[39m = 1      \u001b[90m│\u001b[39m to be    \u001b[90m│\u001b[39m\r\n",
      "\u001b[90m│\u001b[39m          \u001b[90m│\u001b[39m aa 2     \u001b[90m│\u001b[39m simplif… \u001b[90m│\u001b[39m          \u001b[90m│\u001b[39m print(w… \u001b[90m│\u001b[39m for key, \u001b[90m│\u001b[39m incorre… \u001b[90m│\u001b[39m\r\n",
      "\u001b[90m│\u001b[39m          \u001b[90m│\u001b[39m abc 2    \u001b[90m│\u001b[39m version  \u001b[90m│\u001b[39m          \u001b[90m│\u001b[39m count)   \u001b[90m│\u001b[39m value in \u001b[90m│\u001b[39m To fix   \u001b[90m│\u001b[39m\r\n",
      "\u001b[90m│\u001b[39m          \u001b[90m│\u001b[39m ac 1     \u001b[90m│\u001b[39m of such  \u001b[90m│\u001b[39m          \u001b[90m│\u001b[39m          \u001b[90m│\u001b[39m word_co… \u001b[90m│\u001b[39m this     \u001b[90m│\u001b[39m\r\n",
      "\u001b[90m│\u001b[39m          \u001b[90m│\u001b[39m bcd 1    \u001b[90m│\u001b[39m a        \u001b[90m│\u001b[39m          \u001b[90m│\u001b[39m          \u001b[90m│\u001b[39m          \u001b[90m│\u001b[39m issue,   \u001b[90m│\u001b[39m\r\n",
      "\u001b[90m│\u001b[39m          \u001b[90m│\u001b[39m Your     \u001b[90m│\u001b[39m program, \u001b[90m│\u001b[39m          \u001b[90m│\u001b[39m          \u001b[90m│\u001b[39m          \u001b[90m│\u001b[39m you      \u001b[90m│\u001b[39m\r\n",
      "\u001b[90m│\u001b[39m          \u001b[90m│\u001b[39m code     \u001b[90m│\u001b[39m that     \u001b[90m│\u001b[39m          \u001b[90m│\u001b[39m          \u001b[90m│\u001b[39m          \u001b[90m│\u001b[39m should   \u001b[90m│\u001b[39m\r\n",
      "\u001b[90m│\u001b[39m          \u001b[90m│\u001b[39m output:  \u001b[90m│\u001b[39m will be  \u001b[90m│\u001b[39m          \u001b[90m│\u001b[39m          \u001b[90m│\u001b[39m          \u001b[90m│\u001b[39m modify   \u001b[90m│\u001b[39m\r\n",
      "\u001b[90m│\u001b[39m          \u001b[90m│\u001b[39m a : 2    \u001b[90m│\u001b[39m capable  \u001b[90m│\u001b[39m          \u001b[90m│\u001b[39m          \u001b[90m│\u001b[39m          \u001b[90m│\u001b[39m the      \u001b[90m│\u001b[39m\r\n",
      "\u001b[90m│\u001b[39m          \u001b[90m│\u001b[39m aa : 2   \u001b[90m│\u001b[39m of       \u001b[90m│\u001b[39m          \u001b[90m│\u001b[39m          \u001b[90m│\u001b[39m          \u001b[90m│\u001b[39m print    \u001b[90m│\u001b[39m\r\n",
      "\u001b[90m│\u001b[39m          \u001b[90m│\u001b[39m abc : 2  \u001b[90m│\u001b[39m counting \u001b[90m│\u001b[39m          \u001b[90m│\u001b[39m          \u001b[90m│\u001b[39m          \u001b[90m│\u001b[39m stateme… \u001b[90m│\u001b[39m\r\n",
      "\u001b[90m│\u001b[39m          \u001b[90m│\u001b[39m ac : 1   \u001b[90m│\u001b[39m the      \u001b[90m│\u001b[39m          \u001b[90m│\u001b[39m          \u001b[90m│\u001b[39m          \u001b[90m│\u001b[39m to use a \u001b[90m│\u001b[39m\r\n",
      "\u001b[90m│\u001b[39m          \u001b[90m│\u001b[39m bcd : 1  \u001b[90m│\u001b[39m words    \u001b[90m│\u001b[39m          \u001b[90m│\u001b[39m          \u001b[90m│\u001b[39m          \u001b[90m│\u001b[39m space    \u001b[90m│\u001b[39m\r\n",
      "\u001b[90m│\u001b[39m          \u001b[90m│\u001b[39m          \u001b[90m│\u001b[39m separat… \u001b[90m│\u001b[39m          \u001b[90m│\u001b[39m          \u001b[90m│\u001b[39m          \u001b[90m│\u001b[39m separat… \u001b[90m│\u001b[39m\r\n",
      "\u001b[90m│\u001b[39m          \u001b[90m│\u001b[39m          \u001b[90m│\u001b[39m with     \u001b[90m│\u001b[39m          \u001b[90m│\u001b[39m          \u001b[90m│\u001b[39m          \u001b[90m│\u001b[39m instead  \u001b[90m│\u001b[39m\r\n",
      "\u001b[90m│\u001b[39m          \u001b[90m│\u001b[39m          \u001b[90m│\u001b[39m space,   \u001b[90m│\u001b[39m          \u001b[90m│\u001b[39m          \u001b[90m│\u001b[39m          \u001b[90m│\u001b[39m of a     \u001b[90m│\u001b[39m\r\n",
      "\u001b[90m│\u001b[39m          \u001b[90m│\u001b[39m          \u001b[90m│\u001b[39m ...      \u001b[90m│\u001b[39m          \u001b[90m│\u001b[39m          \u001b[90m│\u001b[39m          \u001b[90m│\u001b[39m colon.   \u001b[90m│\u001b[39m\r\n",
      "\u001b[90m│\u001b[39m          \u001b[90m│\u001b[39m          \u001b[90m│\u001b[39m          \u001b[90m│\u001b[39m          \u001b[90m│\u001b[39m          \u001b[90m│\u001b[39m          \u001b[90m│\u001b[39m ...      \u001b[90m│\u001b[39m\r\n",
      "\u001b[90m├──────────\u001b[39m\u001b[90m┼──────────\u001b[39m\u001b[90m┼──────────\u001b[39m\u001b[90m┼──────────\u001b[39m\u001b[90m┼──────────\u001b[39m\u001b[90m┼──────────\u001b[39m\u001b[90m┼──────────┤\u001b[39m\r\n",
      "\u001b[90m│\u001b[39m python_6 \u001b[90m│\u001b[39m Failed   \u001b[90m│\u001b[39m <p></p>  \u001b[90m│\u001b[39m [{\"inpu… \u001b[90m│\u001b[39m # the    \u001b[90m│\u001b[39m # the    \u001b[90m│\u001b[39m \u001b[32m[PASS]\u001b[39m   \u001b[90m│\u001b[39m\r\n",
      "\u001b[90m│\u001b[39m          \u001b[90m│\u001b[39m test #1  \u001b[90m│\u001b[39m <p>We    \u001b[90m│\u001b[39m Sid and  \u001b[90m│\u001b[39m followi… \u001b[90m│\u001b[39m followi… \u001b[90m│\u001b[39m \u001b[32m\u001b[39mIn your  \u001b[90m│\u001b[39m\r\n",
      "\u001b[90m│\u001b[39m          \u001b[90m│\u001b[39m of 2.    \u001b[90m│\u001b[39m wrote a  \u001b[90m│\u001b[39m Nancy\\n… \u001b[90m│\u001b[39m lines    \u001b[90m│\u001b[39m lines    \u001b[90m│\u001b[39m code,    \u001b[90m│\u001b[39m\r\n",
      "\u001b[90m│\u001b[39m          \u001b[90m│\u001b[39m Runtime  \u001b[90m│\u001b[39m function \u001b[90m│\u001b[39m Nancy    \u001b[90m│\u001b[39m read     \u001b[90m│\u001b[39m read     \u001b[90m│\u001b[39m you have \u001b[90m│\u001b[39m\r\n",
      "\u001b[90m│\u001b[39m          \u001b[90m│\u001b[39m error    \u001b[90m│\u001b[39m that     \u001b[90m│\u001b[39m and      \u001b[90m│\u001b[39m names    \u001b[90m│\u001b[39m names    \u001b[90m│\u001b[39m a typo   \u001b[90m│\u001b[39m\r\n",
      "\u001b[90m│\u001b[39m          \u001b[90m│\u001b[39m This is  \u001b[90m│\u001b[39m greets   \u001b[90m│\u001b[39m Sid\"}]   \u001b[90m│\u001b[39m from the \u001b[90m│\u001b[39m from the \u001b[90m│\u001b[39m in the   \u001b[90m│\u001b[39m\r\n",
      "\u001b[90m│\u001b[39m          \u001b[90m│\u001b[39m a sample \u001b[90m│\u001b[39m two      \u001b[90m│\u001b[39m          \u001b[90m│\u001b[39m input,   \u001b[90m│\u001b[39m input,   \u001b[90m│\u001b[39m function \u001b[90m│\u001b[39m\r\n",
      "\u001b[90m│\u001b[39m          \u001b[90m│\u001b[39m test     \u001b[90m│\u001b[39m people:… \u001b[90m│\u001b[39m          \u001b[90m│\u001b[39m do not   \u001b[90m│\u001b[39m do not   \u001b[90m│\u001b[39m name.    \u001b[90m│\u001b[39m\r\n",
      "\u001b[90m│\u001b[39m          \u001b[90m│\u001b[39m from the \u001b[90m│\u001b[39m <pre><c… \u001b[90m│\u001b[39m          \u001b[90m│\u001b[39m modify   \u001b[90m│\u001b[39m modify   \u001b[90m│\u001b[39m The      \u001b[90m│\u001b[39m\r\n",
      "\u001b[90m│\u001b[39m          \u001b[90m│\u001b[39m problem  \u001b[90m│\u001b[39m class=\"… \u001b[90m│\u001b[39m          \u001b[90m│\u001b[39m it,      \u001b[90m│\u001b[39m it,      \u001b[90m│\u001b[39m function \u001b[90m│\u001b[39m\r\n",
      "\u001b[90m│\u001b[39m          \u001b[90m│\u001b[39m stateme… \u001b[90m│\u001b[39m greetin… \u001b[90m│\u001b[39m          \u001b[90m│\u001b[39m please   \u001b[90m│\u001b[39m please   \u001b[90m│\u001b[39m is       \u001b[90m│\u001b[39m\r\n",
      "\u001b[90m│\u001b[39m          \u001b[90m│\u001b[39m Test     \u001b[90m│\u001b[39m second_… \u001b[90m│\u001b[39m          \u001b[90m│\u001b[39m name_1 = \u001b[90m│\u001b[39m name_1 = \u001b[90m│\u001b[39m called   \u001b[90m│\u001b[39m\r\n",
      "\u001b[90m│\u001b[39m          \u001b[90m│\u001b[39m input:   \u001b[90m│\u001b[39m print(\"… \u001b[90m│\u001b[39m          \u001b[90m│\u001b[39m input()  \u001b[90m│\u001b[39m input()  \u001b[90m│\u001b[39m `greeti… \u001b[90m│\u001b[39m\r\n",
      "\u001b[90m│\u001b[39m          \u001b[90m│\u001b[39m Sid      \u001b[90m│\u001b[39m first_n… \u001b[90m│\u001b[39m          \u001b[90m│\u001b[39m name_2 = \u001b[90m│\u001b[39m name_2 = \u001b[90m│\u001b[39m not      \u001b[90m│\u001b[39m\r\n",
      "\u001b[90m│\u001b[39m          \u001b[90m│\u001b[39m Nancy    \u001b[90m│\u001b[39m \"and\",   \u001b[90m│\u001b[39m          \u001b[90m│\u001b[39m input()  \u001b[90m│\u001b[39m input()  \u001b[90m│\u001b[39m `greeti… \u001b[90m│\u001b[39m\r\n",
      "\u001b[90m│\u001b[39m          \u001b[90m│\u001b[39m Correct  \u001b[90m│\u001b[39m second_… \u001b[90m│\u001b[39m          \u001b[90m│\u001b[39m greetin… \u001b[90m│\u001b[39m greetin… \u001b[90m│\u001b[39m That's   \u001b[90m│\u001b[39m\r\n",
      "\u001b[90m│\u001b[39m          \u001b[90m│\u001b[39m output:  \u001b[90m│\u001b[39m <p>The   \u001b[90m│\u001b[39m          \u001b[90m│\u001b[39m name_2)  \u001b[90m│\u001b[39m # your   \u001b[90m│\u001b[39m why      \u001b[90m│\u001b[39m\r\n",
      "\u001b[90m│\u001b[39m          \u001b[90m│\u001b[39m Hello,   \u001b[90m│\u001b[39m first    \u001b[90m│\u001b[39m          \u001b[90m│\u001b[39m greetin… \u001b[90m│\u001b[39m code     \u001b[90m│\u001b[39m you're   \u001b[90m│\u001b[39m\r\n",
      "\u001b[90m│\u001b[39m          \u001b[90m│\u001b[39m Sid and  \u001b[90m│\u001b[39m name is  \u001b[90m│\u001b[39m          \u001b[90m│\u001b[39m name_1)  \u001b[90m│\u001b[39m here     \u001b[90m│\u001b[39m getting  \u001b[90m│\u001b[39m\r\n",
      "\u001b[90m│\u001b[39m          \u001b[90m│\u001b[39m Nancy    \u001b[90m│\u001b[39m already  \u001b[90m│\u001b[39m          \u001b[90m│\u001b[39m          \u001b[90m│\u001b[39m          \u001b[90m│\u001b[39m a        \u001b[90m│\u001b[39m\r\n",
      "\u001b[90m│\u001b[39m          \u001b[90m│\u001b[39m Hello,   \u001b[90m│\u001b[39m stored   \u001b[90m│\u001b[39m          \u001b[90m│\u001b[39m          \u001b[90m│\u001b[39m          \u001b[90m│\u001b[39m `NameEr… \u001b[90m│\u001b[39m\r\n",
      "\u001b[90m│\u001b[39m          \u001b[90m│\u001b[39m Nancy    \u001b[90m│\u001b[39m in the   \u001b[90m│\u001b[39m          \u001b[90m│\u001b[39m          \u001b[90m│\u001b[39m          \u001b[90m│\u001b[39m To fix   \u001b[90m│\u001b[39m\r\n",
      "\u001b[90m│\u001b[39m          \u001b[90m│\u001b[39m and Sid  \u001b[90m│\u001b[39m variab.… \u001b[90m│\u001b[39m          \u001b[90m│\u001b[39m          \u001b[90m│\u001b[39m          \u001b[90m│\u001b[39m this     \u001b[90m│\u001b[39m\r\n",
      "\u001b[90m│\u001b[39m          \u001b[90m│\u001b[39m Your     \u001b[90m│\u001b[39m          \u001b[90m│\u001b[39m          \u001b[90m│\u001b[39m          \u001b[90m│\u001b[39m          \u001b[90m│\u001b[39m issue,   \u001b[90m│\u001b[39m\r\n",
      "\u001b[90m│\u001b[39m          \u001b[90m│\u001b[39m code     \u001b[90m│\u001b[39m          \u001b[90m│\u001b[39m          \u001b[90m│\u001b[39m          \u001b[90m│\u001b[39m          \u001b[90m│\u001b[39m you need \u001b[90m│\u001b[39m\r\n",
      "\u001b[90m│\u001b[39m          \u001b[90m│\u001b[39m output:  \u001b[90m│\u001b[39m          \u001b[90m│\u001b[39m          \u001b[90m│\u001b[39m          \u001b[90m│\u001b[39m          \u001b[90m│\u001b[39m to       \u001b[90m│\u001b[39m\r\n",
      "\u001b[90m│\u001b[39m          \u001b[90m│\u001b[39m Error:   \u001b[90m│\u001b[39m          \u001b[90m│\u001b[39m          \u001b[90m│\u001b[39m          \u001b[90m│\u001b[39m          \u001b[90m│\u001b[39m change   \u001b[90m│\u001b[39m\r\n",
      "\u001b[90m│\u001b[39m          \u001b[90m│\u001b[39m Traceba… \u001b[90m│\u001b[39m          \u001b[90m│\u001b[39m          \u001b[90m│\u001b[39m          \u001b[90m│\u001b[39m          \u001b[90m│\u001b[39m `greeti… \u001b[90m│\u001b[39m\r\n",
      "\u001b[90m│\u001b[39m          \u001b[90m│\u001b[39m (most    \u001b[90m│\u001b[39m          \u001b[90m│\u001b[39m          \u001b[90m│\u001b[39m          \u001b[90m│\u001b[39m          \u001b[90m│\u001b[39m to       \u001b[90m│\u001b[39m\r\n",
      "\u001b[90m│\u001b[39m          \u001b[90m│\u001b[39m recent   \u001b[90m│\u001b[39m          \u001b[90m│\u001b[39m          \u001b[90m│\u001b[39m          \u001b[90m│\u001b[39m          \u001b[90m│\u001b[39m `greeti… \u001b[90m│\u001b[39m\r\n",
      "\u001b[90m│\u001b[39m          \u001b[90m│\u001b[39m call     \u001b[90m│\u001b[39m          \u001b[90m│\u001b[39m          \u001b[90m│\u001b[39m          \u001b[90m│\u001b[39m          \u001b[90m│\u001b[39m in your  \u001b[90m│\u001b[39m\r\n",
      "\u001b[90m│\u001b[39m          \u001b[90m│\u001b[39m last):   \u001b[90m│\u001b[39m          \u001b[90m│\u001b[39m          \u001b[90m│\u001b[39m          \u001b[90m│\u001b[39m          \u001b[90m│\u001b[39m code     \u001b[90m│\u001b[39m\r\n",
      "\u001b[90m│\u001b[39m          \u001b[90m│\u001b[39m   File   \u001b[90m│\u001b[39m          \u001b[90m│\u001b[39m          \u001b[90m│\u001b[39m          \u001b[90m│\u001b[39m          \u001b[90m│\u001b[39m where    \u001b[90m│\u001b[39m\r\n",
      "\u001b[90m│\u001b[39m          \u001b[90m│\u001b[39m \"/sandb… \u001b[90m│\u001b[39m          \u001b[90m│\u001b[39m          \u001b[90m│\u001b[39m          \u001b[90m│\u001b[39m          \u001b[90m│\u001b[39m you are  \u001b[90m│\u001b[39m\r\n",
      "\u001b[90m│\u001b[39m          \u001b[90m│\u001b[39m          \u001b[90m│\u001b[39m          \u001b[90m│\u001b[39m          \u001b[90m│\u001b[39m          \u001b[90m│\u001b[39m          \u001b[90m│\u001b[39m calling  \u001b[90m│\u001b[39m\r\n",
      "\u001b[90m│\u001b[39m          \u001b[90m│\u001b[39m          \u001b[90m│\u001b[39m          \u001b[90m│\u001b[39m          \u001b[90m│\u001b[39m          \u001b[90m│\u001b[39m          \u001b[90m│\u001b[39m t...     \u001b[90m│\u001b[39m\r\n",
      "\u001b[90m├──────────\u001b[39m\u001b[90m┼──────────\u001b[39m\u001b[90m┼──────────\u001b[39m\u001b[90m┼──────────\u001b[39m\u001b[90m┼──────────\u001b[39m\u001b[90m┼──────────\u001b[39m\u001b[90m┼──────────┤\u001b[39m\r\n",
      "\u001b[90m│\u001b[39m python_7 \u001b[90m│\u001b[39m Failed   \u001b[90m│\u001b[39m <p></p>  \u001b[90m│\u001b[39m [{\"inpu… \u001b[90m│\u001b[39m word =   \u001b[90m│\u001b[39m word =   \u001b[90m│\u001b[39m \u001b[32m[PASS]\u001b[39m   \u001b[90m│\u001b[39m\r\n",
      "\u001b[90m│\u001b[39m          \u001b[90m│\u001b[39m test #1  \u001b[90m│\u001b[39m <p>The   \u001b[90m│\u001b[39m          \u001b[90m│\u001b[39m input()  \u001b[90m│\u001b[39m input()  \u001b[90m│\u001b[39m \u001b[32m\u001b[39mIn your  \u001b[90m│\u001b[39m\r\n",
      "\u001b[90m│\u001b[39m          \u001b[90m│\u001b[39m of 8.    \u001b[90m│\u001b[39m languag… \u001b[90m│\u001b[39m          \u001b[90m│\u001b[39m # Change \u001b[90m│\u001b[39m # Change \u001b[90m│\u001b[39m code,    \u001b[90m│\u001b[39m\r\n",
      "\u001b[90m│\u001b[39m          \u001b[90m│\u001b[39m Wrong    \u001b[90m│\u001b[39m of the   \u001b[90m│\u001b[39m          \u001b[90m│\u001b[39m the next \u001b[90m│\u001b[39m the next \u001b[90m│\u001b[39m you are  \u001b[90m│\u001b[39m\r\n",
      "\u001b[90m│\u001b[39m          \u001b[90m│\u001b[39m answer   \u001b[90m│\u001b[39m world    \u001b[90m│\u001b[39m          \u001b[90m│\u001b[39m line     \u001b[90m│\u001b[39m line     \u001b[90m│\u001b[39m only     \u001b[90m│\u001b[39m\r\n",
      "\u001b[90m│\u001b[39m          \u001b[90m│\u001b[39m This is  \u001b[90m│\u001b[39m are      \u001b[90m│\u001b[39m          \u001b[90m│\u001b[39m print(w… \u001b[90m│\u001b[39m print(w… \u001b[90m│\u001b[39m printing \u001b[90m│\u001b[39m\r\n",
      "\u001b[90m│\u001b[39m          \u001b[90m│\u001b[39m a sample \u001b[90m│\u001b[39m amazing! \u001b[90m│\u001b[39m          \u001b[90m│\u001b[39m          \u001b[90m│\u001b[39m          \u001b[90m│\u001b[39m the word \u001b[90m│\u001b[39m\r\n",
      "\u001b[90m│\u001b[39m          \u001b[90m│\u001b[39m test     \u001b[90m│\u001b[39m Program… \u001b[90m│\u001b[39m          \u001b[90m│\u001b[39m          \u001b[90m│\u001b[39m          \u001b[90m│\u001b[39m once     \u001b[90m│\u001b[39m\r\n",
      "\u001b[90m│\u001b[39m          \u001b[90m│\u001b[39m from the \u001b[90m│\u001b[39m languag… \u001b[90m│\u001b[39m          \u001b[90m│\u001b[39m          \u001b[90m│\u001b[39m          \u001b[90m│\u001b[39m instead  \u001b[90m│\u001b[39m\r\n",
      "\u001b[90m│\u001b[39m          \u001b[90m│\u001b[39m problem  \u001b[90m│\u001b[39m too, but \u001b[90m│\u001b[39m          \u001b[90m│\u001b[39m          \u001b[90m│\u001b[39m          \u001b[90m│\u001b[39m of       \u001b[90m│\u001b[39m\r\n",
      "\u001b[90m│\u001b[39m          \u001b[90m│\u001b[39m stateme… \u001b[90m│\u001b[39m now we   \u001b[90m│\u001b[39m          \u001b[90m│\u001b[39m          \u001b[90m│\u001b[39m          \u001b[90m│\u001b[39m printing \u001b[90m│\u001b[39m\r\n",
      "\u001b[90m│\u001b[39m          \u001b[90m│\u001b[39m Test     \u001b[90m│\u001b[39m will     \u001b[90m│\u001b[39m          \u001b[90m│\u001b[39m          \u001b[90m│\u001b[39m          \u001b[90m│\u001b[39m it       \u001b[90m│\u001b[39m\r\n",
      "\u001b[90m│\u001b[39m          \u001b[90m│\u001b[39m input:   \u001b[90m│\u001b[39m talk     \u001b[90m│\u001b[39m          \u001b[90m│\u001b[39m          \u001b[90m│\u001b[39m          \u001b[90m│\u001b[39m exactly  \u001b[90m│\u001b[39m\r\n",
      "\u001b[90m│\u001b[39m          \u001b[90m│\u001b[39m maru     \u001b[90m│\u001b[39m about    \u001b[90m│\u001b[39m          \u001b[90m│\u001b[39m          \u001b[90m│\u001b[39m          \u001b[90m│\u001b[39m 2 times  \u001b[90m│\u001b[39m\r\n",
      "\u001b[90m│\u001b[39m          \u001b[90m│\u001b[39m Correct  \u001b[90m│\u001b[39m the      \u001b[90m│\u001b[39m          \u001b[90m│\u001b[39m          \u001b[90m│\u001b[39m          \u001b[90m│\u001b[39m as       \u001b[90m│\u001b[39m\r\n",
      "\u001b[90m│\u001b[39m          \u001b[90m│\u001b[39m output:  \u001b[90m│\u001b[39m human    \u001b[90m│\u001b[39m          \u001b[90m│\u001b[39m          \u001b[90m│\u001b[39m          \u001b[90m│\u001b[39m required \u001b[90m│\u001b[39m\r\n",
      "\u001b[90m│\u001b[39m          \u001b[90m│\u001b[39m marumaru \u001b[90m│\u001b[39m ones. In \u001b[90m│\u001b[39m          \u001b[90m│\u001b[39m          \u001b[90m│\u001b[39m          \u001b[90m│\u001b[39m by the   \u001b[90m│\u001b[39m\r\n",
      "\u001b[90m│\u001b[39m          \u001b[90m│\u001b[39m Your     \u001b[90m│\u001b[39m linguis… \u001b[90m│\u001b[39m          \u001b[90m│\u001b[39m          \u001b[90m│\u001b[39m          \u001b[90m│\u001b[39m task. To \u001b[90m│\u001b[39m\r\n",
      "\u001b[90m│\u001b[39m          \u001b[90m│\u001b[39m code     \u001b[90m│\u001b[39m repeati… \u001b[90m│\u001b[39m          \u001b[90m│\u001b[39m          \u001b[90m│\u001b[39m          \u001b[90m│\u001b[39m fix      \u001b[90m│\u001b[39m\r\n",
      "\u001b[90m│\u001b[39m          \u001b[90m│\u001b[39m output:  \u001b[90m│\u001b[39m a word   \u001b[90m│\u001b[39m          \u001b[90m│\u001b[39m          \u001b[90m│\u001b[39m          \u001b[90m│\u001b[39m this,    \u001b[90m│\u001b[39m\r\n",
      "\u001b[90m│\u001b[39m          \u001b[90m│\u001b[39m maru     \u001b[90m│\u001b[39m or part  \u001b[90m│\u001b[39m          \u001b[90m│\u001b[39m          \u001b[90m│\u001b[39m          \u001b[90m│\u001b[39m you need \u001b[90m│\u001b[39m\r\n",
      "\u001b[90m│\u001b[39m          \u001b[90m│\u001b[39m          \u001b[90m│\u001b[39m of it is \u001b[90m│\u001b[39m          \u001b[90m│\u001b[39m          \u001b[90m│\u001b[39m          \u001b[90m│\u001b[39m to       \u001b[90m│\u001b[39m\r\n",
      "\u001b[90m│\u001b[39m          \u001b[90m│\u001b[39m          \u001b[90m│\u001b[39m called   \u001b[90m│\u001b[39m          \u001b[90m│\u001b[39m          \u001b[90m│\u001b[39m          \u001b[90m│\u001b[39m modify   \u001b[90m│\u001b[39m\r\n",
      "\u001b[90m│\u001b[39m          \u001b[90m│\u001b[39m          \u001b[90m│\u001b[39m <em>red… \u001b[90m│\u001b[39m          \u001b[90m│\u001b[39m          \u001b[90m│\u001b[39m          \u001b[90m│\u001b[39m the      \u001b[90m│\u001b[39m\r\n",
      "\u001b[90m│\u001b[39m          \u001b[90m│\u001b[39m          \u001b[90m│\u001b[39m This     \u001b[90m│\u001b[39m          \u001b[90m│\u001b[39m          \u001b[90m│\u001b[39m          \u001b[90m│\u001b[39m print    \u001b[90m│\u001b[39m\r\n",
      "\u001b[90m│\u001b[39m          \u001b[90m│\u001b[39m          \u001b[90m│\u001b[39m morphol… \u001b[90m│\u001b[39m          \u001b[90m│\u001b[39m          \u001b[90m│\u001b[39m          \u001b[90m│\u001b[39m stateme… \u001b[90m│\u001b[39m\r\n",
      "\u001b[90m│\u001b[39m          \u001b[90m│\u001b[39m          \u001b[90m│\u001b[39m phenome… \u001b[90m│\u001b[39m          \u001b[90m│\u001b[39m          \u001b[90m│\u001b[39m          \u001b[90m│\u001b[39m to print \u001b[90m│\u001b[39m\r\n",
      "\u001b[90m│\u001b[39m          \u001b[90m│\u001b[39m          \u001b[90m│\u001b[39m is found \u001b[90m│\u001b[39m          \u001b[90m│\u001b[39m          \u001b[90m│\u001b[39m          \u001b[90m│\u001b[39m the word \u001b[90m│\u001b[39m\r\n",
      "\u001b[90m│\u001b[39m          \u001b[90m│\u001b[39m          \u001b[90m│\u001b[39m in       \u001b[90m│\u001b[39m          \u001b[90m│\u001b[39m          \u001b[90m│\u001b[39m          \u001b[90m│\u001b[39m twice.   \u001b[90m│\u001b[39m\r\n",
      "\u001b[90m│\u001b[39m          \u001b[90m│\u001b[39m          \u001b[90m│\u001b[39m dif...   \u001b[90m│\u001b[39m          \u001b[90m│\u001b[39m          \u001b[90m│\u001b[39m          \u001b[90m│\u001b[39m Remember \u001b[90m│\u001b[39m\r\n",
      "\u001b[90m│\u001b[39m          \u001b[90m│\u001b[39m          \u001b[90m│\u001b[39m          \u001b[90m│\u001b[39m          \u001b[90m│\u001b[39m          \u001b[90m│\u001b[39m          \u001b[90m│\u001b[39m that you \u001b[90m│\u001b[39m\r\n",
      "\u001b[90m│\u001b[39m          \u001b[90m│\u001b[39m          \u001b[90m│\u001b[39m          \u001b[90m│\u001b[39m          \u001b[90m│\u001b[39m          \u001b[90m│\u001b[39m          \u001b[90m│\u001b[39m can      \u001b[90m│\u001b[39m\r\n",
      "\u001b[90m│\u001b[39m          \u001b[90m│\u001b[39m          \u001b[90m│\u001b[39m          \u001b[90m│\u001b[39m          \u001b[90m│\u001b[39m          \u001b[90m│\u001b[39m          \u001b[90m│\u001b[39m achieve  \u001b[90m│\u001b[39m\r\n",
      "\u001b[90m│\u001b[39m          \u001b[90m│\u001b[39m          \u001b[90m│\u001b[39m          \u001b[90m│\u001b[39m          \u001b[90m│\u001b[39m          \u001b[90m│\u001b[39m          \u001b[90m│\u001b[39m this by  \u001b[90m│\u001b[39m\r\n",
      "\u001b[90m│\u001b[39m          \u001b[90m│\u001b[39m          \u001b[90m│\u001b[39m          \u001b[90m│\u001b[39m          \u001b[90m│\u001b[39m          \u001b[90m│\u001b[39m          \u001b[90m│\u001b[39m using    \u001b[90m│\u001b[39m\r\n",
      "\u001b[90m│\u001b[39m          \u001b[90m│\u001b[39m          \u001b[90m│\u001b[39m          \u001b[90m│\u001b[39m          \u001b[90m│\u001b[39m          \u001b[90m│\u001b[39m          \u001b[90m│\u001b[39m the      \u001b[90m│\u001b[39m\r\n",
      "\u001b[90m│\u001b[39m          \u001b[90m│\u001b[39m          \u001b[90m│\u001b[39m          \u001b[90m│\u001b[39m          \u001b[90m│\u001b[39m          \u001b[90m│\u001b[39m          \u001b[90m│\u001b[39m multipl… \u001b[90m│\u001b[39m\r\n",
      "\u001b[90m├──────────\u001b[39m\u001b[90m┼──────────\u001b[39m\u001b[90m┼──────────\u001b[39m\u001b[90m┼──────────\u001b[39m\u001b[90m┼──────────\u001b[39m\u001b[90m┼──────────\u001b[39m\u001b[90m┼──────────┤\u001b[39m\r\n",
      "\u001b[90m│\u001b[39m python_8 \u001b[90m│\u001b[39m Failed   \u001b[90m│\u001b[39m <p></p>… \u001b[90m│\u001b[39m [{\"inpu… \u001b[90m│\u001b[39m # put    \u001b[90m│\u001b[39m a =      \u001b[90m│\u001b[39m \u001b[32m[PASS]\u001b[39m   \u001b[90m│\u001b[39m\r\n",
      "\u001b[90m│\u001b[39m          \u001b[90m│\u001b[39m test #1  \u001b[90m│\u001b[39m a        \u001b[90m│\u001b[39m          \u001b[90m│\u001b[39m your     \u001b[90m│\u001b[39m int(inp… \u001b[90m│\u001b[39m \u001b[32m\u001b[39mIn your  \u001b[90m│\u001b[39m\r\n",
      "\u001b[90m│\u001b[39m          \u001b[90m│\u001b[39m of 11.   \u001b[90m│\u001b[39m program  \u001b[90m│\u001b[39m          \u001b[90m│\u001b[39m python   \u001b[90m│\u001b[39m b =      \u001b[90m│\u001b[39m code,    \u001b[90m│\u001b[39m\r\n",
      "\u001b[90m│\u001b[39m          \u001b[90m│\u001b[39m Runtime  \u001b[90m│\u001b[39m that     \u001b[90m│\u001b[39m          \u001b[90m│\u001b[39m code     \u001b[90m│\u001b[39m int(inp… \u001b[90m│\u001b[39m you are  \u001b[90m│\u001b[39m\r\n",
      "\u001b[90m│\u001b[39m          \u001b[90m│\u001b[39m error    \u001b[90m│\u001b[39m reads    \u001b[90m│\u001b[39m          \u001b[90m│\u001b[39m here     \u001b[90m│\u001b[39m c =      \u001b[90m│\u001b[39m trying   \u001b[90m│\u001b[39m\r\n",
      "\u001b[90m│\u001b[39m          \u001b[90m│\u001b[39m This is  \u001b[90m│\u001b[39m three    \u001b[90m│\u001b[39m          \u001b[90m│\u001b[39m a =      \u001b[90m│\u001b[39m int(inp… \u001b[90m│\u001b[39m to       \u001b[90m│\u001b[39m\r\n",
      "\u001b[90m│\u001b[39m          \u001b[90m│\u001b[39m a sample \u001b[90m│\u001b[39m numbers  \u001b[90m│\u001b[39m          \u001b[90m│\u001b[39m int(inp… \u001b[90m│\u001b[39m sum = a  \u001b[90m│\u001b[39m convert  \u001b[90m│\u001b[39m\r\n",
      "\u001b[90m│\u001b[39m          \u001b[90m│\u001b[39m test     \u001b[90m│\u001b[39m from the \u001b[90m│\u001b[39m          \u001b[90m│\u001b[39m b =      \u001b[90m│\u001b[39m + b + c  \u001b[90m│\u001b[39m the      \u001b[90m│\u001b[39m\r\n",
      "\u001b[90m│\u001b[39m          \u001b[90m│\u001b[39m from the \u001b[90m│\u001b[39m input    \u001b[90m│\u001b[39m          \u001b[90m│\u001b[39m int(inp… \u001b[90m│\u001b[39m print(s… \u001b[90m│\u001b[39m `input`  \u001b[90m│\u001b[39m\r\n",
      "\u001b[90m│\u001b[39m          \u001b[90m│\u001b[39m problem  \u001b[90m│\u001b[39m separat… \u001b[90m│\u001b[39m          \u001b[90m│\u001b[39m c =      \u001b[90m│\u001b[39m          \u001b[90m│\u001b[39m function \u001b[90m│\u001b[39m\r\n",
      "\u001b[90m│\u001b[39m          \u001b[90m│\u001b[39m stateme… \u001b[90m│\u001b[39m and      \u001b[90m│\u001b[39m          \u001b[90m│\u001b[39m int(inp… \u001b[90m│\u001b[39m          \u001b[90m│\u001b[39m directly \u001b[90m│\u001b[39m\r\n",
      "\u001b[90m│\u001b[39m          \u001b[90m│\u001b[39m Test     \u001b[90m│\u001b[39m prints   \u001b[90m│\u001b[39m          \u001b[90m│\u001b[39m print(a  \u001b[90m│\u001b[39m          \u001b[90m│\u001b[39m to an    \u001b[90m│\u001b[39m\r\n",
      "\u001b[90m│\u001b[39m          \u001b[90m│\u001b[39m input:   \u001b[90m│\u001b[39m the sum  \u001b[90m│\u001b[39m          \u001b[90m│\u001b[39m + b + c) \u001b[90m│\u001b[39m          \u001b[90m│\u001b[39m integer  \u001b[90m│\u001b[39m\r\n",
      "\u001b[90m│\u001b[39m          \u001b[90m│\u001b[39m 3        \u001b[90m│\u001b[39m of three \u001b[90m│\u001b[39m          \u001b[90m│\u001b[39m          \u001b[90m│\u001b[39m          \u001b[90m│\u001b[39m using    \u001b[90m│\u001b[39m\r\n",
      "\u001b[90m│\u001b[39m          \u001b[90m│\u001b[39m 6        \u001b[90m│\u001b[39m integer  \u001b[90m│\u001b[39m          \u001b[90m│\u001b[39m          \u001b[90m│\u001b[39m          \u001b[90m│\u001b[39m `int(in… \u001b[90m│\u001b[39m\r\n",
      "\u001b[90m│\u001b[39m          \u001b[90m│\u001b[39m 8        \u001b[90m│\u001b[39m numbers. \u001b[90m│\u001b[39m          \u001b[90m│\u001b[39m          \u001b[90m│\u001b[39m          \u001b[90m│\u001b[39m This is  \u001b[90m│\u001b[39m\r\n",
      "\u001b[90m│\u001b[39m          \u001b[90m│\u001b[39m Correct  \u001b[90m│\u001b[39m Don't    \u001b[90m│\u001b[39m          \u001b[90m│\u001b[39m          \u001b[90m│\u001b[39m          \u001b[90m│\u001b[39m incorre… \u001b[90m│\u001b[39m\r\n",
      "\u001b[90m│\u001b[39m          \u001b[90m│\u001b[39m output:  \u001b[90m│\u001b[39m specify  \u001b[90m│\u001b[39m          \u001b[90m│\u001b[39m          \u001b[90m│\u001b[39m          \u001b[90m│\u001b[39m because  \u001b[90m│\u001b[39m\r\n",
      "\u001b[90m│\u001b[39m          \u001b[90m│\u001b[39m 17       \u001b[90m│\u001b[39m any      \u001b[90m│\u001b[39m          \u001b[90m│\u001b[39m          \u001b[90m│\u001b[39m          \u001b[90m│\u001b[39m `input`  \u001b[90m│\u001b[39m\r\n",
      "\u001b[90m│\u001b[39m          \u001b[90m│\u001b[39m Your     \u001b[90m│\u001b[39m message  \u001b[90m│\u001b[39m          \u001b[90m│\u001b[39m          \u001b[90m│\u001b[39m          \u001b[90m│\u001b[39m is a     \u001b[90m│\u001b[39m\r\n",
      "\u001b[90m│\u001b[39m          \u001b[90m│\u001b[39m code     \u001b[90m│\u001b[39m in the   \u001b[90m│\u001b[39m          \u001b[90m│\u001b[39m          \u001b[90m│\u001b[39m          \u001b[90m│\u001b[39m functio… \u001b[90m│\u001b[39m\r\n",
      "\u001b[90m│\u001b[39m          \u001b[90m│\u001b[39m output:  \u001b[90m│\u001b[39m input,   \u001b[90m│\u001b[39m          \u001b[90m│\u001b[39m          \u001b[90m│\u001b[39m          \u001b[90m│\u001b[39m and you  \u001b[90m│\u001b[39m\r\n",
      "\u001b[90m│\u001b[39m          \u001b[90m│\u001b[39m Error:   \u001b[90m│\u001b[39m please.… \u001b[90m│\u001b[39m          \u001b[90m│\u001b[39m          \u001b[90m│\u001b[39m          \u001b[90m│\u001b[39m need to  \u001b[90m│\u001b[39m\r\n",
      "\u001b[90m│\u001b[39m          \u001b[90m│\u001b[39m Traceba… \u001b[90m│\u001b[39m class=\"… \u001b[90m│\u001b[39m          \u001b[90m│\u001b[39m          \u001b[90m│\u001b[39m          \u001b[90m│\u001b[39m call it  \u001b[90m│\u001b[39m\r\n",
      "\u001b[90m│\u001b[39m          \u001b[90m│\u001b[39m (most    \u001b[90m│\u001b[39m alert-p… \u001b[90m│\u001b[39m          \u001b[90m│\u001b[39m          \u001b[90m│\u001b[39m          \u001b[90m│\u001b[39m to get   \u001b[90m│\u001b[39m\r\n",
      "\u001b[90m│\u001b[39m          \u001b[90m│\u001b[39m recent   \u001b[90m│\u001b[39m use      \u001b[90m│\u001b[39m          \u001b[90m│\u001b[39m          \u001b[90m│\u001b[39m          \u001b[90m│\u001b[39m the user \u001b[90m│\u001b[39m\r\n",
      "\u001b[90m│\u001b[39m          \u001b[90m│\u001b[39m call     \u001b[90m│\u001b[39m specific \u001b[90m│\u001b[39m          \u001b[90m│\u001b[39m          \u001b[90m│\u001b[39m          \u001b[90m│\u001b[39m input as \u001b[90m│\u001b[39m\r\n",
      "\u001b[90m│\u001b[39m          \u001b[90m│\u001b[39m last):   \u001b[90m│\u001b[39m numbers  \u001b[90m│\u001b[39m          \u001b[90m│\u001b[39m          \u001b[90m│\u001b[39m          \u001b[90m│\u001b[39m a        \u001b[90m│\u001b[39m\r\n",
      "\u001b[90m│\u001b[39m          \u001b[90m│\u001b[39m   File   \u001b[90m│\u001b[39m from the \u001b[90m│\u001b[39m          \u001b[90m│\u001b[39m          \u001b[90m│\u001b[39m          \u001b[90m│\u001b[39m string.  \u001b[90m│\u001b[39m\r\n",
      "\u001b[90m│\u001b[39m          \u001b[90m│\u001b[39m \"/sandb… \u001b[90m│\u001b[39m ex...    \u001b[90m│\u001b[39m          \u001b[90m│\u001b[39m          \u001b[90m│\u001b[39m          \u001b[90m│\u001b[39m To fix   \u001b[90m│\u001b[39m\r\n",
      "\u001b[90m│\u001b[39m          \u001b[90m│\u001b[39m line 1,  \u001b[90m│\u001b[39m          \u001b[90m│\u001b[39m          \u001b[90m│\u001b[39m          \u001b[90m│\u001b[39m          \u001b[90m│\u001b[39m this     \u001b[90m│\u001b[39m\r\n",
      "\u001b[90m│\u001b[39m          \u001b[90m│\u001b[39m in       \u001b[90m│\u001b[39m          \u001b[90m│\u001b[39m          \u001b[90m│\u001b[39m          \u001b[90m│\u001b[39m          \u001b[90m│\u001b[39m error,   \u001b[90m│\u001b[39m\r\n",
      "\u001b[90m│\u001b[39m          \u001b[90m│\u001b[39m <module> \u001b[90m│\u001b[39m          \u001b[90m│\u001b[39m          \u001b[90m│\u001b[39m          \u001b[90m│\u001b[39m          \u001b[90m│\u001b[39m you      \u001b[90m│\u001b[39m\r\n",
      "\u001b[90m│\u001b[39m          \u001b[90m│\u001b[39m     a =  \u001b[90m│\u001b[39m          \u001b[90m│\u001b[39m          \u001b[90m│\u001b[39m          \u001b[90m│\u001b[39m          \u001b[90m│\u001b[39m should   \u001b[90m│\u001b[39m\r\n",
      "\u001b[90m│\u001b[39m          \u001b[90m│\u001b[39m int(...  \u001b[90m│\u001b[39m          \u001b[90m│\u001b[39m          \u001b[90m│\u001b[39m          \u001b[90m│\u001b[39m          \u001b[90m│\u001b[39m call...  \u001b[90m│\u001b[39m\r\n",
      "\u001b[90m├──────────\u001b[39m\u001b[90m┼──────────\u001b[39m\u001b[90m┼──────────\u001b[39m\u001b[90m┼──────────\u001b[39m\u001b[90m┼──────────\u001b[39m\u001b[90m┼──────────\u001b[39m\u001b[90m┼──────────┤\u001b[39m\r\n",
      "\u001b[90m│\u001b[39m python_9 \u001b[90m│\u001b[39m Failed   \u001b[90m│\u001b[39m <p></p>  \u001b[90m│\u001b[39m [{\"inpu… \u001b[90m│\u001b[39m a =      \u001b[90m│\u001b[39m a =      \u001b[90m│\u001b[39m \u001b[32m[PASS]\u001b[39m   \u001b[90m│\u001b[39m\r\n",
      "\u001b[90m│\u001b[39m          \u001b[90m│\u001b[39m test #2  \u001b[90m│\u001b[39m <p>Write \u001b[90m│\u001b[39m Brother  \u001b[90m│\u001b[39m input()  \u001b[90m│\u001b[39m input()  \u001b[90m│\u001b[39m \u001b[32m\u001b[39mIn your  \u001b[90m│\u001b[39m\r\n",
      "\u001b[90m│\u001b[39m          \u001b[90m│\u001b[39m of 3.    \u001b[90m│\u001b[39m a        \u001b[90m│\u001b[39m watches  \u001b[90m│\u001b[39m b =      \u001b[90m│\u001b[39m b =      \u001b[90m│\u001b[39m code,    \u001b[90m│\u001b[39m\r\n",
      "\u001b[90m│\u001b[39m          \u001b[90m│\u001b[39m Wrong    \u001b[90m│\u001b[39m program  \u001b[90m│\u001b[39m you\\nFa… \u001b[90m│\u001b[39m input()  \u001b[90m│\u001b[39m input()  \u001b[90m│\u001b[39m you are  \u001b[90m│\u001b[39m\r\n",
      "\u001b[90m│\u001b[39m          \u001b[90m│\u001b[39m answer   \u001b[90m│\u001b[39m that     \u001b[90m│\u001b[39m          \u001b[90m│\u001b[39m # run    \u001b[90m│\u001b[39m # run    \u001b[90m│\u001b[39m checking \u001b[90m│\u001b[39m\r\n",
      "\u001b[90m│\u001b[39m          \u001b[90m│\u001b[39m          \u001b[90m│\u001b[39m takes    \u001b[90m│\u001b[39m          \u001b[90m│\u001b[39m the      \u001b[90m│\u001b[39m the      \u001b[90m│\u001b[39m if the   \u001b[90m│\u001b[39m\r\n",
      "\u001b[90m│\u001b[39m          \u001b[90m│\u001b[39m          \u001b[90m│\u001b[39m two      \u001b[90m│\u001b[39m          \u001b[90m│\u001b[39m members… \u001b[90m│\u001b[39m members… \u001b[90m│\u001b[39m first    \u001b[90m│\u001b[39m\r\n",
      "\u001b[90m│\u001b[39m          \u001b[90m│\u001b[39m          \u001b[90m│\u001b[39m strings, \u001b[90m│\u001b[39m          \u001b[90m│\u001b[39m test     \u001b[90m│\u001b[39m test     \u001b[90m│\u001b[39m string   \u001b[90m│\u001b[39m\r\n",
      "\u001b[90m│\u001b[39m          \u001b[90m│\u001b[39m          \u001b[90m│\u001b[39m checks   \u001b[90m│\u001b[39m          \u001b[90m│\u001b[39m below    \u001b[90m│\u001b[39m below    \u001b[90m│\u001b[39m is in    \u001b[90m│\u001b[39m\r\n",
      "\u001b[90m│\u001b[39m          \u001b[90m│\u001b[39m          \u001b[90m│\u001b[39m whether  \u001b[90m│\u001b[39m          \u001b[90m│\u001b[39m print(b  \u001b[90m│\u001b[39m print(a  \u001b[90m│\u001b[39m the      \u001b[90m│\u001b[39m\r\n",
      "\u001b[90m│\u001b[39m          \u001b[90m│\u001b[39m          \u001b[90m│\u001b[39m the      \u001b[90m│\u001b[39m          \u001b[90m│\u001b[39m in a)    \u001b[90m│\u001b[39m in b)    \u001b[90m│\u001b[39m second   \u001b[90m│\u001b[39m\r\n",
      "\u001b[90m│\u001b[39m          \u001b[90m│\u001b[39m          \u001b[90m│\u001b[39m first    \u001b[90m│\u001b[39m          \u001b[90m│\u001b[39m          \u001b[90m│\u001b[39m          \u001b[90m│\u001b[39m string   \u001b[90m│\u001b[39m\r\n",
      "\u001b[90m│\u001b[39m          \u001b[90m│\u001b[39m          \u001b[90m│\u001b[39m string   \u001b[90m│\u001b[39m          \u001b[90m│\u001b[39m          \u001b[90m│\u001b[39m          \u001b[90m│\u001b[39m by using \u001b[90m│\u001b[39m\r\n",
      "\u001b[90m│\u001b[39m          \u001b[90m│\u001b[39m          \u001b[90m│\u001b[39m contains \u001b[90m│\u001b[39m          \u001b[90m│\u001b[39m          \u001b[90m│\u001b[39m          \u001b[90m│\u001b[39m the 'in' \u001b[90m│\u001b[39m\r\n",
      "\u001b[90m│\u001b[39m          \u001b[90m│\u001b[39m          \u001b[90m│\u001b[39m the      \u001b[90m│\u001b[39m          \u001b[90m│\u001b[39m          \u001b[90m│\u001b[39m          \u001b[90m│\u001b[39m operato… \u001b[90m│\u001b[39m\r\n",
      "\u001b[90m│\u001b[39m          \u001b[90m│\u001b[39m          \u001b[90m│\u001b[39m second   \u001b[90m│\u001b[39m          \u001b[90m│\u001b[39m          \u001b[90m│\u001b[39m          \u001b[90m│\u001b[39m However, \u001b[90m│\u001b[39m\r\n",
      "\u001b[90m│\u001b[39m          \u001b[90m│\u001b[39m          \u001b[90m│\u001b[39m one and  \u001b[90m│\u001b[39m          \u001b[90m│\u001b[39m          \u001b[90m│\u001b[39m          \u001b[90m│\u001b[39m the task \u001b[90m│\u001b[39m\r\n",
      "\u001b[90m│\u001b[39m          \u001b[90m│\u001b[39m          \u001b[90m│\u001b[39m prints   \u001b[90m│\u001b[39m          \u001b[90m│\u001b[39m          \u001b[90m│\u001b[39m          \u001b[90m│\u001b[39m requires \u001b[90m│\u001b[39m\r\n",
      "\u001b[90m│\u001b[39m          \u001b[90m│\u001b[39m          \u001b[90m│\u001b[39m the      \u001b[90m│\u001b[39m          \u001b[90m│\u001b[39m          \u001b[90m│\u001b[39m          \u001b[90m│\u001b[39m you to   \u001b[90m│\u001b[39m\r\n",
      "\u001b[90m│\u001b[39m          \u001b[90m│\u001b[39m          \u001b[90m│\u001b[39m result   \u001b[90m│\u001b[39m          \u001b[90m│\u001b[39m          \u001b[90m│\u001b[39m          \u001b[90m│\u001b[39m check if \u001b[90m│\u001b[39m\r\n",
      "\u001b[90m│\u001b[39m          \u001b[90m│\u001b[39m          \u001b[90m│\u001b[39m of the   \u001b[90m│\u001b[39m          \u001b[90m│\u001b[39m          \u001b[90m│\u001b[39m          \u001b[90m│\u001b[39m the      \u001b[90m│\u001b[39m\r\n",
      "\u001b[90m│\u001b[39m          \u001b[90m│\u001b[39m          \u001b[90m│\u001b[39m members… \u001b[90m│\u001b[39m          \u001b[90m│\u001b[39m          \u001b[90m│\u001b[39m          \u001b[90m│\u001b[39m second   \u001b[90m│\u001b[39m\r\n",
      "\u001b[90m│\u001b[39m          \u001b[90m│\u001b[39m          \u001b[90m│\u001b[39m test.</… \u001b[90m│\u001b[39m          \u001b[90m│\u001b[39m          \u001b[90m│\u001b[39m          \u001b[90m│\u001b[39m string   \u001b[90m│\u001b[39m\r\n",
      "\u001b[90m│\u001b[39m          \u001b[90m│\u001b[39m          \u001b[90m│\u001b[39m <p>The   \u001b[90m│\u001b[39m          \u001b[90m│\u001b[39m          \u001b[90m│\u001b[39m          \u001b[90m│\u001b[39m is in    \u001b[90m│\u001b[39m\r\n",
      "\u001b[90m│\u001b[39m          \u001b[90m│\u001b[39m          \u001b[90m│\u001b[39m variabl… \u001b[90m│\u001b[39m          \u001b[90m│\u001b[39m          \u001b[90m│\u001b[39m          \u001b[90m│\u001b[39m the      \u001b[90m│\u001b[39m\r\n",
      "\u001b[90m│\u001b[39m          \u001b[90m│\u001b[39m          \u001b[90m│\u001b[39m for both \u001b[90m│\u001b[39m          \u001b[90m│\u001b[39m          \u001b[90m│\u001b[39m          \u001b[90m│\u001b[39m first    \u001b[90m│\u001b[39m\r\n",
      "\u001b[90m│\u001b[39m          \u001b[90m│\u001b[39m          \u001b[90m│\u001b[39m input    \u001b[90m│\u001b[39m          \u001b[90m│\u001b[39m          \u001b[90m│\u001b[39m          \u001b[90m│\u001b[39m string.  \u001b[90m│\u001b[39m\r\n",
      "\u001b[90m│\u001b[39m          \u001b[90m│\u001b[39m          \u001b[90m│\u001b[39m strings  \u001b[90m│\u001b[39m          \u001b[90m│\u001b[39m          \u001b[90m│\u001b[39m          \u001b[90m│\u001b[39m To       \u001b[90m│\u001b[39m\r\n",
      "\u001b[90m│\u001b[39m          \u001b[90m│\u001b[39m          \u001b[90m│\u001b[39m have     \u001b[90m│\u001b[39m          \u001b[90m│\u001b[39m          \u001b[90m│\u001b[39m          \u001b[90m│\u001b[39m correct  \u001b[90m│\u001b[39m\r\n",
      "\u001b[90m│\u001b[39m          \u001b[90m│\u001b[39m          \u001b[90m│\u001b[39m already  \u001b[90m│\u001b[39m          \u001b[90m│\u001b[39m          \u001b[90m│\u001b[39m          \u001b[90m│\u001b[39m this     \u001b[90m│\u001b[39m\r\n",
      "\u001b[90m│\u001b[39m          \u001b[90m│\u001b[39m          \u001b[90m│\u001b[39m been     \u001b[90m│\u001b[39m          \u001b[90m│\u001b[39m          \u001b[90m│\u001b[39m          \u001b[90m│\u001b[39m error,   \u001b[90m│\u001b[39m\r\n",
      "\u001b[90m│\u001b[39m          \u001b[90m│\u001b[39m          \u001b[90m│\u001b[39m defined… \u001b[90m│\u001b[39m          \u001b[90m│\u001b[39m          \u001b[90m│\u001b[39m          \u001b[90m│\u001b[39m you      \u001b[90m│\u001b[39m\r\n",
      "\u001b[90m│\u001b[39m          \u001b[90m│\u001b[39m          \u001b[90m│\u001b[39m          \u001b[90m│\u001b[39m          \u001b[90m│\u001b[39m          \u001b[90m│\u001b[39m          \u001b[90m│\u001b[39m should   \u001b[90m│\u001b[39m\r\n",
      "\u001b[90m│\u001b[39m          \u001b[90m│\u001b[39m          \u001b[90m│\u001b[39m          \u001b[90m│\u001b[39m          \u001b[90m│\u001b[39m          \u001b[90m│\u001b[39m          \u001b[90m│\u001b[39m switch   \u001b[90m│\u001b[39m\r\n",
      "\u001b[90m│\u001b[39m          \u001b[90m│\u001b[39m          \u001b[90m│\u001b[39m          \u001b[90m│\u001b[39m          \u001b[90m│\u001b[39m          \u001b[90m│\u001b[39m          \u001b[90m│\u001b[39m the      \u001b[90m│\u001b[39m\r\n",
      "\u001b[90m│\u001b[39m          \u001b[90m│\u001b[39m          \u001b[90m│\u001b[39m          \u001b[90m│\u001b[39m          \u001b[90m│\u001b[39m          \u001b[90m│\u001b[39m          \u001b[90m│\u001b[39m order of \u001b[90m│\u001b[39m\r\n",
      "\u001b[90m│\u001b[39m          \u001b[90m│\u001b[39m          \u001b[90m│\u001b[39m          \u001b[90m│\u001b[39m          \u001b[90m│\u001b[39m          \u001b[90m│\u001b[39m          \u001b[90m│\u001b[39m the...   \u001b[90m│\u001b[39m\r\n",
      "\u001b[90m└──────────\u001b[39m\u001b[90m┴──────────\u001b[39m\u001b[90m┴──────────\u001b[39m\u001b[90m┴──────────\u001b[39m\u001b[90m┴──────────\u001b[39m\u001b[90m┴──────────\u001b[39m\u001b[90m┴──────────┘\u001b[39m\r\n",
      "\u001b[33mWriting output to ./outputs/output_2.json\u001b[39m\r\n",
      "======================================================================\r\n",
      "\u001b[32m✔\u001b[39m Evaluation complete.\r\n",
      "\r\n"
     ]
    },
    {
     "name": "stdout",
     "output_type": "stream",
     "text": [
      "» Run \u001b[92m\u001b[1mpromptfoo view\u001b[22m\u001b[39m to use the local web viewer\n",
      "» Run \u001b[92m\u001b[1mpromptfoo share\u001b[22m\u001b[39m to create a shareable URL\n",
      "» This project needs your feedback. What's one thing we can improve? \u001b[92m\u001b[1mhttps://forms.gle/YFLgTe1dKJKNSCsU7\u001b[22m\u001b[39m\n",
      "======================================================================\n",
      "\u001b[32m\u001b[1mSuccesses: 16\u001b[22m\u001b[39m\n",
      "\u001b[31m\u001b[1mFailures: 4\u001b[22m\u001b[39m\n",
      "Token usage: Total 80288, Prompt 33514, Completion 10985, Cached 5177\n",
      "Done.\n"
     ]
    }
   ],
   "source": [
    "make_eval(\"./outputs/output_2.json\")"
   ]
  },
  {
   "cell_type": "markdown",
   "id": "fa1456c4",
   "metadata": {},
   "source": [
    "----\n",
    "\n",
    "## SECOND ATTEMPT TOTAL SCORE: 80%\n",
    "\n",
    "----"
   ]
  },
  {
   "cell_type": "markdown",
   "id": "3eda3189",
   "metadata": {},
   "source": [
    "### Checking issues in the second prompt"
   ]
  },
  {
   "cell_type": "code",
   "execution_count": 272,
   "id": "21c061f9",
   "metadata": {},
   "outputs": [],
   "source": [
    "with open(\"./outputs/output_2.json\", 'r') as f:\n",
    "    feedbacks2 = json.load(f)"
   ]
  },
  {
   "cell_type": "code",
   "execution_count": 273,
   "id": "abeafb6c",
   "metadata": {},
   "outputs": [
    {
     "data": {
      "application/vnd.jupyter.widget-view+json": {
       "model_id": "d413528d92e34934bda1e53353240658",
       "version_major": 2,
       "version_minor": 0
      },
      "text/plain": [
       "HTML(value='<h1>Function, arguments and parameters</h1>')"
      ]
     },
     "metadata": {},
     "output_type": "display_data"
    },
    {
     "data": {
      "application/vnd.jupyter.widget-view+json": {
       "model_id": "bcbf4ae04cbf4722ba1ac78b59a48804",
       "version_major": 2,
       "version_minor": 0
      },
      "text/plain": [
       "HTML(value=\"<h2><a href='https://hyperskill.org/learn/step/7248'>Equation</a></h2>\")"
      ]
     },
     "metadata": {},
     "output_type": "display_data"
    },
    {
     "data": {
      "application/vnd.jupyter.widget-view+json": {
       "model_id": "45cfd45b2a25481f83c14d7f6d080b28",
       "version_major": 2,
       "version_minor": 0
      },
      "text/plain": [
       "HTML(value='<p></p>\\n<p>Write a function <code class=\"java\">equation_writing()</code> that will <strong>print<…"
      ]
     },
     "metadata": {},
     "output_type": "display_data"
    },
    {
     "data": {
      "application/vnd.jupyter.widget-view+json": {
       "model_id": "469e098662fc4f5b83d5bda6c5c5d52b",
       "version_major": 2,
       "version_minor": 0
      },
      "text/plain": [
       "HTML(value=\"<h3>Wrong Code Submission</h3><pre>def equation_writing(a, b, c):\\n    print(a, 'x +', b, '=', c)\\…"
      ]
     },
     "metadata": {},
     "output_type": "display_data"
    },
    {
     "data": {
      "application/vnd.jupyter.widget-view+json": {
       "model_id": "8406613253094930b42b35efe91700e6",
       "version_major": 2,
       "version_minor": 0
      },
      "text/plain": [
       "HTML(value='<h3>Test Cases</h3>')"
      ]
     },
     "metadata": {},
     "output_type": "display_data"
    },
    {
     "data": {
      "application/vnd.jupyter.widget-view+json": {
       "model_id": "8fbfad02c6a74259be940bbdc9156934",
       "version_major": 2,
       "version_minor": 0
      },
      "text/plain": [
       "HTML(value='<strong>Input:</strong> 3 4 3 <strong>Output:</strong> 3 x + 4 = 3')"
      ]
     },
     "metadata": {},
     "output_type": "display_data"
    },
    {
     "data": {
      "application/vnd.jupyter.widget-view+json": {
       "model_id": "edcf2afbbf8e47c58e25cd6bf8c0cfb9",
       "version_major": 2,
       "version_minor": 0
      },
      "text/plain": [
       "HTML(value='<h3>Feedback for Wrong Submission</h3><pre>Failed test #1 of 3. Wrong answer\\n\\nThis is a sample t…"
      ]
     },
     "metadata": {},
     "output_type": "display_data"
    },
    {
     "data": {
      "application/vnd.jupyter.widget-view+json": {
       "model_id": "4ecda46f2cf040a8a4b7be04375143b1",
       "version_major": 2,
       "version_minor": 0
      },
      "text/plain": [
       "HTML(value=\"<h3>Additional GPT Feedback</h3><pre>1. Change the existing print statement to use string formatti…"
      ]
     },
     "metadata": {},
     "output_type": "display_data"
    },
    {
     "data": {
      "application/vnd.jupyter.widget-view+json": {
       "model_id": "b7789a188fca4d7b8323f8f5e3984cb8",
       "version_major": 2,
       "version_minor": 0
      },
      "text/plain": [
       "HTML(value='<h3>Correct Code Submission</h3><pre>def equation_writing(a, b, c):\\n    print(f\"{a} x + {b} = {c}…"
      ]
     },
     "metadata": {},
     "output_type": "display_data"
    },
    {
     "name": "stdout",
     "output_type": "stream",
     "text": [
      "----------------------------------------------------\n"
     ]
    },
    {
     "data": {
      "application/vnd.jupyter.widget-view+json": {
       "model_id": "1ed26ab9eee64cca883151e38135fb97",
       "version_major": 2,
       "version_minor": 0
      },
      "text/plain": [
       "HTML(value='<h3>GPT New Feedback (Passed: False)</h3><pre>In your code, you are missing the f-string formattin…"
      ]
     },
     "metadata": {},
     "output_type": "display_data"
    },
    {
     "data": {
      "application/vnd.jupyter.widget-view+json": {
       "model_id": "cdc5b52756584267b2996ec780404cc7",
       "version_major": 2,
       "version_minor": 0
      },
      "text/plain": [
       "HTML(value='<h3>Evaluation feedback:</h3>')"
      ]
     },
     "metadata": {},
     "output_type": "display_data"
    },
    {
     "data": {
      "application/vnd.jupyter.widget-view+json": {
       "model_id": "c284a99dc5044e6ab681d20842a9bf91",
       "version_major": 2,
       "version_minor": 0
      },
      "text/plain": [
       "HTML(value='<h3>Score: 0.25. Passed: False</h3>')"
      ]
     },
     "metadata": {},
     "output_type": "display_data"
    },
    {
     "data": {
      "application/vnd.jupyter.widget-view+json": {
       "model_id": "a3d77fe57a514187a00d11c0cb7508e5",
       "version_major": 2,
       "version_minor": 0
      },
      "text/plain": [
       "HTML(value='<h3>Reason:</h3>')"
      ]
     },
     "metadata": {},
     "output_type": "display_data"
    },
    {
     "name": "stdout",
     "output_type": "stream",
     "text": [
      "The submission does not meet the criterion:\n",
      "1. The criterion requires the feedback to be easy to understand for an adult programming newbie with no experience.\n",
      "2. The submission suggests that the student's error is not using f-string formatting and explains the importance of using f-string to correctly insert variables into the string.\n",
      "3. However, the student's code does use print statements correctly to output the desired format without explicitly using f-string formatting. The issue in the student's code is not the absence of f-string formatting but rather that the function was called twice, leading to duplicate output.\n",
      "4. The feedback provided in the submission does not accurately identify the mistake in the student's code. Instead, it incorrectly points to the lack of f-string formatting as the problem.\n",
      "5. For a programming newbie, this feedback might be confusing because it directs attention to an aspect of the code (f-string formatting) that is not the source of the error. The actual error (the function being called twice, leading to duplicate output) is not mentioned.\n",
      "6. Therefore, the feedback does not meet the criterion of being easy to understand for a programming newbie with no experience, as it misidentifies the problem and could lead to further confusion.\n",
      "\n",
      "N\n",
      "\n",
      "N\n",
      "\n"
     ]
    }
   ],
   "source": [
    "step = 1\n",
    "data = python['python']['code_problems'][step]\n",
    "feedback = find_async_feedback_by_id(\"python\", feedbacks2, step)\n",
    "llm_feedback = feedback['response']['output']\n",
    "passed = feedback['success']\n",
    "grading = feedback['gradingResult']\n",
    "render_data(data, llm_feedback, passed, grading)"
   ]
  },
  {
   "cell_type": "markdown",
   "id": "7f064489",
   "metadata": {},
   "source": [
    "**Note**: Still have problem with function calling"
   ]
  },
  {
   "cell_type": "code",
   "execution_count": 312,
   "id": "68fc4631",
   "metadata": {
    "scrolled": true
   },
   "outputs": [
    {
     "data": {
      "application/vnd.jupyter.widget-view+json": {
       "model_id": "a4cdf549ecaf41a48e7f2f416dd84f74",
       "version_major": 2,
       "version_minor": 0
      },
      "text/plain": [
       "HTML(value='<h1>Working with strings: basic methods</h1>')"
      ]
     },
     "metadata": {},
     "output_type": "display_data"
    },
    {
     "data": {
      "application/vnd.jupyter.widget-view+json": {
       "model_id": "e0e1ad830ad848839b192f562cab3865",
       "version_major": 2,
       "version_minor": 0
      },
      "text/plain": [
       "HTML(value=\"<h2><a href='https://hyperskill.org/learn/step/6842'>Poster artist</a></h2>\")"
      ]
     },
     "metadata": {},
     "output_type": "display_data"
    },
    {
     "data": {
      "application/vnd.jupyter.widget-view+json": {
       "model_id": "c49252c3d89b4284a489ed9fa94c9913",
       "version_major": 2,
       "version_minor": 0
      },
      "text/plain": [
       "HTML(value='<p>Imagine that you design film posters for a living. Write a program that prints each film title …"
      ]
     },
     "metadata": {},
     "output_type": "display_data"
    },
    {
     "data": {
      "application/vnd.jupyter.widget-view+json": {
       "model_id": "a4f39d3506044b1b98f730f9cbbcf200",
       "version_major": 2,
       "version_minor": 0
      },
      "text/plain": [
       "HTML(value='<h3>Wrong Code Submission</h3><pre>print(word.upper())\\n\\n\\n\\n</pre>')"
      ]
     },
     "metadata": {},
     "output_type": "display_data"
    },
    {
     "data": {
      "application/vnd.jupyter.widget-view+json": {
       "model_id": "71e9214f27ad4fb9aa62e688065bad29",
       "version_major": 2,
       "version_minor": 0
      },
      "text/plain": [
       "HTML(value='<h3>Test Cases</h3>')"
      ]
     },
     "metadata": {},
     "output_type": "display_data"
    },
    {
     "data": {
      "application/vnd.jupyter.widget-view+json": {
       "model_id": "6bd656f8ed4545b5b85a2a8404e29b03",
       "version_major": 2,
       "version_minor": 0
      },
      "text/plain": [
       "HTML(value='<strong>Input:</strong> the lion king <strong>Output:</strong> THE LION KING')"
      ]
     },
     "metadata": {},
     "output_type": "display_data"
    },
    {
     "data": {
      "application/vnd.jupyter.widget-view+json": {
       "model_id": "adcfc555f0d04c8080b9392cd4a6cbf8",
       "version_major": 2,
       "version_minor": 0
      },
      "text/plain": [
       "HTML(value='<h3>Feedback for Wrong Submission</h3><pre>Failed test #1 of 7. Runtime error\\n\\nThis is a sample …"
      ]
     },
     "metadata": {},
     "output_type": "display_data"
    },
    {
     "data": {
      "application/vnd.jupyter.widget-view+json": {
       "model_id": "19cdc8481247413783b3a8e60ee6f631",
       "version_major": 2,
       "version_minor": 0
      },
      "text/plain": [
       "HTML(value='<h3>Additional GPT Feedback</h3><pre>1. Define a variable and assign it the input provided.\\n2. Us…"
      ]
     },
     "metadata": {},
     "output_type": "display_data"
    },
    {
     "data": {
      "application/vnd.jupyter.widget-view+json": {
       "model_id": "b61d77ec72e34f9db597271132c37103",
       "version_major": 2,
       "version_minor": 0
      },
      "text/plain": [
       "HTML(value='<h3>Correct Code Submission</h3><pre>film_title = str(input())\\n\\nprint(film_title.upper())\\n</pre…"
      ]
     },
     "metadata": {},
     "output_type": "display_data"
    },
    {
     "name": "stdout",
     "output_type": "stream",
     "text": [
      "----------------------------------------------------\n"
     ]
    },
    {
     "data": {
      "application/vnd.jupyter.widget-view+json": {
       "model_id": "2775e8d387664a7eaf82cbbc237bd5bf",
       "version_major": 2,
       "version_minor": 0
      },
      "text/plain": [
       "HTML(value=\"<h3>GPT New Feedback (Passed: False)</h3><pre>In your code, you are trying to print the uppercase …"
      ]
     },
     "metadata": {},
     "output_type": "display_data"
    },
    {
     "data": {
      "application/vnd.jupyter.widget-view+json": {
       "model_id": "4df127504b334cb9b6478012c21ceeef",
       "version_major": 2,
       "version_minor": 0
      },
      "text/plain": [
       "HTML(value='<h3>Evaluation feedback:</h3>')"
      ]
     },
     "metadata": {},
     "output_type": "display_data"
    },
    {
     "data": {
      "application/vnd.jupyter.widget-view+json": {
       "model_id": "0892c0fd497c4ab082ae8ae4a9d842e6",
       "version_major": 2,
       "version_minor": 0
      },
      "text/plain": [
       "HTML(value='<h3>Score: 0.5. Passed: False</h3>')"
      ]
     },
     "metadata": {},
     "output_type": "display_data"
    },
    {
     "data": {
      "application/vnd.jupyter.widget-view+json": {
       "model_id": "583a3858fca246fba6c05e97ae7cb0c9",
       "version_major": 2,
       "version_minor": 0
      },
      "text/plain": [
       "HTML(value='<h3>Reason:</h3>')"
      ]
     },
     "metadata": {},
     "output_type": "display_data"
    },
    {
     "name": "stdout",
     "output_type": "stream",
     "text": [
      "The submission does not meet the criterion:\n",
      "1. The task was to write a program that prints each film title in all caps, which implies taking an input and converting it to uppercase.\n",
      "2. The student's code attempted to print a variable in uppercase without defining it first, leading to a NameError.\n",
      "3. The feedback correctly identifies the error in the student's code: the use of an undefined variable 'word'.\n",
      "4. The feedback suggests using the correct variable name 'film_title' that should be defined by capturing user input, which aligns with the correct approach to solving the task.\n",
      "5. However, the feedback incorrectly assumes that the student defined 'film_title' through the input() function, which is not evident in the student's submission. The student's code snippet does not show any variable definition or input capture, only an attempt to print an undefined variable in uppercase.\n",
      "6. The feedback provides a hint to fix the issue without giving away the direct solution, which is to ensure the use of correctly defined variable names.\n",
      "7. The feedback encourages good coding practices, such as paying attention to variable names and typos.\n",
      "\n",
      "Given the above points, the feedback correctly identifies the specific error (use of an undefined variable) but makes an incorrect assumption about the student having defined 'film_title' through input(), which was not part of the student's provided code. Despite this, the essence of the feedback addresses the main issue and provides a constructive hint towards the solution.\n",
      "\n",
      "N\n",
      "\n",
      "N\n",
      "\n"
     ]
    }
   ],
   "source": [
    "step = 4\n",
    "data = python['python']['code_problems'][step]\n",
    "feedback = find_async_feedback_by_id(\"python\", feedbacks2, step)\n",
    "llm_feedback = feedback['response']['output']\n",
    "passed = feedback['success']\n",
    "grading = feedback['gradingResult']\n",
    "render_data(data, llm_feedback, passed, grading)"
   ]
  },
  {
   "cell_type": "markdown",
   "id": "d62ee427",
   "metadata": {},
   "source": [
    "**Note**: Model has problems with reasoning, giving the wrong assumptions how to fix the code"
   ]
  },
  {
   "cell_type": "markdown",
   "id": "8c682110",
   "metadata": {},
   "source": [
    "### Second prompt issues exporation results:\n",
    "- Now it is not giving the direct solutions. Good.\n",
    "- Model has problems with reasoning, giving the wrong suggestions. Bad.\n",
    "\n",
    "\n",
    "### Possible ways to improve the prompt:\n",
    "- Add technical part to model answer template with model reasoning, it can improve the its quality"
   ]
  },
  {
   "cell_type": "markdown",
   "id": "19ed286a",
   "metadata": {},
   "source": [
    "# Making the third prompt"
   ]
  },
  {
   "cell_type": "markdown",
   "id": "9286a6fb",
   "metadata": {},
   "source": [
    "lets make more complex prompt"
   ]
  },
  {
   "cell_type": "code",
   "execution_count": 291,
   "id": "00aa6298",
   "metadata": {},
   "outputs": [],
   "source": [
    "prompt = f\"\"\"\n",
    "Submission system output:\n",
    "{create_data_template(extract_important_data_1(data))}\n",
    "Based on the provided system feedback, \n",
    "perform an internal analysis of the specific errors identified in the student's wrong code submission. \n",
    "This internal analysis should summarize the issues without resolving them and is meant for internal\n",
    "processing only. \n",
    "Following the analysis, prepare a user-facing feedback message that explains \n",
    "these errors and offers actionable advice without directly solving the problem. \n",
    "The output should be structured as follows:\n",
    "\n",
    "Internal Analysis:\n",
    "- Identify specific errors based on the error message and the code submitted.\n",
    "- Assess the implications of these errors on the student's understanding of the programming concepts.\n",
    "\n",
    "++++++\n",
    "User-Facing Feedback:\n",
    "- IMPORTANT: Highlight the specific errors identified in student's code.\n",
    "- Provide structured, actionable advice on how to correct these errors.\n",
    "- Encourage best coding practices and explain these practices in a manner simple enough for an adult programming novice.\n",
    "- Use a list format for clarity and simplicity.\n",
    "IMPORTANT: Do NOT provide the correct solution directly, only hints and guidance.\n",
    "IMPORTANT: Follow the answer stucture of the examples\n",
    "\n",
    "\n",
    "Examples of complete output:\n",
    "\n",
    "Example 1:\n",
    "```\n",
    "Internal Analysis:\n",
    "- Error: 'NameError' for undefined variable 'word'.\n",
    "- Issue: The student did not define 'word' before attempting to use it, indicating a misunderstanding of how variables must be declared and used.\n",
    "\n",
    "++++++\n",
    "User-Facing Feedback:\n",
    "1. **Issue Identified:** You attempted to use a variable named 'word' which wasn't defined anywhere in your code, resulting in a 'NameError'.\n",
    "2. **Actionable Advice:** Start by defining all variables before they are used. For instance, include a line such as 'word = input(\"Please enter a word: \")' at the beginning of your script.\n",
    "3. **Best Practice:** Always test your program with different inputs to ensure that all variables are properly initialized and used within their scope. This practice helps avoid common errors and improves the reliability of your code.\n",
    "```\n",
    "\n",
    "Example 2:\n",
    "```\n",
    "Internal Analysis:\n",
    "- Error: 'SyntaxError' due to missing colon after an if statement.\n",
    "- Issue: The student forgot to put a colon at the end of the if statement, which is crucial for defining block scopes in Python.\n",
    "\n",
    "++++++\n",
    "User-Facing Feedback:\n",
    "1. **Issue Identified:** Your if statement is missing a colon at the end, which caused a 'SyntaxError'.\n",
    "2. **Actionable Advice:** Remember to add a colon right after the condition in your if statements. This tells Python that you're about to start a block of statements that should only execute under certain conditions.\n",
    "3. **Best Practice:** Writing small test cases to check each part of your code incrementally can help catch these types of syntax errors before they affect larger parts of your program.\n",
    "```\n",
    "\n",
    "Example 3:\n",
    "```\n",
    "Internal Analysis:\n",
    "- Error: 'IndexError' because the code attempts to access a list index that is out of range.\n",
    "- Issue: The student seems unaware of how to properly check the bounds of a list before accessing its elements.\n",
    "\n",
    "++++++\n",
    "User-Facing Feedback:\n",
    "1. **Issue Identified:** You tried to access a list element with an index that exceeds the list's boundaries, leading to an 'IndexError'.\n",
    "2. **Actionable Advice:** Always check that your index is within the valid range of the list by comparing it against the length of the list minus one. For example, you can use a condition like `if index < len(my_list):` before accessing `my_list[index]`.\n",
    "3. **Best Practice:** Implementing boundary checks for list accesses is a crucial habit that can prevent runtime errors and ensure your program handles data gracefully.\n",
    "```\n",
    "\"\"\"\n",
    "\n",
    "# Prompt is adapted for promptfoo evaluation system, so we are using {{}} instead of f-strings\n",
    "with open(\"./prompts/prompt.txt\", 'w') as f:\n",
    "    f.write(prompt)"
   ]
  },
  {
   "cell_type": "code",
   "execution_count": 295,
   "id": "6b175a2b",
   "metadata": {},
   "outputs": [],
   "source": [
    "make_eval(\"./outputs/output_3.json\")"
   ]
  },
  {
   "cell_type": "markdown",
   "id": "ee42a7a8",
   "metadata": {},
   "source": [
    "----\n",
    "\n",
    "## THIRD ATTEMPT TOTAL SCORE: 90%\n",
    "\n",
    "----"
   ]
  },
  {
   "cell_type": "markdown",
   "id": "b7c5d866",
   "metadata": {},
   "source": [
    "Let's check the bad cases"
   ]
  },
  {
   "cell_type": "code",
   "execution_count": 293,
   "id": "b72b6a97",
   "metadata": {},
   "outputs": [],
   "source": [
    "with open(\"./outputs/output_3.json\", 'r') as f:\n",
    "    feedbacks3 = json.load(f)"
   ]
  },
  {
   "cell_type": "code",
   "execution_count": 311,
   "id": "090dd3d5",
   "metadata": {
    "scrolled": true
   },
   "outputs": [
    {
     "data": {
      "application/vnd.jupyter.widget-view+json": {
       "model_id": "595acf679a9841d884949fff652a77d1",
       "version_major": 2,
       "version_minor": 0
      },
      "text/plain": [
       "HTML(value='<h1>Function, arguments and parameters</h1>')"
      ]
     },
     "metadata": {},
     "output_type": "display_data"
    },
    {
     "data": {
      "application/vnd.jupyter.widget-view+json": {
       "model_id": "2ec5367f339e4daa81611e086f847ef7",
       "version_major": 2,
       "version_minor": 0
      },
      "text/plain": [
       "HTML(value=\"<h2><a href='https://hyperskill.org/learn/step/7248'>Equation</a></h2>\")"
      ]
     },
     "metadata": {},
     "output_type": "display_data"
    },
    {
     "data": {
      "application/vnd.jupyter.widget-view+json": {
       "model_id": "3ec8c498b95f4718b8893b898f5f14e3",
       "version_major": 2,
       "version_minor": 0
      },
      "text/plain": [
       "HTML(value='<p></p>\\n<p>Write a function <code class=\"java\">equation_writing()</code> that will <strong>print<…"
      ]
     },
     "metadata": {},
     "output_type": "display_data"
    },
    {
     "data": {
      "application/vnd.jupyter.widget-view+json": {
       "model_id": "908f14adf94a4f27bbe25b8426309c3e",
       "version_major": 2,
       "version_minor": 0
      },
      "text/plain": [
       "HTML(value=\"<h3>Wrong Code Submission</h3><pre>def equation_writing(a, b, c):\\n    print(a, 'x +', b, '=', c)\\…"
      ]
     },
     "metadata": {},
     "output_type": "display_data"
    },
    {
     "data": {
      "application/vnd.jupyter.widget-view+json": {
       "model_id": "030a3e03a6ee49febdbc6fb71aef95d6",
       "version_major": 2,
       "version_minor": 0
      },
      "text/plain": [
       "HTML(value='<h3>Test Cases</h3>')"
      ]
     },
     "metadata": {},
     "output_type": "display_data"
    },
    {
     "data": {
      "application/vnd.jupyter.widget-view+json": {
       "model_id": "e1df9c55bc1042e19a2db0a13bfa9735",
       "version_major": 2,
       "version_minor": 0
      },
      "text/plain": [
       "HTML(value='<strong>Input:</strong> 3 4 3 <strong>Output:</strong> 3 x + 4 = 3')"
      ]
     },
     "metadata": {},
     "output_type": "display_data"
    },
    {
     "data": {
      "application/vnd.jupyter.widget-view+json": {
       "model_id": "61de4eddce4b4b619980e25373df90b6",
       "version_major": 2,
       "version_minor": 0
      },
      "text/plain": [
       "HTML(value='<h3>Feedback for Wrong Submission</h3><pre>Failed test #1 of 3. Wrong answer\\n\\nThis is a sample t…"
      ]
     },
     "metadata": {},
     "output_type": "display_data"
    },
    {
     "data": {
      "application/vnd.jupyter.widget-view+json": {
       "model_id": "8ebe285ba9904318a244f409aaec5e45",
       "version_major": 2,
       "version_minor": 0
      },
      "text/plain": [
       "HTML(value=\"<h3>Additional GPT Feedback</h3><pre>1. Change the existing print statement to use string formatti…"
      ]
     },
     "metadata": {},
     "output_type": "display_data"
    },
    {
     "data": {
      "application/vnd.jupyter.widget-view+json": {
       "model_id": "8756aca893d94a9f9feef910f2c35c4c",
       "version_major": 2,
       "version_minor": 0
      },
      "text/plain": [
       "HTML(value='<h3>Correct Code Submission</h3><pre>def equation_writing(a, b, c):\\n    print(f\"{a} x + {b} = {c}…"
      ]
     },
     "metadata": {},
     "output_type": "display_data"
    },
    {
     "name": "stdout",
     "output_type": "stream",
     "text": [
      "----------------------------------------------------\n"
     ]
    },
    {
     "data": {
      "application/vnd.jupyter.widget-view+json": {
       "model_id": "3c4dec35b51b40c8a294c27da85a4873",
       "version_major": 2,
       "version_minor": 0
      },
      "text/plain": [
       "HTML(value='<h3>GPT New Feedback (Passed: False)</h3><pre><ol>\\n<li><strong>Issue Identified:</strong> Your co…"
      ]
     },
     "metadata": {},
     "output_type": "display_data"
    },
    {
     "data": {
      "application/vnd.jupyter.widget-view+json": {
       "model_id": "0f5a1c3993ad45c28fc781e0732a5a0a",
       "version_major": 2,
       "version_minor": 0
      },
      "text/plain": [
       "HTML(value='<h3>Evaluation feedback:</h3>')"
      ]
     },
     "metadata": {},
     "output_type": "display_data"
    },
    {
     "data": {
      "application/vnd.jupyter.widget-view+json": {
       "model_id": "f7f746d5d3de44ab8b33e3f25ae1af17",
       "version_major": 2,
       "version_minor": 0
      },
      "text/plain": [
       "HTML(value='<h3>Score: 0.75. Passed: False</h3>')"
      ]
     },
     "metadata": {},
     "output_type": "display_data"
    },
    {
     "data": {
      "application/vnd.jupyter.widget-view+json": {
       "model_id": "0f2c3b62bb574e3a8f9cdd1fa8725af8",
       "version_major": 2,
       "version_minor": 0
      },
      "text/plain": [
       "HTML(value='<h3>Reason:</h3>')"
      ]
     },
     "metadata": {},
     "output_type": "display_data"
    },
    {
     "name": "stdout",
     "output_type": "stream",
     "text": [
      "The submission does not meet the criterion:\n",
      "1. The task was to implement a function that prints an equation in a specific format, taking three arguments.\n",
      "2. The error identified in the system feedback was that the student's code outputted the correct answer twice instead of once, which is not directly related to the use of f-strings or string concatenation.\n",
      "3. The internal analysis incorrectly identifies the issue as not utilizing f-strings correctly, which is not the problem indicated by the system feedback. The actual problem seems to be related to the function being called twice or a misunderstanding in how the output is being evaluated.\n",
      "4. The user-facing feedback focuses on advising the use of f-strings for formatting, which, while being a good practice, does not address the specific error of the output being printed twice.\n",
      "5. The criterion requires the feedback to highlight specific errors in the student's code and provide actionable advice to correct these errors. The provided feedback does not accurately identify the error based on the system's output and thus does not meet the criterion.\n",
      "\n",
      "N\n",
      "\n",
      "N\n",
      "\n"
     ]
    }
   ],
   "source": [
    "step = 1\n",
    "data = python['python']['code_problems'][step]\n",
    "feedback = find_async_feedback_by_id(\"python\", feedbacks3, step)\n",
    "llm_feedback = feedback['response']['output']\n",
    "passed = feedback['success']\n",
    "grading = feedback['gradingResult']\n",
    "render_data(data, llm_feedback, passed, grading)"
   ]
  },
  {
   "cell_type": "markdown",
   "id": "93019b9b",
   "metadata": {},
   "source": [
    "**Note**: Still have problem with function calling. Need another way to fix it."
   ]
  },
  {
   "cell_type": "code",
   "execution_count": 319,
   "id": "d464e1aa",
   "metadata": {
    "scrolled": true
   },
   "outputs": [
    {
     "data": {
      "application/vnd.jupyter.widget-view+json": {
       "model_id": "8ef982c8cd4d4fc0a3c8623de915b6e3",
       "version_major": 2,
       "version_minor": 0
      },
      "text/plain": [
       "HTML(value='<h1>Atomics</h1>')"
      ]
     },
     "metadata": {},
     "output_type": "display_data"
    },
    {
     "data": {
      "application/vnd.jupyter.widget-view+json": {
       "model_id": "74e0a46e23f04da4b6301a5530c5a721",
       "version_major": 2,
       "version_minor": 0
      },
      "text/plain": [
       "HTML(value=\"<h2><a href='https://hyperskill.org/learn/step/29304'>Flagging</a></h2>\")"
      ]
     },
     "metadata": {},
     "output_type": "display_data"
    },
    {
     "data": {
      "application/vnd.jupyter.widget-view+json": {
       "model_id": "afe414d982eb4dd1a4e29b9390b4cae1",
       "version_major": 2,
       "version_minor": 0
      },
      "text/plain": [
       "HTML(value='<p></p>\\n<p>Suppose you have a shared boolean variable represented by an <code class=\"java\">Atomic…"
      ]
     },
     "metadata": {},
     "output_type": "display_data"
    },
    {
     "data": {
      "application/vnd.jupyter.widget-view+json": {
       "model_id": "623efdce80fd4b0abca45c541fb0f7ae",
       "version_major": 2,
       "version_minor": 0
      },
      "text/plain": [
       "HTML(value='<h3>Wrong Code Submission</h3><pre>import java.util.concurrent.atomic.AtomicBoolean;\\n\\nclass Flag…"
      ]
     },
     "metadata": {},
     "output_type": "display_data"
    },
    {
     "data": {
      "application/vnd.jupyter.widget-view+json": {
       "model_id": "596b6c8e7e8246d1a1efe2b6983e48df",
       "version_major": 2,
       "version_minor": 0
      },
      "text/plain": [
       "HTML(value='<h3>Test Cases</h3>')"
      ]
     },
     "metadata": {},
     "output_type": "display_data"
    },
    {
     "data": {
      "application/vnd.jupyter.widget-view+json": {
       "model_id": "678086b8c04142e4952f399fa2228f20",
       "version_major": 2,
       "version_minor": 0
      },
      "text/plain": [
       "HTML(value='<strong>Input:</strong> \\n <strong>Output:</strong> true\\nfalse\\ntrue\\n')"
      ]
     },
     "metadata": {},
     "output_type": "display_data"
    },
    {
     "data": {
      "application/vnd.jupyter.widget-view+json": {
       "model_id": "2302a14bfa144c8d9721b8f39facd626",
       "version_major": 2,
       "version_minor": 0
      },
      "text/plain": [
       "HTML(value='<h3>Feedback for Wrong Submission</h3><pre>Failed. Wrong answer\\n\\nThis is a sample test from the …"
      ]
     },
     "metadata": {},
     "output_type": "display_data"
    },
    {
     "data": {
      "application/vnd.jupyter.widget-view+json": {
       "model_id": "5bcf58ae6102490bb734d7e555ddc6b3",
       "version_major": 2,
       "version_minor": 0
      },
      "text/plain": [
       "HTML(value='<h3>Additional GPT Feedback</h3><pre>1. In the `setFlag` method, you need to implement the logic t…"
      ]
     },
     "metadata": {},
     "output_type": "display_data"
    },
    {
     "data": {
      "application/vnd.jupyter.widget-view+json": {
       "model_id": "ab138d752f6245f78f4d65114682ffa1",
       "version_major": 2,
       "version_minor": 0
      },
      "text/plain": [
       "HTML(value='<h3>Correct Code Submission</h3><pre>import java.util.concurrent.atomic.AtomicBoolean;\\n\\nclass Fl…"
      ]
     },
     "metadata": {},
     "output_type": "display_data"
    },
    {
     "name": "stdout",
     "output_type": "stream",
     "text": [
      "----------------------------------------------------\n"
     ]
    },
    {
     "data": {
      "application/vnd.jupyter.widget-view+json": {
       "model_id": "901a3fb3ee7847b5b668d55bb077f5ca",
       "version_major": 2,
       "version_minor": 0
      },
      "text/plain": [
       "HTML(value='<h3>GPT New Feedback (Passed: False)</h3><pre><ol>\\n<li><strong>Issue Identified:</strong> Your <c…"
      ]
     },
     "metadata": {},
     "output_type": "display_data"
    },
    {
     "data": {
      "application/vnd.jupyter.widget-view+json": {
       "model_id": "2b71439570bf4adca6780a573120a8d2",
       "version_major": 2,
       "version_minor": 0
      },
      "text/plain": [
       "HTML(value='<h3>Evaluation feedback:</h3>')"
      ]
     },
     "metadata": {},
     "output_type": "display_data"
    },
    {
     "data": {
      "application/vnd.jupyter.widget-view+json": {
       "model_id": "a026b63022964988b799ccec0067d132",
       "version_major": 2,
       "version_minor": 0
      },
      "text/plain": [
       "HTML(value='<h3>Score: 0.75. Passed: False</h3>')"
      ]
     },
     "metadata": {},
     "output_type": "display_data"
    },
    {
     "data": {
      "application/vnd.jupyter.widget-view+json": {
       "model_id": "1aed894f1e414dec952fbf7198db94a9",
       "version_major": 2,
       "version_minor": 0
      },
      "text/plain": [
       "HTML(value='<h3>Reason:</h3>')"
      ]
     },
     "metadata": {},
     "output_type": "display_data"
    },
    {
     "name": "stdout",
     "output_type": "stream",
     "text": [
      "The submission does not meet the criterion:\n",
      "The criterion for the feedback is that it must be easy to understand for an adult programming newbie with no experience. Let's break down the user-facing feedback provided to see if it meets this criterion:\n",
      "\n",
      "1. **Issue Identified:** The feedback clearly identifies the issue in the student's code, stating that the `setFlag` method only returns the current value of the `flag` without updating it. This is straightforward and directly addresses the problem without using overly technical language.\n",
      "\n",
      "2. **Actionable Advice:** The feedback suggests using the `compareAndSet` method of the `AtomicBoolean` class to atomically set the value of the `flag`. While the term \"atomically\" might be new to a complete beginner, the advice is actionable because it specifies the method to use. However, the explanation could be slightly intimidating for someone with no experience, as it assumes familiarity with concepts like atomic operations and shared variables.\n",
      "\n",
      "3. **Best Practice:** The feedback encourages reviewing documentation and understanding atomic operations to prevent race conditions. This advice is sound but might be slightly advanced for a complete beginner. The concepts of race conditions and atomic operations are not trivial for someone new to programming.\n",
      "\n",
      "Overall, the feedback is structured in a clear and list-based format, which aids in readability. However, the use of terms like \"atomically,\" \"race conditions,\" and \"data consistency\" without further explanation could potentially confuse a complete beginner. The feedback does a good job of pointing out the mistake and guiding towards the correct method but might slightly miss the mark on being entirely easy to understand for someone with no programming experience due to the assumption of understanding certain concepts.\n",
      "\n",
      "Given the criterion and the analysis:\n",
      "\n",
      "N\n",
      "\n",
      "N\n",
      "\n"
     ]
    }
   ],
   "source": [
    "step = 6\n",
    "data = java['java']['code_problems'][step]\n",
    "feedback = find_async_feedback_by_id(\"java\", feedbacks3, step)\n",
    "llm_feedback = feedback['response']['output']\n",
    "passed = feedback['success']\n",
    "grading = feedback['gradingResult']\n",
    "render_data(data, llm_feedback, passed, grading)"
   ]
  },
  {
   "cell_type": "markdown",
   "id": "e573629f",
   "metadata": {},
   "source": [
    "**Note**: Feedback terminology is too complex for programming newbie. But it is clear and correct."
   ]
  },
  {
   "cell_type": "markdown",
   "id": "0114c200",
   "metadata": {},
   "source": [
    "### Second prompt issues exporation results:\n",
    "- Still have problem with function calling. Need another approach to fix it.\n",
    "- Tech part with model reasoning gave the better results\n",
    "- Sometimes \n",
    "\n",
    "\n",
    "### Possible ways to improve the prompt:\n",
    "- Experiment with IMPORTANT statements to make model focus on the simple terminology in answers"
   ]
  },
  {
   "cell_type": "markdown",
   "id": "cf4fd9e4",
   "metadata": {},
   "source": [
    "# Conclusion\n",
    "\n",
    "I think that score of 90% is enough for showing the prompt improvement, so lets finish the improving session.\n",
    "\n",
    "\n",
    "## What corner cases are not covered by evaluation system now and have to be improved in the future\n",
    "\n",
    "- Evaluation system has no assertion of all code issues coverage (need manual dataset markup)\n",
    "- Evaluation system has no assertion of response format (need to determine it with backend developer)\n",
    "\n",
    "## Why score of 90 is acceptable\n",
    "\n",
    "- GPT is not fully deterministic, so we have to accept that achiving the 100% score may take a lot of time.\n",
    "- We have to add more items the requiements list of the prompt asserts to ensure that prompt has good quality and format."
   ]
  },
  {
   "cell_type": "markdown",
   "id": "0bb02f63",
   "metadata": {},
   "source": [
    "## Results comparation (original and improved)\n",
    "\n",
    "Lets take good results and compare with the initial model answer:"
   ]
  },
  {
   "cell_type": "code",
   "execution_count": 324,
   "id": "a762016f",
   "metadata": {
    "scrolled": true
   },
   "outputs": [
    {
     "data": {
      "application/vnd.jupyter.widget-view+json": {
       "model_id": "86b60d71a97b415a809b377015be4dff",
       "version_major": 2,
       "version_minor": 0
      },
      "text/plain": [
       "HTML(value='<h1>Working with strings: basic methods</h1>')"
      ]
     },
     "metadata": {},
     "output_type": "display_data"
    },
    {
     "data": {
      "application/vnd.jupyter.widget-view+json": {
       "model_id": "c2639612d8674082a0e11f8c3135f1f2",
       "version_major": 2,
       "version_minor": 0
      },
      "text/plain": [
       "HTML(value=\"<h2><a href='https://hyperskill.org/learn/step/6842'>Poster artist</a></h2>\")"
      ]
     },
     "metadata": {},
     "output_type": "display_data"
    },
    {
     "data": {
      "application/vnd.jupyter.widget-view+json": {
       "model_id": "73ca01b91d73444ca0e30b721f7f8990",
       "version_major": 2,
       "version_minor": 0
      },
      "text/plain": [
       "HTML(value='<p>Imagine that you design film posters for a living. Write a program that prints each film title …"
      ]
     },
     "metadata": {},
     "output_type": "display_data"
    },
    {
     "data": {
      "application/vnd.jupyter.widget-view+json": {
       "model_id": "4cdc564a082849e5ba5cab8968d3df99",
       "version_major": 2,
       "version_minor": 0
      },
      "text/plain": [
       "HTML(value='<h3>Wrong Code Submission</h3><pre>print(word.upper())\\n\\n\\n\\n</pre>')"
      ]
     },
     "metadata": {},
     "output_type": "display_data"
    },
    {
     "data": {
      "application/vnd.jupyter.widget-view+json": {
       "model_id": "08b3638b16924c96b72677be8c640fb3",
       "version_major": 2,
       "version_minor": 0
      },
      "text/plain": [
       "HTML(value='<h3>Test Cases</h3>')"
      ]
     },
     "metadata": {},
     "output_type": "display_data"
    },
    {
     "data": {
      "application/vnd.jupyter.widget-view+json": {
       "model_id": "05b0350bd6bd4d0e9f99033bb7bab4d5",
       "version_major": 2,
       "version_minor": 0
      },
      "text/plain": [
       "HTML(value='<strong>Input:</strong> the lion king <strong>Output:</strong> THE LION KING')"
      ]
     },
     "metadata": {},
     "output_type": "display_data"
    },
    {
     "data": {
      "application/vnd.jupyter.widget-view+json": {
       "model_id": "d144c6e8bdb548c1a9bbfcf1055e01d2",
       "version_major": 2,
       "version_minor": 0
      },
      "text/plain": [
       "HTML(value='<h3>Feedback for Wrong Submission</h3><pre>Failed test #1 of 7. Runtime error\\n\\nThis is a sample …"
      ]
     },
     "metadata": {},
     "output_type": "display_data"
    },
    {
     "data": {
      "application/vnd.jupyter.widget-view+json": {
       "model_id": "2ce82e613f754f7aa4a0645936066ae7",
       "version_major": 2,
       "version_minor": 0
      },
      "text/plain": [
       "HTML(value='<h3>Additional GPT Feedback</h3><pre>1. Define a variable and assign it the input provided.\\n2. Us…"
      ]
     },
     "metadata": {},
     "output_type": "display_data"
    },
    {
     "data": {
      "application/vnd.jupyter.widget-view+json": {
       "model_id": "cfc061d5a8d949f1baee7c2a4cf560fe",
       "version_major": 2,
       "version_minor": 0
      },
      "text/plain": [
       "HTML(value='<h3>Correct Code Submission</h3><pre>film_title = str(input())\\n\\nprint(film_title.upper())\\n</pre…"
      ]
     },
     "metadata": {},
     "output_type": "display_data"
    },
    {
     "name": "stdout",
     "output_type": "stream",
     "text": [
      "----------------------------------------------------\n"
     ]
    },
    {
     "data": {
      "application/vnd.jupyter.widget-view+json": {
       "model_id": "50ed724ec2aa4b8eab71e9cd9bd112bd",
       "version_major": 2,
       "version_minor": 0
      },
      "text/plain": [
       "HTML(value=\"<h3>GPT New Feedback (Passed: True)</h3><pre><ol>\\n<li><strong>Issue Identified:</strong> The erro…"
      ]
     },
     "metadata": {},
     "output_type": "display_data"
    },
    {
     "data": {
      "application/vnd.jupyter.widget-view+json": {
       "model_id": "b6cffb9fbb5041599e1ffb09d9c1a5d0",
       "version_major": 2,
       "version_minor": 0
      },
      "text/plain": [
       "HTML(value='<h3>Evaluation feedback:</h3>')"
      ]
     },
     "metadata": {},
     "output_type": "display_data"
    },
    {
     "data": {
      "application/vnd.jupyter.widget-view+json": {
       "model_id": "c1c8897312ea4159bdd666db61ff4917",
       "version_major": 2,
       "version_minor": 0
      },
      "text/plain": [
       "HTML(value='<h3>Score: 1. Passed: True</h3>')"
      ]
     },
     "metadata": {},
     "output_type": "display_data"
    },
    {
     "data": {
      "application/vnd.jupyter.widget-view+json": {
       "model_id": "de3e1df26a7349838476aefd4240a3e6",
       "version_major": 2,
       "version_minor": 0
      },
      "text/plain": [
       "HTML(value='<h3>Reason:</h3>')"
      ]
     },
     "metadata": {},
     "output_type": "display_data"
    },
    {
     "name": "stdout",
     "output_type": "stream",
     "text": [
      "All assertions passed\n",
      "\n"
     ]
    }
   ],
   "source": [
    "step = 4\n",
    "data = python['python']['code_problems'][step]\n",
    "feedback = find_async_feedback_by_id(\"python\", feedbacks3, step)\n",
    "llm_feedback = feedback['response']['output']\n",
    "passed = feedback['success']\n",
    "grading = feedback['gradingResult']\n",
    "render_data(data, llm_feedback, passed, grading)"
   ]
  },
  {
   "cell_type": "markdown",
   "id": "c6b23f2d",
   "metadata": {},
   "source": [
    "**Initial model answer**\n",
    "1. Define a variable and assign it the input provided.\n",
    "2. Use the variable with the film title to apply the `upper()` method for converting to uppercase.\n",
    "3. Ensure the variable defined in step 1 is used inside the `print()` function for the correct output.\n",
    "\n",
    "\n",
    "----\n",
    "\n",
    "**New GPT Feedback**\n",
    "\n",
    "1. **Issue Identified**: The error occurred because you tried to use a variable named 'word' without defining it first, resulting in a 'NameError'.\n",
    "\n",
    "2. **Actionable Advice**: Always ensure that you define variables before using them in your code. For instance, you can define 'word' by assigning it the value of the input using 'word = input()'.\n",
    "\n",
    "3. **Best Practice**: To avoid 'NameError' and similar issues, make it a habit to initialize all variables before referencing them in your code. This practice helps in maintaining code clarity and preventing common errors.\n"
   ]
  },
  {
   "cell_type": "markdown",
   "id": "61ef1894",
   "metadata": {},
   "source": [
    "----\n",
    "**Prompt comparation conclusions**\n",
    "\n",
    "- The new prompt gives more human-like explanation, especially helpfull for newbies\n",
    "- It gives more common hint, but also gives the best practices advice \n",
    "\n",
    "## How to improve the prompt evaluation system\n",
    "- Add more examples\n",
    "- Perform manual data markup with feedback and add it to asserts for test cases\n",
    "\n",
    "## How to make the process of the continious prompt improving\n",
    "\n",
    "- Once a day, take few samples of the responses from the production\n",
    "- Evaluate them and make an average scoring metric dashboard\n",
    "- Monitor it and make improving goals\n",
    "- Continiosly add examples to the testing dataset\n",
    "- Collect bad responses examples, add them to asserts to make scoring metric more accurate"
   ]
  },
  {
   "cell_type": "code",
   "execution_count": null,
   "id": "f14fadb1",
   "metadata": {},
   "outputs": [],
   "source": []
  }
 ],
 "metadata": {
  "kernelspec": {
   "display_name": "Python 3 (ipykernel)",
   "language": "python",
   "name": "python3"
  },
  "language_info": {
   "codemirror_mode": {
    "name": "ipython",
    "version": 3
   },
   "file_extension": ".py",
   "mimetype": "text/x-python",
   "name": "python",
   "nbconvert_exporter": "python",
   "pygments_lexer": "ipython3",
   "version": "3.11.3"
  }
 },
 "nbformat": 4,
 "nbformat_minor": 5
}
